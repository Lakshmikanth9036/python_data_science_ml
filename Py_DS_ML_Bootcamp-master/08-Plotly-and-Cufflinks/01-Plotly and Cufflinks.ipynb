{
 "cells": [
  {
   "cell_type": "markdown",
   "metadata": {},
   "source": [
    "___\n",
    "\n",
    "<a href='http://www.pieriandata.com'> <img src='../Pierian_Data_Logo.png' /></a>\n",
    "___\n",
    "# Plotly and Cufflinks"
   ]
  },
  {
   "cell_type": "markdown",
   "metadata": {},
   "source": [
    "Plotly is a library that allows you to create interactive plots that you can use in dashboards or websites (you can save them as html files or static images).\n",
    "\n",
    "## Installation\n",
    "\n",
    "In order for this all to work, you'll need to install plotly and cufflinks to call plots directly off of a pandas dataframe. These libraries are not currently available through **conda** but are available through **pip**. Install the libraries at your command line/terminal using:\n",
    "\n",
    "    pip install plotly\n",
    "    pip install cufflinks\n",
    "\n",
    "** NOTE: Make sure you only have one installation of Python on your computer when you do this, otherwise the installation may not work. **\n",
    "\n",
    "## Imports and Set-up"
   ]
  },
  {
   "cell_type": "code",
   "execution_count": 1,
   "metadata": {},
   "outputs": [],
   "source": [
    "import pandas as pd\n",
    "import numpy as np\n",
    "%matplotlib inline"
   ]
  },
  {
   "cell_type": "code",
   "execution_count": 2,
   "metadata": {},
   "outputs": [
    {
     "name": "stdout",
     "output_type": "stream",
     "text": [
      "5.9.0\n"
     ]
    }
   ],
   "source": [
    "from plotly import __version__\n",
    "from plotly.offline import download_plotlyjs, init_notebook_mode, plot, iplot\n",
    "\n",
    "print(__version__) # requires version >= 1.9.0"
   ]
  },
  {
   "cell_type": "code",
   "execution_count": 6,
   "metadata": {},
   "outputs": [
    {
     "name": "stdout",
     "output_type": "stream",
     "text": [
      "Requirement already satisfied: plotly in c:\\users\\hp\\anaconda3\\lib\\site-packages (5.9.0)\n",
      "Requirement already satisfied: tenacity>=6.2.0 in c:\\users\\hp\\anaconda3\\lib\\site-packages (from plotly) (8.2.2)\n",
      "Collecting cufflinks\n",
      "  Downloading cufflinks-0.17.3.tar.gz (81 kB)\n",
      "     ---------------------------------------- 0.0/81.7 kB ? eta -:--:--\n",
      "     ---------------------------------------- 0.0/81.7 kB ? eta -:--:--\n",
      "     ----- ---------------------------------- 10.2/81.7 kB ? eta -:--:--\n",
      "     ----- ---------------------------------- 10.2/81.7 kB ? eta -:--:--\n",
      "     ----- ---------------------------------- 10.2/81.7 kB ? eta -:--:--\n",
      "     -------------- ----------------------- 30.7/81.7 kB 163.8 kB/s eta 0:00:01\n",
      "     ------------------- ------------------ 41.0/81.7 kB 178.6 kB/s eta 0:00:01\n",
      "     ------------------- ------------------ 41.0/81.7 kB 178.6 kB/s eta 0:00:01\n",
      "     ---------------------------- --------- 61.4/81.7 kB 193.2 kB/s eta 0:00:01\n",
      "     ---------------------------- --------- 61.4/81.7 kB 193.2 kB/s eta 0:00:01\n",
      "     ---------------------------- --------- 61.4/81.7 kB 193.2 kB/s eta 0:00:01\n",
      "     -------------------------------------- 81.7/81.7 kB 163.6 kB/s eta 0:00:00\n",
      "  Preparing metadata (setup.py): started\n",
      "  Preparing metadata (setup.py): finished with status 'done'\n",
      "Requirement already satisfied: numpy>=1.9.2 in c:\\users\\hp\\anaconda3\\lib\\site-packages (from cufflinks) (1.24.3)\n",
      "Requirement already satisfied: pandas>=0.19.2 in c:\\users\\hp\\anaconda3\\lib\\site-packages (from cufflinks) (2.0.3)\n",
      "Requirement already satisfied: plotly>=4.1.1 in c:\\users\\hp\\anaconda3\\lib\\site-packages (from cufflinks) (5.9.0)\n",
      "Requirement already satisfied: six>=1.9.0 in c:\\users\\hp\\anaconda3\\lib\\site-packages (from cufflinks) (1.16.0)\n",
      "Collecting colorlover>=0.2.1 (from cufflinks)\n",
      "  Downloading colorlover-0.3.0-py3-none-any.whl (8.9 kB)\n",
      "Requirement already satisfied: setuptools>=34.4.1 in c:\\users\\hp\\anaconda3\\lib\\site-packages (from cufflinks) (68.0.0)\n",
      "Requirement already satisfied: ipython>=5.3.0 in c:\\users\\hp\\anaconda3\\lib\\site-packages (from cufflinks) (8.15.0)\n",
      "Requirement already satisfied: ipywidgets>=7.0.0 in c:\\users\\hp\\anaconda3\\lib\\site-packages (from cufflinks) (8.0.4)\n",
      "Requirement already satisfied: backcall in c:\\users\\hp\\anaconda3\\lib\\site-packages (from ipython>=5.3.0->cufflinks) (0.2.0)\n",
      "Requirement already satisfied: decorator in c:\\users\\hp\\anaconda3\\lib\\site-packages (from ipython>=5.3.0->cufflinks) (5.1.1)\n",
      "Requirement already satisfied: jedi>=0.16 in c:\\users\\hp\\anaconda3\\lib\\site-packages (from ipython>=5.3.0->cufflinks) (0.18.1)\n",
      "Requirement already satisfied: matplotlib-inline in c:\\users\\hp\\anaconda3\\lib\\site-packages (from ipython>=5.3.0->cufflinks) (0.1.6)\n",
      "Requirement already satisfied: pickleshare in c:\\users\\hp\\anaconda3\\lib\\site-packages (from ipython>=5.3.0->cufflinks) (0.7.5)\n",
      "Requirement already satisfied: prompt-toolkit!=3.0.37,<3.1.0,>=3.0.30 in c:\\users\\hp\\anaconda3\\lib\\site-packages (from ipython>=5.3.0->cufflinks) (3.0.36)\n",
      "Requirement already satisfied: pygments>=2.4.0 in c:\\users\\hp\\anaconda3\\lib\\site-packages (from ipython>=5.3.0->cufflinks) (2.15.1)\n",
      "Requirement already satisfied: stack-data in c:\\users\\hp\\anaconda3\\lib\\site-packages (from ipython>=5.3.0->cufflinks) (0.2.0)\n",
      "Requirement already satisfied: traitlets>=5 in c:\\users\\hp\\anaconda3\\lib\\site-packages (from ipython>=5.3.0->cufflinks) (5.7.1)\n",
      "Requirement already satisfied: colorama in c:\\users\\hp\\anaconda3\\lib\\site-packages (from ipython>=5.3.0->cufflinks) (0.4.6)\n",
      "Requirement already satisfied: ipykernel>=4.5.1 in c:\\users\\hp\\anaconda3\\lib\\site-packages (from ipywidgets>=7.0.0->cufflinks) (6.25.0)\n",
      "Requirement already satisfied: widgetsnbextension~=4.0 in c:\\users\\hp\\anaconda3\\lib\\site-packages (from ipywidgets>=7.0.0->cufflinks) (4.0.5)\n",
      "Requirement already satisfied: jupyterlab-widgets~=3.0 in c:\\users\\hp\\anaconda3\\lib\\site-packages (from ipywidgets>=7.0.0->cufflinks) (3.0.5)\n",
      "Requirement already satisfied: python-dateutil>=2.8.2 in c:\\users\\hp\\anaconda3\\lib\\site-packages (from pandas>=0.19.2->cufflinks) (2.8.2)\n",
      "Requirement already satisfied: pytz>=2020.1 in c:\\users\\hp\\anaconda3\\lib\\site-packages (from pandas>=0.19.2->cufflinks) (2023.3.post1)\n",
      "Requirement already satisfied: tzdata>=2022.1 in c:\\users\\hp\\anaconda3\\lib\\site-packages (from pandas>=0.19.2->cufflinks) (2023.3)\n",
      "Requirement already satisfied: tenacity>=6.2.0 in c:\\users\\hp\\anaconda3\\lib\\site-packages (from plotly>=4.1.1->cufflinks) (8.2.2)\n",
      "Requirement already satisfied: comm>=0.1.1 in c:\\users\\hp\\anaconda3\\lib\\site-packages (from ipykernel>=4.5.1->ipywidgets>=7.0.0->cufflinks) (0.1.2)\n",
      "Requirement already satisfied: debugpy>=1.6.5 in c:\\users\\hp\\anaconda3\\lib\\site-packages (from ipykernel>=4.5.1->ipywidgets>=7.0.0->cufflinks) (1.6.7)\n",
      "Requirement already satisfied: jupyter-client>=6.1.12 in c:\\users\\hp\\anaconda3\\lib\\site-packages (from ipykernel>=4.5.1->ipywidgets>=7.0.0->cufflinks) (7.4.9)\n",
      "Requirement already satisfied: jupyter-core!=5.0.*,>=4.12 in c:\\users\\hp\\anaconda3\\lib\\site-packages (from ipykernel>=4.5.1->ipywidgets>=7.0.0->cufflinks) (5.3.0)\n",
      "Requirement already satisfied: nest-asyncio in c:\\users\\hp\\anaconda3\\lib\\site-packages (from ipykernel>=4.5.1->ipywidgets>=7.0.0->cufflinks) (1.5.6)\n",
      "Requirement already satisfied: packaging in c:\\users\\hp\\anaconda3\\lib\\site-packages (from ipykernel>=4.5.1->ipywidgets>=7.0.0->cufflinks) (23.1)\n",
      "Requirement already satisfied: psutil in c:\\users\\hp\\anaconda3\\lib\\site-packages (from ipykernel>=4.5.1->ipywidgets>=7.0.0->cufflinks) (5.9.0)\n",
      "Requirement already satisfied: pyzmq>=20 in c:\\users\\hp\\anaconda3\\lib\\site-packages (from ipykernel>=4.5.1->ipywidgets>=7.0.0->cufflinks) (23.2.0)\n",
      "Requirement already satisfied: tornado>=6.1 in c:\\users\\hp\\anaconda3\\lib\\site-packages (from ipykernel>=4.5.1->ipywidgets>=7.0.0->cufflinks) (6.3.2)\n",
      "Requirement already satisfied: parso<0.9.0,>=0.8.0 in c:\\users\\hp\\anaconda3\\lib\\site-packages (from jedi>=0.16->ipython>=5.3.0->cufflinks) (0.8.3)\n",
      "Requirement already satisfied: wcwidth in c:\\users\\hp\\anaconda3\\lib\\site-packages (from prompt-toolkit!=3.0.37,<3.1.0,>=3.0.30->ipython>=5.3.0->cufflinks) (0.2.5)\n",
      "Requirement already satisfied: executing in c:\\users\\hp\\anaconda3\\lib\\site-packages (from stack-data->ipython>=5.3.0->cufflinks) (0.8.3)\n",
      "Requirement already satisfied: asttokens in c:\\users\\hp\\anaconda3\\lib\\site-packages (from stack-data->ipython>=5.3.0->cufflinks) (2.0.5)\n",
      "Requirement already satisfied: pure-eval in c:\\users\\hp\\anaconda3\\lib\\site-packages (from stack-data->ipython>=5.3.0->cufflinks) (0.2.2)\n",
      "Requirement already satisfied: entrypoints in c:\\users\\hp\\anaconda3\\lib\\site-packages (from jupyter-client>=6.1.12->ipykernel>=4.5.1->ipywidgets>=7.0.0->cufflinks) (0.4)\n",
      "Requirement already satisfied: platformdirs>=2.5 in c:\\users\\hp\\anaconda3\\lib\\site-packages (from jupyter-core!=5.0.*,>=4.12->ipykernel>=4.5.1->ipywidgets>=7.0.0->cufflinks) (3.10.0)\n",
      "Requirement already satisfied: pywin32>=300 in c:\\users\\hp\\anaconda3\\lib\\site-packages (from jupyter-core!=5.0.*,>=4.12->ipykernel>=4.5.1->ipywidgets>=7.0.0->cufflinks) (305.1)\n",
      "Building wheels for collected packages: cufflinks\n",
      "  Building wheel for cufflinks (setup.py): started\n",
      "  Building wheel for cufflinks (setup.py): finished with status 'done'\n",
      "  Created wheel for cufflinks: filename=cufflinks-0.17.3-py3-none-any.whl size=68725 sha256=0734d4ff93df711c15ddd9b15c5c8d102251fd2193247b7f0b29e811b120d3d3\n",
      "  Stored in directory: c:\\users\\hp\\appdata\\local\\pip\\cache\\wheels\\c3\\bf\\8f\\afa0730b29e347e8c1071049f89748c1262e7a14a838820ae6\n",
      "Successfully built cufflinks\n",
      "Installing collected packages: colorlover, cufflinks\n",
      "Successfully installed colorlover-0.3.0 cufflinks-0.17.3\n"
     ]
    }
   ],
   "source": [
    "!pip install plotly\n",
    "!pip install cufflinks"
   ]
  },
  {
   "cell_type": "code",
   "execution_count": 7,
   "metadata": {},
   "outputs": [],
   "source": [
    "import cufflinks as cf"
   ]
  },
  {
   "cell_type": "code",
   "execution_count": 8,
   "metadata": {},
   "outputs": [
    {
     "data": {
      "text/html": [
       "        <script type=\"text/javascript\">\n",
       "        window.PlotlyConfig = {MathJaxConfig: 'local'};\n",
       "        if (window.MathJax && window.MathJax.Hub && window.MathJax.Hub.Config) {window.MathJax.Hub.Config({SVG: {font: \"STIX-Web\"}});}\n",
       "        if (typeof require !== 'undefined') {\n",
       "        require.undef(\"plotly\");\n",
       "        requirejs.config({\n",
       "            paths: {\n",
       "                'plotly': ['https://cdn.plot.ly/plotly-2.12.1.min']\n",
       "            }\n",
       "        });\n",
       "        require(['plotly'], function(Plotly) {\n",
       "            window._Plotly = Plotly;\n",
       "        });\n",
       "        }\n",
       "        </script>\n",
       "        "
      ]
     },
     "metadata": {},
     "output_type": "display_data"
    }
   ],
   "source": [
    "# For Notebooks\n",
    "init_notebook_mode(connected=True)"
   ]
  },
  {
   "cell_type": "code",
   "execution_count": 9,
   "metadata": {},
   "outputs": [
    {
     "data": {
      "text/html": [
       "        <script type=\"text/javascript\">\n",
       "        window.PlotlyConfig = {MathJaxConfig: 'local'};\n",
       "        if (window.MathJax && window.MathJax.Hub && window.MathJax.Hub.Config) {window.MathJax.Hub.Config({SVG: {font: \"STIX-Web\"}});}\n",
       "        if (typeof require !== 'undefined') {\n",
       "        require.undef(\"plotly\");\n",
       "        requirejs.config({\n",
       "            paths: {\n",
       "                'plotly': ['https://cdn.plot.ly/plotly-2.12.1.min']\n",
       "            }\n",
       "        });\n",
       "        require(['plotly'], function(Plotly) {\n",
       "            window._Plotly = Plotly;\n",
       "        });\n",
       "        }\n",
       "        </script>\n",
       "        "
      ]
     },
     "metadata": {},
     "output_type": "display_data"
    }
   ],
   "source": [
    "# For offline use\n",
    "cf.go_offline()"
   ]
  },
  {
   "cell_type": "markdown",
   "metadata": {},
   "source": [
    "### Fake Data"
   ]
  },
  {
   "cell_type": "code",
   "execution_count": 10,
   "metadata": {},
   "outputs": [],
   "source": [
    "df = pd.DataFrame(np.random.randn(100,4),columns='A B C D'.split())"
   ]
  },
  {
   "cell_type": "code",
   "execution_count": 11,
   "metadata": {},
   "outputs": [
    {
     "data": {
      "text/html": [
       "<div>\n",
       "<style scoped>\n",
       "    .dataframe tbody tr th:only-of-type {\n",
       "        vertical-align: middle;\n",
       "    }\n",
       "\n",
       "    .dataframe tbody tr th {\n",
       "        vertical-align: top;\n",
       "    }\n",
       "\n",
       "    .dataframe thead th {\n",
       "        text-align: right;\n",
       "    }\n",
       "</style>\n",
       "<table border=\"1\" class=\"dataframe\">\n",
       "  <thead>\n",
       "    <tr style=\"text-align: right;\">\n",
       "      <th></th>\n",
       "      <th>A</th>\n",
       "      <th>B</th>\n",
       "      <th>C</th>\n",
       "      <th>D</th>\n",
       "    </tr>\n",
       "  </thead>\n",
       "  <tbody>\n",
       "    <tr>\n",
       "      <th>0</th>\n",
       "      <td>-0.588220</td>\n",
       "      <td>-0.894054</td>\n",
       "      <td>1.876901</td>\n",
       "      <td>0.954774</td>\n",
       "    </tr>\n",
       "    <tr>\n",
       "      <th>1</th>\n",
       "      <td>-0.144409</td>\n",
       "      <td>1.758740</td>\n",
       "      <td>-0.103491</td>\n",
       "      <td>1.126920</td>\n",
       "    </tr>\n",
       "    <tr>\n",
       "      <th>2</th>\n",
       "      <td>-0.720683</td>\n",
       "      <td>0.144303</td>\n",
       "      <td>1.257928</td>\n",
       "      <td>-0.175886</td>\n",
       "    </tr>\n",
       "    <tr>\n",
       "      <th>3</th>\n",
       "      <td>1.393658</td>\n",
       "      <td>-0.345494</td>\n",
       "      <td>-0.328790</td>\n",
       "      <td>-0.083601</td>\n",
       "    </tr>\n",
       "    <tr>\n",
       "      <th>4</th>\n",
       "      <td>-0.198620</td>\n",
       "      <td>-0.525714</td>\n",
       "      <td>1.289345</td>\n",
       "      <td>-0.494422</td>\n",
       "    </tr>\n",
       "  </tbody>\n",
       "</table>\n",
       "</div>"
      ],
      "text/plain": [
       "          A         B         C         D\n",
       "0 -0.588220 -0.894054  1.876901  0.954774\n",
       "1 -0.144409  1.758740 -0.103491  1.126920\n",
       "2 -0.720683  0.144303  1.257928 -0.175886\n",
       "3  1.393658 -0.345494 -0.328790 -0.083601\n",
       "4 -0.198620 -0.525714  1.289345 -0.494422"
      ]
     },
     "execution_count": 11,
     "metadata": {},
     "output_type": "execute_result"
    }
   ],
   "source": [
    "df.head()"
   ]
  },
  {
   "cell_type": "code",
   "execution_count": 12,
   "metadata": {},
   "outputs": [],
   "source": [
    "df2 = pd.DataFrame({'Category':['A','B','C'],'Values':[32,43,50]})"
   ]
  },
  {
   "cell_type": "code",
   "execution_count": 13,
   "metadata": {},
   "outputs": [
    {
     "data": {
      "text/html": [
       "<div>\n",
       "<style scoped>\n",
       "    .dataframe tbody tr th:only-of-type {\n",
       "        vertical-align: middle;\n",
       "    }\n",
       "\n",
       "    .dataframe tbody tr th {\n",
       "        vertical-align: top;\n",
       "    }\n",
       "\n",
       "    .dataframe thead th {\n",
       "        text-align: right;\n",
       "    }\n",
       "</style>\n",
       "<table border=\"1\" class=\"dataframe\">\n",
       "  <thead>\n",
       "    <tr style=\"text-align: right;\">\n",
       "      <th></th>\n",
       "      <th>Category</th>\n",
       "      <th>Values</th>\n",
       "    </tr>\n",
       "  </thead>\n",
       "  <tbody>\n",
       "    <tr>\n",
       "      <th>0</th>\n",
       "      <td>A</td>\n",
       "      <td>32</td>\n",
       "    </tr>\n",
       "    <tr>\n",
       "      <th>1</th>\n",
       "      <td>B</td>\n",
       "      <td>43</td>\n",
       "    </tr>\n",
       "    <tr>\n",
       "      <th>2</th>\n",
       "      <td>C</td>\n",
       "      <td>50</td>\n",
       "    </tr>\n",
       "  </tbody>\n",
       "</table>\n",
       "</div>"
      ],
      "text/plain": [
       "  Category  Values\n",
       "0        A      32\n",
       "1        B      43\n",
       "2        C      50"
      ]
     },
     "execution_count": 13,
     "metadata": {},
     "output_type": "execute_result"
    }
   ],
   "source": [
    "df2.head()"
   ]
  },
  {
   "cell_type": "markdown",
   "metadata": {},
   "source": [
    "## Using Cufflinks and iplot()\n",
    "\n",
    "* scatter\n",
    "* bar\n",
    "* box\n",
    "* spread\n",
    "* ratio\n",
    "* heatmap\n",
    "* surface\n",
    "* histogram\n",
    "* bubble"
   ]
  },
  {
   "cell_type": "markdown",
   "metadata": {},
   "source": [
    "## Scatter"
   ]
  },
  {
   "cell_type": "code",
   "execution_count": 14,
   "metadata": {},
   "outputs": [
    {
     "data": {
      "application/vnd.plotly.v1+json": {
       "config": {
        "linkText": "Export to plot.ly",
        "plotlyServerURL": "https://plot.ly",
        "showLink": true
       },
       "data": [
        {
         "line": {
          "color": "rgba(255, 153, 51, 1.0)",
          "dash": "solid",
          "shape": "linear",
          "width": 1.3
         },
         "marker": {
          "size": 10,
          "symbol": "circle"
         },
         "mode": "markers",
         "name": "B",
         "text": "",
         "type": "scatter",
         "x": [
          -0.5882201862615739,
          -0.1444088146832521,
          -0.7206830682849644,
          1.3936579949157097,
          -0.19862000637931865,
          -0.27593821881612995,
          0.10946967362279274,
          -0.7994858635802414,
          0.1678150311420152,
          -0.03259329436621168,
          -0.38777224262700793,
          -0.9754539192544475,
          0.31246023384261074,
          -0.16315024393863606,
          0.1433325386094532,
          0.33921612803869455,
          0.1687111089431125,
          -1.0293821555773768,
          0.9359095977765699,
          -0.851942028353327,
          0.27136104667763106,
          2.0938787705300403,
          -1.6874972996029145,
          -0.4906760954841787,
          1.014382803145646,
          -0.6868968224829972,
          -0.7713142158581506,
          -1.0629976127507368,
          -0.3911478166219877,
          -1.6997231884085433,
          0.4760470417318967,
          1.368331511888546,
          -0.9584745559245262,
          -1.183217404290445,
          -0.575483118709692,
          1.3026615111527207,
          0.1441487490352291,
          -1.0594506247977764,
          -1.5380315053002944,
          2.4091356980594285,
          1.0046246460929371,
          0.16397580097306277,
          -0.27806055403543156,
          1.1825457833448632,
          0.9927116557574145,
          0.6401164337634135,
          -0.17126633776369268,
          -0.09314210703339369,
          -1.2500682591239412,
          1.5249423799561066,
          0.7261411639316259,
          1.590022568827245,
          -0.04437577138374293,
          -0.19365124054278118,
          -1.537393958681574,
          1.5201990369248464,
          1.677601948736433,
          -0.17840117181941412,
          -0.260180030841215,
          -0.2744427137172959,
          -0.05364077060641442,
          -1.388808568459774,
          -0.2976181577756708,
          -0.05489380423532537,
          0.24230246636410666,
          0.05706581952694559,
          -0.5203533785804892,
          -0.4759391251040668,
          1.9466209582861882,
          0.8574801728519554,
          -0.42732486530133573,
          1.2327550002736216,
          1.5230759358429147,
          0.9259071632069753,
          1.4978812400979802,
          -0.5868307177392983,
          -0.21430818657024733,
          0.4275909334188216,
          -0.7517631229589176,
          0.40933185053435545,
          1.0494839530728004,
          1.009305230913276,
          -0.24943062954401313,
          -0.4313553585139899,
          -0.17170921243621456,
          1.6841789479225455,
          -0.9526310880361992,
          0.12458637521250845,
          0.5687516401383191,
          0.8383341998997003,
          0.9996013164266332,
          -1.2654481776987168,
          0.06368071956753159,
          -0.5823383450272381,
          0.8242370577808078,
          0.04917197237671641,
          -1.0627241384534636,
          -0.8690415122855502,
          0.413248602855076,
          1.4561243863993238
         ],
         "y": [
          -0.8940538161456291,
          1.7587400520446705,
          0.14430342474400454,
          -0.34549370551569325,
          -0.5257140537089149,
          -0.15452279911902936,
          -1.0700089891485318,
          -1.2765518475470334,
          -1.1018276817658246,
          0.43378474413794765,
          0.8461336916637264,
          -0.24624295303470572,
          1.3982100658424075,
          0.9997234408622141,
          -0.2719079134797146,
          0.7001985695260833,
          0.37644992918744924,
          0.6256292283079395,
          0.14171050635516258,
          0.4083837344888657,
          0.35919115418712133,
          0.2885316619016053,
          -0.2795716879495062,
          1.4967109264618719,
          -0.5034276127281153,
          -0.9195848263522127,
          0.0036980691622682717,
          -1.1561975511553555,
          -0.0674931632448224,
          1.2205170295980456,
          -1.7173270994239003,
          -0.8457801385986659,
          0.1725586858008727,
          0.4241941216487407,
          -0.640527068079842,
          0.9162412399630095,
          -0.7126212550692267,
          1.1760786429305836,
          -0.3663287237478555,
          -0.9601992815532329,
          -0.5934668853017779,
          2.138687640168241,
          1.1271439949934412,
          0.4228887134119707,
          0.9641575600348385,
          -0.4732958531413693,
          0.3691867824050043,
          1.0438568219805757,
          -0.6851461607108044,
          1.9604889962473953,
          -0.7121316185807449,
          -0.860258552005439,
          -0.7756424767215246,
          1.1188986390232671,
          -0.029992580637274155,
          1.2566812154182598,
          -0.08965639196959063,
          0.9993501250314029,
          1.0581915489108098,
          0.018648395808328312,
          -0.16515690335859862,
          1.1048916736355985,
          -0.2940482353646764,
          0.7858209812076586,
          0.6962374498622259,
          0.6824777105549716,
          0.6502383370441862,
          -0.6503294575233609,
          -2.419037357005872,
          0.5386046383338288,
          0.13396494940463755,
          0.8338031503515533,
          0.20428275558354891,
          0.7963950437666771,
          -0.5168135777070428,
          0.7337029151449452,
          -0.17652524673493883,
          -1.8741632511307245,
          -0.541972300082036,
          -0.3447729493621954,
          -0.6321114042540144,
          0.15149425011822618,
          -0.168313064233042,
          -0.2248723299164277,
          1.0986104344094423,
          0.5057236081827604,
          -0.31038782932230446,
          1.9497709425607428,
          1.3184687249490608,
          -1.0867694948850026,
          0.861439797367633,
          0.3582260691853846,
          0.22568575670948762,
          0.40989940999869257,
          0.0073837110282809456,
          1.3613943157445625,
          -0.28844704644859565,
          0.2291403758894681,
          -0.4472241971177087,
          -0.19181766055293706
         ]
        }
       ],
       "layout": {
        "legend": {
         "bgcolor": "#F5F6F9",
         "font": {
          "color": "#4D5663"
         }
        },
        "paper_bgcolor": "#F5F6F9",
        "plot_bgcolor": "#F5F6F9",
        "template": {
         "data": {
          "bar": [
           {
            "error_x": {
             "color": "#2a3f5f"
            },
            "error_y": {
             "color": "#2a3f5f"
            },
            "marker": {
             "line": {
              "color": "#E5ECF6",
              "width": 0.5
             },
             "pattern": {
              "fillmode": "overlay",
              "size": 10,
              "solidity": 0.2
             }
            },
            "type": "bar"
           }
          ],
          "barpolar": [
           {
            "marker": {
             "line": {
              "color": "#E5ECF6",
              "width": 0.5
             },
             "pattern": {
              "fillmode": "overlay",
              "size": 10,
              "solidity": 0.2
             }
            },
            "type": "barpolar"
           }
          ],
          "carpet": [
           {
            "aaxis": {
             "endlinecolor": "#2a3f5f",
             "gridcolor": "white",
             "linecolor": "white",
             "minorgridcolor": "white",
             "startlinecolor": "#2a3f5f"
            },
            "baxis": {
             "endlinecolor": "#2a3f5f",
             "gridcolor": "white",
             "linecolor": "white",
             "minorgridcolor": "white",
             "startlinecolor": "#2a3f5f"
            },
            "type": "carpet"
           }
          ],
          "choropleth": [
           {
            "colorbar": {
             "outlinewidth": 0,
             "ticks": ""
            },
            "type": "choropleth"
           }
          ],
          "contour": [
           {
            "colorbar": {
             "outlinewidth": 0,
             "ticks": ""
            },
            "colorscale": [
             [
              0,
              "#0d0887"
             ],
             [
              0.1111111111111111,
              "#46039f"
             ],
             [
              0.2222222222222222,
              "#7201a8"
             ],
             [
              0.3333333333333333,
              "#9c179e"
             ],
             [
              0.4444444444444444,
              "#bd3786"
             ],
             [
              0.5555555555555556,
              "#d8576b"
             ],
             [
              0.6666666666666666,
              "#ed7953"
             ],
             [
              0.7777777777777778,
              "#fb9f3a"
             ],
             [
              0.8888888888888888,
              "#fdca26"
             ],
             [
              1,
              "#f0f921"
             ]
            ],
            "type": "contour"
           }
          ],
          "contourcarpet": [
           {
            "colorbar": {
             "outlinewidth": 0,
             "ticks": ""
            },
            "type": "contourcarpet"
           }
          ],
          "heatmap": [
           {
            "colorbar": {
             "outlinewidth": 0,
             "ticks": ""
            },
            "colorscale": [
             [
              0,
              "#0d0887"
             ],
             [
              0.1111111111111111,
              "#46039f"
             ],
             [
              0.2222222222222222,
              "#7201a8"
             ],
             [
              0.3333333333333333,
              "#9c179e"
             ],
             [
              0.4444444444444444,
              "#bd3786"
             ],
             [
              0.5555555555555556,
              "#d8576b"
             ],
             [
              0.6666666666666666,
              "#ed7953"
             ],
             [
              0.7777777777777778,
              "#fb9f3a"
             ],
             [
              0.8888888888888888,
              "#fdca26"
             ],
             [
              1,
              "#f0f921"
             ]
            ],
            "type": "heatmap"
           }
          ],
          "heatmapgl": [
           {
            "colorbar": {
             "outlinewidth": 0,
             "ticks": ""
            },
            "colorscale": [
             [
              0,
              "#0d0887"
             ],
             [
              0.1111111111111111,
              "#46039f"
             ],
             [
              0.2222222222222222,
              "#7201a8"
             ],
             [
              0.3333333333333333,
              "#9c179e"
             ],
             [
              0.4444444444444444,
              "#bd3786"
             ],
             [
              0.5555555555555556,
              "#d8576b"
             ],
             [
              0.6666666666666666,
              "#ed7953"
             ],
             [
              0.7777777777777778,
              "#fb9f3a"
             ],
             [
              0.8888888888888888,
              "#fdca26"
             ],
             [
              1,
              "#f0f921"
             ]
            ],
            "type": "heatmapgl"
           }
          ],
          "histogram": [
           {
            "marker": {
             "pattern": {
              "fillmode": "overlay",
              "size": 10,
              "solidity": 0.2
             }
            },
            "type": "histogram"
           }
          ],
          "histogram2d": [
           {
            "colorbar": {
             "outlinewidth": 0,
             "ticks": ""
            },
            "colorscale": [
             [
              0,
              "#0d0887"
             ],
             [
              0.1111111111111111,
              "#46039f"
             ],
             [
              0.2222222222222222,
              "#7201a8"
             ],
             [
              0.3333333333333333,
              "#9c179e"
             ],
             [
              0.4444444444444444,
              "#bd3786"
             ],
             [
              0.5555555555555556,
              "#d8576b"
             ],
             [
              0.6666666666666666,
              "#ed7953"
             ],
             [
              0.7777777777777778,
              "#fb9f3a"
             ],
             [
              0.8888888888888888,
              "#fdca26"
             ],
             [
              1,
              "#f0f921"
             ]
            ],
            "type": "histogram2d"
           }
          ],
          "histogram2dcontour": [
           {
            "colorbar": {
             "outlinewidth": 0,
             "ticks": ""
            },
            "colorscale": [
             [
              0,
              "#0d0887"
             ],
             [
              0.1111111111111111,
              "#46039f"
             ],
             [
              0.2222222222222222,
              "#7201a8"
             ],
             [
              0.3333333333333333,
              "#9c179e"
             ],
             [
              0.4444444444444444,
              "#bd3786"
             ],
             [
              0.5555555555555556,
              "#d8576b"
             ],
             [
              0.6666666666666666,
              "#ed7953"
             ],
             [
              0.7777777777777778,
              "#fb9f3a"
             ],
             [
              0.8888888888888888,
              "#fdca26"
             ],
             [
              1,
              "#f0f921"
             ]
            ],
            "type": "histogram2dcontour"
           }
          ],
          "mesh3d": [
           {
            "colorbar": {
             "outlinewidth": 0,
             "ticks": ""
            },
            "type": "mesh3d"
           }
          ],
          "parcoords": [
           {
            "line": {
             "colorbar": {
              "outlinewidth": 0,
              "ticks": ""
             }
            },
            "type": "parcoords"
           }
          ],
          "pie": [
           {
            "automargin": true,
            "type": "pie"
           }
          ],
          "scatter": [
           {
            "fillpattern": {
             "fillmode": "overlay",
             "size": 10,
             "solidity": 0.2
            },
            "type": "scatter"
           }
          ],
          "scatter3d": [
           {
            "line": {
             "colorbar": {
              "outlinewidth": 0,
              "ticks": ""
             }
            },
            "marker": {
             "colorbar": {
              "outlinewidth": 0,
              "ticks": ""
             }
            },
            "type": "scatter3d"
           }
          ],
          "scattercarpet": [
           {
            "marker": {
             "colorbar": {
              "outlinewidth": 0,
              "ticks": ""
             }
            },
            "type": "scattercarpet"
           }
          ],
          "scattergeo": [
           {
            "marker": {
             "colorbar": {
              "outlinewidth": 0,
              "ticks": ""
             }
            },
            "type": "scattergeo"
           }
          ],
          "scattergl": [
           {
            "marker": {
             "colorbar": {
              "outlinewidth": 0,
              "ticks": ""
             }
            },
            "type": "scattergl"
           }
          ],
          "scattermapbox": [
           {
            "marker": {
             "colorbar": {
              "outlinewidth": 0,
              "ticks": ""
             }
            },
            "type": "scattermapbox"
           }
          ],
          "scatterpolar": [
           {
            "marker": {
             "colorbar": {
              "outlinewidth": 0,
              "ticks": ""
             }
            },
            "type": "scatterpolar"
           }
          ],
          "scatterpolargl": [
           {
            "marker": {
             "colorbar": {
              "outlinewidth": 0,
              "ticks": ""
             }
            },
            "type": "scatterpolargl"
           }
          ],
          "scatterternary": [
           {
            "marker": {
             "colorbar": {
              "outlinewidth": 0,
              "ticks": ""
             }
            },
            "type": "scatterternary"
           }
          ],
          "surface": [
           {
            "colorbar": {
             "outlinewidth": 0,
             "ticks": ""
            },
            "colorscale": [
             [
              0,
              "#0d0887"
             ],
             [
              0.1111111111111111,
              "#46039f"
             ],
             [
              0.2222222222222222,
              "#7201a8"
             ],
             [
              0.3333333333333333,
              "#9c179e"
             ],
             [
              0.4444444444444444,
              "#bd3786"
             ],
             [
              0.5555555555555556,
              "#d8576b"
             ],
             [
              0.6666666666666666,
              "#ed7953"
             ],
             [
              0.7777777777777778,
              "#fb9f3a"
             ],
             [
              0.8888888888888888,
              "#fdca26"
             ],
             [
              1,
              "#f0f921"
             ]
            ],
            "type": "surface"
           }
          ],
          "table": [
           {
            "cells": {
             "fill": {
              "color": "#EBF0F8"
             },
             "line": {
              "color": "white"
             }
            },
            "header": {
             "fill": {
              "color": "#C8D4E3"
             },
             "line": {
              "color": "white"
             }
            },
            "type": "table"
           }
          ]
         },
         "layout": {
          "annotationdefaults": {
           "arrowcolor": "#2a3f5f",
           "arrowhead": 0,
           "arrowwidth": 1
          },
          "autotypenumbers": "strict",
          "coloraxis": {
           "colorbar": {
            "outlinewidth": 0,
            "ticks": ""
           }
          },
          "colorscale": {
           "diverging": [
            [
             0,
             "#8e0152"
            ],
            [
             0.1,
             "#c51b7d"
            ],
            [
             0.2,
             "#de77ae"
            ],
            [
             0.3,
             "#f1b6da"
            ],
            [
             0.4,
             "#fde0ef"
            ],
            [
             0.5,
             "#f7f7f7"
            ],
            [
             0.6,
             "#e6f5d0"
            ],
            [
             0.7,
             "#b8e186"
            ],
            [
             0.8,
             "#7fbc41"
            ],
            [
             0.9,
             "#4d9221"
            ],
            [
             1,
             "#276419"
            ]
           ],
           "sequential": [
            [
             0,
             "#0d0887"
            ],
            [
             0.1111111111111111,
             "#46039f"
            ],
            [
             0.2222222222222222,
             "#7201a8"
            ],
            [
             0.3333333333333333,
             "#9c179e"
            ],
            [
             0.4444444444444444,
             "#bd3786"
            ],
            [
             0.5555555555555556,
             "#d8576b"
            ],
            [
             0.6666666666666666,
             "#ed7953"
            ],
            [
             0.7777777777777778,
             "#fb9f3a"
            ],
            [
             0.8888888888888888,
             "#fdca26"
            ],
            [
             1,
             "#f0f921"
            ]
           ],
           "sequentialminus": [
            [
             0,
             "#0d0887"
            ],
            [
             0.1111111111111111,
             "#46039f"
            ],
            [
             0.2222222222222222,
             "#7201a8"
            ],
            [
             0.3333333333333333,
             "#9c179e"
            ],
            [
             0.4444444444444444,
             "#bd3786"
            ],
            [
             0.5555555555555556,
             "#d8576b"
            ],
            [
             0.6666666666666666,
             "#ed7953"
            ],
            [
             0.7777777777777778,
             "#fb9f3a"
            ],
            [
             0.8888888888888888,
             "#fdca26"
            ],
            [
             1,
             "#f0f921"
            ]
           ]
          },
          "colorway": [
           "#636efa",
           "#EF553B",
           "#00cc96",
           "#ab63fa",
           "#FFA15A",
           "#19d3f3",
           "#FF6692",
           "#B6E880",
           "#FF97FF",
           "#FECB52"
          ],
          "font": {
           "color": "#2a3f5f"
          },
          "geo": {
           "bgcolor": "white",
           "lakecolor": "white",
           "landcolor": "#E5ECF6",
           "showlakes": true,
           "showland": true,
           "subunitcolor": "white"
          },
          "hoverlabel": {
           "align": "left"
          },
          "hovermode": "closest",
          "mapbox": {
           "style": "light"
          },
          "paper_bgcolor": "white",
          "plot_bgcolor": "#E5ECF6",
          "polar": {
           "angularaxis": {
            "gridcolor": "white",
            "linecolor": "white",
            "ticks": ""
           },
           "bgcolor": "#E5ECF6",
           "radialaxis": {
            "gridcolor": "white",
            "linecolor": "white",
            "ticks": ""
           }
          },
          "scene": {
           "xaxis": {
            "backgroundcolor": "#E5ECF6",
            "gridcolor": "white",
            "gridwidth": 2,
            "linecolor": "white",
            "showbackground": true,
            "ticks": "",
            "zerolinecolor": "white"
           },
           "yaxis": {
            "backgroundcolor": "#E5ECF6",
            "gridcolor": "white",
            "gridwidth": 2,
            "linecolor": "white",
            "showbackground": true,
            "ticks": "",
            "zerolinecolor": "white"
           },
           "zaxis": {
            "backgroundcolor": "#E5ECF6",
            "gridcolor": "white",
            "gridwidth": 2,
            "linecolor": "white",
            "showbackground": true,
            "ticks": "",
            "zerolinecolor": "white"
           }
          },
          "shapedefaults": {
           "line": {
            "color": "#2a3f5f"
           }
          },
          "ternary": {
           "aaxis": {
            "gridcolor": "white",
            "linecolor": "white",
            "ticks": ""
           },
           "baxis": {
            "gridcolor": "white",
            "linecolor": "white",
            "ticks": ""
           },
           "bgcolor": "#E5ECF6",
           "caxis": {
            "gridcolor": "white",
            "linecolor": "white",
            "ticks": ""
           }
          },
          "title": {
           "x": 0.05
          },
          "xaxis": {
           "automargin": true,
           "gridcolor": "white",
           "linecolor": "white",
           "ticks": "",
           "title": {
            "standoff": 15
           },
           "zerolinecolor": "white",
           "zerolinewidth": 2
          },
          "yaxis": {
           "automargin": true,
           "gridcolor": "white",
           "linecolor": "white",
           "ticks": "",
           "title": {
            "standoff": 15
           },
           "zerolinecolor": "white",
           "zerolinewidth": 2
          }
         }
        },
        "title": {
         "font": {
          "color": "#4D5663"
         }
        },
        "xaxis": {
         "gridcolor": "#E1E5ED",
         "showgrid": true,
         "tickfont": {
          "color": "#4D5663"
         },
         "title": {
          "font": {
           "color": "#4D5663"
          },
          "text": ""
         },
         "zerolinecolor": "#E1E5ED"
        },
        "yaxis": {
         "gridcolor": "#E1E5ED",
         "showgrid": true,
         "tickfont": {
          "color": "#4D5663"
         },
         "title": {
          "font": {
           "color": "#4D5663"
          },
          "text": ""
         },
         "zerolinecolor": "#E1E5ED"
        }
       }
      },
      "text/html": [
       "<div>                            <div id=\"7efab1e1-c9b8-4435-83cf-92a58bda31a6\" class=\"plotly-graph-div\" style=\"height:525px; width:100%;\"></div>            <script type=\"text/javascript\">                require([\"plotly\"], function(Plotly) {                    window.PLOTLYENV=window.PLOTLYENV || {};\n",
       "                    window.PLOTLYENV.BASE_URL='https://plot.ly';                                    if (document.getElementById(\"7efab1e1-c9b8-4435-83cf-92a58bda31a6\")) {                    Plotly.newPlot(                        \"7efab1e1-c9b8-4435-83cf-92a58bda31a6\",                        [{\"line\":{\"color\":\"rgba(255, 153, 51, 1.0)\",\"dash\":\"solid\",\"shape\":\"linear\",\"width\":1.3},\"marker\":{\"size\":10,\"symbol\":\"circle\"},\"mode\":\"markers\",\"name\":\"B\",\"text\":\"\",\"x\":[-0.5882201862615739,-0.1444088146832521,-0.7206830682849644,1.3936579949157097,-0.19862000637931865,-0.27593821881612995,0.10946967362279274,-0.7994858635802414,0.1678150311420152,-0.03259329436621168,-0.38777224262700793,-0.9754539192544475,0.31246023384261074,-0.16315024393863606,0.1433325386094532,0.33921612803869455,0.1687111089431125,-1.0293821555773768,0.9359095977765699,-0.851942028353327,0.27136104667763106,2.0938787705300403,-1.6874972996029145,-0.4906760954841787,1.014382803145646,-0.6868968224829972,-0.7713142158581506,-1.0629976127507368,-0.3911478166219877,-1.6997231884085433,0.4760470417318967,1.368331511888546,-0.9584745559245262,-1.183217404290445,-0.575483118709692,1.3026615111527207,0.1441487490352291,-1.0594506247977764,-1.5380315053002944,2.4091356980594285,1.0046246460929371,0.16397580097306277,-0.27806055403543156,1.1825457833448632,0.9927116557574145,0.6401164337634135,-0.17126633776369268,-0.09314210703339369,-1.2500682591239412,1.5249423799561066,0.7261411639316259,1.590022568827245,-0.04437577138374293,-0.19365124054278118,-1.537393958681574,1.5201990369248464,1.677601948736433,-0.17840117181941412,-0.260180030841215,-0.2744427137172959,-0.05364077060641442,-1.388808568459774,-0.2976181577756708,-0.05489380423532537,0.24230246636410666,0.05706581952694559,-0.5203533785804892,-0.4759391251040668,1.9466209582861882,0.8574801728519554,-0.42732486530133573,1.2327550002736216,1.5230759358429147,0.9259071632069753,1.4978812400979802,-0.5868307177392983,-0.21430818657024733,0.4275909334188216,-0.7517631229589176,0.40933185053435545,1.0494839530728004,1.009305230913276,-0.24943062954401313,-0.4313553585139899,-0.17170921243621456,1.6841789479225455,-0.9526310880361992,0.12458637521250845,0.5687516401383191,0.8383341998997003,0.9996013164266332,-1.2654481776987168,0.06368071956753159,-0.5823383450272381,0.8242370577808078,0.04917197237671641,-1.0627241384534636,-0.8690415122855502,0.413248602855076,1.4561243863993238],\"y\":[-0.8940538161456291,1.7587400520446705,0.14430342474400454,-0.34549370551569325,-0.5257140537089149,-0.15452279911902936,-1.0700089891485318,-1.2765518475470334,-1.1018276817658246,0.43378474413794765,0.8461336916637264,-0.24624295303470572,1.3982100658424075,0.9997234408622141,-0.2719079134797146,0.7001985695260833,0.37644992918744924,0.6256292283079395,0.14171050635516258,0.4083837344888657,0.35919115418712133,0.2885316619016053,-0.2795716879495062,1.4967109264618719,-0.5034276127281153,-0.9195848263522127,0.0036980691622682717,-1.1561975511553555,-0.0674931632448224,1.2205170295980456,-1.7173270994239003,-0.8457801385986659,0.1725586858008727,0.4241941216487407,-0.640527068079842,0.9162412399630095,-0.7126212550692267,1.1760786429305836,-0.3663287237478555,-0.9601992815532329,-0.5934668853017779,2.138687640168241,1.1271439949934412,0.4228887134119707,0.9641575600348385,-0.4732958531413693,0.3691867824050043,1.0438568219805757,-0.6851461607108044,1.9604889962473953,-0.7121316185807449,-0.860258552005439,-0.7756424767215246,1.1188986390232671,-0.029992580637274155,1.2566812154182598,-0.08965639196959063,0.9993501250314029,1.0581915489108098,0.018648395808328312,-0.16515690335859862,1.1048916736355985,-0.2940482353646764,0.7858209812076586,0.6962374498622259,0.6824777105549716,0.6502383370441862,-0.6503294575233609,-2.419037357005872,0.5386046383338288,0.13396494940463755,0.8338031503515533,0.20428275558354891,0.7963950437666771,-0.5168135777070428,0.7337029151449452,-0.17652524673493883,-1.8741632511307245,-0.541972300082036,-0.3447729493621954,-0.6321114042540144,0.15149425011822618,-0.168313064233042,-0.2248723299164277,1.0986104344094423,0.5057236081827604,-0.31038782932230446,1.9497709425607428,1.3184687249490608,-1.0867694948850026,0.861439797367633,0.3582260691853846,0.22568575670948762,0.40989940999869257,0.0073837110282809456,1.3613943157445625,-0.28844704644859565,0.2291403758894681,-0.4472241971177087,-0.19181766055293706],\"type\":\"scatter\"}],                        {\"legend\":{\"bgcolor\":\"#F5F6F9\",\"font\":{\"color\":\"#4D5663\"}},\"paper_bgcolor\":\"#F5F6F9\",\"plot_bgcolor\":\"#F5F6F9\",\"template\":{\"data\":{\"barpolar\":[{\"marker\":{\"line\":{\"color\":\"#E5ECF6\",\"width\":0.5},\"pattern\":{\"fillmode\":\"overlay\",\"size\":10,\"solidity\":0.2}},\"type\":\"barpolar\"}],\"bar\":[{\"error_x\":{\"color\":\"#2a3f5f\"},\"error_y\":{\"color\":\"#2a3f5f\"},\"marker\":{\"line\":{\"color\":\"#E5ECF6\",\"width\":0.5},\"pattern\":{\"fillmode\":\"overlay\",\"size\":10,\"solidity\":0.2}},\"type\":\"bar\"}],\"carpet\":[{\"aaxis\":{\"endlinecolor\":\"#2a3f5f\",\"gridcolor\":\"white\",\"linecolor\":\"white\",\"minorgridcolor\":\"white\",\"startlinecolor\":\"#2a3f5f\"},\"baxis\":{\"endlinecolor\":\"#2a3f5f\",\"gridcolor\":\"white\",\"linecolor\":\"white\",\"minorgridcolor\":\"white\",\"startlinecolor\":\"#2a3f5f\"},\"type\":\"carpet\"}],\"choropleth\":[{\"colorbar\":{\"outlinewidth\":0,\"ticks\":\"\"},\"type\":\"choropleth\"}],\"contourcarpet\":[{\"colorbar\":{\"outlinewidth\":0,\"ticks\":\"\"},\"type\":\"contourcarpet\"}],\"contour\":[{\"colorbar\":{\"outlinewidth\":0,\"ticks\":\"\"},\"colorscale\":[[0.0,\"#0d0887\"],[0.1111111111111111,\"#46039f\"],[0.2222222222222222,\"#7201a8\"],[0.3333333333333333,\"#9c179e\"],[0.4444444444444444,\"#bd3786\"],[0.5555555555555556,\"#d8576b\"],[0.6666666666666666,\"#ed7953\"],[0.7777777777777778,\"#fb9f3a\"],[0.8888888888888888,\"#fdca26\"],[1.0,\"#f0f921\"]],\"type\":\"contour\"}],\"heatmapgl\":[{\"colorbar\":{\"outlinewidth\":0,\"ticks\":\"\"},\"colorscale\":[[0.0,\"#0d0887\"],[0.1111111111111111,\"#46039f\"],[0.2222222222222222,\"#7201a8\"],[0.3333333333333333,\"#9c179e\"],[0.4444444444444444,\"#bd3786\"],[0.5555555555555556,\"#d8576b\"],[0.6666666666666666,\"#ed7953\"],[0.7777777777777778,\"#fb9f3a\"],[0.8888888888888888,\"#fdca26\"],[1.0,\"#f0f921\"]],\"type\":\"heatmapgl\"}],\"heatmap\":[{\"colorbar\":{\"outlinewidth\":0,\"ticks\":\"\"},\"colorscale\":[[0.0,\"#0d0887\"],[0.1111111111111111,\"#46039f\"],[0.2222222222222222,\"#7201a8\"],[0.3333333333333333,\"#9c179e\"],[0.4444444444444444,\"#bd3786\"],[0.5555555555555556,\"#d8576b\"],[0.6666666666666666,\"#ed7953\"],[0.7777777777777778,\"#fb9f3a\"],[0.8888888888888888,\"#fdca26\"],[1.0,\"#f0f921\"]],\"type\":\"heatmap\"}],\"histogram2dcontour\":[{\"colorbar\":{\"outlinewidth\":0,\"ticks\":\"\"},\"colorscale\":[[0.0,\"#0d0887\"],[0.1111111111111111,\"#46039f\"],[0.2222222222222222,\"#7201a8\"],[0.3333333333333333,\"#9c179e\"],[0.4444444444444444,\"#bd3786\"],[0.5555555555555556,\"#d8576b\"],[0.6666666666666666,\"#ed7953\"],[0.7777777777777778,\"#fb9f3a\"],[0.8888888888888888,\"#fdca26\"],[1.0,\"#f0f921\"]],\"type\":\"histogram2dcontour\"}],\"histogram2d\":[{\"colorbar\":{\"outlinewidth\":0,\"ticks\":\"\"},\"colorscale\":[[0.0,\"#0d0887\"],[0.1111111111111111,\"#46039f\"],[0.2222222222222222,\"#7201a8\"],[0.3333333333333333,\"#9c179e\"],[0.4444444444444444,\"#bd3786\"],[0.5555555555555556,\"#d8576b\"],[0.6666666666666666,\"#ed7953\"],[0.7777777777777778,\"#fb9f3a\"],[0.8888888888888888,\"#fdca26\"],[1.0,\"#f0f921\"]],\"type\":\"histogram2d\"}],\"histogram\":[{\"marker\":{\"pattern\":{\"fillmode\":\"overlay\",\"size\":10,\"solidity\":0.2}},\"type\":\"histogram\"}],\"mesh3d\":[{\"colorbar\":{\"outlinewidth\":0,\"ticks\":\"\"},\"type\":\"mesh3d\"}],\"parcoords\":[{\"line\":{\"colorbar\":{\"outlinewidth\":0,\"ticks\":\"\"}},\"type\":\"parcoords\"}],\"pie\":[{\"automargin\":true,\"type\":\"pie\"}],\"scatter3d\":[{\"line\":{\"colorbar\":{\"outlinewidth\":0,\"ticks\":\"\"}},\"marker\":{\"colorbar\":{\"outlinewidth\":0,\"ticks\":\"\"}},\"type\":\"scatter3d\"}],\"scattercarpet\":[{\"marker\":{\"colorbar\":{\"outlinewidth\":0,\"ticks\":\"\"}},\"type\":\"scattercarpet\"}],\"scattergeo\":[{\"marker\":{\"colorbar\":{\"outlinewidth\":0,\"ticks\":\"\"}},\"type\":\"scattergeo\"}],\"scattergl\":[{\"marker\":{\"colorbar\":{\"outlinewidth\":0,\"ticks\":\"\"}},\"type\":\"scattergl\"}],\"scattermapbox\":[{\"marker\":{\"colorbar\":{\"outlinewidth\":0,\"ticks\":\"\"}},\"type\":\"scattermapbox\"}],\"scatterpolargl\":[{\"marker\":{\"colorbar\":{\"outlinewidth\":0,\"ticks\":\"\"}},\"type\":\"scatterpolargl\"}],\"scatterpolar\":[{\"marker\":{\"colorbar\":{\"outlinewidth\":0,\"ticks\":\"\"}},\"type\":\"scatterpolar\"}],\"scatter\":[{\"fillpattern\":{\"fillmode\":\"overlay\",\"size\":10,\"solidity\":0.2},\"type\":\"scatter\"}],\"scatterternary\":[{\"marker\":{\"colorbar\":{\"outlinewidth\":0,\"ticks\":\"\"}},\"type\":\"scatterternary\"}],\"surface\":[{\"colorbar\":{\"outlinewidth\":0,\"ticks\":\"\"},\"colorscale\":[[0.0,\"#0d0887\"],[0.1111111111111111,\"#46039f\"],[0.2222222222222222,\"#7201a8\"],[0.3333333333333333,\"#9c179e\"],[0.4444444444444444,\"#bd3786\"],[0.5555555555555556,\"#d8576b\"],[0.6666666666666666,\"#ed7953\"],[0.7777777777777778,\"#fb9f3a\"],[0.8888888888888888,\"#fdca26\"],[1.0,\"#f0f921\"]],\"type\":\"surface\"}],\"table\":[{\"cells\":{\"fill\":{\"color\":\"#EBF0F8\"},\"line\":{\"color\":\"white\"}},\"header\":{\"fill\":{\"color\":\"#C8D4E3\"},\"line\":{\"color\":\"white\"}},\"type\":\"table\"}]},\"layout\":{\"annotationdefaults\":{\"arrowcolor\":\"#2a3f5f\",\"arrowhead\":0,\"arrowwidth\":1},\"autotypenumbers\":\"strict\",\"coloraxis\":{\"colorbar\":{\"outlinewidth\":0,\"ticks\":\"\"}},\"colorscale\":{\"diverging\":[[0,\"#8e0152\"],[0.1,\"#c51b7d\"],[0.2,\"#de77ae\"],[0.3,\"#f1b6da\"],[0.4,\"#fde0ef\"],[0.5,\"#f7f7f7\"],[0.6,\"#e6f5d0\"],[0.7,\"#b8e186\"],[0.8,\"#7fbc41\"],[0.9,\"#4d9221\"],[1,\"#276419\"]],\"sequential\":[[0.0,\"#0d0887\"],[0.1111111111111111,\"#46039f\"],[0.2222222222222222,\"#7201a8\"],[0.3333333333333333,\"#9c179e\"],[0.4444444444444444,\"#bd3786\"],[0.5555555555555556,\"#d8576b\"],[0.6666666666666666,\"#ed7953\"],[0.7777777777777778,\"#fb9f3a\"],[0.8888888888888888,\"#fdca26\"],[1.0,\"#f0f921\"]],\"sequentialminus\":[[0.0,\"#0d0887\"],[0.1111111111111111,\"#46039f\"],[0.2222222222222222,\"#7201a8\"],[0.3333333333333333,\"#9c179e\"],[0.4444444444444444,\"#bd3786\"],[0.5555555555555556,\"#d8576b\"],[0.6666666666666666,\"#ed7953\"],[0.7777777777777778,\"#fb9f3a\"],[0.8888888888888888,\"#fdca26\"],[1.0,\"#f0f921\"]]},\"colorway\":[\"#636efa\",\"#EF553B\",\"#00cc96\",\"#ab63fa\",\"#FFA15A\",\"#19d3f3\",\"#FF6692\",\"#B6E880\",\"#FF97FF\",\"#FECB52\"],\"font\":{\"color\":\"#2a3f5f\"},\"geo\":{\"bgcolor\":\"white\",\"lakecolor\":\"white\",\"landcolor\":\"#E5ECF6\",\"showlakes\":true,\"showland\":true,\"subunitcolor\":\"white\"},\"hoverlabel\":{\"align\":\"left\"},\"hovermode\":\"closest\",\"mapbox\":{\"style\":\"light\"},\"paper_bgcolor\":\"white\",\"plot_bgcolor\":\"#E5ECF6\",\"polar\":{\"angularaxis\":{\"gridcolor\":\"white\",\"linecolor\":\"white\",\"ticks\":\"\"},\"bgcolor\":\"#E5ECF6\",\"radialaxis\":{\"gridcolor\":\"white\",\"linecolor\":\"white\",\"ticks\":\"\"}},\"scene\":{\"xaxis\":{\"backgroundcolor\":\"#E5ECF6\",\"gridcolor\":\"white\",\"gridwidth\":2,\"linecolor\":\"white\",\"showbackground\":true,\"ticks\":\"\",\"zerolinecolor\":\"white\"},\"yaxis\":{\"backgroundcolor\":\"#E5ECF6\",\"gridcolor\":\"white\",\"gridwidth\":2,\"linecolor\":\"white\",\"showbackground\":true,\"ticks\":\"\",\"zerolinecolor\":\"white\"},\"zaxis\":{\"backgroundcolor\":\"#E5ECF6\",\"gridcolor\":\"white\",\"gridwidth\":2,\"linecolor\":\"white\",\"showbackground\":true,\"ticks\":\"\",\"zerolinecolor\":\"white\"}},\"shapedefaults\":{\"line\":{\"color\":\"#2a3f5f\"}},\"ternary\":{\"aaxis\":{\"gridcolor\":\"white\",\"linecolor\":\"white\",\"ticks\":\"\"},\"baxis\":{\"gridcolor\":\"white\",\"linecolor\":\"white\",\"ticks\":\"\"},\"bgcolor\":\"#E5ECF6\",\"caxis\":{\"gridcolor\":\"white\",\"linecolor\":\"white\",\"ticks\":\"\"}},\"title\":{\"x\":0.05},\"xaxis\":{\"automargin\":true,\"gridcolor\":\"white\",\"linecolor\":\"white\",\"ticks\":\"\",\"title\":{\"standoff\":15},\"zerolinecolor\":\"white\",\"zerolinewidth\":2},\"yaxis\":{\"automargin\":true,\"gridcolor\":\"white\",\"linecolor\":\"white\",\"ticks\":\"\",\"title\":{\"standoff\":15},\"zerolinecolor\":\"white\",\"zerolinewidth\":2}}},\"title\":{\"font\":{\"color\":\"#4D5663\"}},\"xaxis\":{\"gridcolor\":\"#E1E5ED\",\"showgrid\":true,\"tickfont\":{\"color\":\"#4D5663\"},\"title\":{\"font\":{\"color\":\"#4D5663\"},\"text\":\"\"},\"zerolinecolor\":\"#E1E5ED\"},\"yaxis\":{\"gridcolor\":\"#E1E5ED\",\"showgrid\":true,\"tickfont\":{\"color\":\"#4D5663\"},\"title\":{\"font\":{\"color\":\"#4D5663\"},\"text\":\"\"},\"zerolinecolor\":\"#E1E5ED\"}},                        {\"showLink\": true, \"linkText\": \"Export to plot.ly\", \"plotlyServerURL\": \"https://plot.ly\", \"responsive\": true}                    ).then(function(){\n",
       "                            \n",
       "var gd = document.getElementById('7efab1e1-c9b8-4435-83cf-92a58bda31a6');\n",
       "var x = new MutationObserver(function (mutations, observer) {{\n",
       "        var display = window.getComputedStyle(gd).display;\n",
       "        if (!display || display === 'none') {{\n",
       "            console.log([gd, 'removed!']);\n",
       "            Plotly.purge(gd);\n",
       "            observer.disconnect();\n",
       "        }}\n",
       "}});\n",
       "\n",
       "// Listen for the removal of the full notebook cells\n",
       "var notebookContainer = gd.closest('#notebook-container');\n",
       "if (notebookContainer) {{\n",
       "    x.observe(notebookContainer, {childList: true});\n",
       "}}\n",
       "\n",
       "// Listen for the clearing of the current output cell\n",
       "var outputEl = gd.closest('.output');\n",
       "if (outputEl) {{\n",
       "    x.observe(outputEl, {childList: true});\n",
       "}}\n",
       "\n",
       "                        })                };                });            </script>        </div>"
      ]
     },
     "metadata": {},
     "output_type": "display_data"
    }
   ],
   "source": [
    "df.iplot(kind='scatter',x='A',y='B',mode='markers',size=10)"
   ]
  },
  {
   "cell_type": "markdown",
   "metadata": {},
   "source": [
    "## Bar Plots"
   ]
  },
  {
   "cell_type": "code",
   "execution_count": 15,
   "metadata": {},
   "outputs": [
    {
     "data": {
      "application/vnd.plotly.v1+json": {
       "config": {
        "linkText": "Export to plot.ly",
        "plotlyServerURL": "https://plot.ly",
        "showLink": true
       },
       "data": [
        {
         "marker": {
          "color": "rgba(255, 153, 51, 0.6)",
          "line": {
           "color": "rgba(255, 153, 51, 1.0)",
           "width": 1
          }
         },
         "name": "Values",
         "orientation": "v",
         "text": "",
         "type": "bar",
         "x": [
          "A",
          "B",
          "C"
         ],
         "y": [
          32,
          43,
          50
         ]
        }
       ],
       "layout": {
        "legend": {
         "bgcolor": "#F5F6F9",
         "font": {
          "color": "#4D5663"
         }
        },
        "paper_bgcolor": "#F5F6F9",
        "plot_bgcolor": "#F5F6F9",
        "template": {
         "data": {
          "bar": [
           {
            "error_x": {
             "color": "#2a3f5f"
            },
            "error_y": {
             "color": "#2a3f5f"
            },
            "marker": {
             "line": {
              "color": "#E5ECF6",
              "width": 0.5
             },
             "pattern": {
              "fillmode": "overlay",
              "size": 10,
              "solidity": 0.2
             }
            },
            "type": "bar"
           }
          ],
          "barpolar": [
           {
            "marker": {
             "line": {
              "color": "#E5ECF6",
              "width": 0.5
             },
             "pattern": {
              "fillmode": "overlay",
              "size": 10,
              "solidity": 0.2
             }
            },
            "type": "barpolar"
           }
          ],
          "carpet": [
           {
            "aaxis": {
             "endlinecolor": "#2a3f5f",
             "gridcolor": "white",
             "linecolor": "white",
             "minorgridcolor": "white",
             "startlinecolor": "#2a3f5f"
            },
            "baxis": {
             "endlinecolor": "#2a3f5f",
             "gridcolor": "white",
             "linecolor": "white",
             "minorgridcolor": "white",
             "startlinecolor": "#2a3f5f"
            },
            "type": "carpet"
           }
          ],
          "choropleth": [
           {
            "colorbar": {
             "outlinewidth": 0,
             "ticks": ""
            },
            "type": "choropleth"
           }
          ],
          "contour": [
           {
            "colorbar": {
             "outlinewidth": 0,
             "ticks": ""
            },
            "colorscale": [
             [
              0,
              "#0d0887"
             ],
             [
              0.1111111111111111,
              "#46039f"
             ],
             [
              0.2222222222222222,
              "#7201a8"
             ],
             [
              0.3333333333333333,
              "#9c179e"
             ],
             [
              0.4444444444444444,
              "#bd3786"
             ],
             [
              0.5555555555555556,
              "#d8576b"
             ],
             [
              0.6666666666666666,
              "#ed7953"
             ],
             [
              0.7777777777777778,
              "#fb9f3a"
             ],
             [
              0.8888888888888888,
              "#fdca26"
             ],
             [
              1,
              "#f0f921"
             ]
            ],
            "type": "contour"
           }
          ],
          "contourcarpet": [
           {
            "colorbar": {
             "outlinewidth": 0,
             "ticks": ""
            },
            "type": "contourcarpet"
           }
          ],
          "heatmap": [
           {
            "colorbar": {
             "outlinewidth": 0,
             "ticks": ""
            },
            "colorscale": [
             [
              0,
              "#0d0887"
             ],
             [
              0.1111111111111111,
              "#46039f"
             ],
             [
              0.2222222222222222,
              "#7201a8"
             ],
             [
              0.3333333333333333,
              "#9c179e"
             ],
             [
              0.4444444444444444,
              "#bd3786"
             ],
             [
              0.5555555555555556,
              "#d8576b"
             ],
             [
              0.6666666666666666,
              "#ed7953"
             ],
             [
              0.7777777777777778,
              "#fb9f3a"
             ],
             [
              0.8888888888888888,
              "#fdca26"
             ],
             [
              1,
              "#f0f921"
             ]
            ],
            "type": "heatmap"
           }
          ],
          "heatmapgl": [
           {
            "colorbar": {
             "outlinewidth": 0,
             "ticks": ""
            },
            "colorscale": [
             [
              0,
              "#0d0887"
             ],
             [
              0.1111111111111111,
              "#46039f"
             ],
             [
              0.2222222222222222,
              "#7201a8"
             ],
             [
              0.3333333333333333,
              "#9c179e"
             ],
             [
              0.4444444444444444,
              "#bd3786"
             ],
             [
              0.5555555555555556,
              "#d8576b"
             ],
             [
              0.6666666666666666,
              "#ed7953"
             ],
             [
              0.7777777777777778,
              "#fb9f3a"
             ],
             [
              0.8888888888888888,
              "#fdca26"
             ],
             [
              1,
              "#f0f921"
             ]
            ],
            "type": "heatmapgl"
           }
          ],
          "histogram": [
           {
            "marker": {
             "pattern": {
              "fillmode": "overlay",
              "size": 10,
              "solidity": 0.2
             }
            },
            "type": "histogram"
           }
          ],
          "histogram2d": [
           {
            "colorbar": {
             "outlinewidth": 0,
             "ticks": ""
            },
            "colorscale": [
             [
              0,
              "#0d0887"
             ],
             [
              0.1111111111111111,
              "#46039f"
             ],
             [
              0.2222222222222222,
              "#7201a8"
             ],
             [
              0.3333333333333333,
              "#9c179e"
             ],
             [
              0.4444444444444444,
              "#bd3786"
             ],
             [
              0.5555555555555556,
              "#d8576b"
             ],
             [
              0.6666666666666666,
              "#ed7953"
             ],
             [
              0.7777777777777778,
              "#fb9f3a"
             ],
             [
              0.8888888888888888,
              "#fdca26"
             ],
             [
              1,
              "#f0f921"
             ]
            ],
            "type": "histogram2d"
           }
          ],
          "histogram2dcontour": [
           {
            "colorbar": {
             "outlinewidth": 0,
             "ticks": ""
            },
            "colorscale": [
             [
              0,
              "#0d0887"
             ],
             [
              0.1111111111111111,
              "#46039f"
             ],
             [
              0.2222222222222222,
              "#7201a8"
             ],
             [
              0.3333333333333333,
              "#9c179e"
             ],
             [
              0.4444444444444444,
              "#bd3786"
             ],
             [
              0.5555555555555556,
              "#d8576b"
             ],
             [
              0.6666666666666666,
              "#ed7953"
             ],
             [
              0.7777777777777778,
              "#fb9f3a"
             ],
             [
              0.8888888888888888,
              "#fdca26"
             ],
             [
              1,
              "#f0f921"
             ]
            ],
            "type": "histogram2dcontour"
           }
          ],
          "mesh3d": [
           {
            "colorbar": {
             "outlinewidth": 0,
             "ticks": ""
            },
            "type": "mesh3d"
           }
          ],
          "parcoords": [
           {
            "line": {
             "colorbar": {
              "outlinewidth": 0,
              "ticks": ""
             }
            },
            "type": "parcoords"
           }
          ],
          "pie": [
           {
            "automargin": true,
            "type": "pie"
           }
          ],
          "scatter": [
           {
            "fillpattern": {
             "fillmode": "overlay",
             "size": 10,
             "solidity": 0.2
            },
            "type": "scatter"
           }
          ],
          "scatter3d": [
           {
            "line": {
             "colorbar": {
              "outlinewidth": 0,
              "ticks": ""
             }
            },
            "marker": {
             "colorbar": {
              "outlinewidth": 0,
              "ticks": ""
             }
            },
            "type": "scatter3d"
           }
          ],
          "scattercarpet": [
           {
            "marker": {
             "colorbar": {
              "outlinewidth": 0,
              "ticks": ""
             }
            },
            "type": "scattercarpet"
           }
          ],
          "scattergeo": [
           {
            "marker": {
             "colorbar": {
              "outlinewidth": 0,
              "ticks": ""
             }
            },
            "type": "scattergeo"
           }
          ],
          "scattergl": [
           {
            "marker": {
             "colorbar": {
              "outlinewidth": 0,
              "ticks": ""
             }
            },
            "type": "scattergl"
           }
          ],
          "scattermapbox": [
           {
            "marker": {
             "colorbar": {
              "outlinewidth": 0,
              "ticks": ""
             }
            },
            "type": "scattermapbox"
           }
          ],
          "scatterpolar": [
           {
            "marker": {
             "colorbar": {
              "outlinewidth": 0,
              "ticks": ""
             }
            },
            "type": "scatterpolar"
           }
          ],
          "scatterpolargl": [
           {
            "marker": {
             "colorbar": {
              "outlinewidth": 0,
              "ticks": ""
             }
            },
            "type": "scatterpolargl"
           }
          ],
          "scatterternary": [
           {
            "marker": {
             "colorbar": {
              "outlinewidth": 0,
              "ticks": ""
             }
            },
            "type": "scatterternary"
           }
          ],
          "surface": [
           {
            "colorbar": {
             "outlinewidth": 0,
             "ticks": ""
            },
            "colorscale": [
             [
              0,
              "#0d0887"
             ],
             [
              0.1111111111111111,
              "#46039f"
             ],
             [
              0.2222222222222222,
              "#7201a8"
             ],
             [
              0.3333333333333333,
              "#9c179e"
             ],
             [
              0.4444444444444444,
              "#bd3786"
             ],
             [
              0.5555555555555556,
              "#d8576b"
             ],
             [
              0.6666666666666666,
              "#ed7953"
             ],
             [
              0.7777777777777778,
              "#fb9f3a"
             ],
             [
              0.8888888888888888,
              "#fdca26"
             ],
             [
              1,
              "#f0f921"
             ]
            ],
            "type": "surface"
           }
          ],
          "table": [
           {
            "cells": {
             "fill": {
              "color": "#EBF0F8"
             },
             "line": {
              "color": "white"
             }
            },
            "header": {
             "fill": {
              "color": "#C8D4E3"
             },
             "line": {
              "color": "white"
             }
            },
            "type": "table"
           }
          ]
         },
         "layout": {
          "annotationdefaults": {
           "arrowcolor": "#2a3f5f",
           "arrowhead": 0,
           "arrowwidth": 1
          },
          "autotypenumbers": "strict",
          "coloraxis": {
           "colorbar": {
            "outlinewidth": 0,
            "ticks": ""
           }
          },
          "colorscale": {
           "diverging": [
            [
             0,
             "#8e0152"
            ],
            [
             0.1,
             "#c51b7d"
            ],
            [
             0.2,
             "#de77ae"
            ],
            [
             0.3,
             "#f1b6da"
            ],
            [
             0.4,
             "#fde0ef"
            ],
            [
             0.5,
             "#f7f7f7"
            ],
            [
             0.6,
             "#e6f5d0"
            ],
            [
             0.7,
             "#b8e186"
            ],
            [
             0.8,
             "#7fbc41"
            ],
            [
             0.9,
             "#4d9221"
            ],
            [
             1,
             "#276419"
            ]
           ],
           "sequential": [
            [
             0,
             "#0d0887"
            ],
            [
             0.1111111111111111,
             "#46039f"
            ],
            [
             0.2222222222222222,
             "#7201a8"
            ],
            [
             0.3333333333333333,
             "#9c179e"
            ],
            [
             0.4444444444444444,
             "#bd3786"
            ],
            [
             0.5555555555555556,
             "#d8576b"
            ],
            [
             0.6666666666666666,
             "#ed7953"
            ],
            [
             0.7777777777777778,
             "#fb9f3a"
            ],
            [
             0.8888888888888888,
             "#fdca26"
            ],
            [
             1,
             "#f0f921"
            ]
           ],
           "sequentialminus": [
            [
             0,
             "#0d0887"
            ],
            [
             0.1111111111111111,
             "#46039f"
            ],
            [
             0.2222222222222222,
             "#7201a8"
            ],
            [
             0.3333333333333333,
             "#9c179e"
            ],
            [
             0.4444444444444444,
             "#bd3786"
            ],
            [
             0.5555555555555556,
             "#d8576b"
            ],
            [
             0.6666666666666666,
             "#ed7953"
            ],
            [
             0.7777777777777778,
             "#fb9f3a"
            ],
            [
             0.8888888888888888,
             "#fdca26"
            ],
            [
             1,
             "#f0f921"
            ]
           ]
          },
          "colorway": [
           "#636efa",
           "#EF553B",
           "#00cc96",
           "#ab63fa",
           "#FFA15A",
           "#19d3f3",
           "#FF6692",
           "#B6E880",
           "#FF97FF",
           "#FECB52"
          ],
          "font": {
           "color": "#2a3f5f"
          },
          "geo": {
           "bgcolor": "white",
           "lakecolor": "white",
           "landcolor": "#E5ECF6",
           "showlakes": true,
           "showland": true,
           "subunitcolor": "white"
          },
          "hoverlabel": {
           "align": "left"
          },
          "hovermode": "closest",
          "mapbox": {
           "style": "light"
          },
          "paper_bgcolor": "white",
          "plot_bgcolor": "#E5ECF6",
          "polar": {
           "angularaxis": {
            "gridcolor": "white",
            "linecolor": "white",
            "ticks": ""
           },
           "bgcolor": "#E5ECF6",
           "radialaxis": {
            "gridcolor": "white",
            "linecolor": "white",
            "ticks": ""
           }
          },
          "scene": {
           "xaxis": {
            "backgroundcolor": "#E5ECF6",
            "gridcolor": "white",
            "gridwidth": 2,
            "linecolor": "white",
            "showbackground": true,
            "ticks": "",
            "zerolinecolor": "white"
           },
           "yaxis": {
            "backgroundcolor": "#E5ECF6",
            "gridcolor": "white",
            "gridwidth": 2,
            "linecolor": "white",
            "showbackground": true,
            "ticks": "",
            "zerolinecolor": "white"
           },
           "zaxis": {
            "backgroundcolor": "#E5ECF6",
            "gridcolor": "white",
            "gridwidth": 2,
            "linecolor": "white",
            "showbackground": true,
            "ticks": "",
            "zerolinecolor": "white"
           }
          },
          "shapedefaults": {
           "line": {
            "color": "#2a3f5f"
           }
          },
          "ternary": {
           "aaxis": {
            "gridcolor": "white",
            "linecolor": "white",
            "ticks": ""
           },
           "baxis": {
            "gridcolor": "white",
            "linecolor": "white",
            "ticks": ""
           },
           "bgcolor": "#E5ECF6",
           "caxis": {
            "gridcolor": "white",
            "linecolor": "white",
            "ticks": ""
           }
          },
          "title": {
           "x": 0.05
          },
          "xaxis": {
           "automargin": true,
           "gridcolor": "white",
           "linecolor": "white",
           "ticks": "",
           "title": {
            "standoff": 15
           },
           "zerolinecolor": "white",
           "zerolinewidth": 2
          },
          "yaxis": {
           "automargin": true,
           "gridcolor": "white",
           "linecolor": "white",
           "ticks": "",
           "title": {
            "standoff": 15
           },
           "zerolinecolor": "white",
           "zerolinewidth": 2
          }
         }
        },
        "title": {
         "font": {
          "color": "#4D5663"
         }
        },
        "xaxis": {
         "gridcolor": "#E1E5ED",
         "showgrid": true,
         "tickfont": {
          "color": "#4D5663"
         },
         "title": {
          "font": {
           "color": "#4D5663"
          },
          "text": ""
         },
         "zerolinecolor": "#E1E5ED"
        },
        "yaxis": {
         "gridcolor": "#E1E5ED",
         "showgrid": true,
         "tickfont": {
          "color": "#4D5663"
         },
         "title": {
          "font": {
           "color": "#4D5663"
          },
          "text": ""
         },
         "zerolinecolor": "#E1E5ED"
        }
       }
      },
      "text/html": [
       "<div>                            <div id=\"1f9e0323-9534-4d96-bffd-db73304496cb\" class=\"plotly-graph-div\" style=\"height:525px; width:100%;\"></div>            <script type=\"text/javascript\">                require([\"plotly\"], function(Plotly) {                    window.PLOTLYENV=window.PLOTLYENV || {};\n",
       "                    window.PLOTLYENV.BASE_URL='https://plot.ly';                                    if (document.getElementById(\"1f9e0323-9534-4d96-bffd-db73304496cb\")) {                    Plotly.newPlot(                        \"1f9e0323-9534-4d96-bffd-db73304496cb\",                        [{\"marker\":{\"color\":\"rgba(255, 153, 51, 0.6)\",\"line\":{\"color\":\"rgba(255, 153, 51, 1.0)\",\"width\":1}},\"name\":\"Values\",\"orientation\":\"v\",\"text\":\"\",\"x\":[\"A\",\"B\",\"C\"],\"y\":[32,43,50],\"type\":\"bar\"}],                        {\"legend\":{\"bgcolor\":\"#F5F6F9\",\"font\":{\"color\":\"#4D5663\"}},\"paper_bgcolor\":\"#F5F6F9\",\"plot_bgcolor\":\"#F5F6F9\",\"template\":{\"data\":{\"barpolar\":[{\"marker\":{\"line\":{\"color\":\"#E5ECF6\",\"width\":0.5},\"pattern\":{\"fillmode\":\"overlay\",\"size\":10,\"solidity\":0.2}},\"type\":\"barpolar\"}],\"bar\":[{\"error_x\":{\"color\":\"#2a3f5f\"},\"error_y\":{\"color\":\"#2a3f5f\"},\"marker\":{\"line\":{\"color\":\"#E5ECF6\",\"width\":0.5},\"pattern\":{\"fillmode\":\"overlay\",\"size\":10,\"solidity\":0.2}},\"type\":\"bar\"}],\"carpet\":[{\"aaxis\":{\"endlinecolor\":\"#2a3f5f\",\"gridcolor\":\"white\",\"linecolor\":\"white\",\"minorgridcolor\":\"white\",\"startlinecolor\":\"#2a3f5f\"},\"baxis\":{\"endlinecolor\":\"#2a3f5f\",\"gridcolor\":\"white\",\"linecolor\":\"white\",\"minorgridcolor\":\"white\",\"startlinecolor\":\"#2a3f5f\"},\"type\":\"carpet\"}],\"choropleth\":[{\"colorbar\":{\"outlinewidth\":0,\"ticks\":\"\"},\"type\":\"choropleth\"}],\"contourcarpet\":[{\"colorbar\":{\"outlinewidth\":0,\"ticks\":\"\"},\"type\":\"contourcarpet\"}],\"contour\":[{\"colorbar\":{\"outlinewidth\":0,\"ticks\":\"\"},\"colorscale\":[[0.0,\"#0d0887\"],[0.1111111111111111,\"#46039f\"],[0.2222222222222222,\"#7201a8\"],[0.3333333333333333,\"#9c179e\"],[0.4444444444444444,\"#bd3786\"],[0.5555555555555556,\"#d8576b\"],[0.6666666666666666,\"#ed7953\"],[0.7777777777777778,\"#fb9f3a\"],[0.8888888888888888,\"#fdca26\"],[1.0,\"#f0f921\"]],\"type\":\"contour\"}],\"heatmapgl\":[{\"colorbar\":{\"outlinewidth\":0,\"ticks\":\"\"},\"colorscale\":[[0.0,\"#0d0887\"],[0.1111111111111111,\"#46039f\"],[0.2222222222222222,\"#7201a8\"],[0.3333333333333333,\"#9c179e\"],[0.4444444444444444,\"#bd3786\"],[0.5555555555555556,\"#d8576b\"],[0.6666666666666666,\"#ed7953\"],[0.7777777777777778,\"#fb9f3a\"],[0.8888888888888888,\"#fdca26\"],[1.0,\"#f0f921\"]],\"type\":\"heatmapgl\"}],\"heatmap\":[{\"colorbar\":{\"outlinewidth\":0,\"ticks\":\"\"},\"colorscale\":[[0.0,\"#0d0887\"],[0.1111111111111111,\"#46039f\"],[0.2222222222222222,\"#7201a8\"],[0.3333333333333333,\"#9c179e\"],[0.4444444444444444,\"#bd3786\"],[0.5555555555555556,\"#d8576b\"],[0.6666666666666666,\"#ed7953\"],[0.7777777777777778,\"#fb9f3a\"],[0.8888888888888888,\"#fdca26\"],[1.0,\"#f0f921\"]],\"type\":\"heatmap\"}],\"histogram2dcontour\":[{\"colorbar\":{\"outlinewidth\":0,\"ticks\":\"\"},\"colorscale\":[[0.0,\"#0d0887\"],[0.1111111111111111,\"#46039f\"],[0.2222222222222222,\"#7201a8\"],[0.3333333333333333,\"#9c179e\"],[0.4444444444444444,\"#bd3786\"],[0.5555555555555556,\"#d8576b\"],[0.6666666666666666,\"#ed7953\"],[0.7777777777777778,\"#fb9f3a\"],[0.8888888888888888,\"#fdca26\"],[1.0,\"#f0f921\"]],\"type\":\"histogram2dcontour\"}],\"histogram2d\":[{\"colorbar\":{\"outlinewidth\":0,\"ticks\":\"\"},\"colorscale\":[[0.0,\"#0d0887\"],[0.1111111111111111,\"#46039f\"],[0.2222222222222222,\"#7201a8\"],[0.3333333333333333,\"#9c179e\"],[0.4444444444444444,\"#bd3786\"],[0.5555555555555556,\"#d8576b\"],[0.6666666666666666,\"#ed7953\"],[0.7777777777777778,\"#fb9f3a\"],[0.8888888888888888,\"#fdca26\"],[1.0,\"#f0f921\"]],\"type\":\"histogram2d\"}],\"histogram\":[{\"marker\":{\"pattern\":{\"fillmode\":\"overlay\",\"size\":10,\"solidity\":0.2}},\"type\":\"histogram\"}],\"mesh3d\":[{\"colorbar\":{\"outlinewidth\":0,\"ticks\":\"\"},\"type\":\"mesh3d\"}],\"parcoords\":[{\"line\":{\"colorbar\":{\"outlinewidth\":0,\"ticks\":\"\"}},\"type\":\"parcoords\"}],\"pie\":[{\"automargin\":true,\"type\":\"pie\"}],\"scatter3d\":[{\"line\":{\"colorbar\":{\"outlinewidth\":0,\"ticks\":\"\"}},\"marker\":{\"colorbar\":{\"outlinewidth\":0,\"ticks\":\"\"}},\"type\":\"scatter3d\"}],\"scattercarpet\":[{\"marker\":{\"colorbar\":{\"outlinewidth\":0,\"ticks\":\"\"}},\"type\":\"scattercarpet\"}],\"scattergeo\":[{\"marker\":{\"colorbar\":{\"outlinewidth\":0,\"ticks\":\"\"}},\"type\":\"scattergeo\"}],\"scattergl\":[{\"marker\":{\"colorbar\":{\"outlinewidth\":0,\"ticks\":\"\"}},\"type\":\"scattergl\"}],\"scattermapbox\":[{\"marker\":{\"colorbar\":{\"outlinewidth\":0,\"ticks\":\"\"}},\"type\":\"scattermapbox\"}],\"scatterpolargl\":[{\"marker\":{\"colorbar\":{\"outlinewidth\":0,\"ticks\":\"\"}},\"type\":\"scatterpolargl\"}],\"scatterpolar\":[{\"marker\":{\"colorbar\":{\"outlinewidth\":0,\"ticks\":\"\"}},\"type\":\"scatterpolar\"}],\"scatter\":[{\"fillpattern\":{\"fillmode\":\"overlay\",\"size\":10,\"solidity\":0.2},\"type\":\"scatter\"}],\"scatterternary\":[{\"marker\":{\"colorbar\":{\"outlinewidth\":0,\"ticks\":\"\"}},\"type\":\"scatterternary\"}],\"surface\":[{\"colorbar\":{\"outlinewidth\":0,\"ticks\":\"\"},\"colorscale\":[[0.0,\"#0d0887\"],[0.1111111111111111,\"#46039f\"],[0.2222222222222222,\"#7201a8\"],[0.3333333333333333,\"#9c179e\"],[0.4444444444444444,\"#bd3786\"],[0.5555555555555556,\"#d8576b\"],[0.6666666666666666,\"#ed7953\"],[0.7777777777777778,\"#fb9f3a\"],[0.8888888888888888,\"#fdca26\"],[1.0,\"#f0f921\"]],\"type\":\"surface\"}],\"table\":[{\"cells\":{\"fill\":{\"color\":\"#EBF0F8\"},\"line\":{\"color\":\"white\"}},\"header\":{\"fill\":{\"color\":\"#C8D4E3\"},\"line\":{\"color\":\"white\"}},\"type\":\"table\"}]},\"layout\":{\"annotationdefaults\":{\"arrowcolor\":\"#2a3f5f\",\"arrowhead\":0,\"arrowwidth\":1},\"autotypenumbers\":\"strict\",\"coloraxis\":{\"colorbar\":{\"outlinewidth\":0,\"ticks\":\"\"}},\"colorscale\":{\"diverging\":[[0,\"#8e0152\"],[0.1,\"#c51b7d\"],[0.2,\"#de77ae\"],[0.3,\"#f1b6da\"],[0.4,\"#fde0ef\"],[0.5,\"#f7f7f7\"],[0.6,\"#e6f5d0\"],[0.7,\"#b8e186\"],[0.8,\"#7fbc41\"],[0.9,\"#4d9221\"],[1,\"#276419\"]],\"sequential\":[[0.0,\"#0d0887\"],[0.1111111111111111,\"#46039f\"],[0.2222222222222222,\"#7201a8\"],[0.3333333333333333,\"#9c179e\"],[0.4444444444444444,\"#bd3786\"],[0.5555555555555556,\"#d8576b\"],[0.6666666666666666,\"#ed7953\"],[0.7777777777777778,\"#fb9f3a\"],[0.8888888888888888,\"#fdca26\"],[1.0,\"#f0f921\"]],\"sequentialminus\":[[0.0,\"#0d0887\"],[0.1111111111111111,\"#46039f\"],[0.2222222222222222,\"#7201a8\"],[0.3333333333333333,\"#9c179e\"],[0.4444444444444444,\"#bd3786\"],[0.5555555555555556,\"#d8576b\"],[0.6666666666666666,\"#ed7953\"],[0.7777777777777778,\"#fb9f3a\"],[0.8888888888888888,\"#fdca26\"],[1.0,\"#f0f921\"]]},\"colorway\":[\"#636efa\",\"#EF553B\",\"#00cc96\",\"#ab63fa\",\"#FFA15A\",\"#19d3f3\",\"#FF6692\",\"#B6E880\",\"#FF97FF\",\"#FECB52\"],\"font\":{\"color\":\"#2a3f5f\"},\"geo\":{\"bgcolor\":\"white\",\"lakecolor\":\"white\",\"landcolor\":\"#E5ECF6\",\"showlakes\":true,\"showland\":true,\"subunitcolor\":\"white\"},\"hoverlabel\":{\"align\":\"left\"},\"hovermode\":\"closest\",\"mapbox\":{\"style\":\"light\"},\"paper_bgcolor\":\"white\",\"plot_bgcolor\":\"#E5ECF6\",\"polar\":{\"angularaxis\":{\"gridcolor\":\"white\",\"linecolor\":\"white\",\"ticks\":\"\"},\"bgcolor\":\"#E5ECF6\",\"radialaxis\":{\"gridcolor\":\"white\",\"linecolor\":\"white\",\"ticks\":\"\"}},\"scene\":{\"xaxis\":{\"backgroundcolor\":\"#E5ECF6\",\"gridcolor\":\"white\",\"gridwidth\":2,\"linecolor\":\"white\",\"showbackground\":true,\"ticks\":\"\",\"zerolinecolor\":\"white\"},\"yaxis\":{\"backgroundcolor\":\"#E5ECF6\",\"gridcolor\":\"white\",\"gridwidth\":2,\"linecolor\":\"white\",\"showbackground\":true,\"ticks\":\"\",\"zerolinecolor\":\"white\"},\"zaxis\":{\"backgroundcolor\":\"#E5ECF6\",\"gridcolor\":\"white\",\"gridwidth\":2,\"linecolor\":\"white\",\"showbackground\":true,\"ticks\":\"\",\"zerolinecolor\":\"white\"}},\"shapedefaults\":{\"line\":{\"color\":\"#2a3f5f\"}},\"ternary\":{\"aaxis\":{\"gridcolor\":\"white\",\"linecolor\":\"white\",\"ticks\":\"\"},\"baxis\":{\"gridcolor\":\"white\",\"linecolor\":\"white\",\"ticks\":\"\"},\"bgcolor\":\"#E5ECF6\",\"caxis\":{\"gridcolor\":\"white\",\"linecolor\":\"white\",\"ticks\":\"\"}},\"title\":{\"x\":0.05},\"xaxis\":{\"automargin\":true,\"gridcolor\":\"white\",\"linecolor\":\"white\",\"ticks\":\"\",\"title\":{\"standoff\":15},\"zerolinecolor\":\"white\",\"zerolinewidth\":2},\"yaxis\":{\"automargin\":true,\"gridcolor\":\"white\",\"linecolor\":\"white\",\"ticks\":\"\",\"title\":{\"standoff\":15},\"zerolinecolor\":\"white\",\"zerolinewidth\":2}}},\"title\":{\"font\":{\"color\":\"#4D5663\"}},\"xaxis\":{\"gridcolor\":\"#E1E5ED\",\"showgrid\":true,\"tickfont\":{\"color\":\"#4D5663\"},\"title\":{\"font\":{\"color\":\"#4D5663\"},\"text\":\"\"},\"zerolinecolor\":\"#E1E5ED\"},\"yaxis\":{\"gridcolor\":\"#E1E5ED\",\"showgrid\":true,\"tickfont\":{\"color\":\"#4D5663\"},\"title\":{\"font\":{\"color\":\"#4D5663\"},\"text\":\"\"},\"zerolinecolor\":\"#E1E5ED\"}},                        {\"showLink\": true, \"linkText\": \"Export to plot.ly\", \"plotlyServerURL\": \"https://plot.ly\", \"responsive\": true}                    ).then(function(){\n",
       "                            \n",
       "var gd = document.getElementById('1f9e0323-9534-4d96-bffd-db73304496cb');\n",
       "var x = new MutationObserver(function (mutations, observer) {{\n",
       "        var display = window.getComputedStyle(gd).display;\n",
       "        if (!display || display === 'none') {{\n",
       "            console.log([gd, 'removed!']);\n",
       "            Plotly.purge(gd);\n",
       "            observer.disconnect();\n",
       "        }}\n",
       "}});\n",
       "\n",
       "// Listen for the removal of the full notebook cells\n",
       "var notebookContainer = gd.closest('#notebook-container');\n",
       "if (notebookContainer) {{\n",
       "    x.observe(notebookContainer, {childList: true});\n",
       "}}\n",
       "\n",
       "// Listen for the clearing of the current output cell\n",
       "var outputEl = gd.closest('.output');\n",
       "if (outputEl) {{\n",
       "    x.observe(outputEl, {childList: true});\n",
       "}}\n",
       "\n",
       "                        })                };                });            </script>        </div>"
      ]
     },
     "metadata": {},
     "output_type": "display_data"
    }
   ],
   "source": [
    "df2.iplot(kind='bar',x='Category',y='Values')"
   ]
  },
  {
   "cell_type": "code",
   "execution_count": 16,
   "metadata": {},
   "outputs": [
    {
     "data": {
      "application/vnd.plotly.v1+json": {
       "config": {
        "linkText": "Export to plot.ly",
        "plotlyServerURL": "https://plot.ly",
        "showLink": true
       },
       "data": [
        {
         "marker": {
          "color": "rgba(255, 153, 51, 0.6)",
          "line": {
           "color": "rgba(255, 153, 51, 1.0)",
           "width": 1
          }
         },
         "name": "None",
         "orientation": "v",
         "text": "",
         "type": "bar",
         "x": [
          "A",
          "B",
          "C",
          "D"
         ],
         "y": [
          100,
          100,
          100,
          100
         ]
        }
       ],
       "layout": {
        "legend": {
         "bgcolor": "#F5F6F9",
         "font": {
          "color": "#4D5663"
         }
        },
        "paper_bgcolor": "#F5F6F9",
        "plot_bgcolor": "#F5F6F9",
        "template": {
         "data": {
          "bar": [
           {
            "error_x": {
             "color": "#2a3f5f"
            },
            "error_y": {
             "color": "#2a3f5f"
            },
            "marker": {
             "line": {
              "color": "#E5ECF6",
              "width": 0.5
             },
             "pattern": {
              "fillmode": "overlay",
              "size": 10,
              "solidity": 0.2
             }
            },
            "type": "bar"
           }
          ],
          "barpolar": [
           {
            "marker": {
             "line": {
              "color": "#E5ECF6",
              "width": 0.5
             },
             "pattern": {
              "fillmode": "overlay",
              "size": 10,
              "solidity": 0.2
             }
            },
            "type": "barpolar"
           }
          ],
          "carpet": [
           {
            "aaxis": {
             "endlinecolor": "#2a3f5f",
             "gridcolor": "white",
             "linecolor": "white",
             "minorgridcolor": "white",
             "startlinecolor": "#2a3f5f"
            },
            "baxis": {
             "endlinecolor": "#2a3f5f",
             "gridcolor": "white",
             "linecolor": "white",
             "minorgridcolor": "white",
             "startlinecolor": "#2a3f5f"
            },
            "type": "carpet"
           }
          ],
          "choropleth": [
           {
            "colorbar": {
             "outlinewidth": 0,
             "ticks": ""
            },
            "type": "choropleth"
           }
          ],
          "contour": [
           {
            "colorbar": {
             "outlinewidth": 0,
             "ticks": ""
            },
            "colorscale": [
             [
              0,
              "#0d0887"
             ],
             [
              0.1111111111111111,
              "#46039f"
             ],
             [
              0.2222222222222222,
              "#7201a8"
             ],
             [
              0.3333333333333333,
              "#9c179e"
             ],
             [
              0.4444444444444444,
              "#bd3786"
             ],
             [
              0.5555555555555556,
              "#d8576b"
             ],
             [
              0.6666666666666666,
              "#ed7953"
             ],
             [
              0.7777777777777778,
              "#fb9f3a"
             ],
             [
              0.8888888888888888,
              "#fdca26"
             ],
             [
              1,
              "#f0f921"
             ]
            ],
            "type": "contour"
           }
          ],
          "contourcarpet": [
           {
            "colorbar": {
             "outlinewidth": 0,
             "ticks": ""
            },
            "type": "contourcarpet"
           }
          ],
          "heatmap": [
           {
            "colorbar": {
             "outlinewidth": 0,
             "ticks": ""
            },
            "colorscale": [
             [
              0,
              "#0d0887"
             ],
             [
              0.1111111111111111,
              "#46039f"
             ],
             [
              0.2222222222222222,
              "#7201a8"
             ],
             [
              0.3333333333333333,
              "#9c179e"
             ],
             [
              0.4444444444444444,
              "#bd3786"
             ],
             [
              0.5555555555555556,
              "#d8576b"
             ],
             [
              0.6666666666666666,
              "#ed7953"
             ],
             [
              0.7777777777777778,
              "#fb9f3a"
             ],
             [
              0.8888888888888888,
              "#fdca26"
             ],
             [
              1,
              "#f0f921"
             ]
            ],
            "type": "heatmap"
           }
          ],
          "heatmapgl": [
           {
            "colorbar": {
             "outlinewidth": 0,
             "ticks": ""
            },
            "colorscale": [
             [
              0,
              "#0d0887"
             ],
             [
              0.1111111111111111,
              "#46039f"
             ],
             [
              0.2222222222222222,
              "#7201a8"
             ],
             [
              0.3333333333333333,
              "#9c179e"
             ],
             [
              0.4444444444444444,
              "#bd3786"
             ],
             [
              0.5555555555555556,
              "#d8576b"
             ],
             [
              0.6666666666666666,
              "#ed7953"
             ],
             [
              0.7777777777777778,
              "#fb9f3a"
             ],
             [
              0.8888888888888888,
              "#fdca26"
             ],
             [
              1,
              "#f0f921"
             ]
            ],
            "type": "heatmapgl"
           }
          ],
          "histogram": [
           {
            "marker": {
             "pattern": {
              "fillmode": "overlay",
              "size": 10,
              "solidity": 0.2
             }
            },
            "type": "histogram"
           }
          ],
          "histogram2d": [
           {
            "colorbar": {
             "outlinewidth": 0,
             "ticks": ""
            },
            "colorscale": [
             [
              0,
              "#0d0887"
             ],
             [
              0.1111111111111111,
              "#46039f"
             ],
             [
              0.2222222222222222,
              "#7201a8"
             ],
             [
              0.3333333333333333,
              "#9c179e"
             ],
             [
              0.4444444444444444,
              "#bd3786"
             ],
             [
              0.5555555555555556,
              "#d8576b"
             ],
             [
              0.6666666666666666,
              "#ed7953"
             ],
             [
              0.7777777777777778,
              "#fb9f3a"
             ],
             [
              0.8888888888888888,
              "#fdca26"
             ],
             [
              1,
              "#f0f921"
             ]
            ],
            "type": "histogram2d"
           }
          ],
          "histogram2dcontour": [
           {
            "colorbar": {
             "outlinewidth": 0,
             "ticks": ""
            },
            "colorscale": [
             [
              0,
              "#0d0887"
             ],
             [
              0.1111111111111111,
              "#46039f"
             ],
             [
              0.2222222222222222,
              "#7201a8"
             ],
             [
              0.3333333333333333,
              "#9c179e"
             ],
             [
              0.4444444444444444,
              "#bd3786"
             ],
             [
              0.5555555555555556,
              "#d8576b"
             ],
             [
              0.6666666666666666,
              "#ed7953"
             ],
             [
              0.7777777777777778,
              "#fb9f3a"
             ],
             [
              0.8888888888888888,
              "#fdca26"
             ],
             [
              1,
              "#f0f921"
             ]
            ],
            "type": "histogram2dcontour"
           }
          ],
          "mesh3d": [
           {
            "colorbar": {
             "outlinewidth": 0,
             "ticks": ""
            },
            "type": "mesh3d"
           }
          ],
          "parcoords": [
           {
            "line": {
             "colorbar": {
              "outlinewidth": 0,
              "ticks": ""
             }
            },
            "type": "parcoords"
           }
          ],
          "pie": [
           {
            "automargin": true,
            "type": "pie"
           }
          ],
          "scatter": [
           {
            "fillpattern": {
             "fillmode": "overlay",
             "size": 10,
             "solidity": 0.2
            },
            "type": "scatter"
           }
          ],
          "scatter3d": [
           {
            "line": {
             "colorbar": {
              "outlinewidth": 0,
              "ticks": ""
             }
            },
            "marker": {
             "colorbar": {
              "outlinewidth": 0,
              "ticks": ""
             }
            },
            "type": "scatter3d"
           }
          ],
          "scattercarpet": [
           {
            "marker": {
             "colorbar": {
              "outlinewidth": 0,
              "ticks": ""
             }
            },
            "type": "scattercarpet"
           }
          ],
          "scattergeo": [
           {
            "marker": {
             "colorbar": {
              "outlinewidth": 0,
              "ticks": ""
             }
            },
            "type": "scattergeo"
           }
          ],
          "scattergl": [
           {
            "marker": {
             "colorbar": {
              "outlinewidth": 0,
              "ticks": ""
             }
            },
            "type": "scattergl"
           }
          ],
          "scattermapbox": [
           {
            "marker": {
             "colorbar": {
              "outlinewidth": 0,
              "ticks": ""
             }
            },
            "type": "scattermapbox"
           }
          ],
          "scatterpolar": [
           {
            "marker": {
             "colorbar": {
              "outlinewidth": 0,
              "ticks": ""
             }
            },
            "type": "scatterpolar"
           }
          ],
          "scatterpolargl": [
           {
            "marker": {
             "colorbar": {
              "outlinewidth": 0,
              "ticks": ""
             }
            },
            "type": "scatterpolargl"
           }
          ],
          "scatterternary": [
           {
            "marker": {
             "colorbar": {
              "outlinewidth": 0,
              "ticks": ""
             }
            },
            "type": "scatterternary"
           }
          ],
          "surface": [
           {
            "colorbar": {
             "outlinewidth": 0,
             "ticks": ""
            },
            "colorscale": [
             [
              0,
              "#0d0887"
             ],
             [
              0.1111111111111111,
              "#46039f"
             ],
             [
              0.2222222222222222,
              "#7201a8"
             ],
             [
              0.3333333333333333,
              "#9c179e"
             ],
             [
              0.4444444444444444,
              "#bd3786"
             ],
             [
              0.5555555555555556,
              "#d8576b"
             ],
             [
              0.6666666666666666,
              "#ed7953"
             ],
             [
              0.7777777777777778,
              "#fb9f3a"
             ],
             [
              0.8888888888888888,
              "#fdca26"
             ],
             [
              1,
              "#f0f921"
             ]
            ],
            "type": "surface"
           }
          ],
          "table": [
           {
            "cells": {
             "fill": {
              "color": "#EBF0F8"
             },
             "line": {
              "color": "white"
             }
            },
            "header": {
             "fill": {
              "color": "#C8D4E3"
             },
             "line": {
              "color": "white"
             }
            },
            "type": "table"
           }
          ]
         },
         "layout": {
          "annotationdefaults": {
           "arrowcolor": "#2a3f5f",
           "arrowhead": 0,
           "arrowwidth": 1
          },
          "autotypenumbers": "strict",
          "coloraxis": {
           "colorbar": {
            "outlinewidth": 0,
            "ticks": ""
           }
          },
          "colorscale": {
           "diverging": [
            [
             0,
             "#8e0152"
            ],
            [
             0.1,
             "#c51b7d"
            ],
            [
             0.2,
             "#de77ae"
            ],
            [
             0.3,
             "#f1b6da"
            ],
            [
             0.4,
             "#fde0ef"
            ],
            [
             0.5,
             "#f7f7f7"
            ],
            [
             0.6,
             "#e6f5d0"
            ],
            [
             0.7,
             "#b8e186"
            ],
            [
             0.8,
             "#7fbc41"
            ],
            [
             0.9,
             "#4d9221"
            ],
            [
             1,
             "#276419"
            ]
           ],
           "sequential": [
            [
             0,
             "#0d0887"
            ],
            [
             0.1111111111111111,
             "#46039f"
            ],
            [
             0.2222222222222222,
             "#7201a8"
            ],
            [
             0.3333333333333333,
             "#9c179e"
            ],
            [
             0.4444444444444444,
             "#bd3786"
            ],
            [
             0.5555555555555556,
             "#d8576b"
            ],
            [
             0.6666666666666666,
             "#ed7953"
            ],
            [
             0.7777777777777778,
             "#fb9f3a"
            ],
            [
             0.8888888888888888,
             "#fdca26"
            ],
            [
             1,
             "#f0f921"
            ]
           ],
           "sequentialminus": [
            [
             0,
             "#0d0887"
            ],
            [
             0.1111111111111111,
             "#46039f"
            ],
            [
             0.2222222222222222,
             "#7201a8"
            ],
            [
             0.3333333333333333,
             "#9c179e"
            ],
            [
             0.4444444444444444,
             "#bd3786"
            ],
            [
             0.5555555555555556,
             "#d8576b"
            ],
            [
             0.6666666666666666,
             "#ed7953"
            ],
            [
             0.7777777777777778,
             "#fb9f3a"
            ],
            [
             0.8888888888888888,
             "#fdca26"
            ],
            [
             1,
             "#f0f921"
            ]
           ]
          },
          "colorway": [
           "#636efa",
           "#EF553B",
           "#00cc96",
           "#ab63fa",
           "#FFA15A",
           "#19d3f3",
           "#FF6692",
           "#B6E880",
           "#FF97FF",
           "#FECB52"
          ],
          "font": {
           "color": "#2a3f5f"
          },
          "geo": {
           "bgcolor": "white",
           "lakecolor": "white",
           "landcolor": "#E5ECF6",
           "showlakes": true,
           "showland": true,
           "subunitcolor": "white"
          },
          "hoverlabel": {
           "align": "left"
          },
          "hovermode": "closest",
          "mapbox": {
           "style": "light"
          },
          "paper_bgcolor": "white",
          "plot_bgcolor": "#E5ECF6",
          "polar": {
           "angularaxis": {
            "gridcolor": "white",
            "linecolor": "white",
            "ticks": ""
           },
           "bgcolor": "#E5ECF6",
           "radialaxis": {
            "gridcolor": "white",
            "linecolor": "white",
            "ticks": ""
           }
          },
          "scene": {
           "xaxis": {
            "backgroundcolor": "#E5ECF6",
            "gridcolor": "white",
            "gridwidth": 2,
            "linecolor": "white",
            "showbackground": true,
            "ticks": "",
            "zerolinecolor": "white"
           },
           "yaxis": {
            "backgroundcolor": "#E5ECF6",
            "gridcolor": "white",
            "gridwidth": 2,
            "linecolor": "white",
            "showbackground": true,
            "ticks": "",
            "zerolinecolor": "white"
           },
           "zaxis": {
            "backgroundcolor": "#E5ECF6",
            "gridcolor": "white",
            "gridwidth": 2,
            "linecolor": "white",
            "showbackground": true,
            "ticks": "",
            "zerolinecolor": "white"
           }
          },
          "shapedefaults": {
           "line": {
            "color": "#2a3f5f"
           }
          },
          "ternary": {
           "aaxis": {
            "gridcolor": "white",
            "linecolor": "white",
            "ticks": ""
           },
           "baxis": {
            "gridcolor": "white",
            "linecolor": "white",
            "ticks": ""
           },
           "bgcolor": "#E5ECF6",
           "caxis": {
            "gridcolor": "white",
            "linecolor": "white",
            "ticks": ""
           }
          },
          "title": {
           "x": 0.05
          },
          "xaxis": {
           "automargin": true,
           "gridcolor": "white",
           "linecolor": "white",
           "ticks": "",
           "title": {
            "standoff": 15
           },
           "zerolinecolor": "white",
           "zerolinewidth": 2
          },
          "yaxis": {
           "automargin": true,
           "gridcolor": "white",
           "linecolor": "white",
           "ticks": "",
           "title": {
            "standoff": 15
           },
           "zerolinecolor": "white",
           "zerolinewidth": 2
          }
         }
        },
        "title": {
         "font": {
          "color": "#4D5663"
         }
        },
        "xaxis": {
         "gridcolor": "#E1E5ED",
         "showgrid": true,
         "tickfont": {
          "color": "#4D5663"
         },
         "title": {
          "font": {
           "color": "#4D5663"
          },
          "text": ""
         },
         "zerolinecolor": "#E1E5ED"
        },
        "yaxis": {
         "gridcolor": "#E1E5ED",
         "showgrid": true,
         "tickfont": {
          "color": "#4D5663"
         },
         "title": {
          "font": {
           "color": "#4D5663"
          },
          "text": ""
         },
         "zerolinecolor": "#E1E5ED"
        }
       }
      },
      "text/html": [
       "<div>                            <div id=\"ec75d5ad-9521-4873-b50f-7a2e407b91d0\" class=\"plotly-graph-div\" style=\"height:525px; width:100%;\"></div>            <script type=\"text/javascript\">                require([\"plotly\"], function(Plotly) {                    window.PLOTLYENV=window.PLOTLYENV || {};\n",
       "                    window.PLOTLYENV.BASE_URL='https://plot.ly';                                    if (document.getElementById(\"ec75d5ad-9521-4873-b50f-7a2e407b91d0\")) {                    Plotly.newPlot(                        \"ec75d5ad-9521-4873-b50f-7a2e407b91d0\",                        [{\"marker\":{\"color\":\"rgba(255, 153, 51, 0.6)\",\"line\":{\"color\":\"rgba(255, 153, 51, 1.0)\",\"width\":1}},\"name\":\"None\",\"orientation\":\"v\",\"text\":\"\",\"x\":[\"A\",\"B\",\"C\",\"D\"],\"y\":[100,100,100,100],\"type\":\"bar\"}],                        {\"legend\":{\"bgcolor\":\"#F5F6F9\",\"font\":{\"color\":\"#4D5663\"}},\"paper_bgcolor\":\"#F5F6F9\",\"plot_bgcolor\":\"#F5F6F9\",\"template\":{\"data\":{\"barpolar\":[{\"marker\":{\"line\":{\"color\":\"#E5ECF6\",\"width\":0.5},\"pattern\":{\"fillmode\":\"overlay\",\"size\":10,\"solidity\":0.2}},\"type\":\"barpolar\"}],\"bar\":[{\"error_x\":{\"color\":\"#2a3f5f\"},\"error_y\":{\"color\":\"#2a3f5f\"},\"marker\":{\"line\":{\"color\":\"#E5ECF6\",\"width\":0.5},\"pattern\":{\"fillmode\":\"overlay\",\"size\":10,\"solidity\":0.2}},\"type\":\"bar\"}],\"carpet\":[{\"aaxis\":{\"endlinecolor\":\"#2a3f5f\",\"gridcolor\":\"white\",\"linecolor\":\"white\",\"minorgridcolor\":\"white\",\"startlinecolor\":\"#2a3f5f\"},\"baxis\":{\"endlinecolor\":\"#2a3f5f\",\"gridcolor\":\"white\",\"linecolor\":\"white\",\"minorgridcolor\":\"white\",\"startlinecolor\":\"#2a3f5f\"},\"type\":\"carpet\"}],\"choropleth\":[{\"colorbar\":{\"outlinewidth\":0,\"ticks\":\"\"},\"type\":\"choropleth\"}],\"contourcarpet\":[{\"colorbar\":{\"outlinewidth\":0,\"ticks\":\"\"},\"type\":\"contourcarpet\"}],\"contour\":[{\"colorbar\":{\"outlinewidth\":0,\"ticks\":\"\"},\"colorscale\":[[0.0,\"#0d0887\"],[0.1111111111111111,\"#46039f\"],[0.2222222222222222,\"#7201a8\"],[0.3333333333333333,\"#9c179e\"],[0.4444444444444444,\"#bd3786\"],[0.5555555555555556,\"#d8576b\"],[0.6666666666666666,\"#ed7953\"],[0.7777777777777778,\"#fb9f3a\"],[0.8888888888888888,\"#fdca26\"],[1.0,\"#f0f921\"]],\"type\":\"contour\"}],\"heatmapgl\":[{\"colorbar\":{\"outlinewidth\":0,\"ticks\":\"\"},\"colorscale\":[[0.0,\"#0d0887\"],[0.1111111111111111,\"#46039f\"],[0.2222222222222222,\"#7201a8\"],[0.3333333333333333,\"#9c179e\"],[0.4444444444444444,\"#bd3786\"],[0.5555555555555556,\"#d8576b\"],[0.6666666666666666,\"#ed7953\"],[0.7777777777777778,\"#fb9f3a\"],[0.8888888888888888,\"#fdca26\"],[1.0,\"#f0f921\"]],\"type\":\"heatmapgl\"}],\"heatmap\":[{\"colorbar\":{\"outlinewidth\":0,\"ticks\":\"\"},\"colorscale\":[[0.0,\"#0d0887\"],[0.1111111111111111,\"#46039f\"],[0.2222222222222222,\"#7201a8\"],[0.3333333333333333,\"#9c179e\"],[0.4444444444444444,\"#bd3786\"],[0.5555555555555556,\"#d8576b\"],[0.6666666666666666,\"#ed7953\"],[0.7777777777777778,\"#fb9f3a\"],[0.8888888888888888,\"#fdca26\"],[1.0,\"#f0f921\"]],\"type\":\"heatmap\"}],\"histogram2dcontour\":[{\"colorbar\":{\"outlinewidth\":0,\"ticks\":\"\"},\"colorscale\":[[0.0,\"#0d0887\"],[0.1111111111111111,\"#46039f\"],[0.2222222222222222,\"#7201a8\"],[0.3333333333333333,\"#9c179e\"],[0.4444444444444444,\"#bd3786\"],[0.5555555555555556,\"#d8576b\"],[0.6666666666666666,\"#ed7953\"],[0.7777777777777778,\"#fb9f3a\"],[0.8888888888888888,\"#fdca26\"],[1.0,\"#f0f921\"]],\"type\":\"histogram2dcontour\"}],\"histogram2d\":[{\"colorbar\":{\"outlinewidth\":0,\"ticks\":\"\"},\"colorscale\":[[0.0,\"#0d0887\"],[0.1111111111111111,\"#46039f\"],[0.2222222222222222,\"#7201a8\"],[0.3333333333333333,\"#9c179e\"],[0.4444444444444444,\"#bd3786\"],[0.5555555555555556,\"#d8576b\"],[0.6666666666666666,\"#ed7953\"],[0.7777777777777778,\"#fb9f3a\"],[0.8888888888888888,\"#fdca26\"],[1.0,\"#f0f921\"]],\"type\":\"histogram2d\"}],\"histogram\":[{\"marker\":{\"pattern\":{\"fillmode\":\"overlay\",\"size\":10,\"solidity\":0.2}},\"type\":\"histogram\"}],\"mesh3d\":[{\"colorbar\":{\"outlinewidth\":0,\"ticks\":\"\"},\"type\":\"mesh3d\"}],\"parcoords\":[{\"line\":{\"colorbar\":{\"outlinewidth\":0,\"ticks\":\"\"}},\"type\":\"parcoords\"}],\"pie\":[{\"automargin\":true,\"type\":\"pie\"}],\"scatter3d\":[{\"line\":{\"colorbar\":{\"outlinewidth\":0,\"ticks\":\"\"}},\"marker\":{\"colorbar\":{\"outlinewidth\":0,\"ticks\":\"\"}},\"type\":\"scatter3d\"}],\"scattercarpet\":[{\"marker\":{\"colorbar\":{\"outlinewidth\":0,\"ticks\":\"\"}},\"type\":\"scattercarpet\"}],\"scattergeo\":[{\"marker\":{\"colorbar\":{\"outlinewidth\":0,\"ticks\":\"\"}},\"type\":\"scattergeo\"}],\"scattergl\":[{\"marker\":{\"colorbar\":{\"outlinewidth\":0,\"ticks\":\"\"}},\"type\":\"scattergl\"}],\"scattermapbox\":[{\"marker\":{\"colorbar\":{\"outlinewidth\":0,\"ticks\":\"\"}},\"type\":\"scattermapbox\"}],\"scatterpolargl\":[{\"marker\":{\"colorbar\":{\"outlinewidth\":0,\"ticks\":\"\"}},\"type\":\"scatterpolargl\"}],\"scatterpolar\":[{\"marker\":{\"colorbar\":{\"outlinewidth\":0,\"ticks\":\"\"}},\"type\":\"scatterpolar\"}],\"scatter\":[{\"fillpattern\":{\"fillmode\":\"overlay\",\"size\":10,\"solidity\":0.2},\"type\":\"scatter\"}],\"scatterternary\":[{\"marker\":{\"colorbar\":{\"outlinewidth\":0,\"ticks\":\"\"}},\"type\":\"scatterternary\"}],\"surface\":[{\"colorbar\":{\"outlinewidth\":0,\"ticks\":\"\"},\"colorscale\":[[0.0,\"#0d0887\"],[0.1111111111111111,\"#46039f\"],[0.2222222222222222,\"#7201a8\"],[0.3333333333333333,\"#9c179e\"],[0.4444444444444444,\"#bd3786\"],[0.5555555555555556,\"#d8576b\"],[0.6666666666666666,\"#ed7953\"],[0.7777777777777778,\"#fb9f3a\"],[0.8888888888888888,\"#fdca26\"],[1.0,\"#f0f921\"]],\"type\":\"surface\"}],\"table\":[{\"cells\":{\"fill\":{\"color\":\"#EBF0F8\"},\"line\":{\"color\":\"white\"}},\"header\":{\"fill\":{\"color\":\"#C8D4E3\"},\"line\":{\"color\":\"white\"}},\"type\":\"table\"}]},\"layout\":{\"annotationdefaults\":{\"arrowcolor\":\"#2a3f5f\",\"arrowhead\":0,\"arrowwidth\":1},\"autotypenumbers\":\"strict\",\"coloraxis\":{\"colorbar\":{\"outlinewidth\":0,\"ticks\":\"\"}},\"colorscale\":{\"diverging\":[[0,\"#8e0152\"],[0.1,\"#c51b7d\"],[0.2,\"#de77ae\"],[0.3,\"#f1b6da\"],[0.4,\"#fde0ef\"],[0.5,\"#f7f7f7\"],[0.6,\"#e6f5d0\"],[0.7,\"#b8e186\"],[0.8,\"#7fbc41\"],[0.9,\"#4d9221\"],[1,\"#276419\"]],\"sequential\":[[0.0,\"#0d0887\"],[0.1111111111111111,\"#46039f\"],[0.2222222222222222,\"#7201a8\"],[0.3333333333333333,\"#9c179e\"],[0.4444444444444444,\"#bd3786\"],[0.5555555555555556,\"#d8576b\"],[0.6666666666666666,\"#ed7953\"],[0.7777777777777778,\"#fb9f3a\"],[0.8888888888888888,\"#fdca26\"],[1.0,\"#f0f921\"]],\"sequentialminus\":[[0.0,\"#0d0887\"],[0.1111111111111111,\"#46039f\"],[0.2222222222222222,\"#7201a8\"],[0.3333333333333333,\"#9c179e\"],[0.4444444444444444,\"#bd3786\"],[0.5555555555555556,\"#d8576b\"],[0.6666666666666666,\"#ed7953\"],[0.7777777777777778,\"#fb9f3a\"],[0.8888888888888888,\"#fdca26\"],[1.0,\"#f0f921\"]]},\"colorway\":[\"#636efa\",\"#EF553B\",\"#00cc96\",\"#ab63fa\",\"#FFA15A\",\"#19d3f3\",\"#FF6692\",\"#B6E880\",\"#FF97FF\",\"#FECB52\"],\"font\":{\"color\":\"#2a3f5f\"},\"geo\":{\"bgcolor\":\"white\",\"lakecolor\":\"white\",\"landcolor\":\"#E5ECF6\",\"showlakes\":true,\"showland\":true,\"subunitcolor\":\"white\"},\"hoverlabel\":{\"align\":\"left\"},\"hovermode\":\"closest\",\"mapbox\":{\"style\":\"light\"},\"paper_bgcolor\":\"white\",\"plot_bgcolor\":\"#E5ECF6\",\"polar\":{\"angularaxis\":{\"gridcolor\":\"white\",\"linecolor\":\"white\",\"ticks\":\"\"},\"bgcolor\":\"#E5ECF6\",\"radialaxis\":{\"gridcolor\":\"white\",\"linecolor\":\"white\",\"ticks\":\"\"}},\"scene\":{\"xaxis\":{\"backgroundcolor\":\"#E5ECF6\",\"gridcolor\":\"white\",\"gridwidth\":2,\"linecolor\":\"white\",\"showbackground\":true,\"ticks\":\"\",\"zerolinecolor\":\"white\"},\"yaxis\":{\"backgroundcolor\":\"#E5ECF6\",\"gridcolor\":\"white\",\"gridwidth\":2,\"linecolor\":\"white\",\"showbackground\":true,\"ticks\":\"\",\"zerolinecolor\":\"white\"},\"zaxis\":{\"backgroundcolor\":\"#E5ECF6\",\"gridcolor\":\"white\",\"gridwidth\":2,\"linecolor\":\"white\",\"showbackground\":true,\"ticks\":\"\",\"zerolinecolor\":\"white\"}},\"shapedefaults\":{\"line\":{\"color\":\"#2a3f5f\"}},\"ternary\":{\"aaxis\":{\"gridcolor\":\"white\",\"linecolor\":\"white\",\"ticks\":\"\"},\"baxis\":{\"gridcolor\":\"white\",\"linecolor\":\"white\",\"ticks\":\"\"},\"bgcolor\":\"#E5ECF6\",\"caxis\":{\"gridcolor\":\"white\",\"linecolor\":\"white\",\"ticks\":\"\"}},\"title\":{\"x\":0.05},\"xaxis\":{\"automargin\":true,\"gridcolor\":\"white\",\"linecolor\":\"white\",\"ticks\":\"\",\"title\":{\"standoff\":15},\"zerolinecolor\":\"white\",\"zerolinewidth\":2},\"yaxis\":{\"automargin\":true,\"gridcolor\":\"white\",\"linecolor\":\"white\",\"ticks\":\"\",\"title\":{\"standoff\":15},\"zerolinecolor\":\"white\",\"zerolinewidth\":2}}},\"title\":{\"font\":{\"color\":\"#4D5663\"}},\"xaxis\":{\"gridcolor\":\"#E1E5ED\",\"showgrid\":true,\"tickfont\":{\"color\":\"#4D5663\"},\"title\":{\"font\":{\"color\":\"#4D5663\"},\"text\":\"\"},\"zerolinecolor\":\"#E1E5ED\"},\"yaxis\":{\"gridcolor\":\"#E1E5ED\",\"showgrid\":true,\"tickfont\":{\"color\":\"#4D5663\"},\"title\":{\"font\":{\"color\":\"#4D5663\"},\"text\":\"\"},\"zerolinecolor\":\"#E1E5ED\"}},                        {\"showLink\": true, \"linkText\": \"Export to plot.ly\", \"plotlyServerURL\": \"https://plot.ly\", \"responsive\": true}                    ).then(function(){\n",
       "                            \n",
       "var gd = document.getElementById('ec75d5ad-9521-4873-b50f-7a2e407b91d0');\n",
       "var x = new MutationObserver(function (mutations, observer) {{\n",
       "        var display = window.getComputedStyle(gd).display;\n",
       "        if (!display || display === 'none') {{\n",
       "            console.log([gd, 'removed!']);\n",
       "            Plotly.purge(gd);\n",
       "            observer.disconnect();\n",
       "        }}\n",
       "}});\n",
       "\n",
       "// Listen for the removal of the full notebook cells\n",
       "var notebookContainer = gd.closest('#notebook-container');\n",
       "if (notebookContainer) {{\n",
       "    x.observe(notebookContainer, {childList: true});\n",
       "}}\n",
       "\n",
       "// Listen for the clearing of the current output cell\n",
       "var outputEl = gd.closest('.output');\n",
       "if (outputEl) {{\n",
       "    x.observe(outputEl, {childList: true});\n",
       "}}\n",
       "\n",
       "                        })                };                });            </script>        </div>"
      ]
     },
     "metadata": {},
     "output_type": "display_data"
    }
   ],
   "source": [
    "df.count().iplot(kind='bar')"
   ]
  },
  {
   "cell_type": "markdown",
   "metadata": {},
   "source": [
    "## Boxplots"
   ]
  },
  {
   "cell_type": "code",
   "execution_count": 17,
   "metadata": {},
   "outputs": [
    {
     "data": {
      "application/vnd.plotly.v1+json": {
       "config": {
        "linkText": "Export to plot.ly",
        "plotlyServerURL": "https://plot.ly",
        "showLink": true
       },
       "data": [
        {
         "boxpoints": false,
         "line": {
          "width": 1.3
         },
         "marker": {
          "color": "rgba(255, 153, 51, 1.0)"
         },
         "name": "A",
         "orientation": "v",
         "type": "box",
         "y": [
          -0.5882201862615739,
          -0.1444088146832521,
          -0.7206830682849644,
          1.3936579949157097,
          -0.19862000637931865,
          -0.27593821881612995,
          0.10946967362279274,
          -0.7994858635802414,
          0.1678150311420152,
          -0.03259329436621168,
          -0.38777224262700793,
          -0.9754539192544475,
          0.31246023384261074,
          -0.16315024393863606,
          0.1433325386094532,
          0.33921612803869455,
          0.1687111089431125,
          -1.0293821555773768,
          0.9359095977765699,
          -0.851942028353327,
          0.27136104667763106,
          2.0938787705300403,
          -1.6874972996029145,
          -0.4906760954841787,
          1.014382803145646,
          -0.6868968224829972,
          -0.7713142158581506,
          -1.0629976127507368,
          -0.3911478166219877,
          -1.6997231884085433,
          0.4760470417318967,
          1.368331511888546,
          -0.9584745559245262,
          -1.183217404290445,
          -0.575483118709692,
          1.3026615111527207,
          0.1441487490352291,
          -1.0594506247977764,
          -1.5380315053002944,
          2.4091356980594285,
          1.0046246460929371,
          0.16397580097306277,
          -0.27806055403543156,
          1.1825457833448632,
          0.9927116557574145,
          0.6401164337634135,
          -0.17126633776369268,
          -0.09314210703339369,
          -1.2500682591239412,
          1.5249423799561066,
          0.7261411639316259,
          1.590022568827245,
          -0.04437577138374293,
          -0.19365124054278118,
          -1.537393958681574,
          1.5201990369248464,
          1.677601948736433,
          -0.17840117181941412,
          -0.260180030841215,
          -0.2744427137172959,
          -0.05364077060641442,
          -1.388808568459774,
          -0.2976181577756708,
          -0.05489380423532537,
          0.24230246636410666,
          0.05706581952694559,
          -0.5203533785804892,
          -0.4759391251040668,
          1.9466209582861882,
          0.8574801728519554,
          -0.42732486530133573,
          1.2327550002736216,
          1.5230759358429147,
          0.9259071632069753,
          1.4978812400979802,
          -0.5868307177392983,
          -0.21430818657024733,
          0.4275909334188216,
          -0.7517631229589176,
          0.40933185053435545,
          1.0494839530728004,
          1.009305230913276,
          -0.24943062954401313,
          -0.4313553585139899,
          -0.17170921243621456,
          1.6841789479225455,
          -0.9526310880361992,
          0.12458637521250845,
          0.5687516401383191,
          0.8383341998997003,
          0.9996013164266332,
          -1.2654481776987168,
          0.06368071956753159,
          -0.5823383450272381,
          0.8242370577808078,
          0.04917197237671641,
          -1.0627241384534636,
          -0.8690415122855502,
          0.413248602855076,
          1.4561243863993238
         ]
        },
        {
         "boxpoints": false,
         "line": {
          "width": 1.3
         },
         "marker": {
          "color": "rgba(55, 128, 191, 1.0)"
         },
         "name": "B",
         "orientation": "v",
         "type": "box",
         "y": [
          -0.8940538161456291,
          1.7587400520446705,
          0.14430342474400454,
          -0.34549370551569325,
          -0.5257140537089149,
          -0.15452279911902936,
          -1.0700089891485318,
          -1.2765518475470334,
          -1.1018276817658246,
          0.43378474413794765,
          0.8461336916637264,
          -0.24624295303470572,
          1.3982100658424075,
          0.9997234408622141,
          -0.2719079134797146,
          0.7001985695260833,
          0.37644992918744924,
          0.6256292283079395,
          0.14171050635516258,
          0.4083837344888657,
          0.35919115418712133,
          0.2885316619016053,
          -0.2795716879495062,
          1.4967109264618719,
          -0.5034276127281153,
          -0.9195848263522127,
          0.0036980691622682717,
          -1.1561975511553555,
          -0.0674931632448224,
          1.2205170295980456,
          -1.7173270994239003,
          -0.8457801385986659,
          0.1725586858008727,
          0.4241941216487407,
          -0.640527068079842,
          0.9162412399630095,
          -0.7126212550692267,
          1.1760786429305836,
          -0.3663287237478555,
          -0.9601992815532329,
          -0.5934668853017779,
          2.138687640168241,
          1.1271439949934412,
          0.4228887134119707,
          0.9641575600348385,
          -0.4732958531413693,
          0.3691867824050043,
          1.0438568219805757,
          -0.6851461607108044,
          1.9604889962473953,
          -0.7121316185807449,
          -0.860258552005439,
          -0.7756424767215246,
          1.1188986390232671,
          -0.029992580637274155,
          1.2566812154182598,
          -0.08965639196959063,
          0.9993501250314029,
          1.0581915489108098,
          0.018648395808328312,
          -0.16515690335859862,
          1.1048916736355985,
          -0.2940482353646764,
          0.7858209812076586,
          0.6962374498622259,
          0.6824777105549716,
          0.6502383370441862,
          -0.6503294575233609,
          -2.419037357005872,
          0.5386046383338288,
          0.13396494940463755,
          0.8338031503515533,
          0.20428275558354891,
          0.7963950437666771,
          -0.5168135777070428,
          0.7337029151449452,
          -0.17652524673493883,
          -1.8741632511307245,
          -0.541972300082036,
          -0.3447729493621954,
          -0.6321114042540144,
          0.15149425011822618,
          -0.168313064233042,
          -0.2248723299164277,
          1.0986104344094423,
          0.5057236081827604,
          -0.31038782932230446,
          1.9497709425607428,
          1.3184687249490608,
          -1.0867694948850026,
          0.861439797367633,
          0.3582260691853846,
          0.22568575670948762,
          0.40989940999869257,
          0.0073837110282809456,
          1.3613943157445625,
          -0.28844704644859565,
          0.2291403758894681,
          -0.4472241971177087,
          -0.19181766055293706
         ]
        },
        {
         "boxpoints": false,
         "line": {
          "width": 1.3
         },
         "marker": {
          "color": "rgba(50, 171, 96, 1.0)"
         },
         "name": "C",
         "orientation": "v",
         "type": "box",
         "y": [
          1.876901332764013,
          -0.10349125707717265,
          1.2579282301675274,
          -0.32879018856124387,
          1.2893453409422433,
          -0.6978506990899702,
          -0.5690885249863702,
          -3.212348160167795,
          0.35198033315027016,
          1.6280859607352034,
          1.4169911089200316,
          -0.006244506076509348,
          0.6063776210857147,
          1.3590502993947755,
          -0.08753558435804658,
          -1.271038925037562,
          -1.876369588842253,
          -0.14833303694173458,
          -0.6885285591325655,
          0.40005150515600774,
          -1.2397561550563225,
          -0.8858069024894748,
          -0.798914170622721,
          -0.6451125590130682,
          -1.337201271014988,
          -0.5434072525765655,
          0.24923426476470928,
          1.02995155945738,
          -0.38069426208706303,
          0.550732455528556,
          -0.06622388157713835,
          0.28227085401028323,
          -1.6993807018906721,
          -1.017000383808957,
          1.4502622013064184,
          -0.37748754175054144,
          0.11182643086431572,
          0.3190458805727826,
          0.6310714228107397,
          0.9287773600999025,
          -0.5958332182194019,
          0.8368468693621849,
          1.615333454176221,
          -1.0595142331219507,
          0.059263138514671826,
          0.3781385876987572,
          1.205778828363705,
          0.5103676221222979,
          -0.4181890681484547,
          -1.1749615894305674,
          -0.8146477375634813,
          0.703332618935335,
          1.1159942380155168,
          -1.405272482685175,
          -0.4035490110227859,
          -1.214451078534114,
          0.034836276212230365,
          0.994470253635251,
          -1.2974851873956041,
          1.5571794559110022,
          -0.36177309144129505,
          -2.0265767761700726,
          0.537946286420841,
          -1.3207974386903243,
          0.5178046251976135,
          0.22227262982002907,
          0.35709449641554913,
          -0.8452066203825547,
          -0.35073473770144153,
          0.03423386191778584,
          -0.11174022398461535,
          0.6247860999321203,
          -0.8593150572868524,
          -0.2681198583175821,
          -0.5709092452257304,
          0.09516218009043352,
          0.6924016128879481,
          -0.8538907509043898,
          0.06401430782372304,
          1.9161700217558955,
          -1.1306376711175334,
          -0.20896335733373597,
          1.0478962843173312,
          0.7386032627103952,
          -0.14958601699834462,
          -1.3679987897784471,
          -0.30951165695956173,
          -0.430522024100932,
          -0.45632750502507113,
          -0.7971261605970754,
          1.7768435698921234,
          -0.700539057905725,
          -0.23319658471835003,
          -0.10861742663622247,
          -0.3123966686400977,
          -0.1501601691032951,
          -1.1884097302299348,
          1.3946847680567762,
          1.648671061047971,
          0.6330557050537858
         ]
        },
        {
         "boxpoints": false,
         "line": {
          "width": 1.3
         },
         "marker": {
          "color": "rgba(128, 0, 128, 1.0)"
         },
         "name": "D",
         "orientation": "v",
         "type": "box",
         "y": [
          0.9547741388797715,
          1.12691998723733,
          -0.17588602744932133,
          -0.08360142003301853,
          -0.49442222869638813,
          0.6934794557585935,
          1.0110147561447163,
          0.25346707455515455,
          -0.4787144143926514,
          0.4928484667310422,
          -1.7428489886218677,
          -0.2570764597121221,
          0.09881584393573929,
          0.7628155428096923,
          2.5806600650612266,
          -0.4478061182670122,
          0.0002874671823678858,
          -1.0942176091789775,
          -0.4873762942535746,
          1.976816251298637,
          0.3339524849949742,
          0.16802667442509775,
          0.8626302484321515,
          -0.09111335353527333,
          -0.2657862205013541,
          0.35010589487032506,
          -0.23440411955846505,
          0.7751695854844219,
          1.5163820694528165,
          1.6029417948586178,
          0.9215993651005554,
          -0.7969441897514339,
          -1.4376888652194055,
          0.8400305940687466,
          -0.5152454583569321,
          -0.09930174693615994,
          1.7179749043312862,
          1.4960946221949785,
          0.08921104108617861,
          0.8339661715179915,
          -0.11693960397103106,
          -0.7394381968022411,
          -1.1154249192760168,
          0.6147476397892389,
          0.07274961574508616,
          0.4661061113921465,
          -0.16726709401784562,
          -0.8361209180729203,
          -1.7155700620004344,
          1.8348719406873164,
          -2.126207789865309,
          1.2707033611415526,
          1.7622382167731088,
          0.39343116681641893,
          0.03190704932137889,
          -1.1559108977410961,
          -0.04622596241052501,
          0.489106935341587,
          0.13740546329596523,
          -0.7311652356616144,
          1.7738156693021163,
          -0.04704643840360029,
          -0.7881192887413037,
          1.795952192538169,
          0.5314335733134796,
          -0.8214714973020584,
          -0.7298186525328831,
          -0.6729925403866435,
          -0.6936148756614567,
          -0.31688486734133753,
          -0.388229614712312,
          0.6014550940553034,
          -2.4080510527023966,
          0.36016133963583563,
          -1.2940303292896087,
          -1.3378643325876045,
          0.030515645046154144,
          0.7901639242719248,
          0.8815513061717907,
          -1.4261174808782329,
          -0.10338583796462682,
          0.0490718773572223,
          0.34118388492613627,
          -0.13743183574732518,
          -0.3350574411815445,
          0.0041823789357666105,
          0.5142482477379821,
          -1.7215903957099068,
          2.2682909150529422,
          -1.4792240642798469,
          0.02645063027757254,
          0.5956660038038963,
          -0.3892967030165847,
          -0.17204291943275932,
          0.2748847894136974,
          -0.7505812424982387,
          -0.6479838607980779,
          1.6672864040606898,
          1.2378083818978425,
          -0.27781760634175695
         ]
        }
       ],
       "layout": {
        "legend": {
         "bgcolor": "#F5F6F9",
         "font": {
          "color": "#4D5663"
         }
        },
        "paper_bgcolor": "#F5F6F9",
        "plot_bgcolor": "#F5F6F9",
        "template": {
         "data": {
          "bar": [
           {
            "error_x": {
             "color": "#2a3f5f"
            },
            "error_y": {
             "color": "#2a3f5f"
            },
            "marker": {
             "line": {
              "color": "#E5ECF6",
              "width": 0.5
             },
             "pattern": {
              "fillmode": "overlay",
              "size": 10,
              "solidity": 0.2
             }
            },
            "type": "bar"
           }
          ],
          "barpolar": [
           {
            "marker": {
             "line": {
              "color": "#E5ECF6",
              "width": 0.5
             },
             "pattern": {
              "fillmode": "overlay",
              "size": 10,
              "solidity": 0.2
             }
            },
            "type": "barpolar"
           }
          ],
          "carpet": [
           {
            "aaxis": {
             "endlinecolor": "#2a3f5f",
             "gridcolor": "white",
             "linecolor": "white",
             "minorgridcolor": "white",
             "startlinecolor": "#2a3f5f"
            },
            "baxis": {
             "endlinecolor": "#2a3f5f",
             "gridcolor": "white",
             "linecolor": "white",
             "minorgridcolor": "white",
             "startlinecolor": "#2a3f5f"
            },
            "type": "carpet"
           }
          ],
          "choropleth": [
           {
            "colorbar": {
             "outlinewidth": 0,
             "ticks": ""
            },
            "type": "choropleth"
           }
          ],
          "contour": [
           {
            "colorbar": {
             "outlinewidth": 0,
             "ticks": ""
            },
            "colorscale": [
             [
              0,
              "#0d0887"
             ],
             [
              0.1111111111111111,
              "#46039f"
             ],
             [
              0.2222222222222222,
              "#7201a8"
             ],
             [
              0.3333333333333333,
              "#9c179e"
             ],
             [
              0.4444444444444444,
              "#bd3786"
             ],
             [
              0.5555555555555556,
              "#d8576b"
             ],
             [
              0.6666666666666666,
              "#ed7953"
             ],
             [
              0.7777777777777778,
              "#fb9f3a"
             ],
             [
              0.8888888888888888,
              "#fdca26"
             ],
             [
              1,
              "#f0f921"
             ]
            ],
            "type": "contour"
           }
          ],
          "contourcarpet": [
           {
            "colorbar": {
             "outlinewidth": 0,
             "ticks": ""
            },
            "type": "contourcarpet"
           }
          ],
          "heatmap": [
           {
            "colorbar": {
             "outlinewidth": 0,
             "ticks": ""
            },
            "colorscale": [
             [
              0,
              "#0d0887"
             ],
             [
              0.1111111111111111,
              "#46039f"
             ],
             [
              0.2222222222222222,
              "#7201a8"
             ],
             [
              0.3333333333333333,
              "#9c179e"
             ],
             [
              0.4444444444444444,
              "#bd3786"
             ],
             [
              0.5555555555555556,
              "#d8576b"
             ],
             [
              0.6666666666666666,
              "#ed7953"
             ],
             [
              0.7777777777777778,
              "#fb9f3a"
             ],
             [
              0.8888888888888888,
              "#fdca26"
             ],
             [
              1,
              "#f0f921"
             ]
            ],
            "type": "heatmap"
           }
          ],
          "heatmapgl": [
           {
            "colorbar": {
             "outlinewidth": 0,
             "ticks": ""
            },
            "colorscale": [
             [
              0,
              "#0d0887"
             ],
             [
              0.1111111111111111,
              "#46039f"
             ],
             [
              0.2222222222222222,
              "#7201a8"
             ],
             [
              0.3333333333333333,
              "#9c179e"
             ],
             [
              0.4444444444444444,
              "#bd3786"
             ],
             [
              0.5555555555555556,
              "#d8576b"
             ],
             [
              0.6666666666666666,
              "#ed7953"
             ],
             [
              0.7777777777777778,
              "#fb9f3a"
             ],
             [
              0.8888888888888888,
              "#fdca26"
             ],
             [
              1,
              "#f0f921"
             ]
            ],
            "type": "heatmapgl"
           }
          ],
          "histogram": [
           {
            "marker": {
             "pattern": {
              "fillmode": "overlay",
              "size": 10,
              "solidity": 0.2
             }
            },
            "type": "histogram"
           }
          ],
          "histogram2d": [
           {
            "colorbar": {
             "outlinewidth": 0,
             "ticks": ""
            },
            "colorscale": [
             [
              0,
              "#0d0887"
             ],
             [
              0.1111111111111111,
              "#46039f"
             ],
             [
              0.2222222222222222,
              "#7201a8"
             ],
             [
              0.3333333333333333,
              "#9c179e"
             ],
             [
              0.4444444444444444,
              "#bd3786"
             ],
             [
              0.5555555555555556,
              "#d8576b"
             ],
             [
              0.6666666666666666,
              "#ed7953"
             ],
             [
              0.7777777777777778,
              "#fb9f3a"
             ],
             [
              0.8888888888888888,
              "#fdca26"
             ],
             [
              1,
              "#f0f921"
             ]
            ],
            "type": "histogram2d"
           }
          ],
          "histogram2dcontour": [
           {
            "colorbar": {
             "outlinewidth": 0,
             "ticks": ""
            },
            "colorscale": [
             [
              0,
              "#0d0887"
             ],
             [
              0.1111111111111111,
              "#46039f"
             ],
             [
              0.2222222222222222,
              "#7201a8"
             ],
             [
              0.3333333333333333,
              "#9c179e"
             ],
             [
              0.4444444444444444,
              "#bd3786"
             ],
             [
              0.5555555555555556,
              "#d8576b"
             ],
             [
              0.6666666666666666,
              "#ed7953"
             ],
             [
              0.7777777777777778,
              "#fb9f3a"
             ],
             [
              0.8888888888888888,
              "#fdca26"
             ],
             [
              1,
              "#f0f921"
             ]
            ],
            "type": "histogram2dcontour"
           }
          ],
          "mesh3d": [
           {
            "colorbar": {
             "outlinewidth": 0,
             "ticks": ""
            },
            "type": "mesh3d"
           }
          ],
          "parcoords": [
           {
            "line": {
             "colorbar": {
              "outlinewidth": 0,
              "ticks": ""
             }
            },
            "type": "parcoords"
           }
          ],
          "pie": [
           {
            "automargin": true,
            "type": "pie"
           }
          ],
          "scatter": [
           {
            "fillpattern": {
             "fillmode": "overlay",
             "size": 10,
             "solidity": 0.2
            },
            "type": "scatter"
           }
          ],
          "scatter3d": [
           {
            "line": {
             "colorbar": {
              "outlinewidth": 0,
              "ticks": ""
             }
            },
            "marker": {
             "colorbar": {
              "outlinewidth": 0,
              "ticks": ""
             }
            },
            "type": "scatter3d"
           }
          ],
          "scattercarpet": [
           {
            "marker": {
             "colorbar": {
              "outlinewidth": 0,
              "ticks": ""
             }
            },
            "type": "scattercarpet"
           }
          ],
          "scattergeo": [
           {
            "marker": {
             "colorbar": {
              "outlinewidth": 0,
              "ticks": ""
             }
            },
            "type": "scattergeo"
           }
          ],
          "scattergl": [
           {
            "marker": {
             "colorbar": {
              "outlinewidth": 0,
              "ticks": ""
             }
            },
            "type": "scattergl"
           }
          ],
          "scattermapbox": [
           {
            "marker": {
             "colorbar": {
              "outlinewidth": 0,
              "ticks": ""
             }
            },
            "type": "scattermapbox"
           }
          ],
          "scatterpolar": [
           {
            "marker": {
             "colorbar": {
              "outlinewidth": 0,
              "ticks": ""
             }
            },
            "type": "scatterpolar"
           }
          ],
          "scatterpolargl": [
           {
            "marker": {
             "colorbar": {
              "outlinewidth": 0,
              "ticks": ""
             }
            },
            "type": "scatterpolargl"
           }
          ],
          "scatterternary": [
           {
            "marker": {
             "colorbar": {
              "outlinewidth": 0,
              "ticks": ""
             }
            },
            "type": "scatterternary"
           }
          ],
          "surface": [
           {
            "colorbar": {
             "outlinewidth": 0,
             "ticks": ""
            },
            "colorscale": [
             [
              0,
              "#0d0887"
             ],
             [
              0.1111111111111111,
              "#46039f"
             ],
             [
              0.2222222222222222,
              "#7201a8"
             ],
             [
              0.3333333333333333,
              "#9c179e"
             ],
             [
              0.4444444444444444,
              "#bd3786"
             ],
             [
              0.5555555555555556,
              "#d8576b"
             ],
             [
              0.6666666666666666,
              "#ed7953"
             ],
             [
              0.7777777777777778,
              "#fb9f3a"
             ],
             [
              0.8888888888888888,
              "#fdca26"
             ],
             [
              1,
              "#f0f921"
             ]
            ],
            "type": "surface"
           }
          ],
          "table": [
           {
            "cells": {
             "fill": {
              "color": "#EBF0F8"
             },
             "line": {
              "color": "white"
             }
            },
            "header": {
             "fill": {
              "color": "#C8D4E3"
             },
             "line": {
              "color": "white"
             }
            },
            "type": "table"
           }
          ]
         },
         "layout": {
          "annotationdefaults": {
           "arrowcolor": "#2a3f5f",
           "arrowhead": 0,
           "arrowwidth": 1
          },
          "autotypenumbers": "strict",
          "coloraxis": {
           "colorbar": {
            "outlinewidth": 0,
            "ticks": ""
           }
          },
          "colorscale": {
           "diverging": [
            [
             0,
             "#8e0152"
            ],
            [
             0.1,
             "#c51b7d"
            ],
            [
             0.2,
             "#de77ae"
            ],
            [
             0.3,
             "#f1b6da"
            ],
            [
             0.4,
             "#fde0ef"
            ],
            [
             0.5,
             "#f7f7f7"
            ],
            [
             0.6,
             "#e6f5d0"
            ],
            [
             0.7,
             "#b8e186"
            ],
            [
             0.8,
             "#7fbc41"
            ],
            [
             0.9,
             "#4d9221"
            ],
            [
             1,
             "#276419"
            ]
           ],
           "sequential": [
            [
             0,
             "#0d0887"
            ],
            [
             0.1111111111111111,
             "#46039f"
            ],
            [
             0.2222222222222222,
             "#7201a8"
            ],
            [
             0.3333333333333333,
             "#9c179e"
            ],
            [
             0.4444444444444444,
             "#bd3786"
            ],
            [
             0.5555555555555556,
             "#d8576b"
            ],
            [
             0.6666666666666666,
             "#ed7953"
            ],
            [
             0.7777777777777778,
             "#fb9f3a"
            ],
            [
             0.8888888888888888,
             "#fdca26"
            ],
            [
             1,
             "#f0f921"
            ]
           ],
           "sequentialminus": [
            [
             0,
             "#0d0887"
            ],
            [
             0.1111111111111111,
             "#46039f"
            ],
            [
             0.2222222222222222,
             "#7201a8"
            ],
            [
             0.3333333333333333,
             "#9c179e"
            ],
            [
             0.4444444444444444,
             "#bd3786"
            ],
            [
             0.5555555555555556,
             "#d8576b"
            ],
            [
             0.6666666666666666,
             "#ed7953"
            ],
            [
             0.7777777777777778,
             "#fb9f3a"
            ],
            [
             0.8888888888888888,
             "#fdca26"
            ],
            [
             1,
             "#f0f921"
            ]
           ]
          },
          "colorway": [
           "#636efa",
           "#EF553B",
           "#00cc96",
           "#ab63fa",
           "#FFA15A",
           "#19d3f3",
           "#FF6692",
           "#B6E880",
           "#FF97FF",
           "#FECB52"
          ],
          "font": {
           "color": "#2a3f5f"
          },
          "geo": {
           "bgcolor": "white",
           "lakecolor": "white",
           "landcolor": "#E5ECF6",
           "showlakes": true,
           "showland": true,
           "subunitcolor": "white"
          },
          "hoverlabel": {
           "align": "left"
          },
          "hovermode": "closest",
          "mapbox": {
           "style": "light"
          },
          "paper_bgcolor": "white",
          "plot_bgcolor": "#E5ECF6",
          "polar": {
           "angularaxis": {
            "gridcolor": "white",
            "linecolor": "white",
            "ticks": ""
           },
           "bgcolor": "#E5ECF6",
           "radialaxis": {
            "gridcolor": "white",
            "linecolor": "white",
            "ticks": ""
           }
          },
          "scene": {
           "xaxis": {
            "backgroundcolor": "#E5ECF6",
            "gridcolor": "white",
            "gridwidth": 2,
            "linecolor": "white",
            "showbackground": true,
            "ticks": "",
            "zerolinecolor": "white"
           },
           "yaxis": {
            "backgroundcolor": "#E5ECF6",
            "gridcolor": "white",
            "gridwidth": 2,
            "linecolor": "white",
            "showbackground": true,
            "ticks": "",
            "zerolinecolor": "white"
           },
           "zaxis": {
            "backgroundcolor": "#E5ECF6",
            "gridcolor": "white",
            "gridwidth": 2,
            "linecolor": "white",
            "showbackground": true,
            "ticks": "",
            "zerolinecolor": "white"
           }
          },
          "shapedefaults": {
           "line": {
            "color": "#2a3f5f"
           }
          },
          "ternary": {
           "aaxis": {
            "gridcolor": "white",
            "linecolor": "white",
            "ticks": ""
           },
           "baxis": {
            "gridcolor": "white",
            "linecolor": "white",
            "ticks": ""
           },
           "bgcolor": "#E5ECF6",
           "caxis": {
            "gridcolor": "white",
            "linecolor": "white",
            "ticks": ""
           }
          },
          "title": {
           "x": 0.05
          },
          "xaxis": {
           "automargin": true,
           "gridcolor": "white",
           "linecolor": "white",
           "ticks": "",
           "title": {
            "standoff": 15
           },
           "zerolinecolor": "white",
           "zerolinewidth": 2
          },
          "yaxis": {
           "automargin": true,
           "gridcolor": "white",
           "linecolor": "white",
           "ticks": "",
           "title": {
            "standoff": 15
           },
           "zerolinecolor": "white",
           "zerolinewidth": 2
          }
         }
        },
        "title": {
         "font": {
          "color": "#4D5663"
         }
        },
        "xaxis": {
         "gridcolor": "#E1E5ED",
         "showgrid": true,
         "tickfont": {
          "color": "#4D5663"
         },
         "title": {
          "font": {
           "color": "#4D5663"
          },
          "text": ""
         },
         "zerolinecolor": "#E1E5ED"
        },
        "yaxis": {
         "gridcolor": "#E1E5ED",
         "showgrid": true,
         "tickfont": {
          "color": "#4D5663"
         },
         "title": {
          "font": {
           "color": "#4D5663"
          },
          "text": ""
         },
         "zerolinecolor": "#E1E5ED"
        }
       }
      },
      "text/html": [
       "<div>                            <div id=\"80b337fb-1fd1-4ca8-ae13-e592b40650f8\" class=\"plotly-graph-div\" style=\"height:525px; width:100%;\"></div>            <script type=\"text/javascript\">                require([\"plotly\"], function(Plotly) {                    window.PLOTLYENV=window.PLOTLYENV || {};\n",
       "                    window.PLOTLYENV.BASE_URL='https://plot.ly';                                    if (document.getElementById(\"80b337fb-1fd1-4ca8-ae13-e592b40650f8\")) {                    Plotly.newPlot(                        \"80b337fb-1fd1-4ca8-ae13-e592b40650f8\",                        [{\"boxpoints\":false,\"line\":{\"width\":1.3},\"marker\":{\"color\":\"rgba(255, 153, 51, 1.0)\"},\"name\":\"A\",\"orientation\":\"v\",\"y\":[-0.5882201862615739,-0.1444088146832521,-0.7206830682849644,1.3936579949157097,-0.19862000637931865,-0.27593821881612995,0.10946967362279274,-0.7994858635802414,0.1678150311420152,-0.03259329436621168,-0.38777224262700793,-0.9754539192544475,0.31246023384261074,-0.16315024393863606,0.1433325386094532,0.33921612803869455,0.1687111089431125,-1.0293821555773768,0.9359095977765699,-0.851942028353327,0.27136104667763106,2.0938787705300403,-1.6874972996029145,-0.4906760954841787,1.014382803145646,-0.6868968224829972,-0.7713142158581506,-1.0629976127507368,-0.3911478166219877,-1.6997231884085433,0.4760470417318967,1.368331511888546,-0.9584745559245262,-1.183217404290445,-0.575483118709692,1.3026615111527207,0.1441487490352291,-1.0594506247977764,-1.5380315053002944,2.4091356980594285,1.0046246460929371,0.16397580097306277,-0.27806055403543156,1.1825457833448632,0.9927116557574145,0.6401164337634135,-0.17126633776369268,-0.09314210703339369,-1.2500682591239412,1.5249423799561066,0.7261411639316259,1.590022568827245,-0.04437577138374293,-0.19365124054278118,-1.537393958681574,1.5201990369248464,1.677601948736433,-0.17840117181941412,-0.260180030841215,-0.2744427137172959,-0.05364077060641442,-1.388808568459774,-0.2976181577756708,-0.05489380423532537,0.24230246636410666,0.05706581952694559,-0.5203533785804892,-0.4759391251040668,1.9466209582861882,0.8574801728519554,-0.42732486530133573,1.2327550002736216,1.5230759358429147,0.9259071632069753,1.4978812400979802,-0.5868307177392983,-0.21430818657024733,0.4275909334188216,-0.7517631229589176,0.40933185053435545,1.0494839530728004,1.009305230913276,-0.24943062954401313,-0.4313553585139899,-0.17170921243621456,1.6841789479225455,-0.9526310880361992,0.12458637521250845,0.5687516401383191,0.8383341998997003,0.9996013164266332,-1.2654481776987168,0.06368071956753159,-0.5823383450272381,0.8242370577808078,0.04917197237671641,-1.0627241384534636,-0.8690415122855502,0.413248602855076,1.4561243863993238],\"type\":\"box\"},{\"boxpoints\":false,\"line\":{\"width\":1.3},\"marker\":{\"color\":\"rgba(55, 128, 191, 1.0)\"},\"name\":\"B\",\"orientation\":\"v\",\"y\":[-0.8940538161456291,1.7587400520446705,0.14430342474400454,-0.34549370551569325,-0.5257140537089149,-0.15452279911902936,-1.0700089891485318,-1.2765518475470334,-1.1018276817658246,0.43378474413794765,0.8461336916637264,-0.24624295303470572,1.3982100658424075,0.9997234408622141,-0.2719079134797146,0.7001985695260833,0.37644992918744924,0.6256292283079395,0.14171050635516258,0.4083837344888657,0.35919115418712133,0.2885316619016053,-0.2795716879495062,1.4967109264618719,-0.5034276127281153,-0.9195848263522127,0.0036980691622682717,-1.1561975511553555,-0.0674931632448224,1.2205170295980456,-1.7173270994239003,-0.8457801385986659,0.1725586858008727,0.4241941216487407,-0.640527068079842,0.9162412399630095,-0.7126212550692267,1.1760786429305836,-0.3663287237478555,-0.9601992815532329,-0.5934668853017779,2.138687640168241,1.1271439949934412,0.4228887134119707,0.9641575600348385,-0.4732958531413693,0.3691867824050043,1.0438568219805757,-0.6851461607108044,1.9604889962473953,-0.7121316185807449,-0.860258552005439,-0.7756424767215246,1.1188986390232671,-0.029992580637274155,1.2566812154182598,-0.08965639196959063,0.9993501250314029,1.0581915489108098,0.018648395808328312,-0.16515690335859862,1.1048916736355985,-0.2940482353646764,0.7858209812076586,0.6962374498622259,0.6824777105549716,0.6502383370441862,-0.6503294575233609,-2.419037357005872,0.5386046383338288,0.13396494940463755,0.8338031503515533,0.20428275558354891,0.7963950437666771,-0.5168135777070428,0.7337029151449452,-0.17652524673493883,-1.8741632511307245,-0.541972300082036,-0.3447729493621954,-0.6321114042540144,0.15149425011822618,-0.168313064233042,-0.2248723299164277,1.0986104344094423,0.5057236081827604,-0.31038782932230446,1.9497709425607428,1.3184687249490608,-1.0867694948850026,0.861439797367633,0.3582260691853846,0.22568575670948762,0.40989940999869257,0.0073837110282809456,1.3613943157445625,-0.28844704644859565,0.2291403758894681,-0.4472241971177087,-0.19181766055293706],\"type\":\"box\"},{\"boxpoints\":false,\"line\":{\"width\":1.3},\"marker\":{\"color\":\"rgba(50, 171, 96, 1.0)\"},\"name\":\"C\",\"orientation\":\"v\",\"y\":[1.876901332764013,-0.10349125707717265,1.2579282301675274,-0.32879018856124387,1.2893453409422433,-0.6978506990899702,-0.5690885249863702,-3.212348160167795,0.35198033315027016,1.6280859607352034,1.4169911089200316,-0.006244506076509348,0.6063776210857147,1.3590502993947755,-0.08753558435804658,-1.271038925037562,-1.876369588842253,-0.14833303694173458,-0.6885285591325655,0.40005150515600774,-1.2397561550563225,-0.8858069024894748,-0.798914170622721,-0.6451125590130682,-1.337201271014988,-0.5434072525765655,0.24923426476470928,1.02995155945738,-0.38069426208706303,0.550732455528556,-0.06622388157713835,0.28227085401028323,-1.6993807018906721,-1.017000383808957,1.4502622013064184,-0.37748754175054144,0.11182643086431572,0.3190458805727826,0.6310714228107397,0.9287773600999025,-0.5958332182194019,0.8368468693621849,1.615333454176221,-1.0595142331219507,0.059263138514671826,0.3781385876987572,1.205778828363705,0.5103676221222979,-0.4181890681484547,-1.1749615894305674,-0.8146477375634813,0.703332618935335,1.1159942380155168,-1.405272482685175,-0.4035490110227859,-1.214451078534114,0.034836276212230365,0.994470253635251,-1.2974851873956041,1.5571794559110022,-0.36177309144129505,-2.0265767761700726,0.537946286420841,-1.3207974386903243,0.5178046251976135,0.22227262982002907,0.35709449641554913,-0.8452066203825547,-0.35073473770144153,0.03423386191778584,-0.11174022398461535,0.6247860999321203,-0.8593150572868524,-0.2681198583175821,-0.5709092452257304,0.09516218009043352,0.6924016128879481,-0.8538907509043898,0.06401430782372304,1.9161700217558955,-1.1306376711175334,-0.20896335733373597,1.0478962843173312,0.7386032627103952,-0.14958601699834462,-1.3679987897784471,-0.30951165695956173,-0.430522024100932,-0.45632750502507113,-0.7971261605970754,1.7768435698921234,-0.700539057905725,-0.23319658471835003,-0.10861742663622247,-0.3123966686400977,-0.1501601691032951,-1.1884097302299348,1.3946847680567762,1.648671061047971,0.6330557050537858],\"type\":\"box\"},{\"boxpoints\":false,\"line\":{\"width\":1.3},\"marker\":{\"color\":\"rgba(128, 0, 128, 1.0)\"},\"name\":\"D\",\"orientation\":\"v\",\"y\":[0.9547741388797715,1.12691998723733,-0.17588602744932133,-0.08360142003301853,-0.49442222869638813,0.6934794557585935,1.0110147561447163,0.25346707455515455,-0.4787144143926514,0.4928484667310422,-1.7428489886218677,-0.2570764597121221,0.09881584393573929,0.7628155428096923,2.5806600650612266,-0.4478061182670122,0.0002874671823678858,-1.0942176091789775,-0.4873762942535746,1.976816251298637,0.3339524849949742,0.16802667442509775,0.8626302484321515,-0.09111335353527333,-0.2657862205013541,0.35010589487032506,-0.23440411955846505,0.7751695854844219,1.5163820694528165,1.6029417948586178,0.9215993651005554,-0.7969441897514339,-1.4376888652194055,0.8400305940687466,-0.5152454583569321,-0.09930174693615994,1.7179749043312862,1.4960946221949785,0.08921104108617861,0.8339661715179915,-0.11693960397103106,-0.7394381968022411,-1.1154249192760168,0.6147476397892389,0.07274961574508616,0.4661061113921465,-0.16726709401784562,-0.8361209180729203,-1.7155700620004344,1.8348719406873164,-2.126207789865309,1.2707033611415526,1.7622382167731088,0.39343116681641893,0.03190704932137889,-1.1559108977410961,-0.04622596241052501,0.489106935341587,0.13740546329596523,-0.7311652356616144,1.7738156693021163,-0.04704643840360029,-0.7881192887413037,1.795952192538169,0.5314335733134796,-0.8214714973020584,-0.7298186525328831,-0.6729925403866435,-0.6936148756614567,-0.31688486734133753,-0.388229614712312,0.6014550940553034,-2.4080510527023966,0.36016133963583563,-1.2940303292896087,-1.3378643325876045,0.030515645046154144,0.7901639242719248,0.8815513061717907,-1.4261174808782329,-0.10338583796462682,0.0490718773572223,0.34118388492613627,-0.13743183574732518,-0.3350574411815445,0.0041823789357666105,0.5142482477379821,-1.7215903957099068,2.2682909150529422,-1.4792240642798469,0.02645063027757254,0.5956660038038963,-0.3892967030165847,-0.17204291943275932,0.2748847894136974,-0.7505812424982387,-0.6479838607980779,1.6672864040606898,1.2378083818978425,-0.27781760634175695],\"type\":\"box\"}],                        {\"legend\":{\"bgcolor\":\"#F5F6F9\",\"font\":{\"color\":\"#4D5663\"}},\"paper_bgcolor\":\"#F5F6F9\",\"plot_bgcolor\":\"#F5F6F9\",\"template\":{\"data\":{\"barpolar\":[{\"marker\":{\"line\":{\"color\":\"#E5ECF6\",\"width\":0.5},\"pattern\":{\"fillmode\":\"overlay\",\"size\":10,\"solidity\":0.2}},\"type\":\"barpolar\"}],\"bar\":[{\"error_x\":{\"color\":\"#2a3f5f\"},\"error_y\":{\"color\":\"#2a3f5f\"},\"marker\":{\"line\":{\"color\":\"#E5ECF6\",\"width\":0.5},\"pattern\":{\"fillmode\":\"overlay\",\"size\":10,\"solidity\":0.2}},\"type\":\"bar\"}],\"carpet\":[{\"aaxis\":{\"endlinecolor\":\"#2a3f5f\",\"gridcolor\":\"white\",\"linecolor\":\"white\",\"minorgridcolor\":\"white\",\"startlinecolor\":\"#2a3f5f\"},\"baxis\":{\"endlinecolor\":\"#2a3f5f\",\"gridcolor\":\"white\",\"linecolor\":\"white\",\"minorgridcolor\":\"white\",\"startlinecolor\":\"#2a3f5f\"},\"type\":\"carpet\"}],\"choropleth\":[{\"colorbar\":{\"outlinewidth\":0,\"ticks\":\"\"},\"type\":\"choropleth\"}],\"contourcarpet\":[{\"colorbar\":{\"outlinewidth\":0,\"ticks\":\"\"},\"type\":\"contourcarpet\"}],\"contour\":[{\"colorbar\":{\"outlinewidth\":0,\"ticks\":\"\"},\"colorscale\":[[0.0,\"#0d0887\"],[0.1111111111111111,\"#46039f\"],[0.2222222222222222,\"#7201a8\"],[0.3333333333333333,\"#9c179e\"],[0.4444444444444444,\"#bd3786\"],[0.5555555555555556,\"#d8576b\"],[0.6666666666666666,\"#ed7953\"],[0.7777777777777778,\"#fb9f3a\"],[0.8888888888888888,\"#fdca26\"],[1.0,\"#f0f921\"]],\"type\":\"contour\"}],\"heatmapgl\":[{\"colorbar\":{\"outlinewidth\":0,\"ticks\":\"\"},\"colorscale\":[[0.0,\"#0d0887\"],[0.1111111111111111,\"#46039f\"],[0.2222222222222222,\"#7201a8\"],[0.3333333333333333,\"#9c179e\"],[0.4444444444444444,\"#bd3786\"],[0.5555555555555556,\"#d8576b\"],[0.6666666666666666,\"#ed7953\"],[0.7777777777777778,\"#fb9f3a\"],[0.8888888888888888,\"#fdca26\"],[1.0,\"#f0f921\"]],\"type\":\"heatmapgl\"}],\"heatmap\":[{\"colorbar\":{\"outlinewidth\":0,\"ticks\":\"\"},\"colorscale\":[[0.0,\"#0d0887\"],[0.1111111111111111,\"#46039f\"],[0.2222222222222222,\"#7201a8\"],[0.3333333333333333,\"#9c179e\"],[0.4444444444444444,\"#bd3786\"],[0.5555555555555556,\"#d8576b\"],[0.6666666666666666,\"#ed7953\"],[0.7777777777777778,\"#fb9f3a\"],[0.8888888888888888,\"#fdca26\"],[1.0,\"#f0f921\"]],\"type\":\"heatmap\"}],\"histogram2dcontour\":[{\"colorbar\":{\"outlinewidth\":0,\"ticks\":\"\"},\"colorscale\":[[0.0,\"#0d0887\"],[0.1111111111111111,\"#46039f\"],[0.2222222222222222,\"#7201a8\"],[0.3333333333333333,\"#9c179e\"],[0.4444444444444444,\"#bd3786\"],[0.5555555555555556,\"#d8576b\"],[0.6666666666666666,\"#ed7953\"],[0.7777777777777778,\"#fb9f3a\"],[0.8888888888888888,\"#fdca26\"],[1.0,\"#f0f921\"]],\"type\":\"histogram2dcontour\"}],\"histogram2d\":[{\"colorbar\":{\"outlinewidth\":0,\"ticks\":\"\"},\"colorscale\":[[0.0,\"#0d0887\"],[0.1111111111111111,\"#46039f\"],[0.2222222222222222,\"#7201a8\"],[0.3333333333333333,\"#9c179e\"],[0.4444444444444444,\"#bd3786\"],[0.5555555555555556,\"#d8576b\"],[0.6666666666666666,\"#ed7953\"],[0.7777777777777778,\"#fb9f3a\"],[0.8888888888888888,\"#fdca26\"],[1.0,\"#f0f921\"]],\"type\":\"histogram2d\"}],\"histogram\":[{\"marker\":{\"pattern\":{\"fillmode\":\"overlay\",\"size\":10,\"solidity\":0.2}},\"type\":\"histogram\"}],\"mesh3d\":[{\"colorbar\":{\"outlinewidth\":0,\"ticks\":\"\"},\"type\":\"mesh3d\"}],\"parcoords\":[{\"line\":{\"colorbar\":{\"outlinewidth\":0,\"ticks\":\"\"}},\"type\":\"parcoords\"}],\"pie\":[{\"automargin\":true,\"type\":\"pie\"}],\"scatter3d\":[{\"line\":{\"colorbar\":{\"outlinewidth\":0,\"ticks\":\"\"}},\"marker\":{\"colorbar\":{\"outlinewidth\":0,\"ticks\":\"\"}},\"type\":\"scatter3d\"}],\"scattercarpet\":[{\"marker\":{\"colorbar\":{\"outlinewidth\":0,\"ticks\":\"\"}},\"type\":\"scattercarpet\"}],\"scattergeo\":[{\"marker\":{\"colorbar\":{\"outlinewidth\":0,\"ticks\":\"\"}},\"type\":\"scattergeo\"}],\"scattergl\":[{\"marker\":{\"colorbar\":{\"outlinewidth\":0,\"ticks\":\"\"}},\"type\":\"scattergl\"}],\"scattermapbox\":[{\"marker\":{\"colorbar\":{\"outlinewidth\":0,\"ticks\":\"\"}},\"type\":\"scattermapbox\"}],\"scatterpolargl\":[{\"marker\":{\"colorbar\":{\"outlinewidth\":0,\"ticks\":\"\"}},\"type\":\"scatterpolargl\"}],\"scatterpolar\":[{\"marker\":{\"colorbar\":{\"outlinewidth\":0,\"ticks\":\"\"}},\"type\":\"scatterpolar\"}],\"scatter\":[{\"fillpattern\":{\"fillmode\":\"overlay\",\"size\":10,\"solidity\":0.2},\"type\":\"scatter\"}],\"scatterternary\":[{\"marker\":{\"colorbar\":{\"outlinewidth\":0,\"ticks\":\"\"}},\"type\":\"scatterternary\"}],\"surface\":[{\"colorbar\":{\"outlinewidth\":0,\"ticks\":\"\"},\"colorscale\":[[0.0,\"#0d0887\"],[0.1111111111111111,\"#46039f\"],[0.2222222222222222,\"#7201a8\"],[0.3333333333333333,\"#9c179e\"],[0.4444444444444444,\"#bd3786\"],[0.5555555555555556,\"#d8576b\"],[0.6666666666666666,\"#ed7953\"],[0.7777777777777778,\"#fb9f3a\"],[0.8888888888888888,\"#fdca26\"],[1.0,\"#f0f921\"]],\"type\":\"surface\"}],\"table\":[{\"cells\":{\"fill\":{\"color\":\"#EBF0F8\"},\"line\":{\"color\":\"white\"}},\"header\":{\"fill\":{\"color\":\"#C8D4E3\"},\"line\":{\"color\":\"white\"}},\"type\":\"table\"}]},\"layout\":{\"annotationdefaults\":{\"arrowcolor\":\"#2a3f5f\",\"arrowhead\":0,\"arrowwidth\":1},\"autotypenumbers\":\"strict\",\"coloraxis\":{\"colorbar\":{\"outlinewidth\":0,\"ticks\":\"\"}},\"colorscale\":{\"diverging\":[[0,\"#8e0152\"],[0.1,\"#c51b7d\"],[0.2,\"#de77ae\"],[0.3,\"#f1b6da\"],[0.4,\"#fde0ef\"],[0.5,\"#f7f7f7\"],[0.6,\"#e6f5d0\"],[0.7,\"#b8e186\"],[0.8,\"#7fbc41\"],[0.9,\"#4d9221\"],[1,\"#276419\"]],\"sequential\":[[0.0,\"#0d0887\"],[0.1111111111111111,\"#46039f\"],[0.2222222222222222,\"#7201a8\"],[0.3333333333333333,\"#9c179e\"],[0.4444444444444444,\"#bd3786\"],[0.5555555555555556,\"#d8576b\"],[0.6666666666666666,\"#ed7953\"],[0.7777777777777778,\"#fb9f3a\"],[0.8888888888888888,\"#fdca26\"],[1.0,\"#f0f921\"]],\"sequentialminus\":[[0.0,\"#0d0887\"],[0.1111111111111111,\"#46039f\"],[0.2222222222222222,\"#7201a8\"],[0.3333333333333333,\"#9c179e\"],[0.4444444444444444,\"#bd3786\"],[0.5555555555555556,\"#d8576b\"],[0.6666666666666666,\"#ed7953\"],[0.7777777777777778,\"#fb9f3a\"],[0.8888888888888888,\"#fdca26\"],[1.0,\"#f0f921\"]]},\"colorway\":[\"#636efa\",\"#EF553B\",\"#00cc96\",\"#ab63fa\",\"#FFA15A\",\"#19d3f3\",\"#FF6692\",\"#B6E880\",\"#FF97FF\",\"#FECB52\"],\"font\":{\"color\":\"#2a3f5f\"},\"geo\":{\"bgcolor\":\"white\",\"lakecolor\":\"white\",\"landcolor\":\"#E5ECF6\",\"showlakes\":true,\"showland\":true,\"subunitcolor\":\"white\"},\"hoverlabel\":{\"align\":\"left\"},\"hovermode\":\"closest\",\"mapbox\":{\"style\":\"light\"},\"paper_bgcolor\":\"white\",\"plot_bgcolor\":\"#E5ECF6\",\"polar\":{\"angularaxis\":{\"gridcolor\":\"white\",\"linecolor\":\"white\",\"ticks\":\"\"},\"bgcolor\":\"#E5ECF6\",\"radialaxis\":{\"gridcolor\":\"white\",\"linecolor\":\"white\",\"ticks\":\"\"}},\"scene\":{\"xaxis\":{\"backgroundcolor\":\"#E5ECF6\",\"gridcolor\":\"white\",\"gridwidth\":2,\"linecolor\":\"white\",\"showbackground\":true,\"ticks\":\"\",\"zerolinecolor\":\"white\"},\"yaxis\":{\"backgroundcolor\":\"#E5ECF6\",\"gridcolor\":\"white\",\"gridwidth\":2,\"linecolor\":\"white\",\"showbackground\":true,\"ticks\":\"\",\"zerolinecolor\":\"white\"},\"zaxis\":{\"backgroundcolor\":\"#E5ECF6\",\"gridcolor\":\"white\",\"gridwidth\":2,\"linecolor\":\"white\",\"showbackground\":true,\"ticks\":\"\",\"zerolinecolor\":\"white\"}},\"shapedefaults\":{\"line\":{\"color\":\"#2a3f5f\"}},\"ternary\":{\"aaxis\":{\"gridcolor\":\"white\",\"linecolor\":\"white\",\"ticks\":\"\"},\"baxis\":{\"gridcolor\":\"white\",\"linecolor\":\"white\",\"ticks\":\"\"},\"bgcolor\":\"#E5ECF6\",\"caxis\":{\"gridcolor\":\"white\",\"linecolor\":\"white\",\"ticks\":\"\"}},\"title\":{\"x\":0.05},\"xaxis\":{\"automargin\":true,\"gridcolor\":\"white\",\"linecolor\":\"white\",\"ticks\":\"\",\"title\":{\"standoff\":15},\"zerolinecolor\":\"white\",\"zerolinewidth\":2},\"yaxis\":{\"automargin\":true,\"gridcolor\":\"white\",\"linecolor\":\"white\",\"ticks\":\"\",\"title\":{\"standoff\":15},\"zerolinecolor\":\"white\",\"zerolinewidth\":2}}},\"title\":{\"font\":{\"color\":\"#4D5663\"}},\"xaxis\":{\"gridcolor\":\"#E1E5ED\",\"showgrid\":true,\"tickfont\":{\"color\":\"#4D5663\"},\"title\":{\"font\":{\"color\":\"#4D5663\"},\"text\":\"\"},\"zerolinecolor\":\"#E1E5ED\"},\"yaxis\":{\"gridcolor\":\"#E1E5ED\",\"showgrid\":true,\"tickfont\":{\"color\":\"#4D5663\"},\"title\":{\"font\":{\"color\":\"#4D5663\"},\"text\":\"\"},\"zerolinecolor\":\"#E1E5ED\"}},                        {\"showLink\": true, \"linkText\": \"Export to plot.ly\", \"plotlyServerURL\": \"https://plot.ly\", \"responsive\": true}                    ).then(function(){\n",
       "                            \n",
       "var gd = document.getElementById('80b337fb-1fd1-4ca8-ae13-e592b40650f8');\n",
       "var x = new MutationObserver(function (mutations, observer) {{\n",
       "        var display = window.getComputedStyle(gd).display;\n",
       "        if (!display || display === 'none') {{\n",
       "            console.log([gd, 'removed!']);\n",
       "            Plotly.purge(gd);\n",
       "            observer.disconnect();\n",
       "        }}\n",
       "}});\n",
       "\n",
       "// Listen for the removal of the full notebook cells\n",
       "var notebookContainer = gd.closest('#notebook-container');\n",
       "if (notebookContainer) {{\n",
       "    x.observe(notebookContainer, {childList: true});\n",
       "}}\n",
       "\n",
       "// Listen for the clearing of the current output cell\n",
       "var outputEl = gd.closest('.output');\n",
       "if (outputEl) {{\n",
       "    x.observe(outputEl, {childList: true});\n",
       "}}\n",
       "\n",
       "                        })                };                });            </script>        </div>"
      ]
     },
     "metadata": {},
     "output_type": "display_data"
    }
   ],
   "source": [
    "df.iplot(kind='box')"
   ]
  },
  {
   "cell_type": "markdown",
   "metadata": {},
   "source": [
    "## 3d Surface"
   ]
  },
  {
   "cell_type": "code",
   "execution_count": 18,
   "metadata": {},
   "outputs": [
    {
     "data": {
      "application/vnd.plotly.v1+json": {
       "config": {
        "linkText": "Export to plot.ly",
        "plotlyServerURL": "https://plot.ly",
        "showLink": true
       },
       "data": [
        {
         "colorscale": [
          [
           0,
           "rgb(165,0,38)"
          ],
          [
           0.1,
           "rgb(215,48,39)"
          ],
          [
           0.2,
           "rgb(244,109,67)"
          ],
          [
           0.3,
           "rgb(253,174,97)"
          ],
          [
           0.4,
           "rgb(254,224,144)"
          ],
          [
           0.5,
           "rgb(255,255,191)"
          ],
          [
           0.6,
           "rgb(224,243,248)"
          ],
          [
           0.7,
           "rgb(171,217,233)"
          ],
          [
           0.8,
           "rgb(116,173,209)"
          ],
          [
           0.9,
           "rgb(69,117,180)"
          ],
          [
           1,
           "rgb(49,54,149)"
          ]
         ],
         "type": "surface",
         "x": [
          0,
          1,
          2,
          3,
          4
         ],
         "y": [
          "x",
          "y",
          "z"
         ],
         "z": [
          [
           1,
           2,
           3,
           4,
           5
          ],
          [
           10,
           20,
           30,
           20,
           10
          ],
          [
           5,
           4,
           3,
           2,
           1
          ]
         ]
        }
       ],
       "layout": {
        "legend": {
         "bgcolor": "#F5F6F9",
         "font": {
          "color": "#4D5663"
         }
        },
        "paper_bgcolor": "#F5F6F9",
        "plot_bgcolor": "#F5F6F9",
        "template": {
         "data": {
          "bar": [
           {
            "error_x": {
             "color": "#2a3f5f"
            },
            "error_y": {
             "color": "#2a3f5f"
            },
            "marker": {
             "line": {
              "color": "#E5ECF6",
              "width": 0.5
             },
             "pattern": {
              "fillmode": "overlay",
              "size": 10,
              "solidity": 0.2
             }
            },
            "type": "bar"
           }
          ],
          "barpolar": [
           {
            "marker": {
             "line": {
              "color": "#E5ECF6",
              "width": 0.5
             },
             "pattern": {
              "fillmode": "overlay",
              "size": 10,
              "solidity": 0.2
             }
            },
            "type": "barpolar"
           }
          ],
          "carpet": [
           {
            "aaxis": {
             "endlinecolor": "#2a3f5f",
             "gridcolor": "white",
             "linecolor": "white",
             "minorgridcolor": "white",
             "startlinecolor": "#2a3f5f"
            },
            "baxis": {
             "endlinecolor": "#2a3f5f",
             "gridcolor": "white",
             "linecolor": "white",
             "minorgridcolor": "white",
             "startlinecolor": "#2a3f5f"
            },
            "type": "carpet"
           }
          ],
          "choropleth": [
           {
            "colorbar": {
             "outlinewidth": 0,
             "ticks": ""
            },
            "type": "choropleth"
           }
          ],
          "contour": [
           {
            "colorbar": {
             "outlinewidth": 0,
             "ticks": ""
            },
            "colorscale": [
             [
              0,
              "#0d0887"
             ],
             [
              0.1111111111111111,
              "#46039f"
             ],
             [
              0.2222222222222222,
              "#7201a8"
             ],
             [
              0.3333333333333333,
              "#9c179e"
             ],
             [
              0.4444444444444444,
              "#bd3786"
             ],
             [
              0.5555555555555556,
              "#d8576b"
             ],
             [
              0.6666666666666666,
              "#ed7953"
             ],
             [
              0.7777777777777778,
              "#fb9f3a"
             ],
             [
              0.8888888888888888,
              "#fdca26"
             ],
             [
              1,
              "#f0f921"
             ]
            ],
            "type": "contour"
           }
          ],
          "contourcarpet": [
           {
            "colorbar": {
             "outlinewidth": 0,
             "ticks": ""
            },
            "type": "contourcarpet"
           }
          ],
          "heatmap": [
           {
            "colorbar": {
             "outlinewidth": 0,
             "ticks": ""
            },
            "colorscale": [
             [
              0,
              "#0d0887"
             ],
             [
              0.1111111111111111,
              "#46039f"
             ],
             [
              0.2222222222222222,
              "#7201a8"
             ],
             [
              0.3333333333333333,
              "#9c179e"
             ],
             [
              0.4444444444444444,
              "#bd3786"
             ],
             [
              0.5555555555555556,
              "#d8576b"
             ],
             [
              0.6666666666666666,
              "#ed7953"
             ],
             [
              0.7777777777777778,
              "#fb9f3a"
             ],
             [
              0.8888888888888888,
              "#fdca26"
             ],
             [
              1,
              "#f0f921"
             ]
            ],
            "type": "heatmap"
           }
          ],
          "heatmapgl": [
           {
            "colorbar": {
             "outlinewidth": 0,
             "ticks": ""
            },
            "colorscale": [
             [
              0,
              "#0d0887"
             ],
             [
              0.1111111111111111,
              "#46039f"
             ],
             [
              0.2222222222222222,
              "#7201a8"
             ],
             [
              0.3333333333333333,
              "#9c179e"
             ],
             [
              0.4444444444444444,
              "#bd3786"
             ],
             [
              0.5555555555555556,
              "#d8576b"
             ],
             [
              0.6666666666666666,
              "#ed7953"
             ],
             [
              0.7777777777777778,
              "#fb9f3a"
             ],
             [
              0.8888888888888888,
              "#fdca26"
             ],
             [
              1,
              "#f0f921"
             ]
            ],
            "type": "heatmapgl"
           }
          ],
          "histogram": [
           {
            "marker": {
             "pattern": {
              "fillmode": "overlay",
              "size": 10,
              "solidity": 0.2
             }
            },
            "type": "histogram"
           }
          ],
          "histogram2d": [
           {
            "colorbar": {
             "outlinewidth": 0,
             "ticks": ""
            },
            "colorscale": [
             [
              0,
              "#0d0887"
             ],
             [
              0.1111111111111111,
              "#46039f"
             ],
             [
              0.2222222222222222,
              "#7201a8"
             ],
             [
              0.3333333333333333,
              "#9c179e"
             ],
             [
              0.4444444444444444,
              "#bd3786"
             ],
             [
              0.5555555555555556,
              "#d8576b"
             ],
             [
              0.6666666666666666,
              "#ed7953"
             ],
             [
              0.7777777777777778,
              "#fb9f3a"
             ],
             [
              0.8888888888888888,
              "#fdca26"
             ],
             [
              1,
              "#f0f921"
             ]
            ],
            "type": "histogram2d"
           }
          ],
          "histogram2dcontour": [
           {
            "colorbar": {
             "outlinewidth": 0,
             "ticks": ""
            },
            "colorscale": [
             [
              0,
              "#0d0887"
             ],
             [
              0.1111111111111111,
              "#46039f"
             ],
             [
              0.2222222222222222,
              "#7201a8"
             ],
             [
              0.3333333333333333,
              "#9c179e"
             ],
             [
              0.4444444444444444,
              "#bd3786"
             ],
             [
              0.5555555555555556,
              "#d8576b"
             ],
             [
              0.6666666666666666,
              "#ed7953"
             ],
             [
              0.7777777777777778,
              "#fb9f3a"
             ],
             [
              0.8888888888888888,
              "#fdca26"
             ],
             [
              1,
              "#f0f921"
             ]
            ],
            "type": "histogram2dcontour"
           }
          ],
          "mesh3d": [
           {
            "colorbar": {
             "outlinewidth": 0,
             "ticks": ""
            },
            "type": "mesh3d"
           }
          ],
          "parcoords": [
           {
            "line": {
             "colorbar": {
              "outlinewidth": 0,
              "ticks": ""
             }
            },
            "type": "parcoords"
           }
          ],
          "pie": [
           {
            "automargin": true,
            "type": "pie"
           }
          ],
          "scatter": [
           {
            "fillpattern": {
             "fillmode": "overlay",
             "size": 10,
             "solidity": 0.2
            },
            "type": "scatter"
           }
          ],
          "scatter3d": [
           {
            "line": {
             "colorbar": {
              "outlinewidth": 0,
              "ticks": ""
             }
            },
            "marker": {
             "colorbar": {
              "outlinewidth": 0,
              "ticks": ""
             }
            },
            "type": "scatter3d"
           }
          ],
          "scattercarpet": [
           {
            "marker": {
             "colorbar": {
              "outlinewidth": 0,
              "ticks": ""
             }
            },
            "type": "scattercarpet"
           }
          ],
          "scattergeo": [
           {
            "marker": {
             "colorbar": {
              "outlinewidth": 0,
              "ticks": ""
             }
            },
            "type": "scattergeo"
           }
          ],
          "scattergl": [
           {
            "marker": {
             "colorbar": {
              "outlinewidth": 0,
              "ticks": ""
             }
            },
            "type": "scattergl"
           }
          ],
          "scattermapbox": [
           {
            "marker": {
             "colorbar": {
              "outlinewidth": 0,
              "ticks": ""
             }
            },
            "type": "scattermapbox"
           }
          ],
          "scatterpolar": [
           {
            "marker": {
             "colorbar": {
              "outlinewidth": 0,
              "ticks": ""
             }
            },
            "type": "scatterpolar"
           }
          ],
          "scatterpolargl": [
           {
            "marker": {
             "colorbar": {
              "outlinewidth": 0,
              "ticks": ""
             }
            },
            "type": "scatterpolargl"
           }
          ],
          "scatterternary": [
           {
            "marker": {
             "colorbar": {
              "outlinewidth": 0,
              "ticks": ""
             }
            },
            "type": "scatterternary"
           }
          ],
          "surface": [
           {
            "colorbar": {
             "outlinewidth": 0,
             "ticks": ""
            },
            "colorscale": [
             [
              0,
              "#0d0887"
             ],
             [
              0.1111111111111111,
              "#46039f"
             ],
             [
              0.2222222222222222,
              "#7201a8"
             ],
             [
              0.3333333333333333,
              "#9c179e"
             ],
             [
              0.4444444444444444,
              "#bd3786"
             ],
             [
              0.5555555555555556,
              "#d8576b"
             ],
             [
              0.6666666666666666,
              "#ed7953"
             ],
             [
              0.7777777777777778,
              "#fb9f3a"
             ],
             [
              0.8888888888888888,
              "#fdca26"
             ],
             [
              1,
              "#f0f921"
             ]
            ],
            "type": "surface"
           }
          ],
          "table": [
           {
            "cells": {
             "fill": {
              "color": "#EBF0F8"
             },
             "line": {
              "color": "white"
             }
            },
            "header": {
             "fill": {
              "color": "#C8D4E3"
             },
             "line": {
              "color": "white"
             }
            },
            "type": "table"
           }
          ]
         },
         "layout": {
          "annotationdefaults": {
           "arrowcolor": "#2a3f5f",
           "arrowhead": 0,
           "arrowwidth": 1
          },
          "autotypenumbers": "strict",
          "coloraxis": {
           "colorbar": {
            "outlinewidth": 0,
            "ticks": ""
           }
          },
          "colorscale": {
           "diverging": [
            [
             0,
             "#8e0152"
            ],
            [
             0.1,
             "#c51b7d"
            ],
            [
             0.2,
             "#de77ae"
            ],
            [
             0.3,
             "#f1b6da"
            ],
            [
             0.4,
             "#fde0ef"
            ],
            [
             0.5,
             "#f7f7f7"
            ],
            [
             0.6,
             "#e6f5d0"
            ],
            [
             0.7,
             "#b8e186"
            ],
            [
             0.8,
             "#7fbc41"
            ],
            [
             0.9,
             "#4d9221"
            ],
            [
             1,
             "#276419"
            ]
           ],
           "sequential": [
            [
             0,
             "#0d0887"
            ],
            [
             0.1111111111111111,
             "#46039f"
            ],
            [
             0.2222222222222222,
             "#7201a8"
            ],
            [
             0.3333333333333333,
             "#9c179e"
            ],
            [
             0.4444444444444444,
             "#bd3786"
            ],
            [
             0.5555555555555556,
             "#d8576b"
            ],
            [
             0.6666666666666666,
             "#ed7953"
            ],
            [
             0.7777777777777778,
             "#fb9f3a"
            ],
            [
             0.8888888888888888,
             "#fdca26"
            ],
            [
             1,
             "#f0f921"
            ]
           ],
           "sequentialminus": [
            [
             0,
             "#0d0887"
            ],
            [
             0.1111111111111111,
             "#46039f"
            ],
            [
             0.2222222222222222,
             "#7201a8"
            ],
            [
             0.3333333333333333,
             "#9c179e"
            ],
            [
             0.4444444444444444,
             "#bd3786"
            ],
            [
             0.5555555555555556,
             "#d8576b"
            ],
            [
             0.6666666666666666,
             "#ed7953"
            ],
            [
             0.7777777777777778,
             "#fb9f3a"
            ],
            [
             0.8888888888888888,
             "#fdca26"
            ],
            [
             1,
             "#f0f921"
            ]
           ]
          },
          "colorway": [
           "#636efa",
           "#EF553B",
           "#00cc96",
           "#ab63fa",
           "#FFA15A",
           "#19d3f3",
           "#FF6692",
           "#B6E880",
           "#FF97FF",
           "#FECB52"
          ],
          "font": {
           "color": "#2a3f5f"
          },
          "geo": {
           "bgcolor": "white",
           "lakecolor": "white",
           "landcolor": "#E5ECF6",
           "showlakes": true,
           "showland": true,
           "subunitcolor": "white"
          },
          "hoverlabel": {
           "align": "left"
          },
          "hovermode": "closest",
          "mapbox": {
           "style": "light"
          },
          "paper_bgcolor": "white",
          "plot_bgcolor": "#E5ECF6",
          "polar": {
           "angularaxis": {
            "gridcolor": "white",
            "linecolor": "white",
            "ticks": ""
           },
           "bgcolor": "#E5ECF6",
           "radialaxis": {
            "gridcolor": "white",
            "linecolor": "white",
            "ticks": ""
           }
          },
          "scene": {
           "xaxis": {
            "backgroundcolor": "#E5ECF6",
            "gridcolor": "white",
            "gridwidth": 2,
            "linecolor": "white",
            "showbackground": true,
            "ticks": "",
            "zerolinecolor": "white"
           },
           "yaxis": {
            "backgroundcolor": "#E5ECF6",
            "gridcolor": "white",
            "gridwidth": 2,
            "linecolor": "white",
            "showbackground": true,
            "ticks": "",
            "zerolinecolor": "white"
           },
           "zaxis": {
            "backgroundcolor": "#E5ECF6",
            "gridcolor": "white",
            "gridwidth": 2,
            "linecolor": "white",
            "showbackground": true,
            "ticks": "",
            "zerolinecolor": "white"
           }
          },
          "shapedefaults": {
           "line": {
            "color": "#2a3f5f"
           }
          },
          "ternary": {
           "aaxis": {
            "gridcolor": "white",
            "linecolor": "white",
            "ticks": ""
           },
           "baxis": {
            "gridcolor": "white",
            "linecolor": "white",
            "ticks": ""
           },
           "bgcolor": "#E5ECF6",
           "caxis": {
            "gridcolor": "white",
            "linecolor": "white",
            "ticks": ""
           }
          },
          "title": {
           "x": 0.05
          },
          "xaxis": {
           "automargin": true,
           "gridcolor": "white",
           "linecolor": "white",
           "ticks": "",
           "title": {
            "standoff": 15
           },
           "zerolinecolor": "white",
           "zerolinewidth": 2
          },
          "yaxis": {
           "automargin": true,
           "gridcolor": "white",
           "linecolor": "white",
           "ticks": "",
           "title": {
            "standoff": 15
           },
           "zerolinecolor": "white",
           "zerolinewidth": 2
          }
         }
        },
        "title": {
         "font": {
          "color": "#4D5663"
         }
        },
        "xaxis": {
         "gridcolor": "#E1E5ED",
         "showgrid": true,
         "tickfont": {
          "color": "#4D5663"
         },
         "title": {
          "font": {
           "color": "#4D5663"
          },
          "text": ""
         },
         "zerolinecolor": "#E1E5ED"
        },
        "yaxis": {
         "gridcolor": "#E1E5ED",
         "showgrid": true,
         "tickfont": {
          "color": "#4D5663"
         },
         "title": {
          "font": {
           "color": "#4D5663"
          },
          "text": ""
         },
         "zerolinecolor": "#E1E5ED"
        }
       }
      },
      "text/html": [
       "<div>                            <div id=\"1ba2bcab-01b5-48b7-8a01-1dc7bb976fe8\" class=\"plotly-graph-div\" style=\"height:525px; width:100%;\"></div>            <script type=\"text/javascript\">                require([\"plotly\"], function(Plotly) {                    window.PLOTLYENV=window.PLOTLYENV || {};\n",
       "                    window.PLOTLYENV.BASE_URL='https://plot.ly';                                    if (document.getElementById(\"1ba2bcab-01b5-48b7-8a01-1dc7bb976fe8\")) {                    Plotly.newPlot(                        \"1ba2bcab-01b5-48b7-8a01-1dc7bb976fe8\",                        [{\"colorscale\":[[0.0,\"rgb(165,0,38)\"],[0.1,\"rgb(215,48,39)\"],[0.2,\"rgb(244,109,67)\"],[0.3,\"rgb(253,174,97)\"],[0.4,\"rgb(254,224,144)\"],[0.5,\"rgb(255,255,191)\"],[0.6,\"rgb(224,243,248)\"],[0.7,\"rgb(171,217,233)\"],[0.8,\"rgb(116,173,209)\"],[0.9,\"rgb(69,117,180)\"],[1.0,\"rgb(49,54,149)\"]],\"x\":[0,1,2,3,4],\"y\":[\"x\",\"y\",\"z\"],\"z\":[[1,2,3,4,5],[10,20,30,20,10],[5,4,3,2,1]],\"type\":\"surface\"}],                        {\"legend\":{\"bgcolor\":\"#F5F6F9\",\"font\":{\"color\":\"#4D5663\"}},\"paper_bgcolor\":\"#F5F6F9\",\"plot_bgcolor\":\"#F5F6F9\",\"template\":{\"data\":{\"barpolar\":[{\"marker\":{\"line\":{\"color\":\"#E5ECF6\",\"width\":0.5},\"pattern\":{\"fillmode\":\"overlay\",\"size\":10,\"solidity\":0.2}},\"type\":\"barpolar\"}],\"bar\":[{\"error_x\":{\"color\":\"#2a3f5f\"},\"error_y\":{\"color\":\"#2a3f5f\"},\"marker\":{\"line\":{\"color\":\"#E5ECF6\",\"width\":0.5},\"pattern\":{\"fillmode\":\"overlay\",\"size\":10,\"solidity\":0.2}},\"type\":\"bar\"}],\"carpet\":[{\"aaxis\":{\"endlinecolor\":\"#2a3f5f\",\"gridcolor\":\"white\",\"linecolor\":\"white\",\"minorgridcolor\":\"white\",\"startlinecolor\":\"#2a3f5f\"},\"baxis\":{\"endlinecolor\":\"#2a3f5f\",\"gridcolor\":\"white\",\"linecolor\":\"white\",\"minorgridcolor\":\"white\",\"startlinecolor\":\"#2a3f5f\"},\"type\":\"carpet\"}],\"choropleth\":[{\"colorbar\":{\"outlinewidth\":0,\"ticks\":\"\"},\"type\":\"choropleth\"}],\"contourcarpet\":[{\"colorbar\":{\"outlinewidth\":0,\"ticks\":\"\"},\"type\":\"contourcarpet\"}],\"contour\":[{\"colorbar\":{\"outlinewidth\":0,\"ticks\":\"\"},\"colorscale\":[[0.0,\"#0d0887\"],[0.1111111111111111,\"#46039f\"],[0.2222222222222222,\"#7201a8\"],[0.3333333333333333,\"#9c179e\"],[0.4444444444444444,\"#bd3786\"],[0.5555555555555556,\"#d8576b\"],[0.6666666666666666,\"#ed7953\"],[0.7777777777777778,\"#fb9f3a\"],[0.8888888888888888,\"#fdca26\"],[1.0,\"#f0f921\"]],\"type\":\"contour\"}],\"heatmapgl\":[{\"colorbar\":{\"outlinewidth\":0,\"ticks\":\"\"},\"colorscale\":[[0.0,\"#0d0887\"],[0.1111111111111111,\"#46039f\"],[0.2222222222222222,\"#7201a8\"],[0.3333333333333333,\"#9c179e\"],[0.4444444444444444,\"#bd3786\"],[0.5555555555555556,\"#d8576b\"],[0.6666666666666666,\"#ed7953\"],[0.7777777777777778,\"#fb9f3a\"],[0.8888888888888888,\"#fdca26\"],[1.0,\"#f0f921\"]],\"type\":\"heatmapgl\"}],\"heatmap\":[{\"colorbar\":{\"outlinewidth\":0,\"ticks\":\"\"},\"colorscale\":[[0.0,\"#0d0887\"],[0.1111111111111111,\"#46039f\"],[0.2222222222222222,\"#7201a8\"],[0.3333333333333333,\"#9c179e\"],[0.4444444444444444,\"#bd3786\"],[0.5555555555555556,\"#d8576b\"],[0.6666666666666666,\"#ed7953\"],[0.7777777777777778,\"#fb9f3a\"],[0.8888888888888888,\"#fdca26\"],[1.0,\"#f0f921\"]],\"type\":\"heatmap\"}],\"histogram2dcontour\":[{\"colorbar\":{\"outlinewidth\":0,\"ticks\":\"\"},\"colorscale\":[[0.0,\"#0d0887\"],[0.1111111111111111,\"#46039f\"],[0.2222222222222222,\"#7201a8\"],[0.3333333333333333,\"#9c179e\"],[0.4444444444444444,\"#bd3786\"],[0.5555555555555556,\"#d8576b\"],[0.6666666666666666,\"#ed7953\"],[0.7777777777777778,\"#fb9f3a\"],[0.8888888888888888,\"#fdca26\"],[1.0,\"#f0f921\"]],\"type\":\"histogram2dcontour\"}],\"histogram2d\":[{\"colorbar\":{\"outlinewidth\":0,\"ticks\":\"\"},\"colorscale\":[[0.0,\"#0d0887\"],[0.1111111111111111,\"#46039f\"],[0.2222222222222222,\"#7201a8\"],[0.3333333333333333,\"#9c179e\"],[0.4444444444444444,\"#bd3786\"],[0.5555555555555556,\"#d8576b\"],[0.6666666666666666,\"#ed7953\"],[0.7777777777777778,\"#fb9f3a\"],[0.8888888888888888,\"#fdca26\"],[1.0,\"#f0f921\"]],\"type\":\"histogram2d\"}],\"histogram\":[{\"marker\":{\"pattern\":{\"fillmode\":\"overlay\",\"size\":10,\"solidity\":0.2}},\"type\":\"histogram\"}],\"mesh3d\":[{\"colorbar\":{\"outlinewidth\":0,\"ticks\":\"\"},\"type\":\"mesh3d\"}],\"parcoords\":[{\"line\":{\"colorbar\":{\"outlinewidth\":0,\"ticks\":\"\"}},\"type\":\"parcoords\"}],\"pie\":[{\"automargin\":true,\"type\":\"pie\"}],\"scatter3d\":[{\"line\":{\"colorbar\":{\"outlinewidth\":0,\"ticks\":\"\"}},\"marker\":{\"colorbar\":{\"outlinewidth\":0,\"ticks\":\"\"}},\"type\":\"scatter3d\"}],\"scattercarpet\":[{\"marker\":{\"colorbar\":{\"outlinewidth\":0,\"ticks\":\"\"}},\"type\":\"scattercarpet\"}],\"scattergeo\":[{\"marker\":{\"colorbar\":{\"outlinewidth\":0,\"ticks\":\"\"}},\"type\":\"scattergeo\"}],\"scattergl\":[{\"marker\":{\"colorbar\":{\"outlinewidth\":0,\"ticks\":\"\"}},\"type\":\"scattergl\"}],\"scattermapbox\":[{\"marker\":{\"colorbar\":{\"outlinewidth\":0,\"ticks\":\"\"}},\"type\":\"scattermapbox\"}],\"scatterpolargl\":[{\"marker\":{\"colorbar\":{\"outlinewidth\":0,\"ticks\":\"\"}},\"type\":\"scatterpolargl\"}],\"scatterpolar\":[{\"marker\":{\"colorbar\":{\"outlinewidth\":0,\"ticks\":\"\"}},\"type\":\"scatterpolar\"}],\"scatter\":[{\"fillpattern\":{\"fillmode\":\"overlay\",\"size\":10,\"solidity\":0.2},\"type\":\"scatter\"}],\"scatterternary\":[{\"marker\":{\"colorbar\":{\"outlinewidth\":0,\"ticks\":\"\"}},\"type\":\"scatterternary\"}],\"surface\":[{\"colorbar\":{\"outlinewidth\":0,\"ticks\":\"\"},\"colorscale\":[[0.0,\"#0d0887\"],[0.1111111111111111,\"#46039f\"],[0.2222222222222222,\"#7201a8\"],[0.3333333333333333,\"#9c179e\"],[0.4444444444444444,\"#bd3786\"],[0.5555555555555556,\"#d8576b\"],[0.6666666666666666,\"#ed7953\"],[0.7777777777777778,\"#fb9f3a\"],[0.8888888888888888,\"#fdca26\"],[1.0,\"#f0f921\"]],\"type\":\"surface\"}],\"table\":[{\"cells\":{\"fill\":{\"color\":\"#EBF0F8\"},\"line\":{\"color\":\"white\"}},\"header\":{\"fill\":{\"color\":\"#C8D4E3\"},\"line\":{\"color\":\"white\"}},\"type\":\"table\"}]},\"layout\":{\"annotationdefaults\":{\"arrowcolor\":\"#2a3f5f\",\"arrowhead\":0,\"arrowwidth\":1},\"autotypenumbers\":\"strict\",\"coloraxis\":{\"colorbar\":{\"outlinewidth\":0,\"ticks\":\"\"}},\"colorscale\":{\"diverging\":[[0,\"#8e0152\"],[0.1,\"#c51b7d\"],[0.2,\"#de77ae\"],[0.3,\"#f1b6da\"],[0.4,\"#fde0ef\"],[0.5,\"#f7f7f7\"],[0.6,\"#e6f5d0\"],[0.7,\"#b8e186\"],[0.8,\"#7fbc41\"],[0.9,\"#4d9221\"],[1,\"#276419\"]],\"sequential\":[[0.0,\"#0d0887\"],[0.1111111111111111,\"#46039f\"],[0.2222222222222222,\"#7201a8\"],[0.3333333333333333,\"#9c179e\"],[0.4444444444444444,\"#bd3786\"],[0.5555555555555556,\"#d8576b\"],[0.6666666666666666,\"#ed7953\"],[0.7777777777777778,\"#fb9f3a\"],[0.8888888888888888,\"#fdca26\"],[1.0,\"#f0f921\"]],\"sequentialminus\":[[0.0,\"#0d0887\"],[0.1111111111111111,\"#46039f\"],[0.2222222222222222,\"#7201a8\"],[0.3333333333333333,\"#9c179e\"],[0.4444444444444444,\"#bd3786\"],[0.5555555555555556,\"#d8576b\"],[0.6666666666666666,\"#ed7953\"],[0.7777777777777778,\"#fb9f3a\"],[0.8888888888888888,\"#fdca26\"],[1.0,\"#f0f921\"]]},\"colorway\":[\"#636efa\",\"#EF553B\",\"#00cc96\",\"#ab63fa\",\"#FFA15A\",\"#19d3f3\",\"#FF6692\",\"#B6E880\",\"#FF97FF\",\"#FECB52\"],\"font\":{\"color\":\"#2a3f5f\"},\"geo\":{\"bgcolor\":\"white\",\"lakecolor\":\"white\",\"landcolor\":\"#E5ECF6\",\"showlakes\":true,\"showland\":true,\"subunitcolor\":\"white\"},\"hoverlabel\":{\"align\":\"left\"},\"hovermode\":\"closest\",\"mapbox\":{\"style\":\"light\"},\"paper_bgcolor\":\"white\",\"plot_bgcolor\":\"#E5ECF6\",\"polar\":{\"angularaxis\":{\"gridcolor\":\"white\",\"linecolor\":\"white\",\"ticks\":\"\"},\"bgcolor\":\"#E5ECF6\",\"radialaxis\":{\"gridcolor\":\"white\",\"linecolor\":\"white\",\"ticks\":\"\"}},\"scene\":{\"xaxis\":{\"backgroundcolor\":\"#E5ECF6\",\"gridcolor\":\"white\",\"gridwidth\":2,\"linecolor\":\"white\",\"showbackground\":true,\"ticks\":\"\",\"zerolinecolor\":\"white\"},\"yaxis\":{\"backgroundcolor\":\"#E5ECF6\",\"gridcolor\":\"white\",\"gridwidth\":2,\"linecolor\":\"white\",\"showbackground\":true,\"ticks\":\"\",\"zerolinecolor\":\"white\"},\"zaxis\":{\"backgroundcolor\":\"#E5ECF6\",\"gridcolor\":\"white\",\"gridwidth\":2,\"linecolor\":\"white\",\"showbackground\":true,\"ticks\":\"\",\"zerolinecolor\":\"white\"}},\"shapedefaults\":{\"line\":{\"color\":\"#2a3f5f\"}},\"ternary\":{\"aaxis\":{\"gridcolor\":\"white\",\"linecolor\":\"white\",\"ticks\":\"\"},\"baxis\":{\"gridcolor\":\"white\",\"linecolor\":\"white\",\"ticks\":\"\"},\"bgcolor\":\"#E5ECF6\",\"caxis\":{\"gridcolor\":\"white\",\"linecolor\":\"white\",\"ticks\":\"\"}},\"title\":{\"x\":0.05},\"xaxis\":{\"automargin\":true,\"gridcolor\":\"white\",\"linecolor\":\"white\",\"ticks\":\"\",\"title\":{\"standoff\":15},\"zerolinecolor\":\"white\",\"zerolinewidth\":2},\"yaxis\":{\"automargin\":true,\"gridcolor\":\"white\",\"linecolor\":\"white\",\"ticks\":\"\",\"title\":{\"standoff\":15},\"zerolinecolor\":\"white\",\"zerolinewidth\":2}}},\"title\":{\"font\":{\"color\":\"#4D5663\"}},\"xaxis\":{\"gridcolor\":\"#E1E5ED\",\"showgrid\":true,\"tickfont\":{\"color\":\"#4D5663\"},\"title\":{\"font\":{\"color\":\"#4D5663\"},\"text\":\"\"},\"zerolinecolor\":\"#E1E5ED\"},\"yaxis\":{\"gridcolor\":\"#E1E5ED\",\"showgrid\":true,\"tickfont\":{\"color\":\"#4D5663\"},\"title\":{\"font\":{\"color\":\"#4D5663\"},\"text\":\"\"},\"zerolinecolor\":\"#E1E5ED\"}},                        {\"showLink\": true, \"linkText\": \"Export to plot.ly\", \"plotlyServerURL\": \"https://plot.ly\", \"responsive\": true}                    ).then(function(){\n",
       "                            \n",
       "var gd = document.getElementById('1ba2bcab-01b5-48b7-8a01-1dc7bb976fe8');\n",
       "var x = new MutationObserver(function (mutations, observer) {{\n",
       "        var display = window.getComputedStyle(gd).display;\n",
       "        if (!display || display === 'none') {{\n",
       "            console.log([gd, 'removed!']);\n",
       "            Plotly.purge(gd);\n",
       "            observer.disconnect();\n",
       "        }}\n",
       "}});\n",
       "\n",
       "// Listen for the removal of the full notebook cells\n",
       "var notebookContainer = gd.closest('#notebook-container');\n",
       "if (notebookContainer) {{\n",
       "    x.observe(notebookContainer, {childList: true});\n",
       "}}\n",
       "\n",
       "// Listen for the clearing of the current output cell\n",
       "var outputEl = gd.closest('.output');\n",
       "if (outputEl) {{\n",
       "    x.observe(outputEl, {childList: true});\n",
       "}}\n",
       "\n",
       "                        })                };                });            </script>        </div>"
      ]
     },
     "metadata": {},
     "output_type": "display_data"
    }
   ],
   "source": [
    "df3 = pd.DataFrame({'x':[1,2,3,4,5],'y':[10,20,30,20,10],'z':[5,4,3,2,1]})\n",
    "df3.iplot(kind='surface',colorscale='rdylbu')"
   ]
  },
  {
   "cell_type": "markdown",
   "metadata": {},
   "source": [
    "## Spread"
   ]
  },
  {
   "cell_type": "code",
   "execution_count": 20,
   "metadata": {},
   "outputs": [
    {
     "ename": "AttributeError",
     "evalue": "module 'pandas' has no attribute 'np'",
     "output_type": "error",
     "traceback": [
      "\u001b[1;31m---------------------------------------------------------------------------\u001b[0m",
      "\u001b[1;31mAttributeError\u001b[0m                            Traceback (most recent call last)",
      "Cell \u001b[1;32mIn[20], line 1\u001b[0m\n\u001b[1;32m----> 1\u001b[0m df[[\u001b[38;5;124m'\u001b[39m\u001b[38;5;124mA\u001b[39m\u001b[38;5;124m'\u001b[39m,\u001b[38;5;124m'\u001b[39m\u001b[38;5;124mB\u001b[39m\u001b[38;5;124m'\u001b[39m]]\u001b[38;5;241m.\u001b[39miplot(kind\u001b[38;5;241m=\u001b[39m\u001b[38;5;124m'\u001b[39m\u001b[38;5;124mspread\u001b[39m\u001b[38;5;124m'\u001b[39m)\n",
      "File \u001b[1;32m~\\anaconda3\\Lib\\site-packages\\cufflinks\\plotlytools.py:849\u001b[0m, in \u001b[0;36m_iplot\u001b[1;34m(self, kind, data, layout, filename, sharing, title, xTitle, yTitle, zTitle, theme, colors, colorscale, fill, width, dash, mode, interpolation, symbol, size, barmode, sortbars, bargap, bargroupgap, bins, histnorm, histfunc, orientation, boxpoints, annotations, keys, bestfit, bestfit_colors, mean, mean_colors, categories, x, y, z, text, gridcolor, zerolinecolor, margin, labels, values, secondary_y, secondary_y_title, subplots, shape, error_x, error_y, error_type, locations, lon, lat, asFrame, asDates, asFigure, asImage, dimensions, asPlot, asUrl, online, **kwargs)\u001b[0m\n\u001b[0;32m    847\u001b[0m \u001b[38;5;28;01mif\u001b[39;00m kind\u001b[38;5;241m==\u001b[39m\u001b[38;5;124m'\u001b[39m\u001b[38;5;124mspread\u001b[39m\u001b[38;5;124m'\u001b[39m:\n\u001b[0;32m    848\u001b[0m \ttrace\u001b[38;5;241m=\u001b[39m\u001b[38;5;28mself\u001b[39m\u001b[38;5;241m.\u001b[39mapply(\u001b[38;5;28;01mlambda\u001b[39;00m x:x[\u001b[38;5;241m0\u001b[39m]\u001b[38;5;241m-\u001b[39mx[\u001b[38;5;241m1\u001b[39m],axis\u001b[38;5;241m=\u001b[39m\u001b[38;5;241m1\u001b[39m)\n\u001b[1;32m--> 849\u001b[0m \tpositive\u001b[38;5;241m=\u001b[39mtrace\u001b[38;5;241m.\u001b[39mapply(\u001b[38;5;28;01mlambda\u001b[39;00m x:x \u001b[38;5;28;01mif\u001b[39;00m x\u001b[38;5;241m>\u001b[39m\u001b[38;5;241m=\u001b[39m\u001b[38;5;241m0\u001b[39m \u001b[38;5;28;01melse\u001b[39;00m pd\u001b[38;5;241m.\u001b[39mnp\u001b[38;5;241m.\u001b[39mnan)\n\u001b[0;32m    850\u001b[0m \tnegative\u001b[38;5;241m=\u001b[39mtrace\u001b[38;5;241m.\u001b[39mapply(\u001b[38;5;28;01mlambda\u001b[39;00m x:x \u001b[38;5;28;01mif\u001b[39;00m x\u001b[38;5;241m<\u001b[39m\u001b[38;5;241m0\u001b[39m \u001b[38;5;28;01melse\u001b[39;00m pd\u001b[38;5;241m.\u001b[39mnp\u001b[38;5;241m.\u001b[39mnan)\n\u001b[0;32m    851\u001b[0m \ttrace\u001b[38;5;241m=\u001b[39mpd\u001b[38;5;241m.\u001b[39mDataFrame({\u001b[38;5;124m'\u001b[39m\u001b[38;5;124mpositive\u001b[39m\u001b[38;5;124m'\u001b[39m:positive,\u001b[38;5;124m'\u001b[39m\u001b[38;5;124mnegative\u001b[39m\u001b[38;5;124m'\u001b[39m:negative})\n",
      "File \u001b[1;32m~\\anaconda3\\Lib\\site-packages\\pandas\\core\\series.py:4630\u001b[0m, in \u001b[0;36mSeries.apply\u001b[1;34m(self, func, convert_dtype, args, **kwargs)\u001b[0m\n\u001b[0;32m   4520\u001b[0m \u001b[38;5;28;01mdef\u001b[39;00m \u001b[38;5;21mapply\u001b[39m(\n\u001b[0;32m   4521\u001b[0m     \u001b[38;5;28mself\u001b[39m,\n\u001b[0;32m   4522\u001b[0m     func: AggFuncType,\n\u001b[1;32m   (...)\u001b[0m\n\u001b[0;32m   4525\u001b[0m     \u001b[38;5;241m*\u001b[39m\u001b[38;5;241m*\u001b[39mkwargs,\n\u001b[0;32m   4526\u001b[0m ) \u001b[38;5;241m-\u001b[39m\u001b[38;5;241m>\u001b[39m DataFrame \u001b[38;5;241m|\u001b[39m Series:\n\u001b[0;32m   4527\u001b[0m \u001b[38;5;250m    \u001b[39m\u001b[38;5;124;03m\"\"\"\u001b[39;00m\n\u001b[0;32m   4528\u001b[0m \u001b[38;5;124;03m    Invoke function on values of Series.\u001b[39;00m\n\u001b[0;32m   4529\u001b[0m \n\u001b[1;32m   (...)\u001b[0m\n\u001b[0;32m   4628\u001b[0m \u001b[38;5;124;03m    dtype: float64\u001b[39;00m\n\u001b[0;32m   4629\u001b[0m \u001b[38;5;124;03m    \"\"\"\u001b[39;00m\n\u001b[1;32m-> 4630\u001b[0m     \u001b[38;5;28;01mreturn\u001b[39;00m SeriesApply(\u001b[38;5;28mself\u001b[39m, func, convert_dtype, args, kwargs)\u001b[38;5;241m.\u001b[39mapply()\n",
      "File \u001b[1;32m~\\anaconda3\\Lib\\site-packages\\pandas\\core\\apply.py:1025\u001b[0m, in \u001b[0;36mSeriesApply.apply\u001b[1;34m(self)\u001b[0m\n\u001b[0;32m   1022\u001b[0m     \u001b[38;5;28;01mreturn\u001b[39;00m \u001b[38;5;28mself\u001b[39m\u001b[38;5;241m.\u001b[39mapply_str()\n\u001b[0;32m   1024\u001b[0m \u001b[38;5;66;03m# self.f is Callable\u001b[39;00m\n\u001b[1;32m-> 1025\u001b[0m \u001b[38;5;28;01mreturn\u001b[39;00m \u001b[38;5;28mself\u001b[39m\u001b[38;5;241m.\u001b[39mapply_standard()\n",
      "File \u001b[1;32m~\\anaconda3\\Lib\\site-packages\\pandas\\core\\apply.py:1076\u001b[0m, in \u001b[0;36mSeriesApply.apply_standard\u001b[1;34m(self)\u001b[0m\n\u001b[0;32m   1074\u001b[0m     \u001b[38;5;28;01melse\u001b[39;00m:\n\u001b[0;32m   1075\u001b[0m         values \u001b[38;5;241m=\u001b[39m obj\u001b[38;5;241m.\u001b[39mastype(\u001b[38;5;28mobject\u001b[39m)\u001b[38;5;241m.\u001b[39m_values\n\u001b[1;32m-> 1076\u001b[0m         mapped \u001b[38;5;241m=\u001b[39m lib\u001b[38;5;241m.\u001b[39mmap_infer(\n\u001b[0;32m   1077\u001b[0m             values,\n\u001b[0;32m   1078\u001b[0m             f,\n\u001b[0;32m   1079\u001b[0m             convert\u001b[38;5;241m=\u001b[39m\u001b[38;5;28mself\u001b[39m\u001b[38;5;241m.\u001b[39mconvert_dtype,\n\u001b[0;32m   1080\u001b[0m         )\n\u001b[0;32m   1082\u001b[0m \u001b[38;5;28;01mif\u001b[39;00m \u001b[38;5;28mlen\u001b[39m(mapped) \u001b[38;5;129;01mand\u001b[39;00m \u001b[38;5;28misinstance\u001b[39m(mapped[\u001b[38;5;241m0\u001b[39m], ABCSeries):\n\u001b[0;32m   1083\u001b[0m     \u001b[38;5;66;03m# GH#43986 Need to do list(mapped) in order to get treated as nested\u001b[39;00m\n\u001b[0;32m   1084\u001b[0m     \u001b[38;5;66;03m#  See also GH#25959 regarding EA support\u001b[39;00m\n\u001b[0;32m   1085\u001b[0m     \u001b[38;5;28;01mreturn\u001b[39;00m obj\u001b[38;5;241m.\u001b[39m_constructor_expanddim(\u001b[38;5;28mlist\u001b[39m(mapped), index\u001b[38;5;241m=\u001b[39mobj\u001b[38;5;241m.\u001b[39mindex)\n",
      "File \u001b[1;32m~\\anaconda3\\Lib\\site-packages\\pandas\\_libs\\lib.pyx:2834\u001b[0m, in \u001b[0;36mpandas._libs.lib.map_infer\u001b[1;34m()\u001b[0m\n",
      "File \u001b[1;32m~\\anaconda3\\Lib\\site-packages\\cufflinks\\plotlytools.py:849\u001b[0m, in \u001b[0;36m_iplot.<locals>.<lambda>\u001b[1;34m(x)\u001b[0m\n\u001b[0;32m    847\u001b[0m \u001b[38;5;28;01mif\u001b[39;00m kind\u001b[38;5;241m==\u001b[39m\u001b[38;5;124m'\u001b[39m\u001b[38;5;124mspread\u001b[39m\u001b[38;5;124m'\u001b[39m:\n\u001b[0;32m    848\u001b[0m \ttrace\u001b[38;5;241m=\u001b[39m\u001b[38;5;28mself\u001b[39m\u001b[38;5;241m.\u001b[39mapply(\u001b[38;5;28;01mlambda\u001b[39;00m x:x[\u001b[38;5;241m0\u001b[39m]\u001b[38;5;241m-\u001b[39mx[\u001b[38;5;241m1\u001b[39m],axis\u001b[38;5;241m=\u001b[39m\u001b[38;5;241m1\u001b[39m)\n\u001b[1;32m--> 849\u001b[0m \tpositive\u001b[38;5;241m=\u001b[39mtrace\u001b[38;5;241m.\u001b[39mapply(\u001b[38;5;28;01mlambda\u001b[39;00m x:x \u001b[38;5;28;01mif\u001b[39;00m x\u001b[38;5;241m>\u001b[39m\u001b[38;5;241m=\u001b[39m\u001b[38;5;241m0\u001b[39m \u001b[38;5;28;01melse\u001b[39;00m pd\u001b[38;5;241m.\u001b[39mnp\u001b[38;5;241m.\u001b[39mnan)\n\u001b[0;32m    850\u001b[0m \tnegative\u001b[38;5;241m=\u001b[39mtrace\u001b[38;5;241m.\u001b[39mapply(\u001b[38;5;28;01mlambda\u001b[39;00m x:x \u001b[38;5;28;01mif\u001b[39;00m x\u001b[38;5;241m<\u001b[39m\u001b[38;5;241m0\u001b[39m \u001b[38;5;28;01melse\u001b[39;00m pd\u001b[38;5;241m.\u001b[39mnp\u001b[38;5;241m.\u001b[39mnan)\n\u001b[0;32m    851\u001b[0m \ttrace\u001b[38;5;241m=\u001b[39mpd\u001b[38;5;241m.\u001b[39mDataFrame({\u001b[38;5;124m'\u001b[39m\u001b[38;5;124mpositive\u001b[39m\u001b[38;5;124m'\u001b[39m:positive,\u001b[38;5;124m'\u001b[39m\u001b[38;5;124mnegative\u001b[39m\u001b[38;5;124m'\u001b[39m:negative})\n",
      "\u001b[1;31mAttributeError\u001b[0m: module 'pandas' has no attribute 'np'"
     ]
    }
   ],
   "source": [
    "df[['A','B']].iplot(kind='spread')"
   ]
  },
  {
   "cell_type": "markdown",
   "metadata": {},
   "source": [
    "## histogram"
   ]
  },
  {
   "cell_type": "code",
   "execution_count": 21,
   "metadata": {},
   "outputs": [
    {
     "data": {
      "application/vnd.plotly.v1+json": {
       "config": {
        "linkText": "Export to plot.ly",
        "plotlyServerURL": "https://plot.ly",
        "showLink": true
       },
       "data": [
        {
         "histfunc": "count",
         "histnorm": "",
         "marker": {
          "color": "rgba(255, 153, 51, 1.0)",
          "line": {
           "color": "#4D5663",
           "width": 1.3
          }
         },
         "name": "A",
         "nbinsx": 25,
         "opacity": 0.8,
         "orientation": "v",
         "type": "histogram",
         "x": [
          -0.5882201862615739,
          -0.1444088146832521,
          -0.7206830682849644,
          1.3936579949157097,
          -0.19862000637931865,
          -0.27593821881612995,
          0.10946967362279274,
          -0.7994858635802414,
          0.1678150311420152,
          -0.03259329436621168,
          -0.38777224262700793,
          -0.9754539192544475,
          0.31246023384261074,
          -0.16315024393863606,
          0.1433325386094532,
          0.33921612803869455,
          0.1687111089431125,
          -1.0293821555773768,
          0.9359095977765699,
          -0.851942028353327,
          0.27136104667763106,
          2.0938787705300403,
          -1.6874972996029145,
          -0.4906760954841787,
          1.014382803145646,
          -0.6868968224829972,
          -0.7713142158581506,
          -1.0629976127507368,
          -0.3911478166219877,
          -1.6997231884085433,
          0.4760470417318967,
          1.368331511888546,
          -0.9584745559245262,
          -1.183217404290445,
          -0.575483118709692,
          1.3026615111527207,
          0.1441487490352291,
          -1.0594506247977764,
          -1.5380315053002944,
          2.4091356980594285,
          1.0046246460929371,
          0.16397580097306277,
          -0.27806055403543156,
          1.1825457833448632,
          0.9927116557574145,
          0.6401164337634135,
          -0.17126633776369268,
          -0.09314210703339369,
          -1.2500682591239412,
          1.5249423799561066,
          0.7261411639316259,
          1.590022568827245,
          -0.04437577138374293,
          -0.19365124054278118,
          -1.537393958681574,
          1.5201990369248464,
          1.677601948736433,
          -0.17840117181941412,
          -0.260180030841215,
          -0.2744427137172959,
          -0.05364077060641442,
          -1.388808568459774,
          -0.2976181577756708,
          -0.05489380423532537,
          0.24230246636410666,
          0.05706581952694559,
          -0.5203533785804892,
          -0.4759391251040668,
          1.9466209582861882,
          0.8574801728519554,
          -0.42732486530133573,
          1.2327550002736216,
          1.5230759358429147,
          0.9259071632069753,
          1.4978812400979802,
          -0.5868307177392983,
          -0.21430818657024733,
          0.4275909334188216,
          -0.7517631229589176,
          0.40933185053435545,
          1.0494839530728004,
          1.009305230913276,
          -0.24943062954401313,
          -0.4313553585139899,
          -0.17170921243621456,
          1.6841789479225455,
          -0.9526310880361992,
          0.12458637521250845,
          0.5687516401383191,
          0.8383341998997003,
          0.9996013164266332,
          -1.2654481776987168,
          0.06368071956753159,
          -0.5823383450272381,
          0.8242370577808078,
          0.04917197237671641,
          -1.0627241384534636,
          -0.8690415122855502,
          0.413248602855076,
          1.4561243863993238
         ]
        }
       ],
       "layout": {
        "barmode": "overlay",
        "legend": {
         "bgcolor": "#F5F6F9",
         "font": {
          "color": "#4D5663"
         }
        },
        "paper_bgcolor": "#F5F6F9",
        "plot_bgcolor": "#F5F6F9",
        "template": {
         "data": {
          "bar": [
           {
            "error_x": {
             "color": "#2a3f5f"
            },
            "error_y": {
             "color": "#2a3f5f"
            },
            "marker": {
             "line": {
              "color": "#E5ECF6",
              "width": 0.5
             },
             "pattern": {
              "fillmode": "overlay",
              "size": 10,
              "solidity": 0.2
             }
            },
            "type": "bar"
           }
          ],
          "barpolar": [
           {
            "marker": {
             "line": {
              "color": "#E5ECF6",
              "width": 0.5
             },
             "pattern": {
              "fillmode": "overlay",
              "size": 10,
              "solidity": 0.2
             }
            },
            "type": "barpolar"
           }
          ],
          "carpet": [
           {
            "aaxis": {
             "endlinecolor": "#2a3f5f",
             "gridcolor": "white",
             "linecolor": "white",
             "minorgridcolor": "white",
             "startlinecolor": "#2a3f5f"
            },
            "baxis": {
             "endlinecolor": "#2a3f5f",
             "gridcolor": "white",
             "linecolor": "white",
             "minorgridcolor": "white",
             "startlinecolor": "#2a3f5f"
            },
            "type": "carpet"
           }
          ],
          "choropleth": [
           {
            "colorbar": {
             "outlinewidth": 0,
             "ticks": ""
            },
            "type": "choropleth"
           }
          ],
          "contour": [
           {
            "colorbar": {
             "outlinewidth": 0,
             "ticks": ""
            },
            "colorscale": [
             [
              0,
              "#0d0887"
             ],
             [
              0.1111111111111111,
              "#46039f"
             ],
             [
              0.2222222222222222,
              "#7201a8"
             ],
             [
              0.3333333333333333,
              "#9c179e"
             ],
             [
              0.4444444444444444,
              "#bd3786"
             ],
             [
              0.5555555555555556,
              "#d8576b"
             ],
             [
              0.6666666666666666,
              "#ed7953"
             ],
             [
              0.7777777777777778,
              "#fb9f3a"
             ],
             [
              0.8888888888888888,
              "#fdca26"
             ],
             [
              1,
              "#f0f921"
             ]
            ],
            "type": "contour"
           }
          ],
          "contourcarpet": [
           {
            "colorbar": {
             "outlinewidth": 0,
             "ticks": ""
            },
            "type": "contourcarpet"
           }
          ],
          "heatmap": [
           {
            "colorbar": {
             "outlinewidth": 0,
             "ticks": ""
            },
            "colorscale": [
             [
              0,
              "#0d0887"
             ],
             [
              0.1111111111111111,
              "#46039f"
             ],
             [
              0.2222222222222222,
              "#7201a8"
             ],
             [
              0.3333333333333333,
              "#9c179e"
             ],
             [
              0.4444444444444444,
              "#bd3786"
             ],
             [
              0.5555555555555556,
              "#d8576b"
             ],
             [
              0.6666666666666666,
              "#ed7953"
             ],
             [
              0.7777777777777778,
              "#fb9f3a"
             ],
             [
              0.8888888888888888,
              "#fdca26"
             ],
             [
              1,
              "#f0f921"
             ]
            ],
            "type": "heatmap"
           }
          ],
          "heatmapgl": [
           {
            "colorbar": {
             "outlinewidth": 0,
             "ticks": ""
            },
            "colorscale": [
             [
              0,
              "#0d0887"
             ],
             [
              0.1111111111111111,
              "#46039f"
             ],
             [
              0.2222222222222222,
              "#7201a8"
             ],
             [
              0.3333333333333333,
              "#9c179e"
             ],
             [
              0.4444444444444444,
              "#bd3786"
             ],
             [
              0.5555555555555556,
              "#d8576b"
             ],
             [
              0.6666666666666666,
              "#ed7953"
             ],
             [
              0.7777777777777778,
              "#fb9f3a"
             ],
             [
              0.8888888888888888,
              "#fdca26"
             ],
             [
              1,
              "#f0f921"
             ]
            ],
            "type": "heatmapgl"
           }
          ],
          "histogram": [
           {
            "marker": {
             "pattern": {
              "fillmode": "overlay",
              "size": 10,
              "solidity": 0.2
             }
            },
            "type": "histogram"
           }
          ],
          "histogram2d": [
           {
            "colorbar": {
             "outlinewidth": 0,
             "ticks": ""
            },
            "colorscale": [
             [
              0,
              "#0d0887"
             ],
             [
              0.1111111111111111,
              "#46039f"
             ],
             [
              0.2222222222222222,
              "#7201a8"
             ],
             [
              0.3333333333333333,
              "#9c179e"
             ],
             [
              0.4444444444444444,
              "#bd3786"
             ],
             [
              0.5555555555555556,
              "#d8576b"
             ],
             [
              0.6666666666666666,
              "#ed7953"
             ],
             [
              0.7777777777777778,
              "#fb9f3a"
             ],
             [
              0.8888888888888888,
              "#fdca26"
             ],
             [
              1,
              "#f0f921"
             ]
            ],
            "type": "histogram2d"
           }
          ],
          "histogram2dcontour": [
           {
            "colorbar": {
             "outlinewidth": 0,
             "ticks": ""
            },
            "colorscale": [
             [
              0,
              "#0d0887"
             ],
             [
              0.1111111111111111,
              "#46039f"
             ],
             [
              0.2222222222222222,
              "#7201a8"
             ],
             [
              0.3333333333333333,
              "#9c179e"
             ],
             [
              0.4444444444444444,
              "#bd3786"
             ],
             [
              0.5555555555555556,
              "#d8576b"
             ],
             [
              0.6666666666666666,
              "#ed7953"
             ],
             [
              0.7777777777777778,
              "#fb9f3a"
             ],
             [
              0.8888888888888888,
              "#fdca26"
             ],
             [
              1,
              "#f0f921"
             ]
            ],
            "type": "histogram2dcontour"
           }
          ],
          "mesh3d": [
           {
            "colorbar": {
             "outlinewidth": 0,
             "ticks": ""
            },
            "type": "mesh3d"
           }
          ],
          "parcoords": [
           {
            "line": {
             "colorbar": {
              "outlinewidth": 0,
              "ticks": ""
             }
            },
            "type": "parcoords"
           }
          ],
          "pie": [
           {
            "automargin": true,
            "type": "pie"
           }
          ],
          "scatter": [
           {
            "fillpattern": {
             "fillmode": "overlay",
             "size": 10,
             "solidity": 0.2
            },
            "type": "scatter"
           }
          ],
          "scatter3d": [
           {
            "line": {
             "colorbar": {
              "outlinewidth": 0,
              "ticks": ""
             }
            },
            "marker": {
             "colorbar": {
              "outlinewidth": 0,
              "ticks": ""
             }
            },
            "type": "scatter3d"
           }
          ],
          "scattercarpet": [
           {
            "marker": {
             "colorbar": {
              "outlinewidth": 0,
              "ticks": ""
             }
            },
            "type": "scattercarpet"
           }
          ],
          "scattergeo": [
           {
            "marker": {
             "colorbar": {
              "outlinewidth": 0,
              "ticks": ""
             }
            },
            "type": "scattergeo"
           }
          ],
          "scattergl": [
           {
            "marker": {
             "colorbar": {
              "outlinewidth": 0,
              "ticks": ""
             }
            },
            "type": "scattergl"
           }
          ],
          "scattermapbox": [
           {
            "marker": {
             "colorbar": {
              "outlinewidth": 0,
              "ticks": ""
             }
            },
            "type": "scattermapbox"
           }
          ],
          "scatterpolar": [
           {
            "marker": {
             "colorbar": {
              "outlinewidth": 0,
              "ticks": ""
             }
            },
            "type": "scatterpolar"
           }
          ],
          "scatterpolargl": [
           {
            "marker": {
             "colorbar": {
              "outlinewidth": 0,
              "ticks": ""
             }
            },
            "type": "scatterpolargl"
           }
          ],
          "scatterternary": [
           {
            "marker": {
             "colorbar": {
              "outlinewidth": 0,
              "ticks": ""
             }
            },
            "type": "scatterternary"
           }
          ],
          "surface": [
           {
            "colorbar": {
             "outlinewidth": 0,
             "ticks": ""
            },
            "colorscale": [
             [
              0,
              "#0d0887"
             ],
             [
              0.1111111111111111,
              "#46039f"
             ],
             [
              0.2222222222222222,
              "#7201a8"
             ],
             [
              0.3333333333333333,
              "#9c179e"
             ],
             [
              0.4444444444444444,
              "#bd3786"
             ],
             [
              0.5555555555555556,
              "#d8576b"
             ],
             [
              0.6666666666666666,
              "#ed7953"
             ],
             [
              0.7777777777777778,
              "#fb9f3a"
             ],
             [
              0.8888888888888888,
              "#fdca26"
             ],
             [
              1,
              "#f0f921"
             ]
            ],
            "type": "surface"
           }
          ],
          "table": [
           {
            "cells": {
             "fill": {
              "color": "#EBF0F8"
             },
             "line": {
              "color": "white"
             }
            },
            "header": {
             "fill": {
              "color": "#C8D4E3"
             },
             "line": {
              "color": "white"
             }
            },
            "type": "table"
           }
          ]
         },
         "layout": {
          "annotationdefaults": {
           "arrowcolor": "#2a3f5f",
           "arrowhead": 0,
           "arrowwidth": 1
          },
          "autotypenumbers": "strict",
          "coloraxis": {
           "colorbar": {
            "outlinewidth": 0,
            "ticks": ""
           }
          },
          "colorscale": {
           "diverging": [
            [
             0,
             "#8e0152"
            ],
            [
             0.1,
             "#c51b7d"
            ],
            [
             0.2,
             "#de77ae"
            ],
            [
             0.3,
             "#f1b6da"
            ],
            [
             0.4,
             "#fde0ef"
            ],
            [
             0.5,
             "#f7f7f7"
            ],
            [
             0.6,
             "#e6f5d0"
            ],
            [
             0.7,
             "#b8e186"
            ],
            [
             0.8,
             "#7fbc41"
            ],
            [
             0.9,
             "#4d9221"
            ],
            [
             1,
             "#276419"
            ]
           ],
           "sequential": [
            [
             0,
             "#0d0887"
            ],
            [
             0.1111111111111111,
             "#46039f"
            ],
            [
             0.2222222222222222,
             "#7201a8"
            ],
            [
             0.3333333333333333,
             "#9c179e"
            ],
            [
             0.4444444444444444,
             "#bd3786"
            ],
            [
             0.5555555555555556,
             "#d8576b"
            ],
            [
             0.6666666666666666,
             "#ed7953"
            ],
            [
             0.7777777777777778,
             "#fb9f3a"
            ],
            [
             0.8888888888888888,
             "#fdca26"
            ],
            [
             1,
             "#f0f921"
            ]
           ],
           "sequentialminus": [
            [
             0,
             "#0d0887"
            ],
            [
             0.1111111111111111,
             "#46039f"
            ],
            [
             0.2222222222222222,
             "#7201a8"
            ],
            [
             0.3333333333333333,
             "#9c179e"
            ],
            [
             0.4444444444444444,
             "#bd3786"
            ],
            [
             0.5555555555555556,
             "#d8576b"
            ],
            [
             0.6666666666666666,
             "#ed7953"
            ],
            [
             0.7777777777777778,
             "#fb9f3a"
            ],
            [
             0.8888888888888888,
             "#fdca26"
            ],
            [
             1,
             "#f0f921"
            ]
           ]
          },
          "colorway": [
           "#636efa",
           "#EF553B",
           "#00cc96",
           "#ab63fa",
           "#FFA15A",
           "#19d3f3",
           "#FF6692",
           "#B6E880",
           "#FF97FF",
           "#FECB52"
          ],
          "font": {
           "color": "#2a3f5f"
          },
          "geo": {
           "bgcolor": "white",
           "lakecolor": "white",
           "landcolor": "#E5ECF6",
           "showlakes": true,
           "showland": true,
           "subunitcolor": "white"
          },
          "hoverlabel": {
           "align": "left"
          },
          "hovermode": "closest",
          "mapbox": {
           "style": "light"
          },
          "paper_bgcolor": "white",
          "plot_bgcolor": "#E5ECF6",
          "polar": {
           "angularaxis": {
            "gridcolor": "white",
            "linecolor": "white",
            "ticks": ""
           },
           "bgcolor": "#E5ECF6",
           "radialaxis": {
            "gridcolor": "white",
            "linecolor": "white",
            "ticks": ""
           }
          },
          "scene": {
           "xaxis": {
            "backgroundcolor": "#E5ECF6",
            "gridcolor": "white",
            "gridwidth": 2,
            "linecolor": "white",
            "showbackground": true,
            "ticks": "",
            "zerolinecolor": "white"
           },
           "yaxis": {
            "backgroundcolor": "#E5ECF6",
            "gridcolor": "white",
            "gridwidth": 2,
            "linecolor": "white",
            "showbackground": true,
            "ticks": "",
            "zerolinecolor": "white"
           },
           "zaxis": {
            "backgroundcolor": "#E5ECF6",
            "gridcolor": "white",
            "gridwidth": 2,
            "linecolor": "white",
            "showbackground": true,
            "ticks": "",
            "zerolinecolor": "white"
           }
          },
          "shapedefaults": {
           "line": {
            "color": "#2a3f5f"
           }
          },
          "ternary": {
           "aaxis": {
            "gridcolor": "white",
            "linecolor": "white",
            "ticks": ""
           },
           "baxis": {
            "gridcolor": "white",
            "linecolor": "white",
            "ticks": ""
           },
           "bgcolor": "#E5ECF6",
           "caxis": {
            "gridcolor": "white",
            "linecolor": "white",
            "ticks": ""
           }
          },
          "title": {
           "x": 0.05
          },
          "xaxis": {
           "automargin": true,
           "gridcolor": "white",
           "linecolor": "white",
           "ticks": "",
           "title": {
            "standoff": 15
           },
           "zerolinecolor": "white",
           "zerolinewidth": 2
          },
          "yaxis": {
           "automargin": true,
           "gridcolor": "white",
           "linecolor": "white",
           "ticks": "",
           "title": {
            "standoff": 15
           },
           "zerolinecolor": "white",
           "zerolinewidth": 2
          }
         }
        },
        "title": {
         "font": {
          "color": "#4D5663"
         }
        },
        "xaxis": {
         "gridcolor": "#E1E5ED",
         "showgrid": true,
         "tickfont": {
          "color": "#4D5663"
         },
         "title": {
          "font": {
           "color": "#4D5663"
          },
          "text": ""
         },
         "zerolinecolor": "#E1E5ED"
        },
        "yaxis": {
         "gridcolor": "#E1E5ED",
         "showgrid": true,
         "tickfont": {
          "color": "#4D5663"
         },
         "title": {
          "font": {
           "color": "#4D5663"
          },
          "text": ""
         },
         "zerolinecolor": "#E1E5ED"
        }
       }
      },
      "text/html": [
       "<div>                            <div id=\"b820c7e2-fe49-4e9b-9648-6ddf895ba8e0\" class=\"plotly-graph-div\" style=\"height:525px; width:100%;\"></div>            <script type=\"text/javascript\">                require([\"plotly\"], function(Plotly) {                    window.PLOTLYENV=window.PLOTLYENV || {};\n",
       "                    window.PLOTLYENV.BASE_URL='https://plot.ly';                                    if (document.getElementById(\"b820c7e2-fe49-4e9b-9648-6ddf895ba8e0\")) {                    Plotly.newPlot(                        \"b820c7e2-fe49-4e9b-9648-6ddf895ba8e0\",                        [{\"histfunc\":\"count\",\"histnorm\":\"\",\"marker\":{\"color\":\"rgba(255, 153, 51, 1.0)\",\"line\":{\"color\":\"#4D5663\",\"width\":1.3}},\"name\":\"A\",\"nbinsx\":25,\"opacity\":0.8,\"orientation\":\"v\",\"x\":[-0.5882201862615739,-0.1444088146832521,-0.7206830682849644,1.3936579949157097,-0.19862000637931865,-0.27593821881612995,0.10946967362279274,-0.7994858635802414,0.1678150311420152,-0.03259329436621168,-0.38777224262700793,-0.9754539192544475,0.31246023384261074,-0.16315024393863606,0.1433325386094532,0.33921612803869455,0.1687111089431125,-1.0293821555773768,0.9359095977765699,-0.851942028353327,0.27136104667763106,2.0938787705300403,-1.6874972996029145,-0.4906760954841787,1.014382803145646,-0.6868968224829972,-0.7713142158581506,-1.0629976127507368,-0.3911478166219877,-1.6997231884085433,0.4760470417318967,1.368331511888546,-0.9584745559245262,-1.183217404290445,-0.575483118709692,1.3026615111527207,0.1441487490352291,-1.0594506247977764,-1.5380315053002944,2.4091356980594285,1.0046246460929371,0.16397580097306277,-0.27806055403543156,1.1825457833448632,0.9927116557574145,0.6401164337634135,-0.17126633776369268,-0.09314210703339369,-1.2500682591239412,1.5249423799561066,0.7261411639316259,1.590022568827245,-0.04437577138374293,-0.19365124054278118,-1.537393958681574,1.5201990369248464,1.677601948736433,-0.17840117181941412,-0.260180030841215,-0.2744427137172959,-0.05364077060641442,-1.388808568459774,-0.2976181577756708,-0.05489380423532537,0.24230246636410666,0.05706581952694559,-0.5203533785804892,-0.4759391251040668,1.9466209582861882,0.8574801728519554,-0.42732486530133573,1.2327550002736216,1.5230759358429147,0.9259071632069753,1.4978812400979802,-0.5868307177392983,-0.21430818657024733,0.4275909334188216,-0.7517631229589176,0.40933185053435545,1.0494839530728004,1.009305230913276,-0.24943062954401313,-0.4313553585139899,-0.17170921243621456,1.6841789479225455,-0.9526310880361992,0.12458637521250845,0.5687516401383191,0.8383341998997003,0.9996013164266332,-1.2654481776987168,0.06368071956753159,-0.5823383450272381,0.8242370577808078,0.04917197237671641,-1.0627241384534636,-0.8690415122855502,0.413248602855076,1.4561243863993238],\"type\":\"histogram\"}],                        {\"barmode\":\"overlay\",\"legend\":{\"bgcolor\":\"#F5F6F9\",\"font\":{\"color\":\"#4D5663\"}},\"paper_bgcolor\":\"#F5F6F9\",\"plot_bgcolor\":\"#F5F6F9\",\"template\":{\"data\":{\"barpolar\":[{\"marker\":{\"line\":{\"color\":\"#E5ECF6\",\"width\":0.5},\"pattern\":{\"fillmode\":\"overlay\",\"size\":10,\"solidity\":0.2}},\"type\":\"barpolar\"}],\"bar\":[{\"error_x\":{\"color\":\"#2a3f5f\"},\"error_y\":{\"color\":\"#2a3f5f\"},\"marker\":{\"line\":{\"color\":\"#E5ECF6\",\"width\":0.5},\"pattern\":{\"fillmode\":\"overlay\",\"size\":10,\"solidity\":0.2}},\"type\":\"bar\"}],\"carpet\":[{\"aaxis\":{\"endlinecolor\":\"#2a3f5f\",\"gridcolor\":\"white\",\"linecolor\":\"white\",\"minorgridcolor\":\"white\",\"startlinecolor\":\"#2a3f5f\"},\"baxis\":{\"endlinecolor\":\"#2a3f5f\",\"gridcolor\":\"white\",\"linecolor\":\"white\",\"minorgridcolor\":\"white\",\"startlinecolor\":\"#2a3f5f\"},\"type\":\"carpet\"}],\"choropleth\":[{\"colorbar\":{\"outlinewidth\":0,\"ticks\":\"\"},\"type\":\"choropleth\"}],\"contourcarpet\":[{\"colorbar\":{\"outlinewidth\":0,\"ticks\":\"\"},\"type\":\"contourcarpet\"}],\"contour\":[{\"colorbar\":{\"outlinewidth\":0,\"ticks\":\"\"},\"colorscale\":[[0.0,\"#0d0887\"],[0.1111111111111111,\"#46039f\"],[0.2222222222222222,\"#7201a8\"],[0.3333333333333333,\"#9c179e\"],[0.4444444444444444,\"#bd3786\"],[0.5555555555555556,\"#d8576b\"],[0.6666666666666666,\"#ed7953\"],[0.7777777777777778,\"#fb9f3a\"],[0.8888888888888888,\"#fdca26\"],[1.0,\"#f0f921\"]],\"type\":\"contour\"}],\"heatmapgl\":[{\"colorbar\":{\"outlinewidth\":0,\"ticks\":\"\"},\"colorscale\":[[0.0,\"#0d0887\"],[0.1111111111111111,\"#46039f\"],[0.2222222222222222,\"#7201a8\"],[0.3333333333333333,\"#9c179e\"],[0.4444444444444444,\"#bd3786\"],[0.5555555555555556,\"#d8576b\"],[0.6666666666666666,\"#ed7953\"],[0.7777777777777778,\"#fb9f3a\"],[0.8888888888888888,\"#fdca26\"],[1.0,\"#f0f921\"]],\"type\":\"heatmapgl\"}],\"heatmap\":[{\"colorbar\":{\"outlinewidth\":0,\"ticks\":\"\"},\"colorscale\":[[0.0,\"#0d0887\"],[0.1111111111111111,\"#46039f\"],[0.2222222222222222,\"#7201a8\"],[0.3333333333333333,\"#9c179e\"],[0.4444444444444444,\"#bd3786\"],[0.5555555555555556,\"#d8576b\"],[0.6666666666666666,\"#ed7953\"],[0.7777777777777778,\"#fb9f3a\"],[0.8888888888888888,\"#fdca26\"],[1.0,\"#f0f921\"]],\"type\":\"heatmap\"}],\"histogram2dcontour\":[{\"colorbar\":{\"outlinewidth\":0,\"ticks\":\"\"},\"colorscale\":[[0.0,\"#0d0887\"],[0.1111111111111111,\"#46039f\"],[0.2222222222222222,\"#7201a8\"],[0.3333333333333333,\"#9c179e\"],[0.4444444444444444,\"#bd3786\"],[0.5555555555555556,\"#d8576b\"],[0.6666666666666666,\"#ed7953\"],[0.7777777777777778,\"#fb9f3a\"],[0.8888888888888888,\"#fdca26\"],[1.0,\"#f0f921\"]],\"type\":\"histogram2dcontour\"}],\"histogram2d\":[{\"colorbar\":{\"outlinewidth\":0,\"ticks\":\"\"},\"colorscale\":[[0.0,\"#0d0887\"],[0.1111111111111111,\"#46039f\"],[0.2222222222222222,\"#7201a8\"],[0.3333333333333333,\"#9c179e\"],[0.4444444444444444,\"#bd3786\"],[0.5555555555555556,\"#d8576b\"],[0.6666666666666666,\"#ed7953\"],[0.7777777777777778,\"#fb9f3a\"],[0.8888888888888888,\"#fdca26\"],[1.0,\"#f0f921\"]],\"type\":\"histogram2d\"}],\"histogram\":[{\"marker\":{\"pattern\":{\"fillmode\":\"overlay\",\"size\":10,\"solidity\":0.2}},\"type\":\"histogram\"}],\"mesh3d\":[{\"colorbar\":{\"outlinewidth\":0,\"ticks\":\"\"},\"type\":\"mesh3d\"}],\"parcoords\":[{\"line\":{\"colorbar\":{\"outlinewidth\":0,\"ticks\":\"\"}},\"type\":\"parcoords\"}],\"pie\":[{\"automargin\":true,\"type\":\"pie\"}],\"scatter3d\":[{\"line\":{\"colorbar\":{\"outlinewidth\":0,\"ticks\":\"\"}},\"marker\":{\"colorbar\":{\"outlinewidth\":0,\"ticks\":\"\"}},\"type\":\"scatter3d\"}],\"scattercarpet\":[{\"marker\":{\"colorbar\":{\"outlinewidth\":0,\"ticks\":\"\"}},\"type\":\"scattercarpet\"}],\"scattergeo\":[{\"marker\":{\"colorbar\":{\"outlinewidth\":0,\"ticks\":\"\"}},\"type\":\"scattergeo\"}],\"scattergl\":[{\"marker\":{\"colorbar\":{\"outlinewidth\":0,\"ticks\":\"\"}},\"type\":\"scattergl\"}],\"scattermapbox\":[{\"marker\":{\"colorbar\":{\"outlinewidth\":0,\"ticks\":\"\"}},\"type\":\"scattermapbox\"}],\"scatterpolargl\":[{\"marker\":{\"colorbar\":{\"outlinewidth\":0,\"ticks\":\"\"}},\"type\":\"scatterpolargl\"}],\"scatterpolar\":[{\"marker\":{\"colorbar\":{\"outlinewidth\":0,\"ticks\":\"\"}},\"type\":\"scatterpolar\"}],\"scatter\":[{\"fillpattern\":{\"fillmode\":\"overlay\",\"size\":10,\"solidity\":0.2},\"type\":\"scatter\"}],\"scatterternary\":[{\"marker\":{\"colorbar\":{\"outlinewidth\":0,\"ticks\":\"\"}},\"type\":\"scatterternary\"}],\"surface\":[{\"colorbar\":{\"outlinewidth\":0,\"ticks\":\"\"},\"colorscale\":[[0.0,\"#0d0887\"],[0.1111111111111111,\"#46039f\"],[0.2222222222222222,\"#7201a8\"],[0.3333333333333333,\"#9c179e\"],[0.4444444444444444,\"#bd3786\"],[0.5555555555555556,\"#d8576b\"],[0.6666666666666666,\"#ed7953\"],[0.7777777777777778,\"#fb9f3a\"],[0.8888888888888888,\"#fdca26\"],[1.0,\"#f0f921\"]],\"type\":\"surface\"}],\"table\":[{\"cells\":{\"fill\":{\"color\":\"#EBF0F8\"},\"line\":{\"color\":\"white\"}},\"header\":{\"fill\":{\"color\":\"#C8D4E3\"},\"line\":{\"color\":\"white\"}},\"type\":\"table\"}]},\"layout\":{\"annotationdefaults\":{\"arrowcolor\":\"#2a3f5f\",\"arrowhead\":0,\"arrowwidth\":1},\"autotypenumbers\":\"strict\",\"coloraxis\":{\"colorbar\":{\"outlinewidth\":0,\"ticks\":\"\"}},\"colorscale\":{\"diverging\":[[0,\"#8e0152\"],[0.1,\"#c51b7d\"],[0.2,\"#de77ae\"],[0.3,\"#f1b6da\"],[0.4,\"#fde0ef\"],[0.5,\"#f7f7f7\"],[0.6,\"#e6f5d0\"],[0.7,\"#b8e186\"],[0.8,\"#7fbc41\"],[0.9,\"#4d9221\"],[1,\"#276419\"]],\"sequential\":[[0.0,\"#0d0887\"],[0.1111111111111111,\"#46039f\"],[0.2222222222222222,\"#7201a8\"],[0.3333333333333333,\"#9c179e\"],[0.4444444444444444,\"#bd3786\"],[0.5555555555555556,\"#d8576b\"],[0.6666666666666666,\"#ed7953\"],[0.7777777777777778,\"#fb9f3a\"],[0.8888888888888888,\"#fdca26\"],[1.0,\"#f0f921\"]],\"sequentialminus\":[[0.0,\"#0d0887\"],[0.1111111111111111,\"#46039f\"],[0.2222222222222222,\"#7201a8\"],[0.3333333333333333,\"#9c179e\"],[0.4444444444444444,\"#bd3786\"],[0.5555555555555556,\"#d8576b\"],[0.6666666666666666,\"#ed7953\"],[0.7777777777777778,\"#fb9f3a\"],[0.8888888888888888,\"#fdca26\"],[1.0,\"#f0f921\"]]},\"colorway\":[\"#636efa\",\"#EF553B\",\"#00cc96\",\"#ab63fa\",\"#FFA15A\",\"#19d3f3\",\"#FF6692\",\"#B6E880\",\"#FF97FF\",\"#FECB52\"],\"font\":{\"color\":\"#2a3f5f\"},\"geo\":{\"bgcolor\":\"white\",\"lakecolor\":\"white\",\"landcolor\":\"#E5ECF6\",\"showlakes\":true,\"showland\":true,\"subunitcolor\":\"white\"},\"hoverlabel\":{\"align\":\"left\"},\"hovermode\":\"closest\",\"mapbox\":{\"style\":\"light\"},\"paper_bgcolor\":\"white\",\"plot_bgcolor\":\"#E5ECF6\",\"polar\":{\"angularaxis\":{\"gridcolor\":\"white\",\"linecolor\":\"white\",\"ticks\":\"\"},\"bgcolor\":\"#E5ECF6\",\"radialaxis\":{\"gridcolor\":\"white\",\"linecolor\":\"white\",\"ticks\":\"\"}},\"scene\":{\"xaxis\":{\"backgroundcolor\":\"#E5ECF6\",\"gridcolor\":\"white\",\"gridwidth\":2,\"linecolor\":\"white\",\"showbackground\":true,\"ticks\":\"\",\"zerolinecolor\":\"white\"},\"yaxis\":{\"backgroundcolor\":\"#E5ECF6\",\"gridcolor\":\"white\",\"gridwidth\":2,\"linecolor\":\"white\",\"showbackground\":true,\"ticks\":\"\",\"zerolinecolor\":\"white\"},\"zaxis\":{\"backgroundcolor\":\"#E5ECF6\",\"gridcolor\":\"white\",\"gridwidth\":2,\"linecolor\":\"white\",\"showbackground\":true,\"ticks\":\"\",\"zerolinecolor\":\"white\"}},\"shapedefaults\":{\"line\":{\"color\":\"#2a3f5f\"}},\"ternary\":{\"aaxis\":{\"gridcolor\":\"white\",\"linecolor\":\"white\",\"ticks\":\"\"},\"baxis\":{\"gridcolor\":\"white\",\"linecolor\":\"white\",\"ticks\":\"\"},\"bgcolor\":\"#E5ECF6\",\"caxis\":{\"gridcolor\":\"white\",\"linecolor\":\"white\",\"ticks\":\"\"}},\"title\":{\"x\":0.05},\"xaxis\":{\"automargin\":true,\"gridcolor\":\"white\",\"linecolor\":\"white\",\"ticks\":\"\",\"title\":{\"standoff\":15},\"zerolinecolor\":\"white\",\"zerolinewidth\":2},\"yaxis\":{\"automargin\":true,\"gridcolor\":\"white\",\"linecolor\":\"white\",\"ticks\":\"\",\"title\":{\"standoff\":15},\"zerolinecolor\":\"white\",\"zerolinewidth\":2}}},\"title\":{\"font\":{\"color\":\"#4D5663\"}},\"xaxis\":{\"gridcolor\":\"#E1E5ED\",\"showgrid\":true,\"tickfont\":{\"color\":\"#4D5663\"},\"title\":{\"font\":{\"color\":\"#4D5663\"},\"text\":\"\"},\"zerolinecolor\":\"#E1E5ED\"},\"yaxis\":{\"gridcolor\":\"#E1E5ED\",\"showgrid\":true,\"tickfont\":{\"color\":\"#4D5663\"},\"title\":{\"font\":{\"color\":\"#4D5663\"},\"text\":\"\"},\"zerolinecolor\":\"#E1E5ED\"}},                        {\"showLink\": true, \"linkText\": \"Export to plot.ly\", \"plotlyServerURL\": \"https://plot.ly\", \"responsive\": true}                    ).then(function(){\n",
       "                            \n",
       "var gd = document.getElementById('b820c7e2-fe49-4e9b-9648-6ddf895ba8e0');\n",
       "var x = new MutationObserver(function (mutations, observer) {{\n",
       "        var display = window.getComputedStyle(gd).display;\n",
       "        if (!display || display === 'none') {{\n",
       "            console.log([gd, 'removed!']);\n",
       "            Plotly.purge(gd);\n",
       "            observer.disconnect();\n",
       "        }}\n",
       "}});\n",
       "\n",
       "// Listen for the removal of the full notebook cells\n",
       "var notebookContainer = gd.closest('#notebook-container');\n",
       "if (notebookContainer) {{\n",
       "    x.observe(notebookContainer, {childList: true});\n",
       "}}\n",
       "\n",
       "// Listen for the clearing of the current output cell\n",
       "var outputEl = gd.closest('.output');\n",
       "if (outputEl) {{\n",
       "    x.observe(outputEl, {childList: true});\n",
       "}}\n",
       "\n",
       "                        })                };                });            </script>        </div>"
      ]
     },
     "metadata": {},
     "output_type": "display_data"
    }
   ],
   "source": [
    "df['A'].iplot(kind='hist',bins=25)"
   ]
  },
  {
   "cell_type": "code",
   "execution_count": 22,
   "metadata": {},
   "outputs": [
    {
     "data": {
      "application/vnd.plotly.v1+json": {
       "config": {
        "linkText": "Export to plot.ly",
        "plotlyServerURL": "https://plot.ly",
        "showLink": true
       },
       "data": [
        {
         "marker": {
          "color": [
           "rgb(255, 153, 51)",
           "rgb(55, 128, 191)",
           "rgb(50, 171, 96)",
           "rgb(128, 0, 128)",
           "rgb(219, 64, 82)",
           "rgb(0, 128, 128)",
           "rgb(255, 255, 51)",
           "rgb(128, 128, 0)",
           "rgb(251, 128, 114)",
           "rgb(128, 177, 211)"
          ],
          "line": {
           "width": 1.3
          },
          "size": [
           111,
           72,
           99,
           68,
           99,
           61,
           63,
           12,
           81,
           106,
           102,
           74,
           86,
           101,
           72,
           49,
           38,
           71,
           61,
           82,
           50,
           57,
           59,
           62,
           48,
           64,
           79,
           94,
           67,
           85,
           73,
           80,
           41,
           54,
           102,
           67,
           76,
           80,
           86,
           92,
           63,
           90,
           106,
           53,
           75,
           82,
           98,
           84,
           66,
           51,
           58,
           88,
           96,
           47,
           66,
           50,
           75,
           94,
           49,
           105,
           67,
           35,
           85,
           48,
           84,
           78,
           81,
           58,
           67,
           75,
           72,
           86,
           57,
           69,
           63,
           76,
           88,
           57,
           75,
           112,
           52,
           70,
           95,
           89,
           71,
           47,
           68,
           66,
           65,
           59,
           109,
           60,
           70,
           72,
           68,
           71,
           51,
           101,
           106,
           86
          ],
          "symbol": "circle"
         },
         "mode": "markers",
         "text": "",
         "type": "scatter",
         "x": [
          -0.5882201862615739,
          -0.1444088146832521,
          -0.7206830682849644,
          1.3936579949157097,
          -0.19862000637931865,
          -0.27593821881612995,
          0.10946967362279274,
          -0.7994858635802414,
          0.1678150311420152,
          -0.03259329436621168,
          -0.38777224262700793,
          -0.9754539192544475,
          0.31246023384261074,
          -0.16315024393863606,
          0.1433325386094532,
          0.33921612803869455,
          0.1687111089431125,
          -1.0293821555773768,
          0.9359095977765699,
          -0.851942028353327,
          0.27136104667763106,
          2.0938787705300403,
          -1.6874972996029145,
          -0.4906760954841787,
          1.014382803145646,
          -0.6868968224829972,
          -0.7713142158581506,
          -1.0629976127507368,
          -0.3911478166219877,
          -1.6997231884085433,
          0.4760470417318967,
          1.368331511888546,
          -0.9584745559245262,
          -1.183217404290445,
          -0.575483118709692,
          1.3026615111527207,
          0.1441487490352291,
          -1.0594506247977764,
          -1.5380315053002944,
          2.4091356980594285,
          1.0046246460929371,
          0.16397580097306277,
          -0.27806055403543156,
          1.1825457833448632,
          0.9927116557574145,
          0.6401164337634135,
          -0.17126633776369268,
          -0.09314210703339369,
          -1.2500682591239412,
          1.5249423799561066,
          0.7261411639316259,
          1.590022568827245,
          -0.04437577138374293,
          -0.19365124054278118,
          -1.537393958681574,
          1.5201990369248464,
          1.677601948736433,
          -0.17840117181941412,
          -0.260180030841215,
          -0.2744427137172959,
          -0.05364077060641442,
          -1.388808568459774,
          -0.2976181577756708,
          -0.05489380423532537,
          0.24230246636410666,
          0.05706581952694559,
          -0.5203533785804892,
          -0.4759391251040668,
          1.9466209582861882,
          0.8574801728519554,
          -0.42732486530133573,
          1.2327550002736216,
          1.5230759358429147,
          0.9259071632069753,
          1.4978812400979802,
          -0.5868307177392983,
          -0.21430818657024733,
          0.4275909334188216,
          -0.7517631229589176,
          0.40933185053435545,
          1.0494839530728004,
          1.009305230913276,
          -0.24943062954401313,
          -0.4313553585139899,
          -0.17170921243621456,
          1.6841789479225455,
          -0.9526310880361992,
          0.12458637521250845,
          0.5687516401383191,
          0.8383341998997003,
          0.9996013164266332,
          -1.2654481776987168,
          0.06368071956753159,
          -0.5823383450272381,
          0.8242370577808078,
          0.04917197237671641,
          -1.0627241384534636,
          -0.8690415122855502,
          0.413248602855076,
          1.4561243863993238
         ],
         "y": [
          -0.8940538161456291,
          1.7587400520446705,
          0.14430342474400454,
          -0.34549370551569325,
          -0.5257140537089149,
          -0.15452279911902936,
          -1.0700089891485318,
          -1.2765518475470334,
          -1.1018276817658246,
          0.43378474413794765,
          0.8461336916637264,
          -0.24624295303470572,
          1.3982100658424075,
          0.9997234408622141,
          -0.2719079134797146,
          0.7001985695260833,
          0.37644992918744924,
          0.6256292283079395,
          0.14171050635516258,
          0.4083837344888657,
          0.35919115418712133,
          0.2885316619016053,
          -0.2795716879495062,
          1.4967109264618719,
          -0.5034276127281153,
          -0.9195848263522127,
          0.0036980691622682717,
          -1.1561975511553555,
          -0.0674931632448224,
          1.2205170295980456,
          -1.7173270994239003,
          -0.8457801385986659,
          0.1725586858008727,
          0.4241941216487407,
          -0.640527068079842,
          0.9162412399630095,
          -0.7126212550692267,
          1.1760786429305836,
          -0.3663287237478555,
          -0.9601992815532329,
          -0.5934668853017779,
          2.138687640168241,
          1.1271439949934412,
          0.4228887134119707,
          0.9641575600348385,
          -0.4732958531413693,
          0.3691867824050043,
          1.0438568219805757,
          -0.6851461607108044,
          1.9604889962473953,
          -0.7121316185807449,
          -0.860258552005439,
          -0.7756424767215246,
          1.1188986390232671,
          -0.029992580637274155,
          1.2566812154182598,
          -0.08965639196959063,
          0.9993501250314029,
          1.0581915489108098,
          0.018648395808328312,
          -0.16515690335859862,
          1.1048916736355985,
          -0.2940482353646764,
          0.7858209812076586,
          0.6962374498622259,
          0.6824777105549716,
          0.6502383370441862,
          -0.6503294575233609,
          -2.419037357005872,
          0.5386046383338288,
          0.13396494940463755,
          0.8338031503515533,
          0.20428275558354891,
          0.7963950437666771,
          -0.5168135777070428,
          0.7337029151449452,
          -0.17652524673493883,
          -1.8741632511307245,
          -0.541972300082036,
          -0.3447729493621954,
          -0.6321114042540144,
          0.15149425011822618,
          -0.168313064233042,
          -0.2248723299164277,
          1.0986104344094423,
          0.5057236081827604,
          -0.31038782932230446,
          1.9497709425607428,
          1.3184687249490608,
          -1.0867694948850026,
          0.861439797367633,
          0.3582260691853846,
          0.22568575670948762,
          0.40989940999869257,
          0.0073837110282809456,
          1.3613943157445625,
          -0.28844704644859565,
          0.2291403758894681,
          -0.4472241971177087,
          -0.19181766055293706
         ]
        }
       ],
       "layout": {
        "legend": {
         "bgcolor": "#F5F6F9",
         "font": {
          "color": "#4D5663"
         }
        },
        "paper_bgcolor": "#F5F6F9",
        "plot_bgcolor": "#F5F6F9",
        "template": {
         "data": {
          "bar": [
           {
            "error_x": {
             "color": "#2a3f5f"
            },
            "error_y": {
             "color": "#2a3f5f"
            },
            "marker": {
             "line": {
              "color": "#E5ECF6",
              "width": 0.5
             },
             "pattern": {
              "fillmode": "overlay",
              "size": 10,
              "solidity": 0.2
             }
            },
            "type": "bar"
           }
          ],
          "barpolar": [
           {
            "marker": {
             "line": {
              "color": "#E5ECF6",
              "width": 0.5
             },
             "pattern": {
              "fillmode": "overlay",
              "size": 10,
              "solidity": 0.2
             }
            },
            "type": "barpolar"
           }
          ],
          "carpet": [
           {
            "aaxis": {
             "endlinecolor": "#2a3f5f",
             "gridcolor": "white",
             "linecolor": "white",
             "minorgridcolor": "white",
             "startlinecolor": "#2a3f5f"
            },
            "baxis": {
             "endlinecolor": "#2a3f5f",
             "gridcolor": "white",
             "linecolor": "white",
             "minorgridcolor": "white",
             "startlinecolor": "#2a3f5f"
            },
            "type": "carpet"
           }
          ],
          "choropleth": [
           {
            "colorbar": {
             "outlinewidth": 0,
             "ticks": ""
            },
            "type": "choropleth"
           }
          ],
          "contour": [
           {
            "colorbar": {
             "outlinewidth": 0,
             "ticks": ""
            },
            "colorscale": [
             [
              0,
              "#0d0887"
             ],
             [
              0.1111111111111111,
              "#46039f"
             ],
             [
              0.2222222222222222,
              "#7201a8"
             ],
             [
              0.3333333333333333,
              "#9c179e"
             ],
             [
              0.4444444444444444,
              "#bd3786"
             ],
             [
              0.5555555555555556,
              "#d8576b"
             ],
             [
              0.6666666666666666,
              "#ed7953"
             ],
             [
              0.7777777777777778,
              "#fb9f3a"
             ],
             [
              0.8888888888888888,
              "#fdca26"
             ],
             [
              1,
              "#f0f921"
             ]
            ],
            "type": "contour"
           }
          ],
          "contourcarpet": [
           {
            "colorbar": {
             "outlinewidth": 0,
             "ticks": ""
            },
            "type": "contourcarpet"
           }
          ],
          "heatmap": [
           {
            "colorbar": {
             "outlinewidth": 0,
             "ticks": ""
            },
            "colorscale": [
             [
              0,
              "#0d0887"
             ],
             [
              0.1111111111111111,
              "#46039f"
             ],
             [
              0.2222222222222222,
              "#7201a8"
             ],
             [
              0.3333333333333333,
              "#9c179e"
             ],
             [
              0.4444444444444444,
              "#bd3786"
             ],
             [
              0.5555555555555556,
              "#d8576b"
             ],
             [
              0.6666666666666666,
              "#ed7953"
             ],
             [
              0.7777777777777778,
              "#fb9f3a"
             ],
             [
              0.8888888888888888,
              "#fdca26"
             ],
             [
              1,
              "#f0f921"
             ]
            ],
            "type": "heatmap"
           }
          ],
          "heatmapgl": [
           {
            "colorbar": {
             "outlinewidth": 0,
             "ticks": ""
            },
            "colorscale": [
             [
              0,
              "#0d0887"
             ],
             [
              0.1111111111111111,
              "#46039f"
             ],
             [
              0.2222222222222222,
              "#7201a8"
             ],
             [
              0.3333333333333333,
              "#9c179e"
             ],
             [
              0.4444444444444444,
              "#bd3786"
             ],
             [
              0.5555555555555556,
              "#d8576b"
             ],
             [
              0.6666666666666666,
              "#ed7953"
             ],
             [
              0.7777777777777778,
              "#fb9f3a"
             ],
             [
              0.8888888888888888,
              "#fdca26"
             ],
             [
              1,
              "#f0f921"
             ]
            ],
            "type": "heatmapgl"
           }
          ],
          "histogram": [
           {
            "marker": {
             "pattern": {
              "fillmode": "overlay",
              "size": 10,
              "solidity": 0.2
             }
            },
            "type": "histogram"
           }
          ],
          "histogram2d": [
           {
            "colorbar": {
             "outlinewidth": 0,
             "ticks": ""
            },
            "colorscale": [
             [
              0,
              "#0d0887"
             ],
             [
              0.1111111111111111,
              "#46039f"
             ],
             [
              0.2222222222222222,
              "#7201a8"
             ],
             [
              0.3333333333333333,
              "#9c179e"
             ],
             [
              0.4444444444444444,
              "#bd3786"
             ],
             [
              0.5555555555555556,
              "#d8576b"
             ],
             [
              0.6666666666666666,
              "#ed7953"
             ],
             [
              0.7777777777777778,
              "#fb9f3a"
             ],
             [
              0.8888888888888888,
              "#fdca26"
             ],
             [
              1,
              "#f0f921"
             ]
            ],
            "type": "histogram2d"
           }
          ],
          "histogram2dcontour": [
           {
            "colorbar": {
             "outlinewidth": 0,
             "ticks": ""
            },
            "colorscale": [
             [
              0,
              "#0d0887"
             ],
             [
              0.1111111111111111,
              "#46039f"
             ],
             [
              0.2222222222222222,
              "#7201a8"
             ],
             [
              0.3333333333333333,
              "#9c179e"
             ],
             [
              0.4444444444444444,
              "#bd3786"
             ],
             [
              0.5555555555555556,
              "#d8576b"
             ],
             [
              0.6666666666666666,
              "#ed7953"
             ],
             [
              0.7777777777777778,
              "#fb9f3a"
             ],
             [
              0.8888888888888888,
              "#fdca26"
             ],
             [
              1,
              "#f0f921"
             ]
            ],
            "type": "histogram2dcontour"
           }
          ],
          "mesh3d": [
           {
            "colorbar": {
             "outlinewidth": 0,
             "ticks": ""
            },
            "type": "mesh3d"
           }
          ],
          "parcoords": [
           {
            "line": {
             "colorbar": {
              "outlinewidth": 0,
              "ticks": ""
             }
            },
            "type": "parcoords"
           }
          ],
          "pie": [
           {
            "automargin": true,
            "type": "pie"
           }
          ],
          "scatter": [
           {
            "fillpattern": {
             "fillmode": "overlay",
             "size": 10,
             "solidity": 0.2
            },
            "type": "scatter"
           }
          ],
          "scatter3d": [
           {
            "line": {
             "colorbar": {
              "outlinewidth": 0,
              "ticks": ""
             }
            },
            "marker": {
             "colorbar": {
              "outlinewidth": 0,
              "ticks": ""
             }
            },
            "type": "scatter3d"
           }
          ],
          "scattercarpet": [
           {
            "marker": {
             "colorbar": {
              "outlinewidth": 0,
              "ticks": ""
             }
            },
            "type": "scattercarpet"
           }
          ],
          "scattergeo": [
           {
            "marker": {
             "colorbar": {
              "outlinewidth": 0,
              "ticks": ""
             }
            },
            "type": "scattergeo"
           }
          ],
          "scattergl": [
           {
            "marker": {
             "colorbar": {
              "outlinewidth": 0,
              "ticks": ""
             }
            },
            "type": "scattergl"
           }
          ],
          "scattermapbox": [
           {
            "marker": {
             "colorbar": {
              "outlinewidth": 0,
              "ticks": ""
             }
            },
            "type": "scattermapbox"
           }
          ],
          "scatterpolar": [
           {
            "marker": {
             "colorbar": {
              "outlinewidth": 0,
              "ticks": ""
             }
            },
            "type": "scatterpolar"
           }
          ],
          "scatterpolargl": [
           {
            "marker": {
             "colorbar": {
              "outlinewidth": 0,
              "ticks": ""
             }
            },
            "type": "scatterpolargl"
           }
          ],
          "scatterternary": [
           {
            "marker": {
             "colorbar": {
              "outlinewidth": 0,
              "ticks": ""
             }
            },
            "type": "scatterternary"
           }
          ],
          "surface": [
           {
            "colorbar": {
             "outlinewidth": 0,
             "ticks": ""
            },
            "colorscale": [
             [
              0,
              "#0d0887"
             ],
             [
              0.1111111111111111,
              "#46039f"
             ],
             [
              0.2222222222222222,
              "#7201a8"
             ],
             [
              0.3333333333333333,
              "#9c179e"
             ],
             [
              0.4444444444444444,
              "#bd3786"
             ],
             [
              0.5555555555555556,
              "#d8576b"
             ],
             [
              0.6666666666666666,
              "#ed7953"
             ],
             [
              0.7777777777777778,
              "#fb9f3a"
             ],
             [
              0.8888888888888888,
              "#fdca26"
             ],
             [
              1,
              "#f0f921"
             ]
            ],
            "type": "surface"
           }
          ],
          "table": [
           {
            "cells": {
             "fill": {
              "color": "#EBF0F8"
             },
             "line": {
              "color": "white"
             }
            },
            "header": {
             "fill": {
              "color": "#C8D4E3"
             },
             "line": {
              "color": "white"
             }
            },
            "type": "table"
           }
          ]
         },
         "layout": {
          "annotationdefaults": {
           "arrowcolor": "#2a3f5f",
           "arrowhead": 0,
           "arrowwidth": 1
          },
          "autotypenumbers": "strict",
          "coloraxis": {
           "colorbar": {
            "outlinewidth": 0,
            "ticks": ""
           }
          },
          "colorscale": {
           "diverging": [
            [
             0,
             "#8e0152"
            ],
            [
             0.1,
             "#c51b7d"
            ],
            [
             0.2,
             "#de77ae"
            ],
            [
             0.3,
             "#f1b6da"
            ],
            [
             0.4,
             "#fde0ef"
            ],
            [
             0.5,
             "#f7f7f7"
            ],
            [
             0.6,
             "#e6f5d0"
            ],
            [
             0.7,
             "#b8e186"
            ],
            [
             0.8,
             "#7fbc41"
            ],
            [
             0.9,
             "#4d9221"
            ],
            [
             1,
             "#276419"
            ]
           ],
           "sequential": [
            [
             0,
             "#0d0887"
            ],
            [
             0.1111111111111111,
             "#46039f"
            ],
            [
             0.2222222222222222,
             "#7201a8"
            ],
            [
             0.3333333333333333,
             "#9c179e"
            ],
            [
             0.4444444444444444,
             "#bd3786"
            ],
            [
             0.5555555555555556,
             "#d8576b"
            ],
            [
             0.6666666666666666,
             "#ed7953"
            ],
            [
             0.7777777777777778,
             "#fb9f3a"
            ],
            [
             0.8888888888888888,
             "#fdca26"
            ],
            [
             1,
             "#f0f921"
            ]
           ],
           "sequentialminus": [
            [
             0,
             "#0d0887"
            ],
            [
             0.1111111111111111,
             "#46039f"
            ],
            [
             0.2222222222222222,
             "#7201a8"
            ],
            [
             0.3333333333333333,
             "#9c179e"
            ],
            [
             0.4444444444444444,
             "#bd3786"
            ],
            [
             0.5555555555555556,
             "#d8576b"
            ],
            [
             0.6666666666666666,
             "#ed7953"
            ],
            [
             0.7777777777777778,
             "#fb9f3a"
            ],
            [
             0.8888888888888888,
             "#fdca26"
            ],
            [
             1,
             "#f0f921"
            ]
           ]
          },
          "colorway": [
           "#636efa",
           "#EF553B",
           "#00cc96",
           "#ab63fa",
           "#FFA15A",
           "#19d3f3",
           "#FF6692",
           "#B6E880",
           "#FF97FF",
           "#FECB52"
          ],
          "font": {
           "color": "#2a3f5f"
          },
          "geo": {
           "bgcolor": "white",
           "lakecolor": "white",
           "landcolor": "#E5ECF6",
           "showlakes": true,
           "showland": true,
           "subunitcolor": "white"
          },
          "hoverlabel": {
           "align": "left"
          },
          "hovermode": "closest",
          "mapbox": {
           "style": "light"
          },
          "paper_bgcolor": "white",
          "plot_bgcolor": "#E5ECF6",
          "polar": {
           "angularaxis": {
            "gridcolor": "white",
            "linecolor": "white",
            "ticks": ""
           },
           "bgcolor": "#E5ECF6",
           "radialaxis": {
            "gridcolor": "white",
            "linecolor": "white",
            "ticks": ""
           }
          },
          "scene": {
           "xaxis": {
            "backgroundcolor": "#E5ECF6",
            "gridcolor": "white",
            "gridwidth": 2,
            "linecolor": "white",
            "showbackground": true,
            "ticks": "",
            "zerolinecolor": "white"
           },
           "yaxis": {
            "backgroundcolor": "#E5ECF6",
            "gridcolor": "white",
            "gridwidth": 2,
            "linecolor": "white",
            "showbackground": true,
            "ticks": "",
            "zerolinecolor": "white"
           },
           "zaxis": {
            "backgroundcolor": "#E5ECF6",
            "gridcolor": "white",
            "gridwidth": 2,
            "linecolor": "white",
            "showbackground": true,
            "ticks": "",
            "zerolinecolor": "white"
           }
          },
          "shapedefaults": {
           "line": {
            "color": "#2a3f5f"
           }
          },
          "ternary": {
           "aaxis": {
            "gridcolor": "white",
            "linecolor": "white",
            "ticks": ""
           },
           "baxis": {
            "gridcolor": "white",
            "linecolor": "white",
            "ticks": ""
           },
           "bgcolor": "#E5ECF6",
           "caxis": {
            "gridcolor": "white",
            "linecolor": "white",
            "ticks": ""
           }
          },
          "title": {
           "x": 0.05
          },
          "xaxis": {
           "automargin": true,
           "gridcolor": "white",
           "linecolor": "white",
           "ticks": "",
           "title": {
            "standoff": 15
           },
           "zerolinecolor": "white",
           "zerolinewidth": 2
          },
          "yaxis": {
           "automargin": true,
           "gridcolor": "white",
           "linecolor": "white",
           "ticks": "",
           "title": {
            "standoff": 15
           },
           "zerolinecolor": "white",
           "zerolinewidth": 2
          }
         }
        },
        "title": {
         "font": {
          "color": "#4D5663"
         }
        },
        "xaxis": {
         "gridcolor": "#E1E5ED",
         "showgrid": true,
         "tickfont": {
          "color": "#4D5663"
         },
         "title": {
          "font": {
           "color": "#4D5663"
          },
          "text": ""
         },
         "zerolinecolor": "#E1E5ED"
        },
        "yaxis": {
         "gridcolor": "#E1E5ED",
         "showgrid": true,
         "tickfont": {
          "color": "#4D5663"
         },
         "title": {
          "font": {
           "color": "#4D5663"
          },
          "text": ""
         },
         "zerolinecolor": "#E1E5ED"
        }
       }
      },
      "text/html": [
       "<div>                            <div id=\"8fb5c42b-451e-4aad-8abb-1fa30755b456\" class=\"plotly-graph-div\" style=\"height:525px; width:100%;\"></div>            <script type=\"text/javascript\">                require([\"plotly\"], function(Plotly) {                    window.PLOTLYENV=window.PLOTLYENV || {};\n",
       "                    window.PLOTLYENV.BASE_URL='https://plot.ly';                                    if (document.getElementById(\"8fb5c42b-451e-4aad-8abb-1fa30755b456\")) {                    Plotly.newPlot(                        \"8fb5c42b-451e-4aad-8abb-1fa30755b456\",                        [{\"marker\":{\"color\":[\"rgb(255, 153, 51)\",\"rgb(55, 128, 191)\",\"rgb(50, 171, 96)\",\"rgb(128, 0, 128)\",\"rgb(219, 64, 82)\",\"rgb(0, 128, 128)\",\"rgb(255, 255, 51)\",\"rgb(128, 128, 0)\",\"rgb(251, 128, 114)\",\"rgb(128, 177, 211)\"],\"line\":{\"width\":1.3},\"size\":[111,72,99,68,99,61,63,12,81,106,102,74,86,101,72,49,38,71,61,82,50,57,59,62,48,64,79,94,67,85,73,80,41,54,102,67,76,80,86,92,63,90,106,53,75,82,98,84,66,51,58,88,96,47,66,50,75,94,49,105,67,35,85,48,84,78,81,58,67,75,72,86,57,69,63,76,88,57,75,112,52,70,95,89,71,47,68,66,65,59,109,60,70,72,68,71,51,101,106,86],\"symbol\":\"circle\"},\"mode\":\"markers\",\"text\":\"\",\"x\":[-0.5882201862615739,-0.1444088146832521,-0.7206830682849644,1.3936579949157097,-0.19862000637931865,-0.27593821881612995,0.10946967362279274,-0.7994858635802414,0.1678150311420152,-0.03259329436621168,-0.38777224262700793,-0.9754539192544475,0.31246023384261074,-0.16315024393863606,0.1433325386094532,0.33921612803869455,0.1687111089431125,-1.0293821555773768,0.9359095977765699,-0.851942028353327,0.27136104667763106,2.0938787705300403,-1.6874972996029145,-0.4906760954841787,1.014382803145646,-0.6868968224829972,-0.7713142158581506,-1.0629976127507368,-0.3911478166219877,-1.6997231884085433,0.4760470417318967,1.368331511888546,-0.9584745559245262,-1.183217404290445,-0.575483118709692,1.3026615111527207,0.1441487490352291,-1.0594506247977764,-1.5380315053002944,2.4091356980594285,1.0046246460929371,0.16397580097306277,-0.27806055403543156,1.1825457833448632,0.9927116557574145,0.6401164337634135,-0.17126633776369268,-0.09314210703339369,-1.2500682591239412,1.5249423799561066,0.7261411639316259,1.590022568827245,-0.04437577138374293,-0.19365124054278118,-1.537393958681574,1.5201990369248464,1.677601948736433,-0.17840117181941412,-0.260180030841215,-0.2744427137172959,-0.05364077060641442,-1.388808568459774,-0.2976181577756708,-0.05489380423532537,0.24230246636410666,0.05706581952694559,-0.5203533785804892,-0.4759391251040668,1.9466209582861882,0.8574801728519554,-0.42732486530133573,1.2327550002736216,1.5230759358429147,0.9259071632069753,1.4978812400979802,-0.5868307177392983,-0.21430818657024733,0.4275909334188216,-0.7517631229589176,0.40933185053435545,1.0494839530728004,1.009305230913276,-0.24943062954401313,-0.4313553585139899,-0.17170921243621456,1.6841789479225455,-0.9526310880361992,0.12458637521250845,0.5687516401383191,0.8383341998997003,0.9996013164266332,-1.2654481776987168,0.06368071956753159,-0.5823383450272381,0.8242370577808078,0.04917197237671641,-1.0627241384534636,-0.8690415122855502,0.413248602855076,1.4561243863993238],\"y\":[-0.8940538161456291,1.7587400520446705,0.14430342474400454,-0.34549370551569325,-0.5257140537089149,-0.15452279911902936,-1.0700089891485318,-1.2765518475470334,-1.1018276817658246,0.43378474413794765,0.8461336916637264,-0.24624295303470572,1.3982100658424075,0.9997234408622141,-0.2719079134797146,0.7001985695260833,0.37644992918744924,0.6256292283079395,0.14171050635516258,0.4083837344888657,0.35919115418712133,0.2885316619016053,-0.2795716879495062,1.4967109264618719,-0.5034276127281153,-0.9195848263522127,0.0036980691622682717,-1.1561975511553555,-0.0674931632448224,1.2205170295980456,-1.7173270994239003,-0.8457801385986659,0.1725586858008727,0.4241941216487407,-0.640527068079842,0.9162412399630095,-0.7126212550692267,1.1760786429305836,-0.3663287237478555,-0.9601992815532329,-0.5934668853017779,2.138687640168241,1.1271439949934412,0.4228887134119707,0.9641575600348385,-0.4732958531413693,0.3691867824050043,1.0438568219805757,-0.6851461607108044,1.9604889962473953,-0.7121316185807449,-0.860258552005439,-0.7756424767215246,1.1188986390232671,-0.029992580637274155,1.2566812154182598,-0.08965639196959063,0.9993501250314029,1.0581915489108098,0.018648395808328312,-0.16515690335859862,1.1048916736355985,-0.2940482353646764,0.7858209812076586,0.6962374498622259,0.6824777105549716,0.6502383370441862,-0.6503294575233609,-2.419037357005872,0.5386046383338288,0.13396494940463755,0.8338031503515533,0.20428275558354891,0.7963950437666771,-0.5168135777070428,0.7337029151449452,-0.17652524673493883,-1.8741632511307245,-0.541972300082036,-0.3447729493621954,-0.6321114042540144,0.15149425011822618,-0.168313064233042,-0.2248723299164277,1.0986104344094423,0.5057236081827604,-0.31038782932230446,1.9497709425607428,1.3184687249490608,-1.0867694948850026,0.861439797367633,0.3582260691853846,0.22568575670948762,0.40989940999869257,0.0073837110282809456,1.3613943157445625,-0.28844704644859565,0.2291403758894681,-0.4472241971177087,-0.19181766055293706],\"type\":\"scatter\"}],                        {\"legend\":{\"bgcolor\":\"#F5F6F9\",\"font\":{\"color\":\"#4D5663\"}},\"paper_bgcolor\":\"#F5F6F9\",\"plot_bgcolor\":\"#F5F6F9\",\"template\":{\"data\":{\"barpolar\":[{\"marker\":{\"line\":{\"color\":\"#E5ECF6\",\"width\":0.5},\"pattern\":{\"fillmode\":\"overlay\",\"size\":10,\"solidity\":0.2}},\"type\":\"barpolar\"}],\"bar\":[{\"error_x\":{\"color\":\"#2a3f5f\"},\"error_y\":{\"color\":\"#2a3f5f\"},\"marker\":{\"line\":{\"color\":\"#E5ECF6\",\"width\":0.5},\"pattern\":{\"fillmode\":\"overlay\",\"size\":10,\"solidity\":0.2}},\"type\":\"bar\"}],\"carpet\":[{\"aaxis\":{\"endlinecolor\":\"#2a3f5f\",\"gridcolor\":\"white\",\"linecolor\":\"white\",\"minorgridcolor\":\"white\",\"startlinecolor\":\"#2a3f5f\"},\"baxis\":{\"endlinecolor\":\"#2a3f5f\",\"gridcolor\":\"white\",\"linecolor\":\"white\",\"minorgridcolor\":\"white\",\"startlinecolor\":\"#2a3f5f\"},\"type\":\"carpet\"}],\"choropleth\":[{\"colorbar\":{\"outlinewidth\":0,\"ticks\":\"\"},\"type\":\"choropleth\"}],\"contourcarpet\":[{\"colorbar\":{\"outlinewidth\":0,\"ticks\":\"\"},\"type\":\"contourcarpet\"}],\"contour\":[{\"colorbar\":{\"outlinewidth\":0,\"ticks\":\"\"},\"colorscale\":[[0.0,\"#0d0887\"],[0.1111111111111111,\"#46039f\"],[0.2222222222222222,\"#7201a8\"],[0.3333333333333333,\"#9c179e\"],[0.4444444444444444,\"#bd3786\"],[0.5555555555555556,\"#d8576b\"],[0.6666666666666666,\"#ed7953\"],[0.7777777777777778,\"#fb9f3a\"],[0.8888888888888888,\"#fdca26\"],[1.0,\"#f0f921\"]],\"type\":\"contour\"}],\"heatmapgl\":[{\"colorbar\":{\"outlinewidth\":0,\"ticks\":\"\"},\"colorscale\":[[0.0,\"#0d0887\"],[0.1111111111111111,\"#46039f\"],[0.2222222222222222,\"#7201a8\"],[0.3333333333333333,\"#9c179e\"],[0.4444444444444444,\"#bd3786\"],[0.5555555555555556,\"#d8576b\"],[0.6666666666666666,\"#ed7953\"],[0.7777777777777778,\"#fb9f3a\"],[0.8888888888888888,\"#fdca26\"],[1.0,\"#f0f921\"]],\"type\":\"heatmapgl\"}],\"heatmap\":[{\"colorbar\":{\"outlinewidth\":0,\"ticks\":\"\"},\"colorscale\":[[0.0,\"#0d0887\"],[0.1111111111111111,\"#46039f\"],[0.2222222222222222,\"#7201a8\"],[0.3333333333333333,\"#9c179e\"],[0.4444444444444444,\"#bd3786\"],[0.5555555555555556,\"#d8576b\"],[0.6666666666666666,\"#ed7953\"],[0.7777777777777778,\"#fb9f3a\"],[0.8888888888888888,\"#fdca26\"],[1.0,\"#f0f921\"]],\"type\":\"heatmap\"}],\"histogram2dcontour\":[{\"colorbar\":{\"outlinewidth\":0,\"ticks\":\"\"},\"colorscale\":[[0.0,\"#0d0887\"],[0.1111111111111111,\"#46039f\"],[0.2222222222222222,\"#7201a8\"],[0.3333333333333333,\"#9c179e\"],[0.4444444444444444,\"#bd3786\"],[0.5555555555555556,\"#d8576b\"],[0.6666666666666666,\"#ed7953\"],[0.7777777777777778,\"#fb9f3a\"],[0.8888888888888888,\"#fdca26\"],[1.0,\"#f0f921\"]],\"type\":\"histogram2dcontour\"}],\"histogram2d\":[{\"colorbar\":{\"outlinewidth\":0,\"ticks\":\"\"},\"colorscale\":[[0.0,\"#0d0887\"],[0.1111111111111111,\"#46039f\"],[0.2222222222222222,\"#7201a8\"],[0.3333333333333333,\"#9c179e\"],[0.4444444444444444,\"#bd3786\"],[0.5555555555555556,\"#d8576b\"],[0.6666666666666666,\"#ed7953\"],[0.7777777777777778,\"#fb9f3a\"],[0.8888888888888888,\"#fdca26\"],[1.0,\"#f0f921\"]],\"type\":\"histogram2d\"}],\"histogram\":[{\"marker\":{\"pattern\":{\"fillmode\":\"overlay\",\"size\":10,\"solidity\":0.2}},\"type\":\"histogram\"}],\"mesh3d\":[{\"colorbar\":{\"outlinewidth\":0,\"ticks\":\"\"},\"type\":\"mesh3d\"}],\"parcoords\":[{\"line\":{\"colorbar\":{\"outlinewidth\":0,\"ticks\":\"\"}},\"type\":\"parcoords\"}],\"pie\":[{\"automargin\":true,\"type\":\"pie\"}],\"scatter3d\":[{\"line\":{\"colorbar\":{\"outlinewidth\":0,\"ticks\":\"\"}},\"marker\":{\"colorbar\":{\"outlinewidth\":0,\"ticks\":\"\"}},\"type\":\"scatter3d\"}],\"scattercarpet\":[{\"marker\":{\"colorbar\":{\"outlinewidth\":0,\"ticks\":\"\"}},\"type\":\"scattercarpet\"}],\"scattergeo\":[{\"marker\":{\"colorbar\":{\"outlinewidth\":0,\"ticks\":\"\"}},\"type\":\"scattergeo\"}],\"scattergl\":[{\"marker\":{\"colorbar\":{\"outlinewidth\":0,\"ticks\":\"\"}},\"type\":\"scattergl\"}],\"scattermapbox\":[{\"marker\":{\"colorbar\":{\"outlinewidth\":0,\"ticks\":\"\"}},\"type\":\"scattermapbox\"}],\"scatterpolargl\":[{\"marker\":{\"colorbar\":{\"outlinewidth\":0,\"ticks\":\"\"}},\"type\":\"scatterpolargl\"}],\"scatterpolar\":[{\"marker\":{\"colorbar\":{\"outlinewidth\":0,\"ticks\":\"\"}},\"type\":\"scatterpolar\"}],\"scatter\":[{\"fillpattern\":{\"fillmode\":\"overlay\",\"size\":10,\"solidity\":0.2},\"type\":\"scatter\"}],\"scatterternary\":[{\"marker\":{\"colorbar\":{\"outlinewidth\":0,\"ticks\":\"\"}},\"type\":\"scatterternary\"}],\"surface\":[{\"colorbar\":{\"outlinewidth\":0,\"ticks\":\"\"},\"colorscale\":[[0.0,\"#0d0887\"],[0.1111111111111111,\"#46039f\"],[0.2222222222222222,\"#7201a8\"],[0.3333333333333333,\"#9c179e\"],[0.4444444444444444,\"#bd3786\"],[0.5555555555555556,\"#d8576b\"],[0.6666666666666666,\"#ed7953\"],[0.7777777777777778,\"#fb9f3a\"],[0.8888888888888888,\"#fdca26\"],[1.0,\"#f0f921\"]],\"type\":\"surface\"}],\"table\":[{\"cells\":{\"fill\":{\"color\":\"#EBF0F8\"},\"line\":{\"color\":\"white\"}},\"header\":{\"fill\":{\"color\":\"#C8D4E3\"},\"line\":{\"color\":\"white\"}},\"type\":\"table\"}]},\"layout\":{\"annotationdefaults\":{\"arrowcolor\":\"#2a3f5f\",\"arrowhead\":0,\"arrowwidth\":1},\"autotypenumbers\":\"strict\",\"coloraxis\":{\"colorbar\":{\"outlinewidth\":0,\"ticks\":\"\"}},\"colorscale\":{\"diverging\":[[0,\"#8e0152\"],[0.1,\"#c51b7d\"],[0.2,\"#de77ae\"],[0.3,\"#f1b6da\"],[0.4,\"#fde0ef\"],[0.5,\"#f7f7f7\"],[0.6,\"#e6f5d0\"],[0.7,\"#b8e186\"],[0.8,\"#7fbc41\"],[0.9,\"#4d9221\"],[1,\"#276419\"]],\"sequential\":[[0.0,\"#0d0887\"],[0.1111111111111111,\"#46039f\"],[0.2222222222222222,\"#7201a8\"],[0.3333333333333333,\"#9c179e\"],[0.4444444444444444,\"#bd3786\"],[0.5555555555555556,\"#d8576b\"],[0.6666666666666666,\"#ed7953\"],[0.7777777777777778,\"#fb9f3a\"],[0.8888888888888888,\"#fdca26\"],[1.0,\"#f0f921\"]],\"sequentialminus\":[[0.0,\"#0d0887\"],[0.1111111111111111,\"#46039f\"],[0.2222222222222222,\"#7201a8\"],[0.3333333333333333,\"#9c179e\"],[0.4444444444444444,\"#bd3786\"],[0.5555555555555556,\"#d8576b\"],[0.6666666666666666,\"#ed7953\"],[0.7777777777777778,\"#fb9f3a\"],[0.8888888888888888,\"#fdca26\"],[1.0,\"#f0f921\"]]},\"colorway\":[\"#636efa\",\"#EF553B\",\"#00cc96\",\"#ab63fa\",\"#FFA15A\",\"#19d3f3\",\"#FF6692\",\"#B6E880\",\"#FF97FF\",\"#FECB52\"],\"font\":{\"color\":\"#2a3f5f\"},\"geo\":{\"bgcolor\":\"white\",\"lakecolor\":\"white\",\"landcolor\":\"#E5ECF6\",\"showlakes\":true,\"showland\":true,\"subunitcolor\":\"white\"},\"hoverlabel\":{\"align\":\"left\"},\"hovermode\":\"closest\",\"mapbox\":{\"style\":\"light\"},\"paper_bgcolor\":\"white\",\"plot_bgcolor\":\"#E5ECF6\",\"polar\":{\"angularaxis\":{\"gridcolor\":\"white\",\"linecolor\":\"white\",\"ticks\":\"\"},\"bgcolor\":\"#E5ECF6\",\"radialaxis\":{\"gridcolor\":\"white\",\"linecolor\":\"white\",\"ticks\":\"\"}},\"scene\":{\"xaxis\":{\"backgroundcolor\":\"#E5ECF6\",\"gridcolor\":\"white\",\"gridwidth\":2,\"linecolor\":\"white\",\"showbackground\":true,\"ticks\":\"\",\"zerolinecolor\":\"white\"},\"yaxis\":{\"backgroundcolor\":\"#E5ECF6\",\"gridcolor\":\"white\",\"gridwidth\":2,\"linecolor\":\"white\",\"showbackground\":true,\"ticks\":\"\",\"zerolinecolor\":\"white\"},\"zaxis\":{\"backgroundcolor\":\"#E5ECF6\",\"gridcolor\":\"white\",\"gridwidth\":2,\"linecolor\":\"white\",\"showbackground\":true,\"ticks\":\"\",\"zerolinecolor\":\"white\"}},\"shapedefaults\":{\"line\":{\"color\":\"#2a3f5f\"}},\"ternary\":{\"aaxis\":{\"gridcolor\":\"white\",\"linecolor\":\"white\",\"ticks\":\"\"},\"baxis\":{\"gridcolor\":\"white\",\"linecolor\":\"white\",\"ticks\":\"\"},\"bgcolor\":\"#E5ECF6\",\"caxis\":{\"gridcolor\":\"white\",\"linecolor\":\"white\",\"ticks\":\"\"}},\"title\":{\"x\":0.05},\"xaxis\":{\"automargin\":true,\"gridcolor\":\"white\",\"linecolor\":\"white\",\"ticks\":\"\",\"title\":{\"standoff\":15},\"zerolinecolor\":\"white\",\"zerolinewidth\":2},\"yaxis\":{\"automargin\":true,\"gridcolor\":\"white\",\"linecolor\":\"white\",\"ticks\":\"\",\"title\":{\"standoff\":15},\"zerolinecolor\":\"white\",\"zerolinewidth\":2}}},\"title\":{\"font\":{\"color\":\"#4D5663\"}},\"xaxis\":{\"gridcolor\":\"#E1E5ED\",\"showgrid\":true,\"tickfont\":{\"color\":\"#4D5663\"},\"title\":{\"font\":{\"color\":\"#4D5663\"},\"text\":\"\"},\"zerolinecolor\":\"#E1E5ED\"},\"yaxis\":{\"gridcolor\":\"#E1E5ED\",\"showgrid\":true,\"tickfont\":{\"color\":\"#4D5663\"},\"title\":{\"font\":{\"color\":\"#4D5663\"},\"text\":\"\"},\"zerolinecolor\":\"#E1E5ED\"}},                        {\"showLink\": true, \"linkText\": \"Export to plot.ly\", \"plotlyServerURL\": \"https://plot.ly\", \"responsive\": true}                    ).then(function(){\n",
       "                            \n",
       "var gd = document.getElementById('8fb5c42b-451e-4aad-8abb-1fa30755b456');\n",
       "var x = new MutationObserver(function (mutations, observer) {{\n",
       "        var display = window.getComputedStyle(gd).display;\n",
       "        if (!display || display === 'none') {{\n",
       "            console.log([gd, 'removed!']);\n",
       "            Plotly.purge(gd);\n",
       "            observer.disconnect();\n",
       "        }}\n",
       "}});\n",
       "\n",
       "// Listen for the removal of the full notebook cells\n",
       "var notebookContainer = gd.closest('#notebook-container');\n",
       "if (notebookContainer) {{\n",
       "    x.observe(notebookContainer, {childList: true});\n",
       "}}\n",
       "\n",
       "// Listen for the clearing of the current output cell\n",
       "var outputEl = gd.closest('.output');\n",
       "if (outputEl) {{\n",
       "    x.observe(outputEl, {childList: true});\n",
       "}}\n",
       "\n",
       "                        })                };                });            </script>        </div>"
      ]
     },
     "metadata": {},
     "output_type": "display_data"
    }
   ],
   "source": [
    "df.iplot(kind='bubble',x='A',y='B',size='C')"
   ]
  },
  {
   "cell_type": "markdown",
   "metadata": {},
   "source": [
    "## scatter_matrix()\n",
    "\n",
    "Similar to sns.pairplot()"
   ]
  },
  {
   "cell_type": "code",
   "execution_count": 23,
   "metadata": {},
   "outputs": [
    {
     "data": {
      "application/vnd.plotly.v1+json": {
       "config": {
        "linkText": "Export to plot.ly",
        "plotlyServerURL": "https://plot.ly",
        "showLink": true
       },
       "data": [
        {
         "histfunc": "count",
         "histnorm": "",
         "marker": {
          "color": "rgba(255, 153, 51, 1.0)",
          "line": {
           "color": "#4D5663",
           "width": 1.3
          }
         },
         "name": "A",
         "nbinsx": 10,
         "opacity": 0.8,
         "orientation": "v",
         "type": "histogram",
         "x": [
          -0.5882201862615739,
          -0.1444088146832521,
          -0.7206830682849644,
          1.3936579949157097,
          -0.19862000637931865,
          -0.27593821881612995,
          0.10946967362279274,
          -0.7994858635802414,
          0.1678150311420152,
          -0.03259329436621168,
          -0.38777224262700793,
          -0.9754539192544475,
          0.31246023384261074,
          -0.16315024393863606,
          0.1433325386094532,
          0.33921612803869455,
          0.1687111089431125,
          -1.0293821555773768,
          0.9359095977765699,
          -0.851942028353327,
          0.27136104667763106,
          2.0938787705300403,
          -1.6874972996029145,
          -0.4906760954841787,
          1.014382803145646,
          -0.6868968224829972,
          -0.7713142158581506,
          -1.0629976127507368,
          -0.3911478166219877,
          -1.6997231884085433,
          0.4760470417318967,
          1.368331511888546,
          -0.9584745559245262,
          -1.183217404290445,
          -0.575483118709692,
          1.3026615111527207,
          0.1441487490352291,
          -1.0594506247977764,
          -1.5380315053002944,
          2.4091356980594285,
          1.0046246460929371,
          0.16397580097306277,
          -0.27806055403543156,
          1.1825457833448632,
          0.9927116557574145,
          0.6401164337634135,
          -0.17126633776369268,
          -0.09314210703339369,
          -1.2500682591239412,
          1.5249423799561066,
          0.7261411639316259,
          1.590022568827245,
          -0.04437577138374293,
          -0.19365124054278118,
          -1.537393958681574,
          1.5201990369248464,
          1.677601948736433,
          -0.17840117181941412,
          -0.260180030841215,
          -0.2744427137172959,
          -0.05364077060641442,
          -1.388808568459774,
          -0.2976181577756708,
          -0.05489380423532537,
          0.24230246636410666,
          0.05706581952694559,
          -0.5203533785804892,
          -0.4759391251040668,
          1.9466209582861882,
          0.8574801728519554,
          -0.42732486530133573,
          1.2327550002736216,
          1.5230759358429147,
          0.9259071632069753,
          1.4978812400979802,
          -0.5868307177392983,
          -0.21430818657024733,
          0.4275909334188216,
          -0.7517631229589176,
          0.40933185053435545,
          1.0494839530728004,
          1.009305230913276,
          -0.24943062954401313,
          -0.4313553585139899,
          -0.17170921243621456,
          1.6841789479225455,
          -0.9526310880361992,
          0.12458637521250845,
          0.5687516401383191,
          0.8383341998997003,
          0.9996013164266332,
          -1.2654481776987168,
          0.06368071956753159,
          -0.5823383450272381,
          0.8242370577808078,
          0.04917197237671641,
          -1.0627241384534636,
          -0.8690415122855502,
          0.413248602855076,
          1.4561243863993238
         ],
         "xaxis": "x",
         "yaxis": "y"
        },
        {
         "line": {
          "color": "rgba(128, 128, 128, 1.0)",
          "dash": "solid",
          "shape": "linear",
          "width": 1.3
         },
         "marker": {
          "size": 2,
          "symbol": "circle"
         },
         "mode": "markers",
         "name": "A",
         "text": "",
         "type": "scatter",
         "x": [
          -0.8940538161456291,
          1.7587400520446705,
          0.14430342474400454,
          -0.34549370551569325,
          -0.5257140537089149,
          -0.15452279911902936,
          -1.0700089891485318,
          -1.2765518475470334,
          -1.1018276817658246,
          0.43378474413794765,
          0.8461336916637264,
          -0.24624295303470572,
          1.3982100658424075,
          0.9997234408622141,
          -0.2719079134797146,
          0.7001985695260833,
          0.37644992918744924,
          0.6256292283079395,
          0.14171050635516258,
          0.4083837344888657,
          0.35919115418712133,
          0.2885316619016053,
          -0.2795716879495062,
          1.4967109264618719,
          -0.5034276127281153,
          -0.9195848263522127,
          0.0036980691622682717,
          -1.1561975511553555,
          -0.0674931632448224,
          1.2205170295980456,
          -1.7173270994239003,
          -0.8457801385986659,
          0.1725586858008727,
          0.4241941216487407,
          -0.640527068079842,
          0.9162412399630095,
          -0.7126212550692267,
          1.1760786429305836,
          -0.3663287237478555,
          -0.9601992815532329,
          -0.5934668853017779,
          2.138687640168241,
          1.1271439949934412,
          0.4228887134119707,
          0.9641575600348385,
          -0.4732958531413693,
          0.3691867824050043,
          1.0438568219805757,
          -0.6851461607108044,
          1.9604889962473953,
          -0.7121316185807449,
          -0.860258552005439,
          -0.7756424767215246,
          1.1188986390232671,
          -0.029992580637274155,
          1.2566812154182598,
          -0.08965639196959063,
          0.9993501250314029,
          1.0581915489108098,
          0.018648395808328312,
          -0.16515690335859862,
          1.1048916736355985,
          -0.2940482353646764,
          0.7858209812076586,
          0.6962374498622259,
          0.6824777105549716,
          0.6502383370441862,
          -0.6503294575233609,
          -2.419037357005872,
          0.5386046383338288,
          0.13396494940463755,
          0.8338031503515533,
          0.20428275558354891,
          0.7963950437666771,
          -0.5168135777070428,
          0.7337029151449452,
          -0.17652524673493883,
          -1.8741632511307245,
          -0.541972300082036,
          -0.3447729493621954,
          -0.6321114042540144,
          0.15149425011822618,
          -0.168313064233042,
          -0.2248723299164277,
          1.0986104344094423,
          0.5057236081827604,
          -0.31038782932230446,
          1.9497709425607428,
          1.3184687249490608,
          -1.0867694948850026,
          0.861439797367633,
          0.3582260691853846,
          0.22568575670948762,
          0.40989940999869257,
          0.0073837110282809456,
          1.3613943157445625,
          -0.28844704644859565,
          0.2291403758894681,
          -0.4472241971177087,
          -0.19181766055293706
         ],
         "xaxis": "x2",
         "y": [
          -0.5882201862615739,
          -0.1444088146832521,
          -0.7206830682849644,
          1.3936579949157097,
          -0.19862000637931865,
          -0.27593821881612995,
          0.10946967362279274,
          -0.7994858635802414,
          0.1678150311420152,
          -0.03259329436621168,
          -0.38777224262700793,
          -0.9754539192544475,
          0.31246023384261074,
          -0.16315024393863606,
          0.1433325386094532,
          0.33921612803869455,
          0.1687111089431125,
          -1.0293821555773768,
          0.9359095977765699,
          -0.851942028353327,
          0.27136104667763106,
          2.0938787705300403,
          -1.6874972996029145,
          -0.4906760954841787,
          1.014382803145646,
          -0.6868968224829972,
          -0.7713142158581506,
          -1.0629976127507368,
          -0.3911478166219877,
          -1.6997231884085433,
          0.4760470417318967,
          1.368331511888546,
          -0.9584745559245262,
          -1.183217404290445,
          -0.575483118709692,
          1.3026615111527207,
          0.1441487490352291,
          -1.0594506247977764,
          -1.5380315053002944,
          2.4091356980594285,
          1.0046246460929371,
          0.16397580097306277,
          -0.27806055403543156,
          1.1825457833448632,
          0.9927116557574145,
          0.6401164337634135,
          -0.17126633776369268,
          -0.09314210703339369,
          -1.2500682591239412,
          1.5249423799561066,
          0.7261411639316259,
          1.590022568827245,
          -0.04437577138374293,
          -0.19365124054278118,
          -1.537393958681574,
          1.5201990369248464,
          1.677601948736433,
          -0.17840117181941412,
          -0.260180030841215,
          -0.2744427137172959,
          -0.05364077060641442,
          -1.388808568459774,
          -0.2976181577756708,
          -0.05489380423532537,
          0.24230246636410666,
          0.05706581952694559,
          -0.5203533785804892,
          -0.4759391251040668,
          1.9466209582861882,
          0.8574801728519554,
          -0.42732486530133573,
          1.2327550002736216,
          1.5230759358429147,
          0.9259071632069753,
          1.4978812400979802,
          -0.5868307177392983,
          -0.21430818657024733,
          0.4275909334188216,
          -0.7517631229589176,
          0.40933185053435545,
          1.0494839530728004,
          1.009305230913276,
          -0.24943062954401313,
          -0.4313553585139899,
          -0.17170921243621456,
          1.6841789479225455,
          -0.9526310880361992,
          0.12458637521250845,
          0.5687516401383191,
          0.8383341998997003,
          0.9996013164266332,
          -1.2654481776987168,
          0.06368071956753159,
          -0.5823383450272381,
          0.8242370577808078,
          0.04917197237671641,
          -1.0627241384534636,
          -0.8690415122855502,
          0.413248602855076,
          1.4561243863993238
         ],
         "yaxis": "y2"
        },
        {
         "line": {
          "color": "rgba(128, 128, 128, 1.0)",
          "dash": "solid",
          "shape": "linear",
          "width": 1.3
         },
         "marker": {
          "size": 2,
          "symbol": "circle"
         },
         "mode": "markers",
         "name": "A",
         "text": "",
         "type": "scatter",
         "x": [
          1.876901332764013,
          -0.10349125707717265,
          1.2579282301675274,
          -0.32879018856124387,
          1.2893453409422433,
          -0.6978506990899702,
          -0.5690885249863702,
          -3.212348160167795,
          0.35198033315027016,
          1.6280859607352034,
          1.4169911089200316,
          -0.006244506076509348,
          0.6063776210857147,
          1.3590502993947755,
          -0.08753558435804658,
          -1.271038925037562,
          -1.876369588842253,
          -0.14833303694173458,
          -0.6885285591325655,
          0.40005150515600774,
          -1.2397561550563225,
          -0.8858069024894748,
          -0.798914170622721,
          -0.6451125590130682,
          -1.337201271014988,
          -0.5434072525765655,
          0.24923426476470928,
          1.02995155945738,
          -0.38069426208706303,
          0.550732455528556,
          -0.06622388157713835,
          0.28227085401028323,
          -1.6993807018906721,
          -1.017000383808957,
          1.4502622013064184,
          -0.37748754175054144,
          0.11182643086431572,
          0.3190458805727826,
          0.6310714228107397,
          0.9287773600999025,
          -0.5958332182194019,
          0.8368468693621849,
          1.615333454176221,
          -1.0595142331219507,
          0.059263138514671826,
          0.3781385876987572,
          1.205778828363705,
          0.5103676221222979,
          -0.4181890681484547,
          -1.1749615894305674,
          -0.8146477375634813,
          0.703332618935335,
          1.1159942380155168,
          -1.405272482685175,
          -0.4035490110227859,
          -1.214451078534114,
          0.034836276212230365,
          0.994470253635251,
          -1.2974851873956041,
          1.5571794559110022,
          -0.36177309144129505,
          -2.0265767761700726,
          0.537946286420841,
          -1.3207974386903243,
          0.5178046251976135,
          0.22227262982002907,
          0.35709449641554913,
          -0.8452066203825547,
          -0.35073473770144153,
          0.03423386191778584,
          -0.11174022398461535,
          0.6247860999321203,
          -0.8593150572868524,
          -0.2681198583175821,
          -0.5709092452257304,
          0.09516218009043352,
          0.6924016128879481,
          -0.8538907509043898,
          0.06401430782372304,
          1.9161700217558955,
          -1.1306376711175334,
          -0.20896335733373597,
          1.0478962843173312,
          0.7386032627103952,
          -0.14958601699834462,
          -1.3679987897784471,
          -0.30951165695956173,
          -0.430522024100932,
          -0.45632750502507113,
          -0.7971261605970754,
          1.7768435698921234,
          -0.700539057905725,
          -0.23319658471835003,
          -0.10861742663622247,
          -0.3123966686400977,
          -0.1501601691032951,
          -1.1884097302299348,
          1.3946847680567762,
          1.648671061047971,
          0.6330557050537858
         ],
         "xaxis": "x3",
         "y": [
          -0.5882201862615739,
          -0.1444088146832521,
          -0.7206830682849644,
          1.3936579949157097,
          -0.19862000637931865,
          -0.27593821881612995,
          0.10946967362279274,
          -0.7994858635802414,
          0.1678150311420152,
          -0.03259329436621168,
          -0.38777224262700793,
          -0.9754539192544475,
          0.31246023384261074,
          -0.16315024393863606,
          0.1433325386094532,
          0.33921612803869455,
          0.1687111089431125,
          -1.0293821555773768,
          0.9359095977765699,
          -0.851942028353327,
          0.27136104667763106,
          2.0938787705300403,
          -1.6874972996029145,
          -0.4906760954841787,
          1.014382803145646,
          -0.6868968224829972,
          -0.7713142158581506,
          -1.0629976127507368,
          -0.3911478166219877,
          -1.6997231884085433,
          0.4760470417318967,
          1.368331511888546,
          -0.9584745559245262,
          -1.183217404290445,
          -0.575483118709692,
          1.3026615111527207,
          0.1441487490352291,
          -1.0594506247977764,
          -1.5380315053002944,
          2.4091356980594285,
          1.0046246460929371,
          0.16397580097306277,
          -0.27806055403543156,
          1.1825457833448632,
          0.9927116557574145,
          0.6401164337634135,
          -0.17126633776369268,
          -0.09314210703339369,
          -1.2500682591239412,
          1.5249423799561066,
          0.7261411639316259,
          1.590022568827245,
          -0.04437577138374293,
          -0.19365124054278118,
          -1.537393958681574,
          1.5201990369248464,
          1.677601948736433,
          -0.17840117181941412,
          -0.260180030841215,
          -0.2744427137172959,
          -0.05364077060641442,
          -1.388808568459774,
          -0.2976181577756708,
          -0.05489380423532537,
          0.24230246636410666,
          0.05706581952694559,
          -0.5203533785804892,
          -0.4759391251040668,
          1.9466209582861882,
          0.8574801728519554,
          -0.42732486530133573,
          1.2327550002736216,
          1.5230759358429147,
          0.9259071632069753,
          1.4978812400979802,
          -0.5868307177392983,
          -0.21430818657024733,
          0.4275909334188216,
          -0.7517631229589176,
          0.40933185053435545,
          1.0494839530728004,
          1.009305230913276,
          -0.24943062954401313,
          -0.4313553585139899,
          -0.17170921243621456,
          1.6841789479225455,
          -0.9526310880361992,
          0.12458637521250845,
          0.5687516401383191,
          0.8383341998997003,
          0.9996013164266332,
          -1.2654481776987168,
          0.06368071956753159,
          -0.5823383450272381,
          0.8242370577808078,
          0.04917197237671641,
          -1.0627241384534636,
          -0.8690415122855502,
          0.413248602855076,
          1.4561243863993238
         ],
         "yaxis": "y3"
        },
        {
         "line": {
          "color": "rgba(128, 128, 128, 1.0)",
          "dash": "solid",
          "shape": "linear",
          "width": 1.3
         },
         "marker": {
          "size": 2,
          "symbol": "circle"
         },
         "mode": "markers",
         "name": "A",
         "text": "",
         "type": "scatter",
         "x": [
          0.9547741388797715,
          1.12691998723733,
          -0.17588602744932133,
          -0.08360142003301853,
          -0.49442222869638813,
          0.6934794557585935,
          1.0110147561447163,
          0.25346707455515455,
          -0.4787144143926514,
          0.4928484667310422,
          -1.7428489886218677,
          -0.2570764597121221,
          0.09881584393573929,
          0.7628155428096923,
          2.5806600650612266,
          -0.4478061182670122,
          0.0002874671823678858,
          -1.0942176091789775,
          -0.4873762942535746,
          1.976816251298637,
          0.3339524849949742,
          0.16802667442509775,
          0.8626302484321515,
          -0.09111335353527333,
          -0.2657862205013541,
          0.35010589487032506,
          -0.23440411955846505,
          0.7751695854844219,
          1.5163820694528165,
          1.6029417948586178,
          0.9215993651005554,
          -0.7969441897514339,
          -1.4376888652194055,
          0.8400305940687466,
          -0.5152454583569321,
          -0.09930174693615994,
          1.7179749043312862,
          1.4960946221949785,
          0.08921104108617861,
          0.8339661715179915,
          -0.11693960397103106,
          -0.7394381968022411,
          -1.1154249192760168,
          0.6147476397892389,
          0.07274961574508616,
          0.4661061113921465,
          -0.16726709401784562,
          -0.8361209180729203,
          -1.7155700620004344,
          1.8348719406873164,
          -2.126207789865309,
          1.2707033611415526,
          1.7622382167731088,
          0.39343116681641893,
          0.03190704932137889,
          -1.1559108977410961,
          -0.04622596241052501,
          0.489106935341587,
          0.13740546329596523,
          -0.7311652356616144,
          1.7738156693021163,
          -0.04704643840360029,
          -0.7881192887413037,
          1.795952192538169,
          0.5314335733134796,
          -0.8214714973020584,
          -0.7298186525328831,
          -0.6729925403866435,
          -0.6936148756614567,
          -0.31688486734133753,
          -0.388229614712312,
          0.6014550940553034,
          -2.4080510527023966,
          0.36016133963583563,
          -1.2940303292896087,
          -1.3378643325876045,
          0.030515645046154144,
          0.7901639242719248,
          0.8815513061717907,
          -1.4261174808782329,
          -0.10338583796462682,
          0.0490718773572223,
          0.34118388492613627,
          -0.13743183574732518,
          -0.3350574411815445,
          0.0041823789357666105,
          0.5142482477379821,
          -1.7215903957099068,
          2.2682909150529422,
          -1.4792240642798469,
          0.02645063027757254,
          0.5956660038038963,
          -0.3892967030165847,
          -0.17204291943275932,
          0.2748847894136974,
          -0.7505812424982387,
          -0.6479838607980779,
          1.6672864040606898,
          1.2378083818978425,
          -0.27781760634175695
         ],
         "xaxis": "x4",
         "y": [
          -0.5882201862615739,
          -0.1444088146832521,
          -0.7206830682849644,
          1.3936579949157097,
          -0.19862000637931865,
          -0.27593821881612995,
          0.10946967362279274,
          -0.7994858635802414,
          0.1678150311420152,
          -0.03259329436621168,
          -0.38777224262700793,
          -0.9754539192544475,
          0.31246023384261074,
          -0.16315024393863606,
          0.1433325386094532,
          0.33921612803869455,
          0.1687111089431125,
          -1.0293821555773768,
          0.9359095977765699,
          -0.851942028353327,
          0.27136104667763106,
          2.0938787705300403,
          -1.6874972996029145,
          -0.4906760954841787,
          1.014382803145646,
          -0.6868968224829972,
          -0.7713142158581506,
          -1.0629976127507368,
          -0.3911478166219877,
          -1.6997231884085433,
          0.4760470417318967,
          1.368331511888546,
          -0.9584745559245262,
          -1.183217404290445,
          -0.575483118709692,
          1.3026615111527207,
          0.1441487490352291,
          -1.0594506247977764,
          -1.5380315053002944,
          2.4091356980594285,
          1.0046246460929371,
          0.16397580097306277,
          -0.27806055403543156,
          1.1825457833448632,
          0.9927116557574145,
          0.6401164337634135,
          -0.17126633776369268,
          -0.09314210703339369,
          -1.2500682591239412,
          1.5249423799561066,
          0.7261411639316259,
          1.590022568827245,
          -0.04437577138374293,
          -0.19365124054278118,
          -1.537393958681574,
          1.5201990369248464,
          1.677601948736433,
          -0.17840117181941412,
          -0.260180030841215,
          -0.2744427137172959,
          -0.05364077060641442,
          -1.388808568459774,
          -0.2976181577756708,
          -0.05489380423532537,
          0.24230246636410666,
          0.05706581952694559,
          -0.5203533785804892,
          -0.4759391251040668,
          1.9466209582861882,
          0.8574801728519554,
          -0.42732486530133573,
          1.2327550002736216,
          1.5230759358429147,
          0.9259071632069753,
          1.4978812400979802,
          -0.5868307177392983,
          -0.21430818657024733,
          0.4275909334188216,
          -0.7517631229589176,
          0.40933185053435545,
          1.0494839530728004,
          1.009305230913276,
          -0.24943062954401313,
          -0.4313553585139899,
          -0.17170921243621456,
          1.6841789479225455,
          -0.9526310880361992,
          0.12458637521250845,
          0.5687516401383191,
          0.8383341998997003,
          0.9996013164266332,
          -1.2654481776987168,
          0.06368071956753159,
          -0.5823383450272381,
          0.8242370577808078,
          0.04917197237671641,
          -1.0627241384534636,
          -0.8690415122855502,
          0.413248602855076,
          1.4561243863993238
         ],
         "yaxis": "y4"
        },
        {
         "line": {
          "color": "rgba(128, 128, 128, 1.0)",
          "dash": "solid",
          "shape": "linear",
          "width": 1.3
         },
         "marker": {
          "size": 2,
          "symbol": "circle"
         },
         "mode": "markers",
         "name": "B",
         "text": "",
         "type": "scatter",
         "x": [
          -0.5882201862615739,
          -0.1444088146832521,
          -0.7206830682849644,
          1.3936579949157097,
          -0.19862000637931865,
          -0.27593821881612995,
          0.10946967362279274,
          -0.7994858635802414,
          0.1678150311420152,
          -0.03259329436621168,
          -0.38777224262700793,
          -0.9754539192544475,
          0.31246023384261074,
          -0.16315024393863606,
          0.1433325386094532,
          0.33921612803869455,
          0.1687111089431125,
          -1.0293821555773768,
          0.9359095977765699,
          -0.851942028353327,
          0.27136104667763106,
          2.0938787705300403,
          -1.6874972996029145,
          -0.4906760954841787,
          1.014382803145646,
          -0.6868968224829972,
          -0.7713142158581506,
          -1.0629976127507368,
          -0.3911478166219877,
          -1.6997231884085433,
          0.4760470417318967,
          1.368331511888546,
          -0.9584745559245262,
          -1.183217404290445,
          -0.575483118709692,
          1.3026615111527207,
          0.1441487490352291,
          -1.0594506247977764,
          -1.5380315053002944,
          2.4091356980594285,
          1.0046246460929371,
          0.16397580097306277,
          -0.27806055403543156,
          1.1825457833448632,
          0.9927116557574145,
          0.6401164337634135,
          -0.17126633776369268,
          -0.09314210703339369,
          -1.2500682591239412,
          1.5249423799561066,
          0.7261411639316259,
          1.590022568827245,
          -0.04437577138374293,
          -0.19365124054278118,
          -1.537393958681574,
          1.5201990369248464,
          1.677601948736433,
          -0.17840117181941412,
          -0.260180030841215,
          -0.2744427137172959,
          -0.05364077060641442,
          -1.388808568459774,
          -0.2976181577756708,
          -0.05489380423532537,
          0.24230246636410666,
          0.05706581952694559,
          -0.5203533785804892,
          -0.4759391251040668,
          1.9466209582861882,
          0.8574801728519554,
          -0.42732486530133573,
          1.2327550002736216,
          1.5230759358429147,
          0.9259071632069753,
          1.4978812400979802,
          -0.5868307177392983,
          -0.21430818657024733,
          0.4275909334188216,
          -0.7517631229589176,
          0.40933185053435545,
          1.0494839530728004,
          1.009305230913276,
          -0.24943062954401313,
          -0.4313553585139899,
          -0.17170921243621456,
          1.6841789479225455,
          -0.9526310880361992,
          0.12458637521250845,
          0.5687516401383191,
          0.8383341998997003,
          0.9996013164266332,
          -1.2654481776987168,
          0.06368071956753159,
          -0.5823383450272381,
          0.8242370577808078,
          0.04917197237671641,
          -1.0627241384534636,
          -0.8690415122855502,
          0.413248602855076,
          1.4561243863993238
         ],
         "xaxis": "x5",
         "y": [
          -0.8940538161456291,
          1.7587400520446705,
          0.14430342474400454,
          -0.34549370551569325,
          -0.5257140537089149,
          -0.15452279911902936,
          -1.0700089891485318,
          -1.2765518475470334,
          -1.1018276817658246,
          0.43378474413794765,
          0.8461336916637264,
          -0.24624295303470572,
          1.3982100658424075,
          0.9997234408622141,
          -0.2719079134797146,
          0.7001985695260833,
          0.37644992918744924,
          0.6256292283079395,
          0.14171050635516258,
          0.4083837344888657,
          0.35919115418712133,
          0.2885316619016053,
          -0.2795716879495062,
          1.4967109264618719,
          -0.5034276127281153,
          -0.9195848263522127,
          0.0036980691622682717,
          -1.1561975511553555,
          -0.0674931632448224,
          1.2205170295980456,
          -1.7173270994239003,
          -0.8457801385986659,
          0.1725586858008727,
          0.4241941216487407,
          -0.640527068079842,
          0.9162412399630095,
          -0.7126212550692267,
          1.1760786429305836,
          -0.3663287237478555,
          -0.9601992815532329,
          -0.5934668853017779,
          2.138687640168241,
          1.1271439949934412,
          0.4228887134119707,
          0.9641575600348385,
          -0.4732958531413693,
          0.3691867824050043,
          1.0438568219805757,
          -0.6851461607108044,
          1.9604889962473953,
          -0.7121316185807449,
          -0.860258552005439,
          -0.7756424767215246,
          1.1188986390232671,
          -0.029992580637274155,
          1.2566812154182598,
          -0.08965639196959063,
          0.9993501250314029,
          1.0581915489108098,
          0.018648395808328312,
          -0.16515690335859862,
          1.1048916736355985,
          -0.2940482353646764,
          0.7858209812076586,
          0.6962374498622259,
          0.6824777105549716,
          0.6502383370441862,
          -0.6503294575233609,
          -2.419037357005872,
          0.5386046383338288,
          0.13396494940463755,
          0.8338031503515533,
          0.20428275558354891,
          0.7963950437666771,
          -0.5168135777070428,
          0.7337029151449452,
          -0.17652524673493883,
          -1.8741632511307245,
          -0.541972300082036,
          -0.3447729493621954,
          -0.6321114042540144,
          0.15149425011822618,
          -0.168313064233042,
          -0.2248723299164277,
          1.0986104344094423,
          0.5057236081827604,
          -0.31038782932230446,
          1.9497709425607428,
          1.3184687249490608,
          -1.0867694948850026,
          0.861439797367633,
          0.3582260691853846,
          0.22568575670948762,
          0.40989940999869257,
          0.0073837110282809456,
          1.3613943157445625,
          -0.28844704644859565,
          0.2291403758894681,
          -0.4472241971177087,
          -0.19181766055293706
         ],
         "yaxis": "y5"
        },
        {
         "histfunc": "count",
         "histnorm": "",
         "marker": {
          "color": "rgba(55, 128, 191, 1.0)",
          "line": {
           "color": "#4D5663",
           "width": 1.3
          }
         },
         "name": "B",
         "nbinsx": 10,
         "opacity": 0.8,
         "orientation": "v",
         "type": "histogram",
         "x": [
          -0.8940538161456291,
          1.7587400520446705,
          0.14430342474400454,
          -0.34549370551569325,
          -0.5257140537089149,
          -0.15452279911902936,
          -1.0700089891485318,
          -1.2765518475470334,
          -1.1018276817658246,
          0.43378474413794765,
          0.8461336916637264,
          -0.24624295303470572,
          1.3982100658424075,
          0.9997234408622141,
          -0.2719079134797146,
          0.7001985695260833,
          0.37644992918744924,
          0.6256292283079395,
          0.14171050635516258,
          0.4083837344888657,
          0.35919115418712133,
          0.2885316619016053,
          -0.2795716879495062,
          1.4967109264618719,
          -0.5034276127281153,
          -0.9195848263522127,
          0.0036980691622682717,
          -1.1561975511553555,
          -0.0674931632448224,
          1.2205170295980456,
          -1.7173270994239003,
          -0.8457801385986659,
          0.1725586858008727,
          0.4241941216487407,
          -0.640527068079842,
          0.9162412399630095,
          -0.7126212550692267,
          1.1760786429305836,
          -0.3663287237478555,
          -0.9601992815532329,
          -0.5934668853017779,
          2.138687640168241,
          1.1271439949934412,
          0.4228887134119707,
          0.9641575600348385,
          -0.4732958531413693,
          0.3691867824050043,
          1.0438568219805757,
          -0.6851461607108044,
          1.9604889962473953,
          -0.7121316185807449,
          -0.860258552005439,
          -0.7756424767215246,
          1.1188986390232671,
          -0.029992580637274155,
          1.2566812154182598,
          -0.08965639196959063,
          0.9993501250314029,
          1.0581915489108098,
          0.018648395808328312,
          -0.16515690335859862,
          1.1048916736355985,
          -0.2940482353646764,
          0.7858209812076586,
          0.6962374498622259,
          0.6824777105549716,
          0.6502383370441862,
          -0.6503294575233609,
          -2.419037357005872,
          0.5386046383338288,
          0.13396494940463755,
          0.8338031503515533,
          0.20428275558354891,
          0.7963950437666771,
          -0.5168135777070428,
          0.7337029151449452,
          -0.17652524673493883,
          -1.8741632511307245,
          -0.541972300082036,
          -0.3447729493621954,
          -0.6321114042540144,
          0.15149425011822618,
          -0.168313064233042,
          -0.2248723299164277,
          1.0986104344094423,
          0.5057236081827604,
          -0.31038782932230446,
          1.9497709425607428,
          1.3184687249490608,
          -1.0867694948850026,
          0.861439797367633,
          0.3582260691853846,
          0.22568575670948762,
          0.40989940999869257,
          0.0073837110282809456,
          1.3613943157445625,
          -0.28844704644859565,
          0.2291403758894681,
          -0.4472241971177087,
          -0.19181766055293706
         ],
         "xaxis": "x6",
         "yaxis": "y6"
        },
        {
         "line": {
          "color": "rgba(128, 128, 128, 1.0)",
          "dash": "solid",
          "shape": "linear",
          "width": 1.3
         },
         "marker": {
          "size": 2,
          "symbol": "circle"
         },
         "mode": "markers",
         "name": "B",
         "text": "",
         "type": "scatter",
         "x": [
          1.876901332764013,
          -0.10349125707717265,
          1.2579282301675274,
          -0.32879018856124387,
          1.2893453409422433,
          -0.6978506990899702,
          -0.5690885249863702,
          -3.212348160167795,
          0.35198033315027016,
          1.6280859607352034,
          1.4169911089200316,
          -0.006244506076509348,
          0.6063776210857147,
          1.3590502993947755,
          -0.08753558435804658,
          -1.271038925037562,
          -1.876369588842253,
          -0.14833303694173458,
          -0.6885285591325655,
          0.40005150515600774,
          -1.2397561550563225,
          -0.8858069024894748,
          -0.798914170622721,
          -0.6451125590130682,
          -1.337201271014988,
          -0.5434072525765655,
          0.24923426476470928,
          1.02995155945738,
          -0.38069426208706303,
          0.550732455528556,
          -0.06622388157713835,
          0.28227085401028323,
          -1.6993807018906721,
          -1.017000383808957,
          1.4502622013064184,
          -0.37748754175054144,
          0.11182643086431572,
          0.3190458805727826,
          0.6310714228107397,
          0.9287773600999025,
          -0.5958332182194019,
          0.8368468693621849,
          1.615333454176221,
          -1.0595142331219507,
          0.059263138514671826,
          0.3781385876987572,
          1.205778828363705,
          0.5103676221222979,
          -0.4181890681484547,
          -1.1749615894305674,
          -0.8146477375634813,
          0.703332618935335,
          1.1159942380155168,
          -1.405272482685175,
          -0.4035490110227859,
          -1.214451078534114,
          0.034836276212230365,
          0.994470253635251,
          -1.2974851873956041,
          1.5571794559110022,
          -0.36177309144129505,
          -2.0265767761700726,
          0.537946286420841,
          -1.3207974386903243,
          0.5178046251976135,
          0.22227262982002907,
          0.35709449641554913,
          -0.8452066203825547,
          -0.35073473770144153,
          0.03423386191778584,
          -0.11174022398461535,
          0.6247860999321203,
          -0.8593150572868524,
          -0.2681198583175821,
          -0.5709092452257304,
          0.09516218009043352,
          0.6924016128879481,
          -0.8538907509043898,
          0.06401430782372304,
          1.9161700217558955,
          -1.1306376711175334,
          -0.20896335733373597,
          1.0478962843173312,
          0.7386032627103952,
          -0.14958601699834462,
          -1.3679987897784471,
          -0.30951165695956173,
          -0.430522024100932,
          -0.45632750502507113,
          -0.7971261605970754,
          1.7768435698921234,
          -0.700539057905725,
          -0.23319658471835003,
          -0.10861742663622247,
          -0.3123966686400977,
          -0.1501601691032951,
          -1.1884097302299348,
          1.3946847680567762,
          1.648671061047971,
          0.6330557050537858
         ],
         "xaxis": "x7",
         "y": [
          -0.8940538161456291,
          1.7587400520446705,
          0.14430342474400454,
          -0.34549370551569325,
          -0.5257140537089149,
          -0.15452279911902936,
          -1.0700089891485318,
          -1.2765518475470334,
          -1.1018276817658246,
          0.43378474413794765,
          0.8461336916637264,
          -0.24624295303470572,
          1.3982100658424075,
          0.9997234408622141,
          -0.2719079134797146,
          0.7001985695260833,
          0.37644992918744924,
          0.6256292283079395,
          0.14171050635516258,
          0.4083837344888657,
          0.35919115418712133,
          0.2885316619016053,
          -0.2795716879495062,
          1.4967109264618719,
          -0.5034276127281153,
          -0.9195848263522127,
          0.0036980691622682717,
          -1.1561975511553555,
          -0.0674931632448224,
          1.2205170295980456,
          -1.7173270994239003,
          -0.8457801385986659,
          0.1725586858008727,
          0.4241941216487407,
          -0.640527068079842,
          0.9162412399630095,
          -0.7126212550692267,
          1.1760786429305836,
          -0.3663287237478555,
          -0.9601992815532329,
          -0.5934668853017779,
          2.138687640168241,
          1.1271439949934412,
          0.4228887134119707,
          0.9641575600348385,
          -0.4732958531413693,
          0.3691867824050043,
          1.0438568219805757,
          -0.6851461607108044,
          1.9604889962473953,
          -0.7121316185807449,
          -0.860258552005439,
          -0.7756424767215246,
          1.1188986390232671,
          -0.029992580637274155,
          1.2566812154182598,
          -0.08965639196959063,
          0.9993501250314029,
          1.0581915489108098,
          0.018648395808328312,
          -0.16515690335859862,
          1.1048916736355985,
          -0.2940482353646764,
          0.7858209812076586,
          0.6962374498622259,
          0.6824777105549716,
          0.6502383370441862,
          -0.6503294575233609,
          -2.419037357005872,
          0.5386046383338288,
          0.13396494940463755,
          0.8338031503515533,
          0.20428275558354891,
          0.7963950437666771,
          -0.5168135777070428,
          0.7337029151449452,
          -0.17652524673493883,
          -1.8741632511307245,
          -0.541972300082036,
          -0.3447729493621954,
          -0.6321114042540144,
          0.15149425011822618,
          -0.168313064233042,
          -0.2248723299164277,
          1.0986104344094423,
          0.5057236081827604,
          -0.31038782932230446,
          1.9497709425607428,
          1.3184687249490608,
          -1.0867694948850026,
          0.861439797367633,
          0.3582260691853846,
          0.22568575670948762,
          0.40989940999869257,
          0.0073837110282809456,
          1.3613943157445625,
          -0.28844704644859565,
          0.2291403758894681,
          -0.4472241971177087,
          -0.19181766055293706
         ],
         "yaxis": "y7"
        },
        {
         "line": {
          "color": "rgba(128, 128, 128, 1.0)",
          "dash": "solid",
          "shape": "linear",
          "width": 1.3
         },
         "marker": {
          "size": 2,
          "symbol": "circle"
         },
         "mode": "markers",
         "name": "B",
         "text": "",
         "type": "scatter",
         "x": [
          0.9547741388797715,
          1.12691998723733,
          -0.17588602744932133,
          -0.08360142003301853,
          -0.49442222869638813,
          0.6934794557585935,
          1.0110147561447163,
          0.25346707455515455,
          -0.4787144143926514,
          0.4928484667310422,
          -1.7428489886218677,
          -0.2570764597121221,
          0.09881584393573929,
          0.7628155428096923,
          2.5806600650612266,
          -0.4478061182670122,
          0.0002874671823678858,
          -1.0942176091789775,
          -0.4873762942535746,
          1.976816251298637,
          0.3339524849949742,
          0.16802667442509775,
          0.8626302484321515,
          -0.09111335353527333,
          -0.2657862205013541,
          0.35010589487032506,
          -0.23440411955846505,
          0.7751695854844219,
          1.5163820694528165,
          1.6029417948586178,
          0.9215993651005554,
          -0.7969441897514339,
          -1.4376888652194055,
          0.8400305940687466,
          -0.5152454583569321,
          -0.09930174693615994,
          1.7179749043312862,
          1.4960946221949785,
          0.08921104108617861,
          0.8339661715179915,
          -0.11693960397103106,
          -0.7394381968022411,
          -1.1154249192760168,
          0.6147476397892389,
          0.07274961574508616,
          0.4661061113921465,
          -0.16726709401784562,
          -0.8361209180729203,
          -1.7155700620004344,
          1.8348719406873164,
          -2.126207789865309,
          1.2707033611415526,
          1.7622382167731088,
          0.39343116681641893,
          0.03190704932137889,
          -1.1559108977410961,
          -0.04622596241052501,
          0.489106935341587,
          0.13740546329596523,
          -0.7311652356616144,
          1.7738156693021163,
          -0.04704643840360029,
          -0.7881192887413037,
          1.795952192538169,
          0.5314335733134796,
          -0.8214714973020584,
          -0.7298186525328831,
          -0.6729925403866435,
          -0.6936148756614567,
          -0.31688486734133753,
          -0.388229614712312,
          0.6014550940553034,
          -2.4080510527023966,
          0.36016133963583563,
          -1.2940303292896087,
          -1.3378643325876045,
          0.030515645046154144,
          0.7901639242719248,
          0.8815513061717907,
          -1.4261174808782329,
          -0.10338583796462682,
          0.0490718773572223,
          0.34118388492613627,
          -0.13743183574732518,
          -0.3350574411815445,
          0.0041823789357666105,
          0.5142482477379821,
          -1.7215903957099068,
          2.2682909150529422,
          -1.4792240642798469,
          0.02645063027757254,
          0.5956660038038963,
          -0.3892967030165847,
          -0.17204291943275932,
          0.2748847894136974,
          -0.7505812424982387,
          -0.6479838607980779,
          1.6672864040606898,
          1.2378083818978425,
          -0.27781760634175695
         ],
         "xaxis": "x8",
         "y": [
          -0.8940538161456291,
          1.7587400520446705,
          0.14430342474400454,
          -0.34549370551569325,
          -0.5257140537089149,
          -0.15452279911902936,
          -1.0700089891485318,
          -1.2765518475470334,
          -1.1018276817658246,
          0.43378474413794765,
          0.8461336916637264,
          -0.24624295303470572,
          1.3982100658424075,
          0.9997234408622141,
          -0.2719079134797146,
          0.7001985695260833,
          0.37644992918744924,
          0.6256292283079395,
          0.14171050635516258,
          0.4083837344888657,
          0.35919115418712133,
          0.2885316619016053,
          -0.2795716879495062,
          1.4967109264618719,
          -0.5034276127281153,
          -0.9195848263522127,
          0.0036980691622682717,
          -1.1561975511553555,
          -0.0674931632448224,
          1.2205170295980456,
          -1.7173270994239003,
          -0.8457801385986659,
          0.1725586858008727,
          0.4241941216487407,
          -0.640527068079842,
          0.9162412399630095,
          -0.7126212550692267,
          1.1760786429305836,
          -0.3663287237478555,
          -0.9601992815532329,
          -0.5934668853017779,
          2.138687640168241,
          1.1271439949934412,
          0.4228887134119707,
          0.9641575600348385,
          -0.4732958531413693,
          0.3691867824050043,
          1.0438568219805757,
          -0.6851461607108044,
          1.9604889962473953,
          -0.7121316185807449,
          -0.860258552005439,
          -0.7756424767215246,
          1.1188986390232671,
          -0.029992580637274155,
          1.2566812154182598,
          -0.08965639196959063,
          0.9993501250314029,
          1.0581915489108098,
          0.018648395808328312,
          -0.16515690335859862,
          1.1048916736355985,
          -0.2940482353646764,
          0.7858209812076586,
          0.6962374498622259,
          0.6824777105549716,
          0.6502383370441862,
          -0.6503294575233609,
          -2.419037357005872,
          0.5386046383338288,
          0.13396494940463755,
          0.8338031503515533,
          0.20428275558354891,
          0.7963950437666771,
          -0.5168135777070428,
          0.7337029151449452,
          -0.17652524673493883,
          -1.8741632511307245,
          -0.541972300082036,
          -0.3447729493621954,
          -0.6321114042540144,
          0.15149425011822618,
          -0.168313064233042,
          -0.2248723299164277,
          1.0986104344094423,
          0.5057236081827604,
          -0.31038782932230446,
          1.9497709425607428,
          1.3184687249490608,
          -1.0867694948850026,
          0.861439797367633,
          0.3582260691853846,
          0.22568575670948762,
          0.40989940999869257,
          0.0073837110282809456,
          1.3613943157445625,
          -0.28844704644859565,
          0.2291403758894681,
          -0.4472241971177087,
          -0.19181766055293706
         ],
         "yaxis": "y8"
        },
        {
         "line": {
          "color": "rgba(128, 128, 128, 1.0)",
          "dash": "solid",
          "shape": "linear",
          "width": 1.3
         },
         "marker": {
          "size": 2,
          "symbol": "circle"
         },
         "mode": "markers",
         "name": "C",
         "text": "",
         "type": "scatter",
         "x": [
          -0.5882201862615739,
          -0.1444088146832521,
          -0.7206830682849644,
          1.3936579949157097,
          -0.19862000637931865,
          -0.27593821881612995,
          0.10946967362279274,
          -0.7994858635802414,
          0.1678150311420152,
          -0.03259329436621168,
          -0.38777224262700793,
          -0.9754539192544475,
          0.31246023384261074,
          -0.16315024393863606,
          0.1433325386094532,
          0.33921612803869455,
          0.1687111089431125,
          -1.0293821555773768,
          0.9359095977765699,
          -0.851942028353327,
          0.27136104667763106,
          2.0938787705300403,
          -1.6874972996029145,
          -0.4906760954841787,
          1.014382803145646,
          -0.6868968224829972,
          -0.7713142158581506,
          -1.0629976127507368,
          -0.3911478166219877,
          -1.6997231884085433,
          0.4760470417318967,
          1.368331511888546,
          -0.9584745559245262,
          -1.183217404290445,
          -0.575483118709692,
          1.3026615111527207,
          0.1441487490352291,
          -1.0594506247977764,
          -1.5380315053002944,
          2.4091356980594285,
          1.0046246460929371,
          0.16397580097306277,
          -0.27806055403543156,
          1.1825457833448632,
          0.9927116557574145,
          0.6401164337634135,
          -0.17126633776369268,
          -0.09314210703339369,
          -1.2500682591239412,
          1.5249423799561066,
          0.7261411639316259,
          1.590022568827245,
          -0.04437577138374293,
          -0.19365124054278118,
          -1.537393958681574,
          1.5201990369248464,
          1.677601948736433,
          -0.17840117181941412,
          -0.260180030841215,
          -0.2744427137172959,
          -0.05364077060641442,
          -1.388808568459774,
          -0.2976181577756708,
          -0.05489380423532537,
          0.24230246636410666,
          0.05706581952694559,
          -0.5203533785804892,
          -0.4759391251040668,
          1.9466209582861882,
          0.8574801728519554,
          -0.42732486530133573,
          1.2327550002736216,
          1.5230759358429147,
          0.9259071632069753,
          1.4978812400979802,
          -0.5868307177392983,
          -0.21430818657024733,
          0.4275909334188216,
          -0.7517631229589176,
          0.40933185053435545,
          1.0494839530728004,
          1.009305230913276,
          -0.24943062954401313,
          -0.4313553585139899,
          -0.17170921243621456,
          1.6841789479225455,
          -0.9526310880361992,
          0.12458637521250845,
          0.5687516401383191,
          0.8383341998997003,
          0.9996013164266332,
          -1.2654481776987168,
          0.06368071956753159,
          -0.5823383450272381,
          0.8242370577808078,
          0.04917197237671641,
          -1.0627241384534636,
          -0.8690415122855502,
          0.413248602855076,
          1.4561243863993238
         ],
         "xaxis": "x9",
         "y": [
          1.876901332764013,
          -0.10349125707717265,
          1.2579282301675274,
          -0.32879018856124387,
          1.2893453409422433,
          -0.6978506990899702,
          -0.5690885249863702,
          -3.212348160167795,
          0.35198033315027016,
          1.6280859607352034,
          1.4169911089200316,
          -0.006244506076509348,
          0.6063776210857147,
          1.3590502993947755,
          -0.08753558435804658,
          -1.271038925037562,
          -1.876369588842253,
          -0.14833303694173458,
          -0.6885285591325655,
          0.40005150515600774,
          -1.2397561550563225,
          -0.8858069024894748,
          -0.798914170622721,
          -0.6451125590130682,
          -1.337201271014988,
          -0.5434072525765655,
          0.24923426476470928,
          1.02995155945738,
          -0.38069426208706303,
          0.550732455528556,
          -0.06622388157713835,
          0.28227085401028323,
          -1.6993807018906721,
          -1.017000383808957,
          1.4502622013064184,
          -0.37748754175054144,
          0.11182643086431572,
          0.3190458805727826,
          0.6310714228107397,
          0.9287773600999025,
          -0.5958332182194019,
          0.8368468693621849,
          1.615333454176221,
          -1.0595142331219507,
          0.059263138514671826,
          0.3781385876987572,
          1.205778828363705,
          0.5103676221222979,
          -0.4181890681484547,
          -1.1749615894305674,
          -0.8146477375634813,
          0.703332618935335,
          1.1159942380155168,
          -1.405272482685175,
          -0.4035490110227859,
          -1.214451078534114,
          0.034836276212230365,
          0.994470253635251,
          -1.2974851873956041,
          1.5571794559110022,
          -0.36177309144129505,
          -2.0265767761700726,
          0.537946286420841,
          -1.3207974386903243,
          0.5178046251976135,
          0.22227262982002907,
          0.35709449641554913,
          -0.8452066203825547,
          -0.35073473770144153,
          0.03423386191778584,
          -0.11174022398461535,
          0.6247860999321203,
          -0.8593150572868524,
          -0.2681198583175821,
          -0.5709092452257304,
          0.09516218009043352,
          0.6924016128879481,
          -0.8538907509043898,
          0.06401430782372304,
          1.9161700217558955,
          -1.1306376711175334,
          -0.20896335733373597,
          1.0478962843173312,
          0.7386032627103952,
          -0.14958601699834462,
          -1.3679987897784471,
          -0.30951165695956173,
          -0.430522024100932,
          -0.45632750502507113,
          -0.7971261605970754,
          1.7768435698921234,
          -0.700539057905725,
          -0.23319658471835003,
          -0.10861742663622247,
          -0.3123966686400977,
          -0.1501601691032951,
          -1.1884097302299348,
          1.3946847680567762,
          1.648671061047971,
          0.6330557050537858
         ],
         "yaxis": "y9"
        },
        {
         "line": {
          "color": "rgba(128, 128, 128, 1.0)",
          "dash": "solid",
          "shape": "linear",
          "width": 1.3
         },
         "marker": {
          "size": 2,
          "symbol": "circle"
         },
         "mode": "markers",
         "name": "C",
         "text": "",
         "type": "scatter",
         "x": [
          -0.8940538161456291,
          1.7587400520446705,
          0.14430342474400454,
          -0.34549370551569325,
          -0.5257140537089149,
          -0.15452279911902936,
          -1.0700089891485318,
          -1.2765518475470334,
          -1.1018276817658246,
          0.43378474413794765,
          0.8461336916637264,
          -0.24624295303470572,
          1.3982100658424075,
          0.9997234408622141,
          -0.2719079134797146,
          0.7001985695260833,
          0.37644992918744924,
          0.6256292283079395,
          0.14171050635516258,
          0.4083837344888657,
          0.35919115418712133,
          0.2885316619016053,
          -0.2795716879495062,
          1.4967109264618719,
          -0.5034276127281153,
          -0.9195848263522127,
          0.0036980691622682717,
          -1.1561975511553555,
          -0.0674931632448224,
          1.2205170295980456,
          -1.7173270994239003,
          -0.8457801385986659,
          0.1725586858008727,
          0.4241941216487407,
          -0.640527068079842,
          0.9162412399630095,
          -0.7126212550692267,
          1.1760786429305836,
          -0.3663287237478555,
          -0.9601992815532329,
          -0.5934668853017779,
          2.138687640168241,
          1.1271439949934412,
          0.4228887134119707,
          0.9641575600348385,
          -0.4732958531413693,
          0.3691867824050043,
          1.0438568219805757,
          -0.6851461607108044,
          1.9604889962473953,
          -0.7121316185807449,
          -0.860258552005439,
          -0.7756424767215246,
          1.1188986390232671,
          -0.029992580637274155,
          1.2566812154182598,
          -0.08965639196959063,
          0.9993501250314029,
          1.0581915489108098,
          0.018648395808328312,
          -0.16515690335859862,
          1.1048916736355985,
          -0.2940482353646764,
          0.7858209812076586,
          0.6962374498622259,
          0.6824777105549716,
          0.6502383370441862,
          -0.6503294575233609,
          -2.419037357005872,
          0.5386046383338288,
          0.13396494940463755,
          0.8338031503515533,
          0.20428275558354891,
          0.7963950437666771,
          -0.5168135777070428,
          0.7337029151449452,
          -0.17652524673493883,
          -1.8741632511307245,
          -0.541972300082036,
          -0.3447729493621954,
          -0.6321114042540144,
          0.15149425011822618,
          -0.168313064233042,
          -0.2248723299164277,
          1.0986104344094423,
          0.5057236081827604,
          -0.31038782932230446,
          1.9497709425607428,
          1.3184687249490608,
          -1.0867694948850026,
          0.861439797367633,
          0.3582260691853846,
          0.22568575670948762,
          0.40989940999869257,
          0.0073837110282809456,
          1.3613943157445625,
          -0.28844704644859565,
          0.2291403758894681,
          -0.4472241971177087,
          -0.19181766055293706
         ],
         "xaxis": "x10",
         "y": [
          1.876901332764013,
          -0.10349125707717265,
          1.2579282301675274,
          -0.32879018856124387,
          1.2893453409422433,
          -0.6978506990899702,
          -0.5690885249863702,
          -3.212348160167795,
          0.35198033315027016,
          1.6280859607352034,
          1.4169911089200316,
          -0.006244506076509348,
          0.6063776210857147,
          1.3590502993947755,
          -0.08753558435804658,
          -1.271038925037562,
          -1.876369588842253,
          -0.14833303694173458,
          -0.6885285591325655,
          0.40005150515600774,
          -1.2397561550563225,
          -0.8858069024894748,
          -0.798914170622721,
          -0.6451125590130682,
          -1.337201271014988,
          -0.5434072525765655,
          0.24923426476470928,
          1.02995155945738,
          -0.38069426208706303,
          0.550732455528556,
          -0.06622388157713835,
          0.28227085401028323,
          -1.6993807018906721,
          -1.017000383808957,
          1.4502622013064184,
          -0.37748754175054144,
          0.11182643086431572,
          0.3190458805727826,
          0.6310714228107397,
          0.9287773600999025,
          -0.5958332182194019,
          0.8368468693621849,
          1.615333454176221,
          -1.0595142331219507,
          0.059263138514671826,
          0.3781385876987572,
          1.205778828363705,
          0.5103676221222979,
          -0.4181890681484547,
          -1.1749615894305674,
          -0.8146477375634813,
          0.703332618935335,
          1.1159942380155168,
          -1.405272482685175,
          -0.4035490110227859,
          -1.214451078534114,
          0.034836276212230365,
          0.994470253635251,
          -1.2974851873956041,
          1.5571794559110022,
          -0.36177309144129505,
          -2.0265767761700726,
          0.537946286420841,
          -1.3207974386903243,
          0.5178046251976135,
          0.22227262982002907,
          0.35709449641554913,
          -0.8452066203825547,
          -0.35073473770144153,
          0.03423386191778584,
          -0.11174022398461535,
          0.6247860999321203,
          -0.8593150572868524,
          -0.2681198583175821,
          -0.5709092452257304,
          0.09516218009043352,
          0.6924016128879481,
          -0.8538907509043898,
          0.06401430782372304,
          1.9161700217558955,
          -1.1306376711175334,
          -0.20896335733373597,
          1.0478962843173312,
          0.7386032627103952,
          -0.14958601699834462,
          -1.3679987897784471,
          -0.30951165695956173,
          -0.430522024100932,
          -0.45632750502507113,
          -0.7971261605970754,
          1.7768435698921234,
          -0.700539057905725,
          -0.23319658471835003,
          -0.10861742663622247,
          -0.3123966686400977,
          -0.1501601691032951,
          -1.1884097302299348,
          1.3946847680567762,
          1.648671061047971,
          0.6330557050537858
         ],
         "yaxis": "y10"
        },
        {
         "histfunc": "count",
         "histnorm": "",
         "marker": {
          "color": "rgba(50, 171, 96, 1.0)",
          "line": {
           "color": "#4D5663",
           "width": 1.3
          }
         },
         "name": "C",
         "nbinsx": 10,
         "opacity": 0.8,
         "orientation": "v",
         "type": "histogram",
         "x": [
          1.876901332764013,
          -0.10349125707717265,
          1.2579282301675274,
          -0.32879018856124387,
          1.2893453409422433,
          -0.6978506990899702,
          -0.5690885249863702,
          -3.212348160167795,
          0.35198033315027016,
          1.6280859607352034,
          1.4169911089200316,
          -0.006244506076509348,
          0.6063776210857147,
          1.3590502993947755,
          -0.08753558435804658,
          -1.271038925037562,
          -1.876369588842253,
          -0.14833303694173458,
          -0.6885285591325655,
          0.40005150515600774,
          -1.2397561550563225,
          -0.8858069024894748,
          -0.798914170622721,
          -0.6451125590130682,
          -1.337201271014988,
          -0.5434072525765655,
          0.24923426476470928,
          1.02995155945738,
          -0.38069426208706303,
          0.550732455528556,
          -0.06622388157713835,
          0.28227085401028323,
          -1.6993807018906721,
          -1.017000383808957,
          1.4502622013064184,
          -0.37748754175054144,
          0.11182643086431572,
          0.3190458805727826,
          0.6310714228107397,
          0.9287773600999025,
          -0.5958332182194019,
          0.8368468693621849,
          1.615333454176221,
          -1.0595142331219507,
          0.059263138514671826,
          0.3781385876987572,
          1.205778828363705,
          0.5103676221222979,
          -0.4181890681484547,
          -1.1749615894305674,
          -0.8146477375634813,
          0.703332618935335,
          1.1159942380155168,
          -1.405272482685175,
          -0.4035490110227859,
          -1.214451078534114,
          0.034836276212230365,
          0.994470253635251,
          -1.2974851873956041,
          1.5571794559110022,
          -0.36177309144129505,
          -2.0265767761700726,
          0.537946286420841,
          -1.3207974386903243,
          0.5178046251976135,
          0.22227262982002907,
          0.35709449641554913,
          -0.8452066203825547,
          -0.35073473770144153,
          0.03423386191778584,
          -0.11174022398461535,
          0.6247860999321203,
          -0.8593150572868524,
          -0.2681198583175821,
          -0.5709092452257304,
          0.09516218009043352,
          0.6924016128879481,
          -0.8538907509043898,
          0.06401430782372304,
          1.9161700217558955,
          -1.1306376711175334,
          -0.20896335733373597,
          1.0478962843173312,
          0.7386032627103952,
          -0.14958601699834462,
          -1.3679987897784471,
          -0.30951165695956173,
          -0.430522024100932,
          -0.45632750502507113,
          -0.7971261605970754,
          1.7768435698921234,
          -0.700539057905725,
          -0.23319658471835003,
          -0.10861742663622247,
          -0.3123966686400977,
          -0.1501601691032951,
          -1.1884097302299348,
          1.3946847680567762,
          1.648671061047971,
          0.6330557050537858
         ],
         "xaxis": "x11",
         "yaxis": "y11"
        },
        {
         "line": {
          "color": "rgba(128, 128, 128, 1.0)",
          "dash": "solid",
          "shape": "linear",
          "width": 1.3
         },
         "marker": {
          "size": 2,
          "symbol": "circle"
         },
         "mode": "markers",
         "name": "C",
         "text": "",
         "type": "scatter",
         "x": [
          0.9547741388797715,
          1.12691998723733,
          -0.17588602744932133,
          -0.08360142003301853,
          -0.49442222869638813,
          0.6934794557585935,
          1.0110147561447163,
          0.25346707455515455,
          -0.4787144143926514,
          0.4928484667310422,
          -1.7428489886218677,
          -0.2570764597121221,
          0.09881584393573929,
          0.7628155428096923,
          2.5806600650612266,
          -0.4478061182670122,
          0.0002874671823678858,
          -1.0942176091789775,
          -0.4873762942535746,
          1.976816251298637,
          0.3339524849949742,
          0.16802667442509775,
          0.8626302484321515,
          -0.09111335353527333,
          -0.2657862205013541,
          0.35010589487032506,
          -0.23440411955846505,
          0.7751695854844219,
          1.5163820694528165,
          1.6029417948586178,
          0.9215993651005554,
          -0.7969441897514339,
          -1.4376888652194055,
          0.8400305940687466,
          -0.5152454583569321,
          -0.09930174693615994,
          1.7179749043312862,
          1.4960946221949785,
          0.08921104108617861,
          0.8339661715179915,
          -0.11693960397103106,
          -0.7394381968022411,
          -1.1154249192760168,
          0.6147476397892389,
          0.07274961574508616,
          0.4661061113921465,
          -0.16726709401784562,
          -0.8361209180729203,
          -1.7155700620004344,
          1.8348719406873164,
          -2.126207789865309,
          1.2707033611415526,
          1.7622382167731088,
          0.39343116681641893,
          0.03190704932137889,
          -1.1559108977410961,
          -0.04622596241052501,
          0.489106935341587,
          0.13740546329596523,
          -0.7311652356616144,
          1.7738156693021163,
          -0.04704643840360029,
          -0.7881192887413037,
          1.795952192538169,
          0.5314335733134796,
          -0.8214714973020584,
          -0.7298186525328831,
          -0.6729925403866435,
          -0.6936148756614567,
          -0.31688486734133753,
          -0.388229614712312,
          0.6014550940553034,
          -2.4080510527023966,
          0.36016133963583563,
          -1.2940303292896087,
          -1.3378643325876045,
          0.030515645046154144,
          0.7901639242719248,
          0.8815513061717907,
          -1.4261174808782329,
          -0.10338583796462682,
          0.0490718773572223,
          0.34118388492613627,
          -0.13743183574732518,
          -0.3350574411815445,
          0.0041823789357666105,
          0.5142482477379821,
          -1.7215903957099068,
          2.2682909150529422,
          -1.4792240642798469,
          0.02645063027757254,
          0.5956660038038963,
          -0.3892967030165847,
          -0.17204291943275932,
          0.2748847894136974,
          -0.7505812424982387,
          -0.6479838607980779,
          1.6672864040606898,
          1.2378083818978425,
          -0.27781760634175695
         ],
         "xaxis": "x12",
         "y": [
          1.876901332764013,
          -0.10349125707717265,
          1.2579282301675274,
          -0.32879018856124387,
          1.2893453409422433,
          -0.6978506990899702,
          -0.5690885249863702,
          -3.212348160167795,
          0.35198033315027016,
          1.6280859607352034,
          1.4169911089200316,
          -0.006244506076509348,
          0.6063776210857147,
          1.3590502993947755,
          -0.08753558435804658,
          -1.271038925037562,
          -1.876369588842253,
          -0.14833303694173458,
          -0.6885285591325655,
          0.40005150515600774,
          -1.2397561550563225,
          -0.8858069024894748,
          -0.798914170622721,
          -0.6451125590130682,
          -1.337201271014988,
          -0.5434072525765655,
          0.24923426476470928,
          1.02995155945738,
          -0.38069426208706303,
          0.550732455528556,
          -0.06622388157713835,
          0.28227085401028323,
          -1.6993807018906721,
          -1.017000383808957,
          1.4502622013064184,
          -0.37748754175054144,
          0.11182643086431572,
          0.3190458805727826,
          0.6310714228107397,
          0.9287773600999025,
          -0.5958332182194019,
          0.8368468693621849,
          1.615333454176221,
          -1.0595142331219507,
          0.059263138514671826,
          0.3781385876987572,
          1.205778828363705,
          0.5103676221222979,
          -0.4181890681484547,
          -1.1749615894305674,
          -0.8146477375634813,
          0.703332618935335,
          1.1159942380155168,
          -1.405272482685175,
          -0.4035490110227859,
          -1.214451078534114,
          0.034836276212230365,
          0.994470253635251,
          -1.2974851873956041,
          1.5571794559110022,
          -0.36177309144129505,
          -2.0265767761700726,
          0.537946286420841,
          -1.3207974386903243,
          0.5178046251976135,
          0.22227262982002907,
          0.35709449641554913,
          -0.8452066203825547,
          -0.35073473770144153,
          0.03423386191778584,
          -0.11174022398461535,
          0.6247860999321203,
          -0.8593150572868524,
          -0.2681198583175821,
          -0.5709092452257304,
          0.09516218009043352,
          0.6924016128879481,
          -0.8538907509043898,
          0.06401430782372304,
          1.9161700217558955,
          -1.1306376711175334,
          -0.20896335733373597,
          1.0478962843173312,
          0.7386032627103952,
          -0.14958601699834462,
          -1.3679987897784471,
          -0.30951165695956173,
          -0.430522024100932,
          -0.45632750502507113,
          -0.7971261605970754,
          1.7768435698921234,
          -0.700539057905725,
          -0.23319658471835003,
          -0.10861742663622247,
          -0.3123966686400977,
          -0.1501601691032951,
          -1.1884097302299348,
          1.3946847680567762,
          1.648671061047971,
          0.6330557050537858
         ],
         "yaxis": "y12"
        },
        {
         "line": {
          "color": "rgba(128, 128, 128, 1.0)",
          "dash": "solid",
          "shape": "linear",
          "width": 1.3
         },
         "marker": {
          "size": 2,
          "symbol": "circle"
         },
         "mode": "markers",
         "name": "D",
         "text": "",
         "type": "scatter",
         "x": [
          -0.5882201862615739,
          -0.1444088146832521,
          -0.7206830682849644,
          1.3936579949157097,
          -0.19862000637931865,
          -0.27593821881612995,
          0.10946967362279274,
          -0.7994858635802414,
          0.1678150311420152,
          -0.03259329436621168,
          -0.38777224262700793,
          -0.9754539192544475,
          0.31246023384261074,
          -0.16315024393863606,
          0.1433325386094532,
          0.33921612803869455,
          0.1687111089431125,
          -1.0293821555773768,
          0.9359095977765699,
          -0.851942028353327,
          0.27136104667763106,
          2.0938787705300403,
          -1.6874972996029145,
          -0.4906760954841787,
          1.014382803145646,
          -0.6868968224829972,
          -0.7713142158581506,
          -1.0629976127507368,
          -0.3911478166219877,
          -1.6997231884085433,
          0.4760470417318967,
          1.368331511888546,
          -0.9584745559245262,
          -1.183217404290445,
          -0.575483118709692,
          1.3026615111527207,
          0.1441487490352291,
          -1.0594506247977764,
          -1.5380315053002944,
          2.4091356980594285,
          1.0046246460929371,
          0.16397580097306277,
          -0.27806055403543156,
          1.1825457833448632,
          0.9927116557574145,
          0.6401164337634135,
          -0.17126633776369268,
          -0.09314210703339369,
          -1.2500682591239412,
          1.5249423799561066,
          0.7261411639316259,
          1.590022568827245,
          -0.04437577138374293,
          -0.19365124054278118,
          -1.537393958681574,
          1.5201990369248464,
          1.677601948736433,
          -0.17840117181941412,
          -0.260180030841215,
          -0.2744427137172959,
          -0.05364077060641442,
          -1.388808568459774,
          -0.2976181577756708,
          -0.05489380423532537,
          0.24230246636410666,
          0.05706581952694559,
          -0.5203533785804892,
          -0.4759391251040668,
          1.9466209582861882,
          0.8574801728519554,
          -0.42732486530133573,
          1.2327550002736216,
          1.5230759358429147,
          0.9259071632069753,
          1.4978812400979802,
          -0.5868307177392983,
          -0.21430818657024733,
          0.4275909334188216,
          -0.7517631229589176,
          0.40933185053435545,
          1.0494839530728004,
          1.009305230913276,
          -0.24943062954401313,
          -0.4313553585139899,
          -0.17170921243621456,
          1.6841789479225455,
          -0.9526310880361992,
          0.12458637521250845,
          0.5687516401383191,
          0.8383341998997003,
          0.9996013164266332,
          -1.2654481776987168,
          0.06368071956753159,
          -0.5823383450272381,
          0.8242370577808078,
          0.04917197237671641,
          -1.0627241384534636,
          -0.8690415122855502,
          0.413248602855076,
          1.4561243863993238
         ],
         "xaxis": "x13",
         "y": [
          0.9547741388797715,
          1.12691998723733,
          -0.17588602744932133,
          -0.08360142003301853,
          -0.49442222869638813,
          0.6934794557585935,
          1.0110147561447163,
          0.25346707455515455,
          -0.4787144143926514,
          0.4928484667310422,
          -1.7428489886218677,
          -0.2570764597121221,
          0.09881584393573929,
          0.7628155428096923,
          2.5806600650612266,
          -0.4478061182670122,
          0.0002874671823678858,
          -1.0942176091789775,
          -0.4873762942535746,
          1.976816251298637,
          0.3339524849949742,
          0.16802667442509775,
          0.8626302484321515,
          -0.09111335353527333,
          -0.2657862205013541,
          0.35010589487032506,
          -0.23440411955846505,
          0.7751695854844219,
          1.5163820694528165,
          1.6029417948586178,
          0.9215993651005554,
          -0.7969441897514339,
          -1.4376888652194055,
          0.8400305940687466,
          -0.5152454583569321,
          -0.09930174693615994,
          1.7179749043312862,
          1.4960946221949785,
          0.08921104108617861,
          0.8339661715179915,
          -0.11693960397103106,
          -0.7394381968022411,
          -1.1154249192760168,
          0.6147476397892389,
          0.07274961574508616,
          0.4661061113921465,
          -0.16726709401784562,
          -0.8361209180729203,
          -1.7155700620004344,
          1.8348719406873164,
          -2.126207789865309,
          1.2707033611415526,
          1.7622382167731088,
          0.39343116681641893,
          0.03190704932137889,
          -1.1559108977410961,
          -0.04622596241052501,
          0.489106935341587,
          0.13740546329596523,
          -0.7311652356616144,
          1.7738156693021163,
          -0.04704643840360029,
          -0.7881192887413037,
          1.795952192538169,
          0.5314335733134796,
          -0.8214714973020584,
          -0.7298186525328831,
          -0.6729925403866435,
          -0.6936148756614567,
          -0.31688486734133753,
          -0.388229614712312,
          0.6014550940553034,
          -2.4080510527023966,
          0.36016133963583563,
          -1.2940303292896087,
          -1.3378643325876045,
          0.030515645046154144,
          0.7901639242719248,
          0.8815513061717907,
          -1.4261174808782329,
          -0.10338583796462682,
          0.0490718773572223,
          0.34118388492613627,
          -0.13743183574732518,
          -0.3350574411815445,
          0.0041823789357666105,
          0.5142482477379821,
          -1.7215903957099068,
          2.2682909150529422,
          -1.4792240642798469,
          0.02645063027757254,
          0.5956660038038963,
          -0.3892967030165847,
          -0.17204291943275932,
          0.2748847894136974,
          -0.7505812424982387,
          -0.6479838607980779,
          1.6672864040606898,
          1.2378083818978425,
          -0.27781760634175695
         ],
         "yaxis": "y13"
        },
        {
         "line": {
          "color": "rgba(128, 128, 128, 1.0)",
          "dash": "solid",
          "shape": "linear",
          "width": 1.3
         },
         "marker": {
          "size": 2,
          "symbol": "circle"
         },
         "mode": "markers",
         "name": "D",
         "text": "",
         "type": "scatter",
         "x": [
          -0.8940538161456291,
          1.7587400520446705,
          0.14430342474400454,
          -0.34549370551569325,
          -0.5257140537089149,
          -0.15452279911902936,
          -1.0700089891485318,
          -1.2765518475470334,
          -1.1018276817658246,
          0.43378474413794765,
          0.8461336916637264,
          -0.24624295303470572,
          1.3982100658424075,
          0.9997234408622141,
          -0.2719079134797146,
          0.7001985695260833,
          0.37644992918744924,
          0.6256292283079395,
          0.14171050635516258,
          0.4083837344888657,
          0.35919115418712133,
          0.2885316619016053,
          -0.2795716879495062,
          1.4967109264618719,
          -0.5034276127281153,
          -0.9195848263522127,
          0.0036980691622682717,
          -1.1561975511553555,
          -0.0674931632448224,
          1.2205170295980456,
          -1.7173270994239003,
          -0.8457801385986659,
          0.1725586858008727,
          0.4241941216487407,
          -0.640527068079842,
          0.9162412399630095,
          -0.7126212550692267,
          1.1760786429305836,
          -0.3663287237478555,
          -0.9601992815532329,
          -0.5934668853017779,
          2.138687640168241,
          1.1271439949934412,
          0.4228887134119707,
          0.9641575600348385,
          -0.4732958531413693,
          0.3691867824050043,
          1.0438568219805757,
          -0.6851461607108044,
          1.9604889962473953,
          -0.7121316185807449,
          -0.860258552005439,
          -0.7756424767215246,
          1.1188986390232671,
          -0.029992580637274155,
          1.2566812154182598,
          -0.08965639196959063,
          0.9993501250314029,
          1.0581915489108098,
          0.018648395808328312,
          -0.16515690335859862,
          1.1048916736355985,
          -0.2940482353646764,
          0.7858209812076586,
          0.6962374498622259,
          0.6824777105549716,
          0.6502383370441862,
          -0.6503294575233609,
          -2.419037357005872,
          0.5386046383338288,
          0.13396494940463755,
          0.8338031503515533,
          0.20428275558354891,
          0.7963950437666771,
          -0.5168135777070428,
          0.7337029151449452,
          -0.17652524673493883,
          -1.8741632511307245,
          -0.541972300082036,
          -0.3447729493621954,
          -0.6321114042540144,
          0.15149425011822618,
          -0.168313064233042,
          -0.2248723299164277,
          1.0986104344094423,
          0.5057236081827604,
          -0.31038782932230446,
          1.9497709425607428,
          1.3184687249490608,
          -1.0867694948850026,
          0.861439797367633,
          0.3582260691853846,
          0.22568575670948762,
          0.40989940999869257,
          0.0073837110282809456,
          1.3613943157445625,
          -0.28844704644859565,
          0.2291403758894681,
          -0.4472241971177087,
          -0.19181766055293706
         ],
         "xaxis": "x14",
         "y": [
          0.9547741388797715,
          1.12691998723733,
          -0.17588602744932133,
          -0.08360142003301853,
          -0.49442222869638813,
          0.6934794557585935,
          1.0110147561447163,
          0.25346707455515455,
          -0.4787144143926514,
          0.4928484667310422,
          -1.7428489886218677,
          -0.2570764597121221,
          0.09881584393573929,
          0.7628155428096923,
          2.5806600650612266,
          -0.4478061182670122,
          0.0002874671823678858,
          -1.0942176091789775,
          -0.4873762942535746,
          1.976816251298637,
          0.3339524849949742,
          0.16802667442509775,
          0.8626302484321515,
          -0.09111335353527333,
          -0.2657862205013541,
          0.35010589487032506,
          -0.23440411955846505,
          0.7751695854844219,
          1.5163820694528165,
          1.6029417948586178,
          0.9215993651005554,
          -0.7969441897514339,
          -1.4376888652194055,
          0.8400305940687466,
          -0.5152454583569321,
          -0.09930174693615994,
          1.7179749043312862,
          1.4960946221949785,
          0.08921104108617861,
          0.8339661715179915,
          -0.11693960397103106,
          -0.7394381968022411,
          -1.1154249192760168,
          0.6147476397892389,
          0.07274961574508616,
          0.4661061113921465,
          -0.16726709401784562,
          -0.8361209180729203,
          -1.7155700620004344,
          1.8348719406873164,
          -2.126207789865309,
          1.2707033611415526,
          1.7622382167731088,
          0.39343116681641893,
          0.03190704932137889,
          -1.1559108977410961,
          -0.04622596241052501,
          0.489106935341587,
          0.13740546329596523,
          -0.7311652356616144,
          1.7738156693021163,
          -0.04704643840360029,
          -0.7881192887413037,
          1.795952192538169,
          0.5314335733134796,
          -0.8214714973020584,
          -0.7298186525328831,
          -0.6729925403866435,
          -0.6936148756614567,
          -0.31688486734133753,
          -0.388229614712312,
          0.6014550940553034,
          -2.4080510527023966,
          0.36016133963583563,
          -1.2940303292896087,
          -1.3378643325876045,
          0.030515645046154144,
          0.7901639242719248,
          0.8815513061717907,
          -1.4261174808782329,
          -0.10338583796462682,
          0.0490718773572223,
          0.34118388492613627,
          -0.13743183574732518,
          -0.3350574411815445,
          0.0041823789357666105,
          0.5142482477379821,
          -1.7215903957099068,
          2.2682909150529422,
          -1.4792240642798469,
          0.02645063027757254,
          0.5956660038038963,
          -0.3892967030165847,
          -0.17204291943275932,
          0.2748847894136974,
          -0.7505812424982387,
          -0.6479838607980779,
          1.6672864040606898,
          1.2378083818978425,
          -0.27781760634175695
         ],
         "yaxis": "y14"
        },
        {
         "line": {
          "color": "rgba(128, 128, 128, 1.0)",
          "dash": "solid",
          "shape": "linear",
          "width": 1.3
         },
         "marker": {
          "size": 2,
          "symbol": "circle"
         },
         "mode": "markers",
         "name": "D",
         "text": "",
         "type": "scatter",
         "x": [
          1.876901332764013,
          -0.10349125707717265,
          1.2579282301675274,
          -0.32879018856124387,
          1.2893453409422433,
          -0.6978506990899702,
          -0.5690885249863702,
          -3.212348160167795,
          0.35198033315027016,
          1.6280859607352034,
          1.4169911089200316,
          -0.006244506076509348,
          0.6063776210857147,
          1.3590502993947755,
          -0.08753558435804658,
          -1.271038925037562,
          -1.876369588842253,
          -0.14833303694173458,
          -0.6885285591325655,
          0.40005150515600774,
          -1.2397561550563225,
          -0.8858069024894748,
          -0.798914170622721,
          -0.6451125590130682,
          -1.337201271014988,
          -0.5434072525765655,
          0.24923426476470928,
          1.02995155945738,
          -0.38069426208706303,
          0.550732455528556,
          -0.06622388157713835,
          0.28227085401028323,
          -1.6993807018906721,
          -1.017000383808957,
          1.4502622013064184,
          -0.37748754175054144,
          0.11182643086431572,
          0.3190458805727826,
          0.6310714228107397,
          0.9287773600999025,
          -0.5958332182194019,
          0.8368468693621849,
          1.615333454176221,
          -1.0595142331219507,
          0.059263138514671826,
          0.3781385876987572,
          1.205778828363705,
          0.5103676221222979,
          -0.4181890681484547,
          -1.1749615894305674,
          -0.8146477375634813,
          0.703332618935335,
          1.1159942380155168,
          -1.405272482685175,
          -0.4035490110227859,
          -1.214451078534114,
          0.034836276212230365,
          0.994470253635251,
          -1.2974851873956041,
          1.5571794559110022,
          -0.36177309144129505,
          -2.0265767761700726,
          0.537946286420841,
          -1.3207974386903243,
          0.5178046251976135,
          0.22227262982002907,
          0.35709449641554913,
          -0.8452066203825547,
          -0.35073473770144153,
          0.03423386191778584,
          -0.11174022398461535,
          0.6247860999321203,
          -0.8593150572868524,
          -0.2681198583175821,
          -0.5709092452257304,
          0.09516218009043352,
          0.6924016128879481,
          -0.8538907509043898,
          0.06401430782372304,
          1.9161700217558955,
          -1.1306376711175334,
          -0.20896335733373597,
          1.0478962843173312,
          0.7386032627103952,
          -0.14958601699834462,
          -1.3679987897784471,
          -0.30951165695956173,
          -0.430522024100932,
          -0.45632750502507113,
          -0.7971261605970754,
          1.7768435698921234,
          -0.700539057905725,
          -0.23319658471835003,
          -0.10861742663622247,
          -0.3123966686400977,
          -0.1501601691032951,
          -1.1884097302299348,
          1.3946847680567762,
          1.648671061047971,
          0.6330557050537858
         ],
         "xaxis": "x15",
         "y": [
          0.9547741388797715,
          1.12691998723733,
          -0.17588602744932133,
          -0.08360142003301853,
          -0.49442222869638813,
          0.6934794557585935,
          1.0110147561447163,
          0.25346707455515455,
          -0.4787144143926514,
          0.4928484667310422,
          -1.7428489886218677,
          -0.2570764597121221,
          0.09881584393573929,
          0.7628155428096923,
          2.5806600650612266,
          -0.4478061182670122,
          0.0002874671823678858,
          -1.0942176091789775,
          -0.4873762942535746,
          1.976816251298637,
          0.3339524849949742,
          0.16802667442509775,
          0.8626302484321515,
          -0.09111335353527333,
          -0.2657862205013541,
          0.35010589487032506,
          -0.23440411955846505,
          0.7751695854844219,
          1.5163820694528165,
          1.6029417948586178,
          0.9215993651005554,
          -0.7969441897514339,
          -1.4376888652194055,
          0.8400305940687466,
          -0.5152454583569321,
          -0.09930174693615994,
          1.7179749043312862,
          1.4960946221949785,
          0.08921104108617861,
          0.8339661715179915,
          -0.11693960397103106,
          -0.7394381968022411,
          -1.1154249192760168,
          0.6147476397892389,
          0.07274961574508616,
          0.4661061113921465,
          -0.16726709401784562,
          -0.8361209180729203,
          -1.7155700620004344,
          1.8348719406873164,
          -2.126207789865309,
          1.2707033611415526,
          1.7622382167731088,
          0.39343116681641893,
          0.03190704932137889,
          -1.1559108977410961,
          -0.04622596241052501,
          0.489106935341587,
          0.13740546329596523,
          -0.7311652356616144,
          1.7738156693021163,
          -0.04704643840360029,
          -0.7881192887413037,
          1.795952192538169,
          0.5314335733134796,
          -0.8214714973020584,
          -0.7298186525328831,
          -0.6729925403866435,
          -0.6936148756614567,
          -0.31688486734133753,
          -0.388229614712312,
          0.6014550940553034,
          -2.4080510527023966,
          0.36016133963583563,
          -1.2940303292896087,
          -1.3378643325876045,
          0.030515645046154144,
          0.7901639242719248,
          0.8815513061717907,
          -1.4261174808782329,
          -0.10338583796462682,
          0.0490718773572223,
          0.34118388492613627,
          -0.13743183574732518,
          -0.3350574411815445,
          0.0041823789357666105,
          0.5142482477379821,
          -1.7215903957099068,
          2.2682909150529422,
          -1.4792240642798469,
          0.02645063027757254,
          0.5956660038038963,
          -0.3892967030165847,
          -0.17204291943275932,
          0.2748847894136974,
          -0.7505812424982387,
          -0.6479838607980779,
          1.6672864040606898,
          1.2378083818978425,
          -0.27781760634175695
         ],
         "yaxis": "y15"
        },
        {
         "histfunc": "count",
         "histnorm": "",
         "marker": {
          "color": "rgba(128, 0, 128, 1.0)",
          "line": {
           "color": "#4D5663",
           "width": 1.3
          }
         },
         "name": "D",
         "nbinsx": 10,
         "opacity": 0.8,
         "orientation": "v",
         "type": "histogram",
         "x": [
          0.9547741388797715,
          1.12691998723733,
          -0.17588602744932133,
          -0.08360142003301853,
          -0.49442222869638813,
          0.6934794557585935,
          1.0110147561447163,
          0.25346707455515455,
          -0.4787144143926514,
          0.4928484667310422,
          -1.7428489886218677,
          -0.2570764597121221,
          0.09881584393573929,
          0.7628155428096923,
          2.5806600650612266,
          -0.4478061182670122,
          0.0002874671823678858,
          -1.0942176091789775,
          -0.4873762942535746,
          1.976816251298637,
          0.3339524849949742,
          0.16802667442509775,
          0.8626302484321515,
          -0.09111335353527333,
          -0.2657862205013541,
          0.35010589487032506,
          -0.23440411955846505,
          0.7751695854844219,
          1.5163820694528165,
          1.6029417948586178,
          0.9215993651005554,
          -0.7969441897514339,
          -1.4376888652194055,
          0.8400305940687466,
          -0.5152454583569321,
          -0.09930174693615994,
          1.7179749043312862,
          1.4960946221949785,
          0.08921104108617861,
          0.8339661715179915,
          -0.11693960397103106,
          -0.7394381968022411,
          -1.1154249192760168,
          0.6147476397892389,
          0.07274961574508616,
          0.4661061113921465,
          -0.16726709401784562,
          -0.8361209180729203,
          -1.7155700620004344,
          1.8348719406873164,
          -2.126207789865309,
          1.2707033611415526,
          1.7622382167731088,
          0.39343116681641893,
          0.03190704932137889,
          -1.1559108977410961,
          -0.04622596241052501,
          0.489106935341587,
          0.13740546329596523,
          -0.7311652356616144,
          1.7738156693021163,
          -0.04704643840360029,
          -0.7881192887413037,
          1.795952192538169,
          0.5314335733134796,
          -0.8214714973020584,
          -0.7298186525328831,
          -0.6729925403866435,
          -0.6936148756614567,
          -0.31688486734133753,
          -0.388229614712312,
          0.6014550940553034,
          -2.4080510527023966,
          0.36016133963583563,
          -1.2940303292896087,
          -1.3378643325876045,
          0.030515645046154144,
          0.7901639242719248,
          0.8815513061717907,
          -1.4261174808782329,
          -0.10338583796462682,
          0.0490718773572223,
          0.34118388492613627,
          -0.13743183574732518,
          -0.3350574411815445,
          0.0041823789357666105,
          0.5142482477379821,
          -1.7215903957099068,
          2.2682909150529422,
          -1.4792240642798469,
          0.02645063027757254,
          0.5956660038038963,
          -0.3892967030165847,
          -0.17204291943275932,
          0.2748847894136974,
          -0.7505812424982387,
          -0.6479838607980779,
          1.6672864040606898,
          1.2378083818978425,
          -0.27781760634175695
         ],
         "xaxis": "x16",
         "yaxis": "y16"
        }
       ],
       "layout": {
        "bargap": 0.02,
        "legend": {
         "bgcolor": "#F5F6F9",
         "font": {
          "color": "#4D5663"
         }
        },
        "paper_bgcolor": "#F5F6F9",
        "plot_bgcolor": "#F5F6F9",
        "showlegend": false,
        "template": {
         "data": {
          "bar": [
           {
            "error_x": {
             "color": "#2a3f5f"
            },
            "error_y": {
             "color": "#2a3f5f"
            },
            "marker": {
             "line": {
              "color": "#E5ECF6",
              "width": 0.5
             },
             "pattern": {
              "fillmode": "overlay",
              "size": 10,
              "solidity": 0.2
             }
            },
            "type": "bar"
           }
          ],
          "barpolar": [
           {
            "marker": {
             "line": {
              "color": "#E5ECF6",
              "width": 0.5
             },
             "pattern": {
              "fillmode": "overlay",
              "size": 10,
              "solidity": 0.2
             }
            },
            "type": "barpolar"
           }
          ],
          "carpet": [
           {
            "aaxis": {
             "endlinecolor": "#2a3f5f",
             "gridcolor": "white",
             "linecolor": "white",
             "minorgridcolor": "white",
             "startlinecolor": "#2a3f5f"
            },
            "baxis": {
             "endlinecolor": "#2a3f5f",
             "gridcolor": "white",
             "linecolor": "white",
             "minorgridcolor": "white",
             "startlinecolor": "#2a3f5f"
            },
            "type": "carpet"
           }
          ],
          "choropleth": [
           {
            "colorbar": {
             "outlinewidth": 0,
             "ticks": ""
            },
            "type": "choropleth"
           }
          ],
          "contour": [
           {
            "colorbar": {
             "outlinewidth": 0,
             "ticks": ""
            },
            "colorscale": [
             [
              0,
              "#0d0887"
             ],
             [
              0.1111111111111111,
              "#46039f"
             ],
             [
              0.2222222222222222,
              "#7201a8"
             ],
             [
              0.3333333333333333,
              "#9c179e"
             ],
             [
              0.4444444444444444,
              "#bd3786"
             ],
             [
              0.5555555555555556,
              "#d8576b"
             ],
             [
              0.6666666666666666,
              "#ed7953"
             ],
             [
              0.7777777777777778,
              "#fb9f3a"
             ],
             [
              0.8888888888888888,
              "#fdca26"
             ],
             [
              1,
              "#f0f921"
             ]
            ],
            "type": "contour"
           }
          ],
          "contourcarpet": [
           {
            "colorbar": {
             "outlinewidth": 0,
             "ticks": ""
            },
            "type": "contourcarpet"
           }
          ],
          "heatmap": [
           {
            "colorbar": {
             "outlinewidth": 0,
             "ticks": ""
            },
            "colorscale": [
             [
              0,
              "#0d0887"
             ],
             [
              0.1111111111111111,
              "#46039f"
             ],
             [
              0.2222222222222222,
              "#7201a8"
             ],
             [
              0.3333333333333333,
              "#9c179e"
             ],
             [
              0.4444444444444444,
              "#bd3786"
             ],
             [
              0.5555555555555556,
              "#d8576b"
             ],
             [
              0.6666666666666666,
              "#ed7953"
             ],
             [
              0.7777777777777778,
              "#fb9f3a"
             ],
             [
              0.8888888888888888,
              "#fdca26"
             ],
             [
              1,
              "#f0f921"
             ]
            ],
            "type": "heatmap"
           }
          ],
          "heatmapgl": [
           {
            "colorbar": {
             "outlinewidth": 0,
             "ticks": ""
            },
            "colorscale": [
             [
              0,
              "#0d0887"
             ],
             [
              0.1111111111111111,
              "#46039f"
             ],
             [
              0.2222222222222222,
              "#7201a8"
             ],
             [
              0.3333333333333333,
              "#9c179e"
             ],
             [
              0.4444444444444444,
              "#bd3786"
             ],
             [
              0.5555555555555556,
              "#d8576b"
             ],
             [
              0.6666666666666666,
              "#ed7953"
             ],
             [
              0.7777777777777778,
              "#fb9f3a"
             ],
             [
              0.8888888888888888,
              "#fdca26"
             ],
             [
              1,
              "#f0f921"
             ]
            ],
            "type": "heatmapgl"
           }
          ],
          "histogram": [
           {
            "marker": {
             "pattern": {
              "fillmode": "overlay",
              "size": 10,
              "solidity": 0.2
             }
            },
            "type": "histogram"
           }
          ],
          "histogram2d": [
           {
            "colorbar": {
             "outlinewidth": 0,
             "ticks": ""
            },
            "colorscale": [
             [
              0,
              "#0d0887"
             ],
             [
              0.1111111111111111,
              "#46039f"
             ],
             [
              0.2222222222222222,
              "#7201a8"
             ],
             [
              0.3333333333333333,
              "#9c179e"
             ],
             [
              0.4444444444444444,
              "#bd3786"
             ],
             [
              0.5555555555555556,
              "#d8576b"
             ],
             [
              0.6666666666666666,
              "#ed7953"
             ],
             [
              0.7777777777777778,
              "#fb9f3a"
             ],
             [
              0.8888888888888888,
              "#fdca26"
             ],
             [
              1,
              "#f0f921"
             ]
            ],
            "type": "histogram2d"
           }
          ],
          "histogram2dcontour": [
           {
            "colorbar": {
             "outlinewidth": 0,
             "ticks": ""
            },
            "colorscale": [
             [
              0,
              "#0d0887"
             ],
             [
              0.1111111111111111,
              "#46039f"
             ],
             [
              0.2222222222222222,
              "#7201a8"
             ],
             [
              0.3333333333333333,
              "#9c179e"
             ],
             [
              0.4444444444444444,
              "#bd3786"
             ],
             [
              0.5555555555555556,
              "#d8576b"
             ],
             [
              0.6666666666666666,
              "#ed7953"
             ],
             [
              0.7777777777777778,
              "#fb9f3a"
             ],
             [
              0.8888888888888888,
              "#fdca26"
             ],
             [
              1,
              "#f0f921"
             ]
            ],
            "type": "histogram2dcontour"
           }
          ],
          "mesh3d": [
           {
            "colorbar": {
             "outlinewidth": 0,
             "ticks": ""
            },
            "type": "mesh3d"
           }
          ],
          "parcoords": [
           {
            "line": {
             "colorbar": {
              "outlinewidth": 0,
              "ticks": ""
             }
            },
            "type": "parcoords"
           }
          ],
          "pie": [
           {
            "automargin": true,
            "type": "pie"
           }
          ],
          "scatter": [
           {
            "fillpattern": {
             "fillmode": "overlay",
             "size": 10,
             "solidity": 0.2
            },
            "type": "scatter"
           }
          ],
          "scatter3d": [
           {
            "line": {
             "colorbar": {
              "outlinewidth": 0,
              "ticks": ""
             }
            },
            "marker": {
             "colorbar": {
              "outlinewidth": 0,
              "ticks": ""
             }
            },
            "type": "scatter3d"
           }
          ],
          "scattercarpet": [
           {
            "marker": {
             "colorbar": {
              "outlinewidth": 0,
              "ticks": ""
             }
            },
            "type": "scattercarpet"
           }
          ],
          "scattergeo": [
           {
            "marker": {
             "colorbar": {
              "outlinewidth": 0,
              "ticks": ""
             }
            },
            "type": "scattergeo"
           }
          ],
          "scattergl": [
           {
            "marker": {
             "colorbar": {
              "outlinewidth": 0,
              "ticks": ""
             }
            },
            "type": "scattergl"
           }
          ],
          "scattermapbox": [
           {
            "marker": {
             "colorbar": {
              "outlinewidth": 0,
              "ticks": ""
             }
            },
            "type": "scattermapbox"
           }
          ],
          "scatterpolar": [
           {
            "marker": {
             "colorbar": {
              "outlinewidth": 0,
              "ticks": ""
             }
            },
            "type": "scatterpolar"
           }
          ],
          "scatterpolargl": [
           {
            "marker": {
             "colorbar": {
              "outlinewidth": 0,
              "ticks": ""
             }
            },
            "type": "scatterpolargl"
           }
          ],
          "scatterternary": [
           {
            "marker": {
             "colorbar": {
              "outlinewidth": 0,
              "ticks": ""
             }
            },
            "type": "scatterternary"
           }
          ],
          "surface": [
           {
            "colorbar": {
             "outlinewidth": 0,
             "ticks": ""
            },
            "colorscale": [
             [
              0,
              "#0d0887"
             ],
             [
              0.1111111111111111,
              "#46039f"
             ],
             [
              0.2222222222222222,
              "#7201a8"
             ],
             [
              0.3333333333333333,
              "#9c179e"
             ],
             [
              0.4444444444444444,
              "#bd3786"
             ],
             [
              0.5555555555555556,
              "#d8576b"
             ],
             [
              0.6666666666666666,
              "#ed7953"
             ],
             [
              0.7777777777777778,
              "#fb9f3a"
             ],
             [
              0.8888888888888888,
              "#fdca26"
             ],
             [
              1,
              "#f0f921"
             ]
            ],
            "type": "surface"
           }
          ],
          "table": [
           {
            "cells": {
             "fill": {
              "color": "#EBF0F8"
             },
             "line": {
              "color": "white"
             }
            },
            "header": {
             "fill": {
              "color": "#C8D4E3"
             },
             "line": {
              "color": "white"
             }
            },
            "type": "table"
           }
          ]
         },
         "layout": {
          "annotationdefaults": {
           "arrowcolor": "#2a3f5f",
           "arrowhead": 0,
           "arrowwidth": 1
          },
          "autotypenumbers": "strict",
          "coloraxis": {
           "colorbar": {
            "outlinewidth": 0,
            "ticks": ""
           }
          },
          "colorscale": {
           "diverging": [
            [
             0,
             "#8e0152"
            ],
            [
             0.1,
             "#c51b7d"
            ],
            [
             0.2,
             "#de77ae"
            ],
            [
             0.3,
             "#f1b6da"
            ],
            [
             0.4,
             "#fde0ef"
            ],
            [
             0.5,
             "#f7f7f7"
            ],
            [
             0.6,
             "#e6f5d0"
            ],
            [
             0.7,
             "#b8e186"
            ],
            [
             0.8,
             "#7fbc41"
            ],
            [
             0.9,
             "#4d9221"
            ],
            [
             1,
             "#276419"
            ]
           ],
           "sequential": [
            [
             0,
             "#0d0887"
            ],
            [
             0.1111111111111111,
             "#46039f"
            ],
            [
             0.2222222222222222,
             "#7201a8"
            ],
            [
             0.3333333333333333,
             "#9c179e"
            ],
            [
             0.4444444444444444,
             "#bd3786"
            ],
            [
             0.5555555555555556,
             "#d8576b"
            ],
            [
             0.6666666666666666,
             "#ed7953"
            ],
            [
             0.7777777777777778,
             "#fb9f3a"
            ],
            [
             0.8888888888888888,
             "#fdca26"
            ],
            [
             1,
             "#f0f921"
            ]
           ],
           "sequentialminus": [
            [
             0,
             "#0d0887"
            ],
            [
             0.1111111111111111,
             "#46039f"
            ],
            [
             0.2222222222222222,
             "#7201a8"
            ],
            [
             0.3333333333333333,
             "#9c179e"
            ],
            [
             0.4444444444444444,
             "#bd3786"
            ],
            [
             0.5555555555555556,
             "#d8576b"
            ],
            [
             0.6666666666666666,
             "#ed7953"
            ],
            [
             0.7777777777777778,
             "#fb9f3a"
            ],
            [
             0.8888888888888888,
             "#fdca26"
            ],
            [
             1,
             "#f0f921"
            ]
           ]
          },
          "colorway": [
           "#636efa",
           "#EF553B",
           "#00cc96",
           "#ab63fa",
           "#FFA15A",
           "#19d3f3",
           "#FF6692",
           "#B6E880",
           "#FF97FF",
           "#FECB52"
          ],
          "font": {
           "color": "#2a3f5f"
          },
          "geo": {
           "bgcolor": "white",
           "lakecolor": "white",
           "landcolor": "#E5ECF6",
           "showlakes": true,
           "showland": true,
           "subunitcolor": "white"
          },
          "hoverlabel": {
           "align": "left"
          },
          "hovermode": "closest",
          "mapbox": {
           "style": "light"
          },
          "paper_bgcolor": "white",
          "plot_bgcolor": "#E5ECF6",
          "polar": {
           "angularaxis": {
            "gridcolor": "white",
            "linecolor": "white",
            "ticks": ""
           },
           "bgcolor": "#E5ECF6",
           "radialaxis": {
            "gridcolor": "white",
            "linecolor": "white",
            "ticks": ""
           }
          },
          "scene": {
           "xaxis": {
            "backgroundcolor": "#E5ECF6",
            "gridcolor": "white",
            "gridwidth": 2,
            "linecolor": "white",
            "showbackground": true,
            "ticks": "",
            "zerolinecolor": "white"
           },
           "yaxis": {
            "backgroundcolor": "#E5ECF6",
            "gridcolor": "white",
            "gridwidth": 2,
            "linecolor": "white",
            "showbackground": true,
            "ticks": "",
            "zerolinecolor": "white"
           },
           "zaxis": {
            "backgroundcolor": "#E5ECF6",
            "gridcolor": "white",
            "gridwidth": 2,
            "linecolor": "white",
            "showbackground": true,
            "ticks": "",
            "zerolinecolor": "white"
           }
          },
          "shapedefaults": {
           "line": {
            "color": "#2a3f5f"
           }
          },
          "ternary": {
           "aaxis": {
            "gridcolor": "white",
            "linecolor": "white",
            "ticks": ""
           },
           "baxis": {
            "gridcolor": "white",
            "linecolor": "white",
            "ticks": ""
           },
           "bgcolor": "#E5ECF6",
           "caxis": {
            "gridcolor": "white",
            "linecolor": "white",
            "ticks": ""
           }
          },
          "title": {
           "x": 0.05
          },
          "xaxis": {
           "automargin": true,
           "gridcolor": "white",
           "linecolor": "white",
           "ticks": "",
           "title": {
            "standoff": 15
           },
           "zerolinecolor": "white",
           "zerolinewidth": 2
          },
          "yaxis": {
           "automargin": true,
           "gridcolor": "white",
           "linecolor": "white",
           "ticks": "",
           "title": {
            "standoff": 15
           },
           "zerolinecolor": "white",
           "zerolinewidth": 2
          }
         }
        },
        "title": {
         "font": {
          "color": "#4D5663"
         }
        },
        "xaxis": {
         "anchor": "y",
         "domain": [
          0,
          0.2125
         ],
         "gridcolor": "#E1E5ED",
         "showgrid": false,
         "tickfont": {
          "color": "#4D5663"
         },
         "title": {
          "font": {
           "color": "#4D5663"
          },
          "text": ""
         },
         "zerolinecolor": "#E1E5ED"
        },
        "xaxis10": {
         "anchor": "y10",
         "domain": [
          0.2625,
          0.475
         ],
         "gridcolor": "#E1E5ED",
         "showgrid": false,
         "tickfont": {
          "color": "#4D5663"
         },
         "title": {
          "font": {
           "color": "#4D5663"
          },
          "text": ""
         },
         "zerolinecolor": "#E1E5ED"
        },
        "xaxis11": {
         "anchor": "y11",
         "domain": [
          0.525,
          0.7375
         ],
         "gridcolor": "#E1E5ED",
         "showgrid": false,
         "tickfont": {
          "color": "#4D5663"
         },
         "title": {
          "font": {
           "color": "#4D5663"
          },
          "text": ""
         },
         "zerolinecolor": "#E1E5ED"
        },
        "xaxis12": {
         "anchor": "y12",
         "domain": [
          0.7875,
          1
         ],
         "gridcolor": "#E1E5ED",
         "showgrid": false,
         "tickfont": {
          "color": "#4D5663"
         },
         "title": {
          "font": {
           "color": "#4D5663"
          },
          "text": ""
         },
         "zerolinecolor": "#E1E5ED"
        },
        "xaxis13": {
         "anchor": "y13",
         "domain": [
          0,
          0.2125
         ],
         "gridcolor": "#E1E5ED",
         "showgrid": false,
         "tickfont": {
          "color": "#4D5663"
         },
         "title": {
          "font": {
           "color": "#4D5663"
          },
          "text": ""
         },
         "zerolinecolor": "#E1E5ED"
        },
        "xaxis14": {
         "anchor": "y14",
         "domain": [
          0.2625,
          0.475
         ],
         "gridcolor": "#E1E5ED",
         "showgrid": false,
         "tickfont": {
          "color": "#4D5663"
         },
         "title": {
          "font": {
           "color": "#4D5663"
          },
          "text": ""
         },
         "zerolinecolor": "#E1E5ED"
        },
        "xaxis15": {
         "anchor": "y15",
         "domain": [
          0.525,
          0.7375
         ],
         "gridcolor": "#E1E5ED",
         "showgrid": false,
         "tickfont": {
          "color": "#4D5663"
         },
         "title": {
          "font": {
           "color": "#4D5663"
          },
          "text": ""
         },
         "zerolinecolor": "#E1E5ED"
        },
        "xaxis16": {
         "anchor": "y16",
         "domain": [
          0.7875,
          1
         ],
         "gridcolor": "#E1E5ED",
         "showgrid": false,
         "tickfont": {
          "color": "#4D5663"
         },
         "title": {
          "font": {
           "color": "#4D5663"
          },
          "text": ""
         },
         "zerolinecolor": "#E1E5ED"
        },
        "xaxis2": {
         "anchor": "y2",
         "domain": [
          0.2625,
          0.475
         ],
         "gridcolor": "#E1E5ED",
         "showgrid": false,
         "tickfont": {
          "color": "#4D5663"
         },
         "title": {
          "font": {
           "color": "#4D5663"
          },
          "text": ""
         },
         "zerolinecolor": "#E1E5ED"
        },
        "xaxis3": {
         "anchor": "y3",
         "domain": [
          0.525,
          0.7375
         ],
         "gridcolor": "#E1E5ED",
         "showgrid": false,
         "tickfont": {
          "color": "#4D5663"
         },
         "title": {
          "font": {
           "color": "#4D5663"
          },
          "text": ""
         },
         "zerolinecolor": "#E1E5ED"
        },
        "xaxis4": {
         "anchor": "y4",
         "domain": [
          0.7875,
          1
         ],
         "gridcolor": "#E1E5ED",
         "showgrid": false,
         "tickfont": {
          "color": "#4D5663"
         },
         "title": {
          "font": {
           "color": "#4D5663"
          },
          "text": ""
         },
         "zerolinecolor": "#E1E5ED"
        },
        "xaxis5": {
         "anchor": "y5",
         "domain": [
          0,
          0.2125
         ],
         "gridcolor": "#E1E5ED",
         "showgrid": false,
         "tickfont": {
          "color": "#4D5663"
         },
         "title": {
          "font": {
           "color": "#4D5663"
          },
          "text": ""
         },
         "zerolinecolor": "#E1E5ED"
        },
        "xaxis6": {
         "anchor": "y6",
         "domain": [
          0.2625,
          0.475
         ],
         "gridcolor": "#E1E5ED",
         "showgrid": false,
         "tickfont": {
          "color": "#4D5663"
         },
         "title": {
          "font": {
           "color": "#4D5663"
          },
          "text": ""
         },
         "zerolinecolor": "#E1E5ED"
        },
        "xaxis7": {
         "anchor": "y7",
         "domain": [
          0.525,
          0.7375
         ],
         "gridcolor": "#E1E5ED",
         "showgrid": false,
         "tickfont": {
          "color": "#4D5663"
         },
         "title": {
          "font": {
           "color": "#4D5663"
          },
          "text": ""
         },
         "zerolinecolor": "#E1E5ED"
        },
        "xaxis8": {
         "anchor": "y8",
         "domain": [
          0.7875,
          1
         ],
         "gridcolor": "#E1E5ED",
         "showgrid": false,
         "tickfont": {
          "color": "#4D5663"
         },
         "title": {
          "font": {
           "color": "#4D5663"
          },
          "text": ""
         },
         "zerolinecolor": "#E1E5ED"
        },
        "xaxis9": {
         "anchor": "y9",
         "domain": [
          0,
          0.2125
         ],
         "gridcolor": "#E1E5ED",
         "showgrid": false,
         "tickfont": {
          "color": "#4D5663"
         },
         "title": {
          "font": {
           "color": "#4D5663"
          },
          "text": ""
         },
         "zerolinecolor": "#E1E5ED"
        },
        "yaxis": {
         "anchor": "x",
         "domain": [
          0.8025,
          1
         ],
         "gridcolor": "#E1E5ED",
         "showgrid": false,
         "tickfont": {
          "color": "#4D5663"
         },
         "title": {
          "font": {
           "color": "#4D5663"
          },
          "text": ""
         },
         "zerolinecolor": "#E1E5ED"
        },
        "yaxis10": {
         "anchor": "x10",
         "domain": [
          0.2675,
          0.465
         ],
         "gridcolor": "#E1E5ED",
         "showgrid": false,
         "tickfont": {
          "color": "#4D5663"
         },
         "title": {
          "font": {
           "color": "#4D5663"
          },
          "text": ""
         },
         "zerolinecolor": "#E1E5ED"
        },
        "yaxis11": {
         "anchor": "x11",
         "domain": [
          0.2675,
          0.465
         ],
         "gridcolor": "#E1E5ED",
         "showgrid": false,
         "tickfont": {
          "color": "#4D5663"
         },
         "title": {
          "font": {
           "color": "#4D5663"
          },
          "text": ""
         },
         "zerolinecolor": "#E1E5ED"
        },
        "yaxis12": {
         "anchor": "x12",
         "domain": [
          0.2675,
          0.465
         ],
         "gridcolor": "#E1E5ED",
         "showgrid": false,
         "tickfont": {
          "color": "#4D5663"
         },
         "title": {
          "font": {
           "color": "#4D5663"
          },
          "text": ""
         },
         "zerolinecolor": "#E1E5ED"
        },
        "yaxis13": {
         "anchor": "x13",
         "domain": [
          0,
          0.1975
         ],
         "gridcolor": "#E1E5ED",
         "showgrid": false,
         "tickfont": {
          "color": "#4D5663"
         },
         "title": {
          "font": {
           "color": "#4D5663"
          },
          "text": ""
         },
         "zerolinecolor": "#E1E5ED"
        },
        "yaxis14": {
         "anchor": "x14",
         "domain": [
          0,
          0.1975
         ],
         "gridcolor": "#E1E5ED",
         "showgrid": false,
         "tickfont": {
          "color": "#4D5663"
         },
         "title": {
          "font": {
           "color": "#4D5663"
          },
          "text": ""
         },
         "zerolinecolor": "#E1E5ED"
        },
        "yaxis15": {
         "anchor": "x15",
         "domain": [
          0,
          0.1975
         ],
         "gridcolor": "#E1E5ED",
         "showgrid": false,
         "tickfont": {
          "color": "#4D5663"
         },
         "title": {
          "font": {
           "color": "#4D5663"
          },
          "text": ""
         },
         "zerolinecolor": "#E1E5ED"
        },
        "yaxis16": {
         "anchor": "x16",
         "domain": [
          0,
          0.1975
         ],
         "gridcolor": "#E1E5ED",
         "showgrid": false,
         "tickfont": {
          "color": "#4D5663"
         },
         "title": {
          "font": {
           "color": "#4D5663"
          },
          "text": ""
         },
         "zerolinecolor": "#E1E5ED"
        },
        "yaxis2": {
         "anchor": "x2",
         "domain": [
          0.8025,
          1
         ],
         "gridcolor": "#E1E5ED",
         "showgrid": false,
         "tickfont": {
          "color": "#4D5663"
         },
         "title": {
          "font": {
           "color": "#4D5663"
          },
          "text": ""
         },
         "zerolinecolor": "#E1E5ED"
        },
        "yaxis3": {
         "anchor": "x3",
         "domain": [
          0.8025,
          1
         ],
         "gridcolor": "#E1E5ED",
         "showgrid": false,
         "tickfont": {
          "color": "#4D5663"
         },
         "title": {
          "font": {
           "color": "#4D5663"
          },
          "text": ""
         },
         "zerolinecolor": "#E1E5ED"
        },
        "yaxis4": {
         "anchor": "x4",
         "domain": [
          0.8025,
          1
         ],
         "gridcolor": "#E1E5ED",
         "showgrid": false,
         "tickfont": {
          "color": "#4D5663"
         },
         "title": {
          "font": {
           "color": "#4D5663"
          },
          "text": ""
         },
         "zerolinecolor": "#E1E5ED"
        },
        "yaxis5": {
         "anchor": "x5",
         "domain": [
          0.535,
          0.7325
         ],
         "gridcolor": "#E1E5ED",
         "showgrid": false,
         "tickfont": {
          "color": "#4D5663"
         },
         "title": {
          "font": {
           "color": "#4D5663"
          },
          "text": ""
         },
         "zerolinecolor": "#E1E5ED"
        },
        "yaxis6": {
         "anchor": "x6",
         "domain": [
          0.535,
          0.7325
         ],
         "gridcolor": "#E1E5ED",
         "showgrid": false,
         "tickfont": {
          "color": "#4D5663"
         },
         "title": {
          "font": {
           "color": "#4D5663"
          },
          "text": ""
         },
         "zerolinecolor": "#E1E5ED"
        },
        "yaxis7": {
         "anchor": "x7",
         "domain": [
          0.535,
          0.7325
         ],
         "gridcolor": "#E1E5ED",
         "showgrid": false,
         "tickfont": {
          "color": "#4D5663"
         },
         "title": {
          "font": {
           "color": "#4D5663"
          },
          "text": ""
         },
         "zerolinecolor": "#E1E5ED"
        },
        "yaxis8": {
         "anchor": "x8",
         "domain": [
          0.535,
          0.7325
         ],
         "gridcolor": "#E1E5ED",
         "showgrid": false,
         "tickfont": {
          "color": "#4D5663"
         },
         "title": {
          "font": {
           "color": "#4D5663"
          },
          "text": ""
         },
         "zerolinecolor": "#E1E5ED"
        },
        "yaxis9": {
         "anchor": "x9",
         "domain": [
          0.2675,
          0.465
         ],
         "gridcolor": "#E1E5ED",
         "showgrid": false,
         "tickfont": {
          "color": "#4D5663"
         },
         "title": {
          "font": {
           "color": "#4D5663"
          },
          "text": ""
         },
         "zerolinecolor": "#E1E5ED"
        }
       }
      },
      "text/html": [
       "<div>                            <div id=\"8e9a7dc8-32c1-459b-93a5-a1be50a44fe2\" class=\"plotly-graph-div\" style=\"height:525px; width:100%;\"></div>            <script type=\"text/javascript\">                require([\"plotly\"], function(Plotly) {                    window.PLOTLYENV=window.PLOTLYENV || {};\n",
       "                    window.PLOTLYENV.BASE_URL='https://plot.ly';                                    if (document.getElementById(\"8e9a7dc8-32c1-459b-93a5-a1be50a44fe2\")) {                    Plotly.newPlot(                        \"8e9a7dc8-32c1-459b-93a5-a1be50a44fe2\",                        [{\"histfunc\":\"count\",\"histnorm\":\"\",\"marker\":{\"color\":\"rgba(255, 153, 51, 1.0)\",\"line\":{\"color\":\"#4D5663\",\"width\":1.3}},\"name\":\"A\",\"nbinsx\":10,\"opacity\":0.8,\"orientation\":\"v\",\"x\":[-0.5882201862615739,-0.1444088146832521,-0.7206830682849644,1.3936579949157097,-0.19862000637931865,-0.27593821881612995,0.10946967362279274,-0.7994858635802414,0.1678150311420152,-0.03259329436621168,-0.38777224262700793,-0.9754539192544475,0.31246023384261074,-0.16315024393863606,0.1433325386094532,0.33921612803869455,0.1687111089431125,-1.0293821555773768,0.9359095977765699,-0.851942028353327,0.27136104667763106,2.0938787705300403,-1.6874972996029145,-0.4906760954841787,1.014382803145646,-0.6868968224829972,-0.7713142158581506,-1.0629976127507368,-0.3911478166219877,-1.6997231884085433,0.4760470417318967,1.368331511888546,-0.9584745559245262,-1.183217404290445,-0.575483118709692,1.3026615111527207,0.1441487490352291,-1.0594506247977764,-1.5380315053002944,2.4091356980594285,1.0046246460929371,0.16397580097306277,-0.27806055403543156,1.1825457833448632,0.9927116557574145,0.6401164337634135,-0.17126633776369268,-0.09314210703339369,-1.2500682591239412,1.5249423799561066,0.7261411639316259,1.590022568827245,-0.04437577138374293,-0.19365124054278118,-1.537393958681574,1.5201990369248464,1.677601948736433,-0.17840117181941412,-0.260180030841215,-0.2744427137172959,-0.05364077060641442,-1.388808568459774,-0.2976181577756708,-0.05489380423532537,0.24230246636410666,0.05706581952694559,-0.5203533785804892,-0.4759391251040668,1.9466209582861882,0.8574801728519554,-0.42732486530133573,1.2327550002736216,1.5230759358429147,0.9259071632069753,1.4978812400979802,-0.5868307177392983,-0.21430818657024733,0.4275909334188216,-0.7517631229589176,0.40933185053435545,1.0494839530728004,1.009305230913276,-0.24943062954401313,-0.4313553585139899,-0.17170921243621456,1.6841789479225455,-0.9526310880361992,0.12458637521250845,0.5687516401383191,0.8383341998997003,0.9996013164266332,-1.2654481776987168,0.06368071956753159,-0.5823383450272381,0.8242370577808078,0.04917197237671641,-1.0627241384534636,-0.8690415122855502,0.413248602855076,1.4561243863993238],\"xaxis\":\"x\",\"yaxis\":\"y\",\"type\":\"histogram\"},{\"line\":{\"color\":\"rgba(128, 128, 128, 1.0)\",\"dash\":\"solid\",\"shape\":\"linear\",\"width\":1.3},\"marker\":{\"size\":2,\"symbol\":\"circle\"},\"mode\":\"markers\",\"name\":\"A\",\"text\":\"\",\"x\":[-0.8940538161456291,1.7587400520446705,0.14430342474400454,-0.34549370551569325,-0.5257140537089149,-0.15452279911902936,-1.0700089891485318,-1.2765518475470334,-1.1018276817658246,0.43378474413794765,0.8461336916637264,-0.24624295303470572,1.3982100658424075,0.9997234408622141,-0.2719079134797146,0.7001985695260833,0.37644992918744924,0.6256292283079395,0.14171050635516258,0.4083837344888657,0.35919115418712133,0.2885316619016053,-0.2795716879495062,1.4967109264618719,-0.5034276127281153,-0.9195848263522127,0.0036980691622682717,-1.1561975511553555,-0.0674931632448224,1.2205170295980456,-1.7173270994239003,-0.8457801385986659,0.1725586858008727,0.4241941216487407,-0.640527068079842,0.9162412399630095,-0.7126212550692267,1.1760786429305836,-0.3663287237478555,-0.9601992815532329,-0.5934668853017779,2.138687640168241,1.1271439949934412,0.4228887134119707,0.9641575600348385,-0.4732958531413693,0.3691867824050043,1.0438568219805757,-0.6851461607108044,1.9604889962473953,-0.7121316185807449,-0.860258552005439,-0.7756424767215246,1.1188986390232671,-0.029992580637274155,1.2566812154182598,-0.08965639196959063,0.9993501250314029,1.0581915489108098,0.018648395808328312,-0.16515690335859862,1.1048916736355985,-0.2940482353646764,0.7858209812076586,0.6962374498622259,0.6824777105549716,0.6502383370441862,-0.6503294575233609,-2.419037357005872,0.5386046383338288,0.13396494940463755,0.8338031503515533,0.20428275558354891,0.7963950437666771,-0.5168135777070428,0.7337029151449452,-0.17652524673493883,-1.8741632511307245,-0.541972300082036,-0.3447729493621954,-0.6321114042540144,0.15149425011822618,-0.168313064233042,-0.2248723299164277,1.0986104344094423,0.5057236081827604,-0.31038782932230446,1.9497709425607428,1.3184687249490608,-1.0867694948850026,0.861439797367633,0.3582260691853846,0.22568575670948762,0.40989940999869257,0.0073837110282809456,1.3613943157445625,-0.28844704644859565,0.2291403758894681,-0.4472241971177087,-0.19181766055293706],\"xaxis\":\"x2\",\"y\":[-0.5882201862615739,-0.1444088146832521,-0.7206830682849644,1.3936579949157097,-0.19862000637931865,-0.27593821881612995,0.10946967362279274,-0.7994858635802414,0.1678150311420152,-0.03259329436621168,-0.38777224262700793,-0.9754539192544475,0.31246023384261074,-0.16315024393863606,0.1433325386094532,0.33921612803869455,0.1687111089431125,-1.0293821555773768,0.9359095977765699,-0.851942028353327,0.27136104667763106,2.0938787705300403,-1.6874972996029145,-0.4906760954841787,1.014382803145646,-0.6868968224829972,-0.7713142158581506,-1.0629976127507368,-0.3911478166219877,-1.6997231884085433,0.4760470417318967,1.368331511888546,-0.9584745559245262,-1.183217404290445,-0.575483118709692,1.3026615111527207,0.1441487490352291,-1.0594506247977764,-1.5380315053002944,2.4091356980594285,1.0046246460929371,0.16397580097306277,-0.27806055403543156,1.1825457833448632,0.9927116557574145,0.6401164337634135,-0.17126633776369268,-0.09314210703339369,-1.2500682591239412,1.5249423799561066,0.7261411639316259,1.590022568827245,-0.04437577138374293,-0.19365124054278118,-1.537393958681574,1.5201990369248464,1.677601948736433,-0.17840117181941412,-0.260180030841215,-0.2744427137172959,-0.05364077060641442,-1.388808568459774,-0.2976181577756708,-0.05489380423532537,0.24230246636410666,0.05706581952694559,-0.5203533785804892,-0.4759391251040668,1.9466209582861882,0.8574801728519554,-0.42732486530133573,1.2327550002736216,1.5230759358429147,0.9259071632069753,1.4978812400979802,-0.5868307177392983,-0.21430818657024733,0.4275909334188216,-0.7517631229589176,0.40933185053435545,1.0494839530728004,1.009305230913276,-0.24943062954401313,-0.4313553585139899,-0.17170921243621456,1.6841789479225455,-0.9526310880361992,0.12458637521250845,0.5687516401383191,0.8383341998997003,0.9996013164266332,-1.2654481776987168,0.06368071956753159,-0.5823383450272381,0.8242370577808078,0.04917197237671641,-1.0627241384534636,-0.8690415122855502,0.413248602855076,1.4561243863993238],\"yaxis\":\"y2\",\"type\":\"scatter\"},{\"line\":{\"color\":\"rgba(128, 128, 128, 1.0)\",\"dash\":\"solid\",\"shape\":\"linear\",\"width\":1.3},\"marker\":{\"size\":2,\"symbol\":\"circle\"},\"mode\":\"markers\",\"name\":\"A\",\"text\":\"\",\"x\":[1.876901332764013,-0.10349125707717265,1.2579282301675274,-0.32879018856124387,1.2893453409422433,-0.6978506990899702,-0.5690885249863702,-3.212348160167795,0.35198033315027016,1.6280859607352034,1.4169911089200316,-0.006244506076509348,0.6063776210857147,1.3590502993947755,-0.08753558435804658,-1.271038925037562,-1.876369588842253,-0.14833303694173458,-0.6885285591325655,0.40005150515600774,-1.2397561550563225,-0.8858069024894748,-0.798914170622721,-0.6451125590130682,-1.337201271014988,-0.5434072525765655,0.24923426476470928,1.02995155945738,-0.38069426208706303,0.550732455528556,-0.06622388157713835,0.28227085401028323,-1.6993807018906721,-1.017000383808957,1.4502622013064184,-0.37748754175054144,0.11182643086431572,0.3190458805727826,0.6310714228107397,0.9287773600999025,-0.5958332182194019,0.8368468693621849,1.615333454176221,-1.0595142331219507,0.059263138514671826,0.3781385876987572,1.205778828363705,0.5103676221222979,-0.4181890681484547,-1.1749615894305674,-0.8146477375634813,0.703332618935335,1.1159942380155168,-1.405272482685175,-0.4035490110227859,-1.214451078534114,0.034836276212230365,0.994470253635251,-1.2974851873956041,1.5571794559110022,-0.36177309144129505,-2.0265767761700726,0.537946286420841,-1.3207974386903243,0.5178046251976135,0.22227262982002907,0.35709449641554913,-0.8452066203825547,-0.35073473770144153,0.03423386191778584,-0.11174022398461535,0.6247860999321203,-0.8593150572868524,-0.2681198583175821,-0.5709092452257304,0.09516218009043352,0.6924016128879481,-0.8538907509043898,0.06401430782372304,1.9161700217558955,-1.1306376711175334,-0.20896335733373597,1.0478962843173312,0.7386032627103952,-0.14958601699834462,-1.3679987897784471,-0.30951165695956173,-0.430522024100932,-0.45632750502507113,-0.7971261605970754,1.7768435698921234,-0.700539057905725,-0.23319658471835003,-0.10861742663622247,-0.3123966686400977,-0.1501601691032951,-1.1884097302299348,1.3946847680567762,1.648671061047971,0.6330557050537858],\"xaxis\":\"x3\",\"y\":[-0.5882201862615739,-0.1444088146832521,-0.7206830682849644,1.3936579949157097,-0.19862000637931865,-0.27593821881612995,0.10946967362279274,-0.7994858635802414,0.1678150311420152,-0.03259329436621168,-0.38777224262700793,-0.9754539192544475,0.31246023384261074,-0.16315024393863606,0.1433325386094532,0.33921612803869455,0.1687111089431125,-1.0293821555773768,0.9359095977765699,-0.851942028353327,0.27136104667763106,2.0938787705300403,-1.6874972996029145,-0.4906760954841787,1.014382803145646,-0.6868968224829972,-0.7713142158581506,-1.0629976127507368,-0.3911478166219877,-1.6997231884085433,0.4760470417318967,1.368331511888546,-0.9584745559245262,-1.183217404290445,-0.575483118709692,1.3026615111527207,0.1441487490352291,-1.0594506247977764,-1.5380315053002944,2.4091356980594285,1.0046246460929371,0.16397580097306277,-0.27806055403543156,1.1825457833448632,0.9927116557574145,0.6401164337634135,-0.17126633776369268,-0.09314210703339369,-1.2500682591239412,1.5249423799561066,0.7261411639316259,1.590022568827245,-0.04437577138374293,-0.19365124054278118,-1.537393958681574,1.5201990369248464,1.677601948736433,-0.17840117181941412,-0.260180030841215,-0.2744427137172959,-0.05364077060641442,-1.388808568459774,-0.2976181577756708,-0.05489380423532537,0.24230246636410666,0.05706581952694559,-0.5203533785804892,-0.4759391251040668,1.9466209582861882,0.8574801728519554,-0.42732486530133573,1.2327550002736216,1.5230759358429147,0.9259071632069753,1.4978812400979802,-0.5868307177392983,-0.21430818657024733,0.4275909334188216,-0.7517631229589176,0.40933185053435545,1.0494839530728004,1.009305230913276,-0.24943062954401313,-0.4313553585139899,-0.17170921243621456,1.6841789479225455,-0.9526310880361992,0.12458637521250845,0.5687516401383191,0.8383341998997003,0.9996013164266332,-1.2654481776987168,0.06368071956753159,-0.5823383450272381,0.8242370577808078,0.04917197237671641,-1.0627241384534636,-0.8690415122855502,0.413248602855076,1.4561243863993238],\"yaxis\":\"y3\",\"type\":\"scatter\"},{\"line\":{\"color\":\"rgba(128, 128, 128, 1.0)\",\"dash\":\"solid\",\"shape\":\"linear\",\"width\":1.3},\"marker\":{\"size\":2,\"symbol\":\"circle\"},\"mode\":\"markers\",\"name\":\"A\",\"text\":\"\",\"x\":[0.9547741388797715,1.12691998723733,-0.17588602744932133,-0.08360142003301853,-0.49442222869638813,0.6934794557585935,1.0110147561447163,0.25346707455515455,-0.4787144143926514,0.4928484667310422,-1.7428489886218677,-0.2570764597121221,0.09881584393573929,0.7628155428096923,2.5806600650612266,-0.4478061182670122,0.0002874671823678858,-1.0942176091789775,-0.4873762942535746,1.976816251298637,0.3339524849949742,0.16802667442509775,0.8626302484321515,-0.09111335353527333,-0.2657862205013541,0.35010589487032506,-0.23440411955846505,0.7751695854844219,1.5163820694528165,1.6029417948586178,0.9215993651005554,-0.7969441897514339,-1.4376888652194055,0.8400305940687466,-0.5152454583569321,-0.09930174693615994,1.7179749043312862,1.4960946221949785,0.08921104108617861,0.8339661715179915,-0.11693960397103106,-0.7394381968022411,-1.1154249192760168,0.6147476397892389,0.07274961574508616,0.4661061113921465,-0.16726709401784562,-0.8361209180729203,-1.7155700620004344,1.8348719406873164,-2.126207789865309,1.2707033611415526,1.7622382167731088,0.39343116681641893,0.03190704932137889,-1.1559108977410961,-0.04622596241052501,0.489106935341587,0.13740546329596523,-0.7311652356616144,1.7738156693021163,-0.04704643840360029,-0.7881192887413037,1.795952192538169,0.5314335733134796,-0.8214714973020584,-0.7298186525328831,-0.6729925403866435,-0.6936148756614567,-0.31688486734133753,-0.388229614712312,0.6014550940553034,-2.4080510527023966,0.36016133963583563,-1.2940303292896087,-1.3378643325876045,0.030515645046154144,0.7901639242719248,0.8815513061717907,-1.4261174808782329,-0.10338583796462682,0.0490718773572223,0.34118388492613627,-0.13743183574732518,-0.3350574411815445,0.0041823789357666105,0.5142482477379821,-1.7215903957099068,2.2682909150529422,-1.4792240642798469,0.02645063027757254,0.5956660038038963,-0.3892967030165847,-0.17204291943275932,0.2748847894136974,-0.7505812424982387,-0.6479838607980779,1.6672864040606898,1.2378083818978425,-0.27781760634175695],\"xaxis\":\"x4\",\"y\":[-0.5882201862615739,-0.1444088146832521,-0.7206830682849644,1.3936579949157097,-0.19862000637931865,-0.27593821881612995,0.10946967362279274,-0.7994858635802414,0.1678150311420152,-0.03259329436621168,-0.38777224262700793,-0.9754539192544475,0.31246023384261074,-0.16315024393863606,0.1433325386094532,0.33921612803869455,0.1687111089431125,-1.0293821555773768,0.9359095977765699,-0.851942028353327,0.27136104667763106,2.0938787705300403,-1.6874972996029145,-0.4906760954841787,1.014382803145646,-0.6868968224829972,-0.7713142158581506,-1.0629976127507368,-0.3911478166219877,-1.6997231884085433,0.4760470417318967,1.368331511888546,-0.9584745559245262,-1.183217404290445,-0.575483118709692,1.3026615111527207,0.1441487490352291,-1.0594506247977764,-1.5380315053002944,2.4091356980594285,1.0046246460929371,0.16397580097306277,-0.27806055403543156,1.1825457833448632,0.9927116557574145,0.6401164337634135,-0.17126633776369268,-0.09314210703339369,-1.2500682591239412,1.5249423799561066,0.7261411639316259,1.590022568827245,-0.04437577138374293,-0.19365124054278118,-1.537393958681574,1.5201990369248464,1.677601948736433,-0.17840117181941412,-0.260180030841215,-0.2744427137172959,-0.05364077060641442,-1.388808568459774,-0.2976181577756708,-0.05489380423532537,0.24230246636410666,0.05706581952694559,-0.5203533785804892,-0.4759391251040668,1.9466209582861882,0.8574801728519554,-0.42732486530133573,1.2327550002736216,1.5230759358429147,0.9259071632069753,1.4978812400979802,-0.5868307177392983,-0.21430818657024733,0.4275909334188216,-0.7517631229589176,0.40933185053435545,1.0494839530728004,1.009305230913276,-0.24943062954401313,-0.4313553585139899,-0.17170921243621456,1.6841789479225455,-0.9526310880361992,0.12458637521250845,0.5687516401383191,0.8383341998997003,0.9996013164266332,-1.2654481776987168,0.06368071956753159,-0.5823383450272381,0.8242370577808078,0.04917197237671641,-1.0627241384534636,-0.8690415122855502,0.413248602855076,1.4561243863993238],\"yaxis\":\"y4\",\"type\":\"scatter\"},{\"line\":{\"color\":\"rgba(128, 128, 128, 1.0)\",\"dash\":\"solid\",\"shape\":\"linear\",\"width\":1.3},\"marker\":{\"size\":2,\"symbol\":\"circle\"},\"mode\":\"markers\",\"name\":\"B\",\"text\":\"\",\"x\":[-0.5882201862615739,-0.1444088146832521,-0.7206830682849644,1.3936579949157097,-0.19862000637931865,-0.27593821881612995,0.10946967362279274,-0.7994858635802414,0.1678150311420152,-0.03259329436621168,-0.38777224262700793,-0.9754539192544475,0.31246023384261074,-0.16315024393863606,0.1433325386094532,0.33921612803869455,0.1687111089431125,-1.0293821555773768,0.9359095977765699,-0.851942028353327,0.27136104667763106,2.0938787705300403,-1.6874972996029145,-0.4906760954841787,1.014382803145646,-0.6868968224829972,-0.7713142158581506,-1.0629976127507368,-0.3911478166219877,-1.6997231884085433,0.4760470417318967,1.368331511888546,-0.9584745559245262,-1.183217404290445,-0.575483118709692,1.3026615111527207,0.1441487490352291,-1.0594506247977764,-1.5380315053002944,2.4091356980594285,1.0046246460929371,0.16397580097306277,-0.27806055403543156,1.1825457833448632,0.9927116557574145,0.6401164337634135,-0.17126633776369268,-0.09314210703339369,-1.2500682591239412,1.5249423799561066,0.7261411639316259,1.590022568827245,-0.04437577138374293,-0.19365124054278118,-1.537393958681574,1.5201990369248464,1.677601948736433,-0.17840117181941412,-0.260180030841215,-0.2744427137172959,-0.05364077060641442,-1.388808568459774,-0.2976181577756708,-0.05489380423532537,0.24230246636410666,0.05706581952694559,-0.5203533785804892,-0.4759391251040668,1.9466209582861882,0.8574801728519554,-0.42732486530133573,1.2327550002736216,1.5230759358429147,0.9259071632069753,1.4978812400979802,-0.5868307177392983,-0.21430818657024733,0.4275909334188216,-0.7517631229589176,0.40933185053435545,1.0494839530728004,1.009305230913276,-0.24943062954401313,-0.4313553585139899,-0.17170921243621456,1.6841789479225455,-0.9526310880361992,0.12458637521250845,0.5687516401383191,0.8383341998997003,0.9996013164266332,-1.2654481776987168,0.06368071956753159,-0.5823383450272381,0.8242370577808078,0.04917197237671641,-1.0627241384534636,-0.8690415122855502,0.413248602855076,1.4561243863993238],\"xaxis\":\"x5\",\"y\":[-0.8940538161456291,1.7587400520446705,0.14430342474400454,-0.34549370551569325,-0.5257140537089149,-0.15452279911902936,-1.0700089891485318,-1.2765518475470334,-1.1018276817658246,0.43378474413794765,0.8461336916637264,-0.24624295303470572,1.3982100658424075,0.9997234408622141,-0.2719079134797146,0.7001985695260833,0.37644992918744924,0.6256292283079395,0.14171050635516258,0.4083837344888657,0.35919115418712133,0.2885316619016053,-0.2795716879495062,1.4967109264618719,-0.5034276127281153,-0.9195848263522127,0.0036980691622682717,-1.1561975511553555,-0.0674931632448224,1.2205170295980456,-1.7173270994239003,-0.8457801385986659,0.1725586858008727,0.4241941216487407,-0.640527068079842,0.9162412399630095,-0.7126212550692267,1.1760786429305836,-0.3663287237478555,-0.9601992815532329,-0.5934668853017779,2.138687640168241,1.1271439949934412,0.4228887134119707,0.9641575600348385,-0.4732958531413693,0.3691867824050043,1.0438568219805757,-0.6851461607108044,1.9604889962473953,-0.7121316185807449,-0.860258552005439,-0.7756424767215246,1.1188986390232671,-0.029992580637274155,1.2566812154182598,-0.08965639196959063,0.9993501250314029,1.0581915489108098,0.018648395808328312,-0.16515690335859862,1.1048916736355985,-0.2940482353646764,0.7858209812076586,0.6962374498622259,0.6824777105549716,0.6502383370441862,-0.6503294575233609,-2.419037357005872,0.5386046383338288,0.13396494940463755,0.8338031503515533,0.20428275558354891,0.7963950437666771,-0.5168135777070428,0.7337029151449452,-0.17652524673493883,-1.8741632511307245,-0.541972300082036,-0.3447729493621954,-0.6321114042540144,0.15149425011822618,-0.168313064233042,-0.2248723299164277,1.0986104344094423,0.5057236081827604,-0.31038782932230446,1.9497709425607428,1.3184687249490608,-1.0867694948850026,0.861439797367633,0.3582260691853846,0.22568575670948762,0.40989940999869257,0.0073837110282809456,1.3613943157445625,-0.28844704644859565,0.2291403758894681,-0.4472241971177087,-0.19181766055293706],\"yaxis\":\"y5\",\"type\":\"scatter\"},{\"histfunc\":\"count\",\"histnorm\":\"\",\"marker\":{\"color\":\"rgba(55, 128, 191, 1.0)\",\"line\":{\"color\":\"#4D5663\",\"width\":1.3}},\"name\":\"B\",\"nbinsx\":10,\"opacity\":0.8,\"orientation\":\"v\",\"x\":[-0.8940538161456291,1.7587400520446705,0.14430342474400454,-0.34549370551569325,-0.5257140537089149,-0.15452279911902936,-1.0700089891485318,-1.2765518475470334,-1.1018276817658246,0.43378474413794765,0.8461336916637264,-0.24624295303470572,1.3982100658424075,0.9997234408622141,-0.2719079134797146,0.7001985695260833,0.37644992918744924,0.6256292283079395,0.14171050635516258,0.4083837344888657,0.35919115418712133,0.2885316619016053,-0.2795716879495062,1.4967109264618719,-0.5034276127281153,-0.9195848263522127,0.0036980691622682717,-1.1561975511553555,-0.0674931632448224,1.2205170295980456,-1.7173270994239003,-0.8457801385986659,0.1725586858008727,0.4241941216487407,-0.640527068079842,0.9162412399630095,-0.7126212550692267,1.1760786429305836,-0.3663287237478555,-0.9601992815532329,-0.5934668853017779,2.138687640168241,1.1271439949934412,0.4228887134119707,0.9641575600348385,-0.4732958531413693,0.3691867824050043,1.0438568219805757,-0.6851461607108044,1.9604889962473953,-0.7121316185807449,-0.860258552005439,-0.7756424767215246,1.1188986390232671,-0.029992580637274155,1.2566812154182598,-0.08965639196959063,0.9993501250314029,1.0581915489108098,0.018648395808328312,-0.16515690335859862,1.1048916736355985,-0.2940482353646764,0.7858209812076586,0.6962374498622259,0.6824777105549716,0.6502383370441862,-0.6503294575233609,-2.419037357005872,0.5386046383338288,0.13396494940463755,0.8338031503515533,0.20428275558354891,0.7963950437666771,-0.5168135777070428,0.7337029151449452,-0.17652524673493883,-1.8741632511307245,-0.541972300082036,-0.3447729493621954,-0.6321114042540144,0.15149425011822618,-0.168313064233042,-0.2248723299164277,1.0986104344094423,0.5057236081827604,-0.31038782932230446,1.9497709425607428,1.3184687249490608,-1.0867694948850026,0.861439797367633,0.3582260691853846,0.22568575670948762,0.40989940999869257,0.0073837110282809456,1.3613943157445625,-0.28844704644859565,0.2291403758894681,-0.4472241971177087,-0.19181766055293706],\"xaxis\":\"x6\",\"yaxis\":\"y6\",\"type\":\"histogram\"},{\"line\":{\"color\":\"rgba(128, 128, 128, 1.0)\",\"dash\":\"solid\",\"shape\":\"linear\",\"width\":1.3},\"marker\":{\"size\":2,\"symbol\":\"circle\"},\"mode\":\"markers\",\"name\":\"B\",\"text\":\"\",\"x\":[1.876901332764013,-0.10349125707717265,1.2579282301675274,-0.32879018856124387,1.2893453409422433,-0.6978506990899702,-0.5690885249863702,-3.212348160167795,0.35198033315027016,1.6280859607352034,1.4169911089200316,-0.006244506076509348,0.6063776210857147,1.3590502993947755,-0.08753558435804658,-1.271038925037562,-1.876369588842253,-0.14833303694173458,-0.6885285591325655,0.40005150515600774,-1.2397561550563225,-0.8858069024894748,-0.798914170622721,-0.6451125590130682,-1.337201271014988,-0.5434072525765655,0.24923426476470928,1.02995155945738,-0.38069426208706303,0.550732455528556,-0.06622388157713835,0.28227085401028323,-1.6993807018906721,-1.017000383808957,1.4502622013064184,-0.37748754175054144,0.11182643086431572,0.3190458805727826,0.6310714228107397,0.9287773600999025,-0.5958332182194019,0.8368468693621849,1.615333454176221,-1.0595142331219507,0.059263138514671826,0.3781385876987572,1.205778828363705,0.5103676221222979,-0.4181890681484547,-1.1749615894305674,-0.8146477375634813,0.703332618935335,1.1159942380155168,-1.405272482685175,-0.4035490110227859,-1.214451078534114,0.034836276212230365,0.994470253635251,-1.2974851873956041,1.5571794559110022,-0.36177309144129505,-2.0265767761700726,0.537946286420841,-1.3207974386903243,0.5178046251976135,0.22227262982002907,0.35709449641554913,-0.8452066203825547,-0.35073473770144153,0.03423386191778584,-0.11174022398461535,0.6247860999321203,-0.8593150572868524,-0.2681198583175821,-0.5709092452257304,0.09516218009043352,0.6924016128879481,-0.8538907509043898,0.06401430782372304,1.9161700217558955,-1.1306376711175334,-0.20896335733373597,1.0478962843173312,0.7386032627103952,-0.14958601699834462,-1.3679987897784471,-0.30951165695956173,-0.430522024100932,-0.45632750502507113,-0.7971261605970754,1.7768435698921234,-0.700539057905725,-0.23319658471835003,-0.10861742663622247,-0.3123966686400977,-0.1501601691032951,-1.1884097302299348,1.3946847680567762,1.648671061047971,0.6330557050537858],\"xaxis\":\"x7\",\"y\":[-0.8940538161456291,1.7587400520446705,0.14430342474400454,-0.34549370551569325,-0.5257140537089149,-0.15452279911902936,-1.0700089891485318,-1.2765518475470334,-1.1018276817658246,0.43378474413794765,0.8461336916637264,-0.24624295303470572,1.3982100658424075,0.9997234408622141,-0.2719079134797146,0.7001985695260833,0.37644992918744924,0.6256292283079395,0.14171050635516258,0.4083837344888657,0.35919115418712133,0.2885316619016053,-0.2795716879495062,1.4967109264618719,-0.5034276127281153,-0.9195848263522127,0.0036980691622682717,-1.1561975511553555,-0.0674931632448224,1.2205170295980456,-1.7173270994239003,-0.8457801385986659,0.1725586858008727,0.4241941216487407,-0.640527068079842,0.9162412399630095,-0.7126212550692267,1.1760786429305836,-0.3663287237478555,-0.9601992815532329,-0.5934668853017779,2.138687640168241,1.1271439949934412,0.4228887134119707,0.9641575600348385,-0.4732958531413693,0.3691867824050043,1.0438568219805757,-0.6851461607108044,1.9604889962473953,-0.7121316185807449,-0.860258552005439,-0.7756424767215246,1.1188986390232671,-0.029992580637274155,1.2566812154182598,-0.08965639196959063,0.9993501250314029,1.0581915489108098,0.018648395808328312,-0.16515690335859862,1.1048916736355985,-0.2940482353646764,0.7858209812076586,0.6962374498622259,0.6824777105549716,0.6502383370441862,-0.6503294575233609,-2.419037357005872,0.5386046383338288,0.13396494940463755,0.8338031503515533,0.20428275558354891,0.7963950437666771,-0.5168135777070428,0.7337029151449452,-0.17652524673493883,-1.8741632511307245,-0.541972300082036,-0.3447729493621954,-0.6321114042540144,0.15149425011822618,-0.168313064233042,-0.2248723299164277,1.0986104344094423,0.5057236081827604,-0.31038782932230446,1.9497709425607428,1.3184687249490608,-1.0867694948850026,0.861439797367633,0.3582260691853846,0.22568575670948762,0.40989940999869257,0.0073837110282809456,1.3613943157445625,-0.28844704644859565,0.2291403758894681,-0.4472241971177087,-0.19181766055293706],\"yaxis\":\"y7\",\"type\":\"scatter\"},{\"line\":{\"color\":\"rgba(128, 128, 128, 1.0)\",\"dash\":\"solid\",\"shape\":\"linear\",\"width\":1.3},\"marker\":{\"size\":2,\"symbol\":\"circle\"},\"mode\":\"markers\",\"name\":\"B\",\"text\":\"\",\"x\":[0.9547741388797715,1.12691998723733,-0.17588602744932133,-0.08360142003301853,-0.49442222869638813,0.6934794557585935,1.0110147561447163,0.25346707455515455,-0.4787144143926514,0.4928484667310422,-1.7428489886218677,-0.2570764597121221,0.09881584393573929,0.7628155428096923,2.5806600650612266,-0.4478061182670122,0.0002874671823678858,-1.0942176091789775,-0.4873762942535746,1.976816251298637,0.3339524849949742,0.16802667442509775,0.8626302484321515,-0.09111335353527333,-0.2657862205013541,0.35010589487032506,-0.23440411955846505,0.7751695854844219,1.5163820694528165,1.6029417948586178,0.9215993651005554,-0.7969441897514339,-1.4376888652194055,0.8400305940687466,-0.5152454583569321,-0.09930174693615994,1.7179749043312862,1.4960946221949785,0.08921104108617861,0.8339661715179915,-0.11693960397103106,-0.7394381968022411,-1.1154249192760168,0.6147476397892389,0.07274961574508616,0.4661061113921465,-0.16726709401784562,-0.8361209180729203,-1.7155700620004344,1.8348719406873164,-2.126207789865309,1.2707033611415526,1.7622382167731088,0.39343116681641893,0.03190704932137889,-1.1559108977410961,-0.04622596241052501,0.489106935341587,0.13740546329596523,-0.7311652356616144,1.7738156693021163,-0.04704643840360029,-0.7881192887413037,1.795952192538169,0.5314335733134796,-0.8214714973020584,-0.7298186525328831,-0.6729925403866435,-0.6936148756614567,-0.31688486734133753,-0.388229614712312,0.6014550940553034,-2.4080510527023966,0.36016133963583563,-1.2940303292896087,-1.3378643325876045,0.030515645046154144,0.7901639242719248,0.8815513061717907,-1.4261174808782329,-0.10338583796462682,0.0490718773572223,0.34118388492613627,-0.13743183574732518,-0.3350574411815445,0.0041823789357666105,0.5142482477379821,-1.7215903957099068,2.2682909150529422,-1.4792240642798469,0.02645063027757254,0.5956660038038963,-0.3892967030165847,-0.17204291943275932,0.2748847894136974,-0.7505812424982387,-0.6479838607980779,1.6672864040606898,1.2378083818978425,-0.27781760634175695],\"xaxis\":\"x8\",\"y\":[-0.8940538161456291,1.7587400520446705,0.14430342474400454,-0.34549370551569325,-0.5257140537089149,-0.15452279911902936,-1.0700089891485318,-1.2765518475470334,-1.1018276817658246,0.43378474413794765,0.8461336916637264,-0.24624295303470572,1.3982100658424075,0.9997234408622141,-0.2719079134797146,0.7001985695260833,0.37644992918744924,0.6256292283079395,0.14171050635516258,0.4083837344888657,0.35919115418712133,0.2885316619016053,-0.2795716879495062,1.4967109264618719,-0.5034276127281153,-0.9195848263522127,0.0036980691622682717,-1.1561975511553555,-0.0674931632448224,1.2205170295980456,-1.7173270994239003,-0.8457801385986659,0.1725586858008727,0.4241941216487407,-0.640527068079842,0.9162412399630095,-0.7126212550692267,1.1760786429305836,-0.3663287237478555,-0.9601992815532329,-0.5934668853017779,2.138687640168241,1.1271439949934412,0.4228887134119707,0.9641575600348385,-0.4732958531413693,0.3691867824050043,1.0438568219805757,-0.6851461607108044,1.9604889962473953,-0.7121316185807449,-0.860258552005439,-0.7756424767215246,1.1188986390232671,-0.029992580637274155,1.2566812154182598,-0.08965639196959063,0.9993501250314029,1.0581915489108098,0.018648395808328312,-0.16515690335859862,1.1048916736355985,-0.2940482353646764,0.7858209812076586,0.6962374498622259,0.6824777105549716,0.6502383370441862,-0.6503294575233609,-2.419037357005872,0.5386046383338288,0.13396494940463755,0.8338031503515533,0.20428275558354891,0.7963950437666771,-0.5168135777070428,0.7337029151449452,-0.17652524673493883,-1.8741632511307245,-0.541972300082036,-0.3447729493621954,-0.6321114042540144,0.15149425011822618,-0.168313064233042,-0.2248723299164277,1.0986104344094423,0.5057236081827604,-0.31038782932230446,1.9497709425607428,1.3184687249490608,-1.0867694948850026,0.861439797367633,0.3582260691853846,0.22568575670948762,0.40989940999869257,0.0073837110282809456,1.3613943157445625,-0.28844704644859565,0.2291403758894681,-0.4472241971177087,-0.19181766055293706],\"yaxis\":\"y8\",\"type\":\"scatter\"},{\"line\":{\"color\":\"rgba(128, 128, 128, 1.0)\",\"dash\":\"solid\",\"shape\":\"linear\",\"width\":1.3},\"marker\":{\"size\":2,\"symbol\":\"circle\"},\"mode\":\"markers\",\"name\":\"C\",\"text\":\"\",\"x\":[-0.5882201862615739,-0.1444088146832521,-0.7206830682849644,1.3936579949157097,-0.19862000637931865,-0.27593821881612995,0.10946967362279274,-0.7994858635802414,0.1678150311420152,-0.03259329436621168,-0.38777224262700793,-0.9754539192544475,0.31246023384261074,-0.16315024393863606,0.1433325386094532,0.33921612803869455,0.1687111089431125,-1.0293821555773768,0.9359095977765699,-0.851942028353327,0.27136104667763106,2.0938787705300403,-1.6874972996029145,-0.4906760954841787,1.014382803145646,-0.6868968224829972,-0.7713142158581506,-1.0629976127507368,-0.3911478166219877,-1.6997231884085433,0.4760470417318967,1.368331511888546,-0.9584745559245262,-1.183217404290445,-0.575483118709692,1.3026615111527207,0.1441487490352291,-1.0594506247977764,-1.5380315053002944,2.4091356980594285,1.0046246460929371,0.16397580097306277,-0.27806055403543156,1.1825457833448632,0.9927116557574145,0.6401164337634135,-0.17126633776369268,-0.09314210703339369,-1.2500682591239412,1.5249423799561066,0.7261411639316259,1.590022568827245,-0.04437577138374293,-0.19365124054278118,-1.537393958681574,1.5201990369248464,1.677601948736433,-0.17840117181941412,-0.260180030841215,-0.2744427137172959,-0.05364077060641442,-1.388808568459774,-0.2976181577756708,-0.05489380423532537,0.24230246636410666,0.05706581952694559,-0.5203533785804892,-0.4759391251040668,1.9466209582861882,0.8574801728519554,-0.42732486530133573,1.2327550002736216,1.5230759358429147,0.9259071632069753,1.4978812400979802,-0.5868307177392983,-0.21430818657024733,0.4275909334188216,-0.7517631229589176,0.40933185053435545,1.0494839530728004,1.009305230913276,-0.24943062954401313,-0.4313553585139899,-0.17170921243621456,1.6841789479225455,-0.9526310880361992,0.12458637521250845,0.5687516401383191,0.8383341998997003,0.9996013164266332,-1.2654481776987168,0.06368071956753159,-0.5823383450272381,0.8242370577808078,0.04917197237671641,-1.0627241384534636,-0.8690415122855502,0.413248602855076,1.4561243863993238],\"xaxis\":\"x9\",\"y\":[1.876901332764013,-0.10349125707717265,1.2579282301675274,-0.32879018856124387,1.2893453409422433,-0.6978506990899702,-0.5690885249863702,-3.212348160167795,0.35198033315027016,1.6280859607352034,1.4169911089200316,-0.006244506076509348,0.6063776210857147,1.3590502993947755,-0.08753558435804658,-1.271038925037562,-1.876369588842253,-0.14833303694173458,-0.6885285591325655,0.40005150515600774,-1.2397561550563225,-0.8858069024894748,-0.798914170622721,-0.6451125590130682,-1.337201271014988,-0.5434072525765655,0.24923426476470928,1.02995155945738,-0.38069426208706303,0.550732455528556,-0.06622388157713835,0.28227085401028323,-1.6993807018906721,-1.017000383808957,1.4502622013064184,-0.37748754175054144,0.11182643086431572,0.3190458805727826,0.6310714228107397,0.9287773600999025,-0.5958332182194019,0.8368468693621849,1.615333454176221,-1.0595142331219507,0.059263138514671826,0.3781385876987572,1.205778828363705,0.5103676221222979,-0.4181890681484547,-1.1749615894305674,-0.8146477375634813,0.703332618935335,1.1159942380155168,-1.405272482685175,-0.4035490110227859,-1.214451078534114,0.034836276212230365,0.994470253635251,-1.2974851873956041,1.5571794559110022,-0.36177309144129505,-2.0265767761700726,0.537946286420841,-1.3207974386903243,0.5178046251976135,0.22227262982002907,0.35709449641554913,-0.8452066203825547,-0.35073473770144153,0.03423386191778584,-0.11174022398461535,0.6247860999321203,-0.8593150572868524,-0.2681198583175821,-0.5709092452257304,0.09516218009043352,0.6924016128879481,-0.8538907509043898,0.06401430782372304,1.9161700217558955,-1.1306376711175334,-0.20896335733373597,1.0478962843173312,0.7386032627103952,-0.14958601699834462,-1.3679987897784471,-0.30951165695956173,-0.430522024100932,-0.45632750502507113,-0.7971261605970754,1.7768435698921234,-0.700539057905725,-0.23319658471835003,-0.10861742663622247,-0.3123966686400977,-0.1501601691032951,-1.1884097302299348,1.3946847680567762,1.648671061047971,0.6330557050537858],\"yaxis\":\"y9\",\"type\":\"scatter\"},{\"line\":{\"color\":\"rgba(128, 128, 128, 1.0)\",\"dash\":\"solid\",\"shape\":\"linear\",\"width\":1.3},\"marker\":{\"size\":2,\"symbol\":\"circle\"},\"mode\":\"markers\",\"name\":\"C\",\"text\":\"\",\"x\":[-0.8940538161456291,1.7587400520446705,0.14430342474400454,-0.34549370551569325,-0.5257140537089149,-0.15452279911902936,-1.0700089891485318,-1.2765518475470334,-1.1018276817658246,0.43378474413794765,0.8461336916637264,-0.24624295303470572,1.3982100658424075,0.9997234408622141,-0.2719079134797146,0.7001985695260833,0.37644992918744924,0.6256292283079395,0.14171050635516258,0.4083837344888657,0.35919115418712133,0.2885316619016053,-0.2795716879495062,1.4967109264618719,-0.5034276127281153,-0.9195848263522127,0.0036980691622682717,-1.1561975511553555,-0.0674931632448224,1.2205170295980456,-1.7173270994239003,-0.8457801385986659,0.1725586858008727,0.4241941216487407,-0.640527068079842,0.9162412399630095,-0.7126212550692267,1.1760786429305836,-0.3663287237478555,-0.9601992815532329,-0.5934668853017779,2.138687640168241,1.1271439949934412,0.4228887134119707,0.9641575600348385,-0.4732958531413693,0.3691867824050043,1.0438568219805757,-0.6851461607108044,1.9604889962473953,-0.7121316185807449,-0.860258552005439,-0.7756424767215246,1.1188986390232671,-0.029992580637274155,1.2566812154182598,-0.08965639196959063,0.9993501250314029,1.0581915489108098,0.018648395808328312,-0.16515690335859862,1.1048916736355985,-0.2940482353646764,0.7858209812076586,0.6962374498622259,0.6824777105549716,0.6502383370441862,-0.6503294575233609,-2.419037357005872,0.5386046383338288,0.13396494940463755,0.8338031503515533,0.20428275558354891,0.7963950437666771,-0.5168135777070428,0.7337029151449452,-0.17652524673493883,-1.8741632511307245,-0.541972300082036,-0.3447729493621954,-0.6321114042540144,0.15149425011822618,-0.168313064233042,-0.2248723299164277,1.0986104344094423,0.5057236081827604,-0.31038782932230446,1.9497709425607428,1.3184687249490608,-1.0867694948850026,0.861439797367633,0.3582260691853846,0.22568575670948762,0.40989940999869257,0.0073837110282809456,1.3613943157445625,-0.28844704644859565,0.2291403758894681,-0.4472241971177087,-0.19181766055293706],\"xaxis\":\"x10\",\"y\":[1.876901332764013,-0.10349125707717265,1.2579282301675274,-0.32879018856124387,1.2893453409422433,-0.6978506990899702,-0.5690885249863702,-3.212348160167795,0.35198033315027016,1.6280859607352034,1.4169911089200316,-0.006244506076509348,0.6063776210857147,1.3590502993947755,-0.08753558435804658,-1.271038925037562,-1.876369588842253,-0.14833303694173458,-0.6885285591325655,0.40005150515600774,-1.2397561550563225,-0.8858069024894748,-0.798914170622721,-0.6451125590130682,-1.337201271014988,-0.5434072525765655,0.24923426476470928,1.02995155945738,-0.38069426208706303,0.550732455528556,-0.06622388157713835,0.28227085401028323,-1.6993807018906721,-1.017000383808957,1.4502622013064184,-0.37748754175054144,0.11182643086431572,0.3190458805727826,0.6310714228107397,0.9287773600999025,-0.5958332182194019,0.8368468693621849,1.615333454176221,-1.0595142331219507,0.059263138514671826,0.3781385876987572,1.205778828363705,0.5103676221222979,-0.4181890681484547,-1.1749615894305674,-0.8146477375634813,0.703332618935335,1.1159942380155168,-1.405272482685175,-0.4035490110227859,-1.214451078534114,0.034836276212230365,0.994470253635251,-1.2974851873956041,1.5571794559110022,-0.36177309144129505,-2.0265767761700726,0.537946286420841,-1.3207974386903243,0.5178046251976135,0.22227262982002907,0.35709449641554913,-0.8452066203825547,-0.35073473770144153,0.03423386191778584,-0.11174022398461535,0.6247860999321203,-0.8593150572868524,-0.2681198583175821,-0.5709092452257304,0.09516218009043352,0.6924016128879481,-0.8538907509043898,0.06401430782372304,1.9161700217558955,-1.1306376711175334,-0.20896335733373597,1.0478962843173312,0.7386032627103952,-0.14958601699834462,-1.3679987897784471,-0.30951165695956173,-0.430522024100932,-0.45632750502507113,-0.7971261605970754,1.7768435698921234,-0.700539057905725,-0.23319658471835003,-0.10861742663622247,-0.3123966686400977,-0.1501601691032951,-1.1884097302299348,1.3946847680567762,1.648671061047971,0.6330557050537858],\"yaxis\":\"y10\",\"type\":\"scatter\"},{\"histfunc\":\"count\",\"histnorm\":\"\",\"marker\":{\"color\":\"rgba(50, 171, 96, 1.0)\",\"line\":{\"color\":\"#4D5663\",\"width\":1.3}},\"name\":\"C\",\"nbinsx\":10,\"opacity\":0.8,\"orientation\":\"v\",\"x\":[1.876901332764013,-0.10349125707717265,1.2579282301675274,-0.32879018856124387,1.2893453409422433,-0.6978506990899702,-0.5690885249863702,-3.212348160167795,0.35198033315027016,1.6280859607352034,1.4169911089200316,-0.006244506076509348,0.6063776210857147,1.3590502993947755,-0.08753558435804658,-1.271038925037562,-1.876369588842253,-0.14833303694173458,-0.6885285591325655,0.40005150515600774,-1.2397561550563225,-0.8858069024894748,-0.798914170622721,-0.6451125590130682,-1.337201271014988,-0.5434072525765655,0.24923426476470928,1.02995155945738,-0.38069426208706303,0.550732455528556,-0.06622388157713835,0.28227085401028323,-1.6993807018906721,-1.017000383808957,1.4502622013064184,-0.37748754175054144,0.11182643086431572,0.3190458805727826,0.6310714228107397,0.9287773600999025,-0.5958332182194019,0.8368468693621849,1.615333454176221,-1.0595142331219507,0.059263138514671826,0.3781385876987572,1.205778828363705,0.5103676221222979,-0.4181890681484547,-1.1749615894305674,-0.8146477375634813,0.703332618935335,1.1159942380155168,-1.405272482685175,-0.4035490110227859,-1.214451078534114,0.034836276212230365,0.994470253635251,-1.2974851873956041,1.5571794559110022,-0.36177309144129505,-2.0265767761700726,0.537946286420841,-1.3207974386903243,0.5178046251976135,0.22227262982002907,0.35709449641554913,-0.8452066203825547,-0.35073473770144153,0.03423386191778584,-0.11174022398461535,0.6247860999321203,-0.8593150572868524,-0.2681198583175821,-0.5709092452257304,0.09516218009043352,0.6924016128879481,-0.8538907509043898,0.06401430782372304,1.9161700217558955,-1.1306376711175334,-0.20896335733373597,1.0478962843173312,0.7386032627103952,-0.14958601699834462,-1.3679987897784471,-0.30951165695956173,-0.430522024100932,-0.45632750502507113,-0.7971261605970754,1.7768435698921234,-0.700539057905725,-0.23319658471835003,-0.10861742663622247,-0.3123966686400977,-0.1501601691032951,-1.1884097302299348,1.3946847680567762,1.648671061047971,0.6330557050537858],\"xaxis\":\"x11\",\"yaxis\":\"y11\",\"type\":\"histogram\"},{\"line\":{\"color\":\"rgba(128, 128, 128, 1.0)\",\"dash\":\"solid\",\"shape\":\"linear\",\"width\":1.3},\"marker\":{\"size\":2,\"symbol\":\"circle\"},\"mode\":\"markers\",\"name\":\"C\",\"text\":\"\",\"x\":[0.9547741388797715,1.12691998723733,-0.17588602744932133,-0.08360142003301853,-0.49442222869638813,0.6934794557585935,1.0110147561447163,0.25346707455515455,-0.4787144143926514,0.4928484667310422,-1.7428489886218677,-0.2570764597121221,0.09881584393573929,0.7628155428096923,2.5806600650612266,-0.4478061182670122,0.0002874671823678858,-1.0942176091789775,-0.4873762942535746,1.976816251298637,0.3339524849949742,0.16802667442509775,0.8626302484321515,-0.09111335353527333,-0.2657862205013541,0.35010589487032506,-0.23440411955846505,0.7751695854844219,1.5163820694528165,1.6029417948586178,0.9215993651005554,-0.7969441897514339,-1.4376888652194055,0.8400305940687466,-0.5152454583569321,-0.09930174693615994,1.7179749043312862,1.4960946221949785,0.08921104108617861,0.8339661715179915,-0.11693960397103106,-0.7394381968022411,-1.1154249192760168,0.6147476397892389,0.07274961574508616,0.4661061113921465,-0.16726709401784562,-0.8361209180729203,-1.7155700620004344,1.8348719406873164,-2.126207789865309,1.2707033611415526,1.7622382167731088,0.39343116681641893,0.03190704932137889,-1.1559108977410961,-0.04622596241052501,0.489106935341587,0.13740546329596523,-0.7311652356616144,1.7738156693021163,-0.04704643840360029,-0.7881192887413037,1.795952192538169,0.5314335733134796,-0.8214714973020584,-0.7298186525328831,-0.6729925403866435,-0.6936148756614567,-0.31688486734133753,-0.388229614712312,0.6014550940553034,-2.4080510527023966,0.36016133963583563,-1.2940303292896087,-1.3378643325876045,0.030515645046154144,0.7901639242719248,0.8815513061717907,-1.4261174808782329,-0.10338583796462682,0.0490718773572223,0.34118388492613627,-0.13743183574732518,-0.3350574411815445,0.0041823789357666105,0.5142482477379821,-1.7215903957099068,2.2682909150529422,-1.4792240642798469,0.02645063027757254,0.5956660038038963,-0.3892967030165847,-0.17204291943275932,0.2748847894136974,-0.7505812424982387,-0.6479838607980779,1.6672864040606898,1.2378083818978425,-0.27781760634175695],\"xaxis\":\"x12\",\"y\":[1.876901332764013,-0.10349125707717265,1.2579282301675274,-0.32879018856124387,1.2893453409422433,-0.6978506990899702,-0.5690885249863702,-3.212348160167795,0.35198033315027016,1.6280859607352034,1.4169911089200316,-0.006244506076509348,0.6063776210857147,1.3590502993947755,-0.08753558435804658,-1.271038925037562,-1.876369588842253,-0.14833303694173458,-0.6885285591325655,0.40005150515600774,-1.2397561550563225,-0.8858069024894748,-0.798914170622721,-0.6451125590130682,-1.337201271014988,-0.5434072525765655,0.24923426476470928,1.02995155945738,-0.38069426208706303,0.550732455528556,-0.06622388157713835,0.28227085401028323,-1.6993807018906721,-1.017000383808957,1.4502622013064184,-0.37748754175054144,0.11182643086431572,0.3190458805727826,0.6310714228107397,0.9287773600999025,-0.5958332182194019,0.8368468693621849,1.615333454176221,-1.0595142331219507,0.059263138514671826,0.3781385876987572,1.205778828363705,0.5103676221222979,-0.4181890681484547,-1.1749615894305674,-0.8146477375634813,0.703332618935335,1.1159942380155168,-1.405272482685175,-0.4035490110227859,-1.214451078534114,0.034836276212230365,0.994470253635251,-1.2974851873956041,1.5571794559110022,-0.36177309144129505,-2.0265767761700726,0.537946286420841,-1.3207974386903243,0.5178046251976135,0.22227262982002907,0.35709449641554913,-0.8452066203825547,-0.35073473770144153,0.03423386191778584,-0.11174022398461535,0.6247860999321203,-0.8593150572868524,-0.2681198583175821,-0.5709092452257304,0.09516218009043352,0.6924016128879481,-0.8538907509043898,0.06401430782372304,1.9161700217558955,-1.1306376711175334,-0.20896335733373597,1.0478962843173312,0.7386032627103952,-0.14958601699834462,-1.3679987897784471,-0.30951165695956173,-0.430522024100932,-0.45632750502507113,-0.7971261605970754,1.7768435698921234,-0.700539057905725,-0.23319658471835003,-0.10861742663622247,-0.3123966686400977,-0.1501601691032951,-1.1884097302299348,1.3946847680567762,1.648671061047971,0.6330557050537858],\"yaxis\":\"y12\",\"type\":\"scatter\"},{\"line\":{\"color\":\"rgba(128, 128, 128, 1.0)\",\"dash\":\"solid\",\"shape\":\"linear\",\"width\":1.3},\"marker\":{\"size\":2,\"symbol\":\"circle\"},\"mode\":\"markers\",\"name\":\"D\",\"text\":\"\",\"x\":[-0.5882201862615739,-0.1444088146832521,-0.7206830682849644,1.3936579949157097,-0.19862000637931865,-0.27593821881612995,0.10946967362279274,-0.7994858635802414,0.1678150311420152,-0.03259329436621168,-0.38777224262700793,-0.9754539192544475,0.31246023384261074,-0.16315024393863606,0.1433325386094532,0.33921612803869455,0.1687111089431125,-1.0293821555773768,0.9359095977765699,-0.851942028353327,0.27136104667763106,2.0938787705300403,-1.6874972996029145,-0.4906760954841787,1.014382803145646,-0.6868968224829972,-0.7713142158581506,-1.0629976127507368,-0.3911478166219877,-1.6997231884085433,0.4760470417318967,1.368331511888546,-0.9584745559245262,-1.183217404290445,-0.575483118709692,1.3026615111527207,0.1441487490352291,-1.0594506247977764,-1.5380315053002944,2.4091356980594285,1.0046246460929371,0.16397580097306277,-0.27806055403543156,1.1825457833448632,0.9927116557574145,0.6401164337634135,-0.17126633776369268,-0.09314210703339369,-1.2500682591239412,1.5249423799561066,0.7261411639316259,1.590022568827245,-0.04437577138374293,-0.19365124054278118,-1.537393958681574,1.5201990369248464,1.677601948736433,-0.17840117181941412,-0.260180030841215,-0.2744427137172959,-0.05364077060641442,-1.388808568459774,-0.2976181577756708,-0.05489380423532537,0.24230246636410666,0.05706581952694559,-0.5203533785804892,-0.4759391251040668,1.9466209582861882,0.8574801728519554,-0.42732486530133573,1.2327550002736216,1.5230759358429147,0.9259071632069753,1.4978812400979802,-0.5868307177392983,-0.21430818657024733,0.4275909334188216,-0.7517631229589176,0.40933185053435545,1.0494839530728004,1.009305230913276,-0.24943062954401313,-0.4313553585139899,-0.17170921243621456,1.6841789479225455,-0.9526310880361992,0.12458637521250845,0.5687516401383191,0.8383341998997003,0.9996013164266332,-1.2654481776987168,0.06368071956753159,-0.5823383450272381,0.8242370577808078,0.04917197237671641,-1.0627241384534636,-0.8690415122855502,0.413248602855076,1.4561243863993238],\"xaxis\":\"x13\",\"y\":[0.9547741388797715,1.12691998723733,-0.17588602744932133,-0.08360142003301853,-0.49442222869638813,0.6934794557585935,1.0110147561447163,0.25346707455515455,-0.4787144143926514,0.4928484667310422,-1.7428489886218677,-0.2570764597121221,0.09881584393573929,0.7628155428096923,2.5806600650612266,-0.4478061182670122,0.0002874671823678858,-1.0942176091789775,-0.4873762942535746,1.976816251298637,0.3339524849949742,0.16802667442509775,0.8626302484321515,-0.09111335353527333,-0.2657862205013541,0.35010589487032506,-0.23440411955846505,0.7751695854844219,1.5163820694528165,1.6029417948586178,0.9215993651005554,-0.7969441897514339,-1.4376888652194055,0.8400305940687466,-0.5152454583569321,-0.09930174693615994,1.7179749043312862,1.4960946221949785,0.08921104108617861,0.8339661715179915,-0.11693960397103106,-0.7394381968022411,-1.1154249192760168,0.6147476397892389,0.07274961574508616,0.4661061113921465,-0.16726709401784562,-0.8361209180729203,-1.7155700620004344,1.8348719406873164,-2.126207789865309,1.2707033611415526,1.7622382167731088,0.39343116681641893,0.03190704932137889,-1.1559108977410961,-0.04622596241052501,0.489106935341587,0.13740546329596523,-0.7311652356616144,1.7738156693021163,-0.04704643840360029,-0.7881192887413037,1.795952192538169,0.5314335733134796,-0.8214714973020584,-0.7298186525328831,-0.6729925403866435,-0.6936148756614567,-0.31688486734133753,-0.388229614712312,0.6014550940553034,-2.4080510527023966,0.36016133963583563,-1.2940303292896087,-1.3378643325876045,0.030515645046154144,0.7901639242719248,0.8815513061717907,-1.4261174808782329,-0.10338583796462682,0.0490718773572223,0.34118388492613627,-0.13743183574732518,-0.3350574411815445,0.0041823789357666105,0.5142482477379821,-1.7215903957099068,2.2682909150529422,-1.4792240642798469,0.02645063027757254,0.5956660038038963,-0.3892967030165847,-0.17204291943275932,0.2748847894136974,-0.7505812424982387,-0.6479838607980779,1.6672864040606898,1.2378083818978425,-0.27781760634175695],\"yaxis\":\"y13\",\"type\":\"scatter\"},{\"line\":{\"color\":\"rgba(128, 128, 128, 1.0)\",\"dash\":\"solid\",\"shape\":\"linear\",\"width\":1.3},\"marker\":{\"size\":2,\"symbol\":\"circle\"},\"mode\":\"markers\",\"name\":\"D\",\"text\":\"\",\"x\":[-0.8940538161456291,1.7587400520446705,0.14430342474400454,-0.34549370551569325,-0.5257140537089149,-0.15452279911902936,-1.0700089891485318,-1.2765518475470334,-1.1018276817658246,0.43378474413794765,0.8461336916637264,-0.24624295303470572,1.3982100658424075,0.9997234408622141,-0.2719079134797146,0.7001985695260833,0.37644992918744924,0.6256292283079395,0.14171050635516258,0.4083837344888657,0.35919115418712133,0.2885316619016053,-0.2795716879495062,1.4967109264618719,-0.5034276127281153,-0.9195848263522127,0.0036980691622682717,-1.1561975511553555,-0.0674931632448224,1.2205170295980456,-1.7173270994239003,-0.8457801385986659,0.1725586858008727,0.4241941216487407,-0.640527068079842,0.9162412399630095,-0.7126212550692267,1.1760786429305836,-0.3663287237478555,-0.9601992815532329,-0.5934668853017779,2.138687640168241,1.1271439949934412,0.4228887134119707,0.9641575600348385,-0.4732958531413693,0.3691867824050043,1.0438568219805757,-0.6851461607108044,1.9604889962473953,-0.7121316185807449,-0.860258552005439,-0.7756424767215246,1.1188986390232671,-0.029992580637274155,1.2566812154182598,-0.08965639196959063,0.9993501250314029,1.0581915489108098,0.018648395808328312,-0.16515690335859862,1.1048916736355985,-0.2940482353646764,0.7858209812076586,0.6962374498622259,0.6824777105549716,0.6502383370441862,-0.6503294575233609,-2.419037357005872,0.5386046383338288,0.13396494940463755,0.8338031503515533,0.20428275558354891,0.7963950437666771,-0.5168135777070428,0.7337029151449452,-0.17652524673493883,-1.8741632511307245,-0.541972300082036,-0.3447729493621954,-0.6321114042540144,0.15149425011822618,-0.168313064233042,-0.2248723299164277,1.0986104344094423,0.5057236081827604,-0.31038782932230446,1.9497709425607428,1.3184687249490608,-1.0867694948850026,0.861439797367633,0.3582260691853846,0.22568575670948762,0.40989940999869257,0.0073837110282809456,1.3613943157445625,-0.28844704644859565,0.2291403758894681,-0.4472241971177087,-0.19181766055293706],\"xaxis\":\"x14\",\"y\":[0.9547741388797715,1.12691998723733,-0.17588602744932133,-0.08360142003301853,-0.49442222869638813,0.6934794557585935,1.0110147561447163,0.25346707455515455,-0.4787144143926514,0.4928484667310422,-1.7428489886218677,-0.2570764597121221,0.09881584393573929,0.7628155428096923,2.5806600650612266,-0.4478061182670122,0.0002874671823678858,-1.0942176091789775,-0.4873762942535746,1.976816251298637,0.3339524849949742,0.16802667442509775,0.8626302484321515,-0.09111335353527333,-0.2657862205013541,0.35010589487032506,-0.23440411955846505,0.7751695854844219,1.5163820694528165,1.6029417948586178,0.9215993651005554,-0.7969441897514339,-1.4376888652194055,0.8400305940687466,-0.5152454583569321,-0.09930174693615994,1.7179749043312862,1.4960946221949785,0.08921104108617861,0.8339661715179915,-0.11693960397103106,-0.7394381968022411,-1.1154249192760168,0.6147476397892389,0.07274961574508616,0.4661061113921465,-0.16726709401784562,-0.8361209180729203,-1.7155700620004344,1.8348719406873164,-2.126207789865309,1.2707033611415526,1.7622382167731088,0.39343116681641893,0.03190704932137889,-1.1559108977410961,-0.04622596241052501,0.489106935341587,0.13740546329596523,-0.7311652356616144,1.7738156693021163,-0.04704643840360029,-0.7881192887413037,1.795952192538169,0.5314335733134796,-0.8214714973020584,-0.7298186525328831,-0.6729925403866435,-0.6936148756614567,-0.31688486734133753,-0.388229614712312,0.6014550940553034,-2.4080510527023966,0.36016133963583563,-1.2940303292896087,-1.3378643325876045,0.030515645046154144,0.7901639242719248,0.8815513061717907,-1.4261174808782329,-0.10338583796462682,0.0490718773572223,0.34118388492613627,-0.13743183574732518,-0.3350574411815445,0.0041823789357666105,0.5142482477379821,-1.7215903957099068,2.2682909150529422,-1.4792240642798469,0.02645063027757254,0.5956660038038963,-0.3892967030165847,-0.17204291943275932,0.2748847894136974,-0.7505812424982387,-0.6479838607980779,1.6672864040606898,1.2378083818978425,-0.27781760634175695],\"yaxis\":\"y14\",\"type\":\"scatter\"},{\"line\":{\"color\":\"rgba(128, 128, 128, 1.0)\",\"dash\":\"solid\",\"shape\":\"linear\",\"width\":1.3},\"marker\":{\"size\":2,\"symbol\":\"circle\"},\"mode\":\"markers\",\"name\":\"D\",\"text\":\"\",\"x\":[1.876901332764013,-0.10349125707717265,1.2579282301675274,-0.32879018856124387,1.2893453409422433,-0.6978506990899702,-0.5690885249863702,-3.212348160167795,0.35198033315027016,1.6280859607352034,1.4169911089200316,-0.006244506076509348,0.6063776210857147,1.3590502993947755,-0.08753558435804658,-1.271038925037562,-1.876369588842253,-0.14833303694173458,-0.6885285591325655,0.40005150515600774,-1.2397561550563225,-0.8858069024894748,-0.798914170622721,-0.6451125590130682,-1.337201271014988,-0.5434072525765655,0.24923426476470928,1.02995155945738,-0.38069426208706303,0.550732455528556,-0.06622388157713835,0.28227085401028323,-1.6993807018906721,-1.017000383808957,1.4502622013064184,-0.37748754175054144,0.11182643086431572,0.3190458805727826,0.6310714228107397,0.9287773600999025,-0.5958332182194019,0.8368468693621849,1.615333454176221,-1.0595142331219507,0.059263138514671826,0.3781385876987572,1.205778828363705,0.5103676221222979,-0.4181890681484547,-1.1749615894305674,-0.8146477375634813,0.703332618935335,1.1159942380155168,-1.405272482685175,-0.4035490110227859,-1.214451078534114,0.034836276212230365,0.994470253635251,-1.2974851873956041,1.5571794559110022,-0.36177309144129505,-2.0265767761700726,0.537946286420841,-1.3207974386903243,0.5178046251976135,0.22227262982002907,0.35709449641554913,-0.8452066203825547,-0.35073473770144153,0.03423386191778584,-0.11174022398461535,0.6247860999321203,-0.8593150572868524,-0.2681198583175821,-0.5709092452257304,0.09516218009043352,0.6924016128879481,-0.8538907509043898,0.06401430782372304,1.9161700217558955,-1.1306376711175334,-0.20896335733373597,1.0478962843173312,0.7386032627103952,-0.14958601699834462,-1.3679987897784471,-0.30951165695956173,-0.430522024100932,-0.45632750502507113,-0.7971261605970754,1.7768435698921234,-0.700539057905725,-0.23319658471835003,-0.10861742663622247,-0.3123966686400977,-0.1501601691032951,-1.1884097302299348,1.3946847680567762,1.648671061047971,0.6330557050537858],\"xaxis\":\"x15\",\"y\":[0.9547741388797715,1.12691998723733,-0.17588602744932133,-0.08360142003301853,-0.49442222869638813,0.6934794557585935,1.0110147561447163,0.25346707455515455,-0.4787144143926514,0.4928484667310422,-1.7428489886218677,-0.2570764597121221,0.09881584393573929,0.7628155428096923,2.5806600650612266,-0.4478061182670122,0.0002874671823678858,-1.0942176091789775,-0.4873762942535746,1.976816251298637,0.3339524849949742,0.16802667442509775,0.8626302484321515,-0.09111335353527333,-0.2657862205013541,0.35010589487032506,-0.23440411955846505,0.7751695854844219,1.5163820694528165,1.6029417948586178,0.9215993651005554,-0.7969441897514339,-1.4376888652194055,0.8400305940687466,-0.5152454583569321,-0.09930174693615994,1.7179749043312862,1.4960946221949785,0.08921104108617861,0.8339661715179915,-0.11693960397103106,-0.7394381968022411,-1.1154249192760168,0.6147476397892389,0.07274961574508616,0.4661061113921465,-0.16726709401784562,-0.8361209180729203,-1.7155700620004344,1.8348719406873164,-2.126207789865309,1.2707033611415526,1.7622382167731088,0.39343116681641893,0.03190704932137889,-1.1559108977410961,-0.04622596241052501,0.489106935341587,0.13740546329596523,-0.7311652356616144,1.7738156693021163,-0.04704643840360029,-0.7881192887413037,1.795952192538169,0.5314335733134796,-0.8214714973020584,-0.7298186525328831,-0.6729925403866435,-0.6936148756614567,-0.31688486734133753,-0.388229614712312,0.6014550940553034,-2.4080510527023966,0.36016133963583563,-1.2940303292896087,-1.3378643325876045,0.030515645046154144,0.7901639242719248,0.8815513061717907,-1.4261174808782329,-0.10338583796462682,0.0490718773572223,0.34118388492613627,-0.13743183574732518,-0.3350574411815445,0.0041823789357666105,0.5142482477379821,-1.7215903957099068,2.2682909150529422,-1.4792240642798469,0.02645063027757254,0.5956660038038963,-0.3892967030165847,-0.17204291943275932,0.2748847894136974,-0.7505812424982387,-0.6479838607980779,1.6672864040606898,1.2378083818978425,-0.27781760634175695],\"yaxis\":\"y15\",\"type\":\"scatter\"},{\"histfunc\":\"count\",\"histnorm\":\"\",\"marker\":{\"color\":\"rgba(128, 0, 128, 1.0)\",\"line\":{\"color\":\"#4D5663\",\"width\":1.3}},\"name\":\"D\",\"nbinsx\":10,\"opacity\":0.8,\"orientation\":\"v\",\"x\":[0.9547741388797715,1.12691998723733,-0.17588602744932133,-0.08360142003301853,-0.49442222869638813,0.6934794557585935,1.0110147561447163,0.25346707455515455,-0.4787144143926514,0.4928484667310422,-1.7428489886218677,-0.2570764597121221,0.09881584393573929,0.7628155428096923,2.5806600650612266,-0.4478061182670122,0.0002874671823678858,-1.0942176091789775,-0.4873762942535746,1.976816251298637,0.3339524849949742,0.16802667442509775,0.8626302484321515,-0.09111335353527333,-0.2657862205013541,0.35010589487032506,-0.23440411955846505,0.7751695854844219,1.5163820694528165,1.6029417948586178,0.9215993651005554,-0.7969441897514339,-1.4376888652194055,0.8400305940687466,-0.5152454583569321,-0.09930174693615994,1.7179749043312862,1.4960946221949785,0.08921104108617861,0.8339661715179915,-0.11693960397103106,-0.7394381968022411,-1.1154249192760168,0.6147476397892389,0.07274961574508616,0.4661061113921465,-0.16726709401784562,-0.8361209180729203,-1.7155700620004344,1.8348719406873164,-2.126207789865309,1.2707033611415526,1.7622382167731088,0.39343116681641893,0.03190704932137889,-1.1559108977410961,-0.04622596241052501,0.489106935341587,0.13740546329596523,-0.7311652356616144,1.7738156693021163,-0.04704643840360029,-0.7881192887413037,1.795952192538169,0.5314335733134796,-0.8214714973020584,-0.7298186525328831,-0.6729925403866435,-0.6936148756614567,-0.31688486734133753,-0.388229614712312,0.6014550940553034,-2.4080510527023966,0.36016133963583563,-1.2940303292896087,-1.3378643325876045,0.030515645046154144,0.7901639242719248,0.8815513061717907,-1.4261174808782329,-0.10338583796462682,0.0490718773572223,0.34118388492613627,-0.13743183574732518,-0.3350574411815445,0.0041823789357666105,0.5142482477379821,-1.7215903957099068,2.2682909150529422,-1.4792240642798469,0.02645063027757254,0.5956660038038963,-0.3892967030165847,-0.17204291943275932,0.2748847894136974,-0.7505812424982387,-0.6479838607980779,1.6672864040606898,1.2378083818978425,-0.27781760634175695],\"xaxis\":\"x16\",\"yaxis\":\"y16\",\"type\":\"histogram\"}],                        {\"bargap\":0.02,\"legend\":{\"bgcolor\":\"#F5F6F9\",\"font\":{\"color\":\"#4D5663\"}},\"paper_bgcolor\":\"#F5F6F9\",\"plot_bgcolor\":\"#F5F6F9\",\"showlegend\":false,\"template\":{\"data\":{\"barpolar\":[{\"marker\":{\"line\":{\"color\":\"#E5ECF6\",\"width\":0.5},\"pattern\":{\"fillmode\":\"overlay\",\"size\":10,\"solidity\":0.2}},\"type\":\"barpolar\"}],\"bar\":[{\"error_x\":{\"color\":\"#2a3f5f\"},\"error_y\":{\"color\":\"#2a3f5f\"},\"marker\":{\"line\":{\"color\":\"#E5ECF6\",\"width\":0.5},\"pattern\":{\"fillmode\":\"overlay\",\"size\":10,\"solidity\":0.2}},\"type\":\"bar\"}],\"carpet\":[{\"aaxis\":{\"endlinecolor\":\"#2a3f5f\",\"gridcolor\":\"white\",\"linecolor\":\"white\",\"minorgridcolor\":\"white\",\"startlinecolor\":\"#2a3f5f\"},\"baxis\":{\"endlinecolor\":\"#2a3f5f\",\"gridcolor\":\"white\",\"linecolor\":\"white\",\"minorgridcolor\":\"white\",\"startlinecolor\":\"#2a3f5f\"},\"type\":\"carpet\"}],\"choropleth\":[{\"colorbar\":{\"outlinewidth\":0,\"ticks\":\"\"},\"type\":\"choropleth\"}],\"contourcarpet\":[{\"colorbar\":{\"outlinewidth\":0,\"ticks\":\"\"},\"type\":\"contourcarpet\"}],\"contour\":[{\"colorbar\":{\"outlinewidth\":0,\"ticks\":\"\"},\"colorscale\":[[0.0,\"#0d0887\"],[0.1111111111111111,\"#46039f\"],[0.2222222222222222,\"#7201a8\"],[0.3333333333333333,\"#9c179e\"],[0.4444444444444444,\"#bd3786\"],[0.5555555555555556,\"#d8576b\"],[0.6666666666666666,\"#ed7953\"],[0.7777777777777778,\"#fb9f3a\"],[0.8888888888888888,\"#fdca26\"],[1.0,\"#f0f921\"]],\"type\":\"contour\"}],\"heatmapgl\":[{\"colorbar\":{\"outlinewidth\":0,\"ticks\":\"\"},\"colorscale\":[[0.0,\"#0d0887\"],[0.1111111111111111,\"#46039f\"],[0.2222222222222222,\"#7201a8\"],[0.3333333333333333,\"#9c179e\"],[0.4444444444444444,\"#bd3786\"],[0.5555555555555556,\"#d8576b\"],[0.6666666666666666,\"#ed7953\"],[0.7777777777777778,\"#fb9f3a\"],[0.8888888888888888,\"#fdca26\"],[1.0,\"#f0f921\"]],\"type\":\"heatmapgl\"}],\"heatmap\":[{\"colorbar\":{\"outlinewidth\":0,\"ticks\":\"\"},\"colorscale\":[[0.0,\"#0d0887\"],[0.1111111111111111,\"#46039f\"],[0.2222222222222222,\"#7201a8\"],[0.3333333333333333,\"#9c179e\"],[0.4444444444444444,\"#bd3786\"],[0.5555555555555556,\"#d8576b\"],[0.6666666666666666,\"#ed7953\"],[0.7777777777777778,\"#fb9f3a\"],[0.8888888888888888,\"#fdca26\"],[1.0,\"#f0f921\"]],\"type\":\"heatmap\"}],\"histogram2dcontour\":[{\"colorbar\":{\"outlinewidth\":0,\"ticks\":\"\"},\"colorscale\":[[0.0,\"#0d0887\"],[0.1111111111111111,\"#46039f\"],[0.2222222222222222,\"#7201a8\"],[0.3333333333333333,\"#9c179e\"],[0.4444444444444444,\"#bd3786\"],[0.5555555555555556,\"#d8576b\"],[0.6666666666666666,\"#ed7953\"],[0.7777777777777778,\"#fb9f3a\"],[0.8888888888888888,\"#fdca26\"],[1.0,\"#f0f921\"]],\"type\":\"histogram2dcontour\"}],\"histogram2d\":[{\"colorbar\":{\"outlinewidth\":0,\"ticks\":\"\"},\"colorscale\":[[0.0,\"#0d0887\"],[0.1111111111111111,\"#46039f\"],[0.2222222222222222,\"#7201a8\"],[0.3333333333333333,\"#9c179e\"],[0.4444444444444444,\"#bd3786\"],[0.5555555555555556,\"#d8576b\"],[0.6666666666666666,\"#ed7953\"],[0.7777777777777778,\"#fb9f3a\"],[0.8888888888888888,\"#fdca26\"],[1.0,\"#f0f921\"]],\"type\":\"histogram2d\"}],\"histogram\":[{\"marker\":{\"pattern\":{\"fillmode\":\"overlay\",\"size\":10,\"solidity\":0.2}},\"type\":\"histogram\"}],\"mesh3d\":[{\"colorbar\":{\"outlinewidth\":0,\"ticks\":\"\"},\"type\":\"mesh3d\"}],\"parcoords\":[{\"line\":{\"colorbar\":{\"outlinewidth\":0,\"ticks\":\"\"}},\"type\":\"parcoords\"}],\"pie\":[{\"automargin\":true,\"type\":\"pie\"}],\"scatter3d\":[{\"line\":{\"colorbar\":{\"outlinewidth\":0,\"ticks\":\"\"}},\"marker\":{\"colorbar\":{\"outlinewidth\":0,\"ticks\":\"\"}},\"type\":\"scatter3d\"}],\"scattercarpet\":[{\"marker\":{\"colorbar\":{\"outlinewidth\":0,\"ticks\":\"\"}},\"type\":\"scattercarpet\"}],\"scattergeo\":[{\"marker\":{\"colorbar\":{\"outlinewidth\":0,\"ticks\":\"\"}},\"type\":\"scattergeo\"}],\"scattergl\":[{\"marker\":{\"colorbar\":{\"outlinewidth\":0,\"ticks\":\"\"}},\"type\":\"scattergl\"}],\"scattermapbox\":[{\"marker\":{\"colorbar\":{\"outlinewidth\":0,\"ticks\":\"\"}},\"type\":\"scattermapbox\"}],\"scatterpolargl\":[{\"marker\":{\"colorbar\":{\"outlinewidth\":0,\"ticks\":\"\"}},\"type\":\"scatterpolargl\"}],\"scatterpolar\":[{\"marker\":{\"colorbar\":{\"outlinewidth\":0,\"ticks\":\"\"}},\"type\":\"scatterpolar\"}],\"scatter\":[{\"fillpattern\":{\"fillmode\":\"overlay\",\"size\":10,\"solidity\":0.2},\"type\":\"scatter\"}],\"scatterternary\":[{\"marker\":{\"colorbar\":{\"outlinewidth\":0,\"ticks\":\"\"}},\"type\":\"scatterternary\"}],\"surface\":[{\"colorbar\":{\"outlinewidth\":0,\"ticks\":\"\"},\"colorscale\":[[0.0,\"#0d0887\"],[0.1111111111111111,\"#46039f\"],[0.2222222222222222,\"#7201a8\"],[0.3333333333333333,\"#9c179e\"],[0.4444444444444444,\"#bd3786\"],[0.5555555555555556,\"#d8576b\"],[0.6666666666666666,\"#ed7953\"],[0.7777777777777778,\"#fb9f3a\"],[0.8888888888888888,\"#fdca26\"],[1.0,\"#f0f921\"]],\"type\":\"surface\"}],\"table\":[{\"cells\":{\"fill\":{\"color\":\"#EBF0F8\"},\"line\":{\"color\":\"white\"}},\"header\":{\"fill\":{\"color\":\"#C8D4E3\"},\"line\":{\"color\":\"white\"}},\"type\":\"table\"}]},\"layout\":{\"annotationdefaults\":{\"arrowcolor\":\"#2a3f5f\",\"arrowhead\":0,\"arrowwidth\":1},\"autotypenumbers\":\"strict\",\"coloraxis\":{\"colorbar\":{\"outlinewidth\":0,\"ticks\":\"\"}},\"colorscale\":{\"diverging\":[[0,\"#8e0152\"],[0.1,\"#c51b7d\"],[0.2,\"#de77ae\"],[0.3,\"#f1b6da\"],[0.4,\"#fde0ef\"],[0.5,\"#f7f7f7\"],[0.6,\"#e6f5d0\"],[0.7,\"#b8e186\"],[0.8,\"#7fbc41\"],[0.9,\"#4d9221\"],[1,\"#276419\"]],\"sequential\":[[0.0,\"#0d0887\"],[0.1111111111111111,\"#46039f\"],[0.2222222222222222,\"#7201a8\"],[0.3333333333333333,\"#9c179e\"],[0.4444444444444444,\"#bd3786\"],[0.5555555555555556,\"#d8576b\"],[0.6666666666666666,\"#ed7953\"],[0.7777777777777778,\"#fb9f3a\"],[0.8888888888888888,\"#fdca26\"],[1.0,\"#f0f921\"]],\"sequentialminus\":[[0.0,\"#0d0887\"],[0.1111111111111111,\"#46039f\"],[0.2222222222222222,\"#7201a8\"],[0.3333333333333333,\"#9c179e\"],[0.4444444444444444,\"#bd3786\"],[0.5555555555555556,\"#d8576b\"],[0.6666666666666666,\"#ed7953\"],[0.7777777777777778,\"#fb9f3a\"],[0.8888888888888888,\"#fdca26\"],[1.0,\"#f0f921\"]]},\"colorway\":[\"#636efa\",\"#EF553B\",\"#00cc96\",\"#ab63fa\",\"#FFA15A\",\"#19d3f3\",\"#FF6692\",\"#B6E880\",\"#FF97FF\",\"#FECB52\"],\"font\":{\"color\":\"#2a3f5f\"},\"geo\":{\"bgcolor\":\"white\",\"lakecolor\":\"white\",\"landcolor\":\"#E5ECF6\",\"showlakes\":true,\"showland\":true,\"subunitcolor\":\"white\"},\"hoverlabel\":{\"align\":\"left\"},\"hovermode\":\"closest\",\"mapbox\":{\"style\":\"light\"},\"paper_bgcolor\":\"white\",\"plot_bgcolor\":\"#E5ECF6\",\"polar\":{\"angularaxis\":{\"gridcolor\":\"white\",\"linecolor\":\"white\",\"ticks\":\"\"},\"bgcolor\":\"#E5ECF6\",\"radialaxis\":{\"gridcolor\":\"white\",\"linecolor\":\"white\",\"ticks\":\"\"}},\"scene\":{\"xaxis\":{\"backgroundcolor\":\"#E5ECF6\",\"gridcolor\":\"white\",\"gridwidth\":2,\"linecolor\":\"white\",\"showbackground\":true,\"ticks\":\"\",\"zerolinecolor\":\"white\"},\"yaxis\":{\"backgroundcolor\":\"#E5ECF6\",\"gridcolor\":\"white\",\"gridwidth\":2,\"linecolor\":\"white\",\"showbackground\":true,\"ticks\":\"\",\"zerolinecolor\":\"white\"},\"zaxis\":{\"backgroundcolor\":\"#E5ECF6\",\"gridcolor\":\"white\",\"gridwidth\":2,\"linecolor\":\"white\",\"showbackground\":true,\"ticks\":\"\",\"zerolinecolor\":\"white\"}},\"shapedefaults\":{\"line\":{\"color\":\"#2a3f5f\"}},\"ternary\":{\"aaxis\":{\"gridcolor\":\"white\",\"linecolor\":\"white\",\"ticks\":\"\"},\"baxis\":{\"gridcolor\":\"white\",\"linecolor\":\"white\",\"ticks\":\"\"},\"bgcolor\":\"#E5ECF6\",\"caxis\":{\"gridcolor\":\"white\",\"linecolor\":\"white\",\"ticks\":\"\"}},\"title\":{\"x\":0.05},\"xaxis\":{\"automargin\":true,\"gridcolor\":\"white\",\"linecolor\":\"white\",\"ticks\":\"\",\"title\":{\"standoff\":15},\"zerolinecolor\":\"white\",\"zerolinewidth\":2},\"yaxis\":{\"automargin\":true,\"gridcolor\":\"white\",\"linecolor\":\"white\",\"ticks\":\"\",\"title\":{\"standoff\":15},\"zerolinecolor\":\"white\",\"zerolinewidth\":2}}},\"title\":{\"font\":{\"color\":\"#4D5663\"}},\"xaxis\":{\"anchor\":\"y\",\"domain\":[0.0,0.2125],\"gridcolor\":\"#E1E5ED\",\"showgrid\":false,\"tickfont\":{\"color\":\"#4D5663\"},\"title\":{\"font\":{\"color\":\"#4D5663\"},\"text\":\"\"},\"zerolinecolor\":\"#E1E5ED\"},\"yaxis\":{\"anchor\":\"x\",\"domain\":[0.8025,1.0],\"gridcolor\":\"#E1E5ED\",\"showgrid\":false,\"tickfont\":{\"color\":\"#4D5663\"},\"title\":{\"font\":{\"color\":\"#4D5663\"},\"text\":\"\"},\"zerolinecolor\":\"#E1E5ED\"},\"xaxis2\":{\"anchor\":\"y2\",\"domain\":[0.2625,0.475],\"gridcolor\":\"#E1E5ED\",\"showgrid\":false,\"tickfont\":{\"color\":\"#4D5663\"},\"title\":{\"font\":{\"color\":\"#4D5663\"},\"text\":\"\"},\"zerolinecolor\":\"#E1E5ED\"},\"yaxis2\":{\"anchor\":\"x2\",\"domain\":[0.8025,1.0],\"gridcolor\":\"#E1E5ED\",\"showgrid\":false,\"tickfont\":{\"color\":\"#4D5663\"},\"title\":{\"font\":{\"color\":\"#4D5663\"},\"text\":\"\"},\"zerolinecolor\":\"#E1E5ED\"},\"xaxis3\":{\"anchor\":\"y3\",\"domain\":[0.525,0.7375],\"gridcolor\":\"#E1E5ED\",\"showgrid\":false,\"tickfont\":{\"color\":\"#4D5663\"},\"title\":{\"font\":{\"color\":\"#4D5663\"},\"text\":\"\"},\"zerolinecolor\":\"#E1E5ED\"},\"yaxis3\":{\"anchor\":\"x3\",\"domain\":[0.8025,1.0],\"gridcolor\":\"#E1E5ED\",\"showgrid\":false,\"tickfont\":{\"color\":\"#4D5663\"},\"title\":{\"font\":{\"color\":\"#4D5663\"},\"text\":\"\"},\"zerolinecolor\":\"#E1E5ED\"},\"xaxis4\":{\"anchor\":\"y4\",\"domain\":[0.7875,1.0],\"gridcolor\":\"#E1E5ED\",\"showgrid\":false,\"tickfont\":{\"color\":\"#4D5663\"},\"title\":{\"font\":{\"color\":\"#4D5663\"},\"text\":\"\"},\"zerolinecolor\":\"#E1E5ED\"},\"yaxis4\":{\"anchor\":\"x4\",\"domain\":[0.8025,1.0],\"gridcolor\":\"#E1E5ED\",\"showgrid\":false,\"tickfont\":{\"color\":\"#4D5663\"},\"title\":{\"font\":{\"color\":\"#4D5663\"},\"text\":\"\"},\"zerolinecolor\":\"#E1E5ED\"},\"xaxis5\":{\"anchor\":\"y5\",\"domain\":[0.0,0.2125],\"gridcolor\":\"#E1E5ED\",\"showgrid\":false,\"tickfont\":{\"color\":\"#4D5663\"},\"title\":{\"font\":{\"color\":\"#4D5663\"},\"text\":\"\"},\"zerolinecolor\":\"#E1E5ED\"},\"yaxis5\":{\"anchor\":\"x5\",\"domain\":[0.535,0.7325],\"gridcolor\":\"#E1E5ED\",\"showgrid\":false,\"tickfont\":{\"color\":\"#4D5663\"},\"title\":{\"font\":{\"color\":\"#4D5663\"},\"text\":\"\"},\"zerolinecolor\":\"#E1E5ED\"},\"xaxis6\":{\"anchor\":\"y6\",\"domain\":[0.2625,0.475],\"gridcolor\":\"#E1E5ED\",\"showgrid\":false,\"tickfont\":{\"color\":\"#4D5663\"},\"title\":{\"font\":{\"color\":\"#4D5663\"},\"text\":\"\"},\"zerolinecolor\":\"#E1E5ED\"},\"yaxis6\":{\"anchor\":\"x6\",\"domain\":[0.535,0.7325],\"gridcolor\":\"#E1E5ED\",\"showgrid\":false,\"tickfont\":{\"color\":\"#4D5663\"},\"title\":{\"font\":{\"color\":\"#4D5663\"},\"text\":\"\"},\"zerolinecolor\":\"#E1E5ED\"},\"xaxis7\":{\"anchor\":\"y7\",\"domain\":[0.525,0.7375],\"gridcolor\":\"#E1E5ED\",\"showgrid\":false,\"tickfont\":{\"color\":\"#4D5663\"},\"title\":{\"font\":{\"color\":\"#4D5663\"},\"text\":\"\"},\"zerolinecolor\":\"#E1E5ED\"},\"yaxis7\":{\"anchor\":\"x7\",\"domain\":[0.535,0.7325],\"gridcolor\":\"#E1E5ED\",\"showgrid\":false,\"tickfont\":{\"color\":\"#4D5663\"},\"title\":{\"font\":{\"color\":\"#4D5663\"},\"text\":\"\"},\"zerolinecolor\":\"#E1E5ED\"},\"xaxis8\":{\"anchor\":\"y8\",\"domain\":[0.7875,1.0],\"gridcolor\":\"#E1E5ED\",\"showgrid\":false,\"tickfont\":{\"color\":\"#4D5663\"},\"title\":{\"font\":{\"color\":\"#4D5663\"},\"text\":\"\"},\"zerolinecolor\":\"#E1E5ED\"},\"yaxis8\":{\"anchor\":\"x8\",\"domain\":[0.535,0.7325],\"gridcolor\":\"#E1E5ED\",\"showgrid\":false,\"tickfont\":{\"color\":\"#4D5663\"},\"title\":{\"font\":{\"color\":\"#4D5663\"},\"text\":\"\"},\"zerolinecolor\":\"#E1E5ED\"},\"xaxis9\":{\"anchor\":\"y9\",\"domain\":[0.0,0.2125],\"gridcolor\":\"#E1E5ED\",\"showgrid\":false,\"tickfont\":{\"color\":\"#4D5663\"},\"title\":{\"font\":{\"color\":\"#4D5663\"},\"text\":\"\"},\"zerolinecolor\":\"#E1E5ED\"},\"yaxis9\":{\"anchor\":\"x9\",\"domain\":[0.2675,0.465],\"gridcolor\":\"#E1E5ED\",\"showgrid\":false,\"tickfont\":{\"color\":\"#4D5663\"},\"title\":{\"font\":{\"color\":\"#4D5663\"},\"text\":\"\"},\"zerolinecolor\":\"#E1E5ED\"},\"xaxis10\":{\"anchor\":\"y10\",\"domain\":[0.2625,0.475],\"gridcolor\":\"#E1E5ED\",\"showgrid\":false,\"tickfont\":{\"color\":\"#4D5663\"},\"title\":{\"font\":{\"color\":\"#4D5663\"},\"text\":\"\"},\"zerolinecolor\":\"#E1E5ED\"},\"yaxis10\":{\"anchor\":\"x10\",\"domain\":[0.2675,0.465],\"gridcolor\":\"#E1E5ED\",\"showgrid\":false,\"tickfont\":{\"color\":\"#4D5663\"},\"title\":{\"font\":{\"color\":\"#4D5663\"},\"text\":\"\"},\"zerolinecolor\":\"#E1E5ED\"},\"xaxis11\":{\"anchor\":\"y11\",\"domain\":[0.525,0.7375],\"gridcolor\":\"#E1E5ED\",\"showgrid\":false,\"tickfont\":{\"color\":\"#4D5663\"},\"title\":{\"font\":{\"color\":\"#4D5663\"},\"text\":\"\"},\"zerolinecolor\":\"#E1E5ED\"},\"yaxis11\":{\"anchor\":\"x11\",\"domain\":[0.2675,0.465],\"gridcolor\":\"#E1E5ED\",\"showgrid\":false,\"tickfont\":{\"color\":\"#4D5663\"},\"title\":{\"font\":{\"color\":\"#4D5663\"},\"text\":\"\"},\"zerolinecolor\":\"#E1E5ED\"},\"xaxis12\":{\"anchor\":\"y12\",\"domain\":[0.7875,1.0],\"gridcolor\":\"#E1E5ED\",\"showgrid\":false,\"tickfont\":{\"color\":\"#4D5663\"},\"title\":{\"font\":{\"color\":\"#4D5663\"},\"text\":\"\"},\"zerolinecolor\":\"#E1E5ED\"},\"yaxis12\":{\"anchor\":\"x12\",\"domain\":[0.2675,0.465],\"gridcolor\":\"#E1E5ED\",\"showgrid\":false,\"tickfont\":{\"color\":\"#4D5663\"},\"title\":{\"font\":{\"color\":\"#4D5663\"},\"text\":\"\"},\"zerolinecolor\":\"#E1E5ED\"},\"xaxis13\":{\"anchor\":\"y13\",\"domain\":[0.0,0.2125],\"gridcolor\":\"#E1E5ED\",\"showgrid\":false,\"tickfont\":{\"color\":\"#4D5663\"},\"title\":{\"font\":{\"color\":\"#4D5663\"},\"text\":\"\"},\"zerolinecolor\":\"#E1E5ED\"},\"yaxis13\":{\"anchor\":\"x13\",\"domain\":[0.0,0.1975],\"gridcolor\":\"#E1E5ED\",\"showgrid\":false,\"tickfont\":{\"color\":\"#4D5663\"},\"title\":{\"font\":{\"color\":\"#4D5663\"},\"text\":\"\"},\"zerolinecolor\":\"#E1E5ED\"},\"xaxis14\":{\"anchor\":\"y14\",\"domain\":[0.2625,0.475],\"gridcolor\":\"#E1E5ED\",\"showgrid\":false,\"tickfont\":{\"color\":\"#4D5663\"},\"title\":{\"font\":{\"color\":\"#4D5663\"},\"text\":\"\"},\"zerolinecolor\":\"#E1E5ED\"},\"yaxis14\":{\"anchor\":\"x14\",\"domain\":[0.0,0.1975],\"gridcolor\":\"#E1E5ED\",\"showgrid\":false,\"tickfont\":{\"color\":\"#4D5663\"},\"title\":{\"font\":{\"color\":\"#4D5663\"},\"text\":\"\"},\"zerolinecolor\":\"#E1E5ED\"},\"xaxis15\":{\"anchor\":\"y15\",\"domain\":[0.525,0.7375],\"gridcolor\":\"#E1E5ED\",\"showgrid\":false,\"tickfont\":{\"color\":\"#4D5663\"},\"title\":{\"font\":{\"color\":\"#4D5663\"},\"text\":\"\"},\"zerolinecolor\":\"#E1E5ED\"},\"yaxis15\":{\"anchor\":\"x15\",\"domain\":[0.0,0.1975],\"gridcolor\":\"#E1E5ED\",\"showgrid\":false,\"tickfont\":{\"color\":\"#4D5663\"},\"title\":{\"font\":{\"color\":\"#4D5663\"},\"text\":\"\"},\"zerolinecolor\":\"#E1E5ED\"},\"xaxis16\":{\"anchor\":\"y16\",\"domain\":[0.7875,1.0],\"gridcolor\":\"#E1E5ED\",\"showgrid\":false,\"tickfont\":{\"color\":\"#4D5663\"},\"title\":{\"font\":{\"color\":\"#4D5663\"},\"text\":\"\"},\"zerolinecolor\":\"#E1E5ED\"},\"yaxis16\":{\"anchor\":\"x16\",\"domain\":[0.0,0.1975],\"gridcolor\":\"#E1E5ED\",\"showgrid\":false,\"tickfont\":{\"color\":\"#4D5663\"},\"title\":{\"font\":{\"color\":\"#4D5663\"},\"text\":\"\"},\"zerolinecolor\":\"#E1E5ED\"}},                        {\"showLink\": true, \"linkText\": \"Export to plot.ly\", \"plotlyServerURL\": \"https://plot.ly\", \"responsive\": true}                    ).then(function(){\n",
       "                            \n",
       "var gd = document.getElementById('8e9a7dc8-32c1-459b-93a5-a1be50a44fe2');\n",
       "var x = new MutationObserver(function (mutations, observer) {{\n",
       "        var display = window.getComputedStyle(gd).display;\n",
       "        if (!display || display === 'none') {{\n",
       "            console.log([gd, 'removed!']);\n",
       "            Plotly.purge(gd);\n",
       "            observer.disconnect();\n",
       "        }}\n",
       "}});\n",
       "\n",
       "// Listen for the removal of the full notebook cells\n",
       "var notebookContainer = gd.closest('#notebook-container');\n",
       "if (notebookContainer) {{\n",
       "    x.observe(notebookContainer, {childList: true});\n",
       "}}\n",
       "\n",
       "// Listen for the clearing of the current output cell\n",
       "var outputEl = gd.closest('.output');\n",
       "if (outputEl) {{\n",
       "    x.observe(outputEl, {childList: true});\n",
       "}}\n",
       "\n",
       "                        })                };                });            </script>        </div>"
      ]
     },
     "metadata": {},
     "output_type": "display_data"
    }
   ],
   "source": [
    "df.scatter_matrix()"
   ]
  },
  {
   "cell_type": "markdown",
   "metadata": {
    "collapsed": true
   },
   "source": [
    "# Great Job!"
   ]
  }
 ],
 "metadata": {
  "kernelspec": {
   "display_name": "Python 3 (ipykernel)",
   "language": "python",
   "name": "python3"
  },
  "language_info": {
   "codemirror_mode": {
    "name": "ipython",
    "version": 3
   },
   "file_extension": ".py",
   "mimetype": "text/x-python",
   "name": "python",
   "nbconvert_exporter": "python",
   "pygments_lexer": "ipython3",
   "version": "3.11.5"
  }
 },
 "nbformat": 4,
 "nbformat_minor": 1
}
